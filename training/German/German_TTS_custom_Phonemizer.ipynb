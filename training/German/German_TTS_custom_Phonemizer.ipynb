{
 "cells": [
  {
   "cell_type": "code",
   "execution_count": 1,
   "id": "4f90d469",
   "metadata": {},
   "outputs": [
    {
     "name": "stdout",
     "output_type": "stream",
     "text": [
      "Python 3.8.12\n"
     ]
    }
   ],
   "source": [
    "!python --version\n"
   ]
  },
  {
   "cell_type": "markdown",
   "id": "8609255e",
   "metadata": {},
   "source": [
    "<hr>\n",
    "<h1> Installation</h1>"
   ]
  },
  {
   "cell_type": "code",
   "execution_count": 2,
   "id": "ccf506b6",
   "metadata": {},
   "outputs": [
    {
     "name": "stdout",
     "output_type": "stream",
     "text": [
      "/home/ec2-user/SageMaker/espnet/tools\n"
     ]
    }
   ],
   "source": [
    "%cd /home/ec2-user/SageMaker/espnet/tools"
   ]
  },
  {
   "cell_type": "code",
   "execution_count": null,
   "id": "ac688e3d",
   "metadata": {},
   "outputs": [],
   "source": []
  },
  {
   "cell_type": "code",
   "execution_count": 3,
   "id": "19536887",
   "metadata": {},
   "outputs": [],
   "source": [
    "%%capture \n",
    "!./setup_anaconda.sh \"/home/ec2-user/anaconda3\" espnet 3.8.12\n",
    "#!./setup_venv.sh $(command -v python3)"
   ]
  },
  {
   "cell_type": "code",
   "execution_count": 1,
   "id": "3a9ed1d4",
   "metadata": {
    "collapsed": true,
    "jupyter": {
     "outputs_hidden": true
    }
   },
   "outputs": [
    {
     "name": "stdout",
     "output_type": "stream",
     "text": [
      "Collecting package metadata (current_repodata.json): done\n",
      "Solving environment: \\ \n",
      "The environment is inconsistent, please check the package plan carefully\n",
      "The following packages are causing the inconsistenc| \n",
      "\n",
      "  - conda-forge/linux-64::cudatoolkit==11.1.1=h6406543_9\n",
      "  - pytorch/linux-64::pytorch==1.10.0=py3.8_cuda11.1_cudnn8.0.5_0\n",
      "  - conda-forge/noarch::tqdm==4.62.3=pyhd8ed1ab_0\n",
      "  - conda-forge/noarch::black==21.11b0=pyhd8ed1ab_0\n",
      "  - conda-forge/noarch::dask-core==2021.11.2=pyhd8ed1ab_0\n",
      "  - conda-forge/linux-64::pytest==6.2.5=py38h578d9bd_1\n",
      "  - pytorch/linux-64::torch-model-archiver==0.5.0=py38_0\n",
      "  - pytorch/linux-64::torch-workflow-archiver==0.2.0=py38_0\n",
      "  - pytorch/linux-64::torchserve==0.5.0=py38_0\n",
      "  - conda-forge/linux-64::watchdog==2.1.6=py38h578d9bd_1\n",
      "  - conda-forge/linux-64::aiohttp==3.8.1=py38h497a2fe_0\n",
      "  - conda-forge/linux-64::distributed==2021.11.2=py38h578d9bd_0\n",
      "  - conda-forge/noarch::flask==2.0.2=pyhd8ed1ab_0\n",
      "  - conda-forge/noarch::nbformat==5.1.3=pyhd8ed1ab_0\n",
      "  - conda-forge/noarch::nltk==3.6.5=pyhd8ed1ab_0\n",
      "  - conda-forge/noarch::pylint==2.11.1=pyhd8ed1ab_0\n",
      "  - conda-forge/noarch::nbclient==0.5.9=pyhd8ed1ab_0\n",
      "  - conda-forge/noarch::python-language-server==0.36.2=pyhd8ed1ab_0\n",
      "  - conda-forge/linux-64::nbconvert==6.3.0=py38h578d9bd_1\n",
      "  - conda-forge/noarch::pyls-black==0.4.6=pyh9f0ad1d_0\n",
      "  - conda-forge/noarch::pyls-spyder==0.3.2=pyhd8ed1ab_0\n",
      "  - pytorch/noarch::captum==0.4.1=0\n",
      "  - conda-forge/noarch::requests==2.26.0=pyhd8ed1ab_1\n",
      "  - conda-forge/noarch::anaconda-client==1.8.0=pyhd8ed1ab_0\n",
      "  - conda-forge/noarch::cookiecutter==1.7.0=py_0\n",
      "  - conda-forge/noarch::jupyter_server==1.12.0=pyhd8ed1ab_0\n",
      "  - conda-forge/noarch::pooch==1.5.2=pyhd8ed1ab_0\n",
      "  - pytorch/linux-64::torchtext==0.11.0=py38\n",
      "  - conda-forge/noarch::anaconda-project==0.10.2=pyhd8ed1ab_0\n",
      "  - conda-forge/noarch::ipyparallel==8.0.0=pyhd8ed1ab_0\n",
      "  - conda-forge/noarch::jupyterlab_server==2.8.2=pyhd8ed1ab_0\n",
      "  - conda-forge/noarch::notebook==6.4.6=pyha770c72_0\n",
      "  - conda-forge/linux-64::nb_conda==2.2.1=py38h578d9bd_4\n",
      "  - conda-forge/noarch::nbclassic==0.3.4=pyhd8ed1ab_0\n",
      "  - conda-forge/linux-64::widgetsnbextension==3.5.2=py38h578d9bd_1\n",
      "  - conda-forge/noarch::ipywidgets==7.6.5=pyhd8ed1ab_0\n",
      "  - conda-forge/noarch::jupyterlab==3.2.4=pyhd8ed1ab_0\n",
      "  - conda-forge/linux-64::jupyter==1.0.0=py38h578d9bd_7\n",
      "  - conda-forge/linux-64::bokeh==2.4.2=py38h578d9bd_0\n",
      "  - conda-forge/linux-64::matplotlib==3.5.0=py38h578d9bd_0\n",
      "  - conda-forge/linux-64::matplotlib-base==3.5.0=py38hf4fb855_0\n",
      "  - conda-forge/noarch::imageio==2.9.0=py_0\n",
      "  - pytorch/linux-64::torchaudio==0.10.0=py38_cu111\n",
      "  - pytorch/linux-64::torchvision==0.11.1=py38_cu111\n",
      "  - conda-forge/linux-64::astropy==5.0=py38h6c62de6_0\n",
      "  - conda-forge/noarch::dask==2021.11.2=pyhd8ed1ab_0\n",
      "  - conda-forge/noarch::networkx==2.6.3=pyhd8ed1ab_1\n",
      "  - conda-forge/noarch::seaborn-base==0.11.2=pyhd8ed1ab_0\n",
      "  - conda-forge/linux-64::scikit-image==0.18.3=py38h43a58ef_0\n",
      "  - conda-forge/noarch::seaborn==0.11.2=hd8ed1ab_0\n",
      "  - conda-forge/noarch::numpydoc==1.1.0=py_1\n",
      "  - conda-forge/linux-64::spyder==5.0.5=py38h578d9bd_2\n",
      "  - conda-forge/noarch::sphinx==4.3.0=pyh6c4a22f_0\n",
      "  - conda-forge/noarch::sphinxcontrib-serializinghtml==1.1.5=pyhd8ed1ab_1\n",
      "  - conda-forge/noarch::sphinxcontrib-websupport==1.2.4=pyhd8ed1ab_1\n",
      "  - defaults/linux-64::_anaconda_depends==2020.07=py38_0\n",
      "done\n",
      "\n",
      "\n",
      "==> WARNING: A newer version of conda exists. <==\n",
      "  current version: 4.8.4\n",
      "  latest version: 4.12.0\n",
      "\n",
      "Please update conda by running\n",
      "\n",
      "    $ conda update -n base -c defaults conda\n",
      "\n",
      "\n",
      "\n",
      "## Package Plan ##\n",
      "\n",
      "  environment location: /home/ec2-user/anaconda3/envs/pytorch_p38\n",
      "\n",
      "  added / updated specs:\n",
      "    - libsndfile\n",
      "\n",
      "\n",
      "The following packages will be downloaded:\n",
      "\n",
      "    package                    |            build\n",
      "    ---------------------------|-----------------\n",
      "    certifi-2021.10.8          |   py38h578d9bd_2         145 KB  conda-forge\n",
      "    colorama-0.4.4             |     pyh9f0ad1d_0          18 KB  conda-forge\n",
      "    dataclasses-0.8            |     pyhc8e2a94_3          10 KB  conda-forge\n",
      "    docutils-0.15.2            |   py38h578d9bd_3         739 KB  conda-forge\n",
      "    fsspec-2022.3.0            |     pyhd8ed1ab_0          93 KB  conda-forge\n",
      "    jsonschema-4.5.1           |     pyhd8ed1ab_0          57 KB  conda-forge\n",
      "    libflac-1.3.4              |       h27087fc_0         474 KB  conda-forge\n",
      "    libsndfile-1.0.31          |       h9c3ff4c_1         602 KB  conda-forge\n",
      "    lxml-4.8.0                 |   py38h0a891b7_2         1.4 MB  conda-forge\n",
      "    openssl-1.1.1o             |       h166bdaf_0         2.1 MB  conda-forge\n",
      "    pillow-8.4.0               |   py38h8e6f84c_0         704 KB  conda-forge\n",
      "    pyyaml-6.0                 |   py38h0a891b7_4         182 KB  conda-forge\n",
      "    websocket-client-1.3.2     |     pyhd8ed1ab_0          41 KB  conda-forge\n",
      "    werkzeug-2.1.2             |     pyhd8ed1ab_1         237 KB  conda-forge\n",
      "    ------------------------------------------------------------\n",
      "                                           Total:         6.8 MB\n",
      "\n",
      "The following NEW packages will be INSTALLED:\n",
      "\n",
      "  attrs              conda-forge/noarch::attrs-21.4.0-pyhd8ed1ab_0\n",
      "  colorama           conda-forge/noarch::colorama-0.4.4-pyh9f0ad1d_0\n",
      "  dataclasses        conda-forge/noarch::dataclasses-0.8-pyhc8e2a94_3\n",
      "  docutils           conda-forge/linux-64::docutils-0.15.2-py38h578d9bd_3\n",
      "  fsspec             conda-forge/noarch::fsspec-2022.3.0-pyhd8ed1ab_0\n",
      "  jsonschema         conda-forge/noarch::jsonschema-4.5.1-pyhd8ed1ab_0\n",
      "  libflac            conda-forge/linux-64::libflac-1.3.4-h27087fc_0\n",
      "  libsndfile         conda-forge/linux-64::libsndfile-1.0.31-h9c3ff4c_1\n",
      "  lxml               conda-forge/linux-64::lxml-4.8.0-py38h0a891b7_2\n",
      "  pillow             conda-forge/linux-64::pillow-8.4.0-py38h8e6f84c_0\n",
      "  pip                conda-forge/noarch::pip-22.0.4-pyhd8ed1ab_0\n",
      "  pyyaml             conda-forge/linux-64::pyyaml-6.0-py38h0a891b7_4\n",
      "  urllib3            conda-forge/noarch::urllib3-1.26.9-pyhd8ed1ab_0\n",
      "  websocket-client   conda-forge/noarch::websocket-client-1.3.2-pyhd8ed1ab_0\n",
      "  werkzeug           conda-forge/noarch::werkzeug-2.1.2-pyhd8ed1ab_1\n",
      "\n",
      "The following packages will be UPDATED:\n",
      "\n",
      "  certifi                          2021.10.8-py38h578d9bd_1 --> 2021.10.8-py38h578d9bd_2\n",
      "  openssl                                 1.1.1l-h7f98852_0 --> 1.1.1o-h166bdaf_0\n",
      "\n",
      "\n",
      "\n",
      "Downloading and Extracting Packages\n",
      "websocket-client-1.3 | 41 KB     | ##################################### | 100% \n",
      "lxml-4.8.0           | 1.4 MB    | ##################################### | 100% \n",
      "jsonschema-4.5.1     | 57 KB     | ##################################### | 100% \n",
      "libsndfile-1.0.31    | 602 KB    | ##################################### | 100% \n",
      "libflac-1.3.4        | 474 KB    | ##################################### | 100% \n",
      "colorama-0.4.4       | 18 KB     | ##################################### | 100% \n",
      "werkzeug-2.1.2       | 237 KB    | ##################################### | 100% \n",
      "openssl-1.1.1o       | 2.1 MB    | ##################################### | 100% \n",
      "dataclasses-0.8      | 10 KB     | ##################################### | 100% \n",
      "docutils-0.15.2      | 739 KB    | ##################################### | 100% \n",
      "pillow-8.4.0         | 704 KB    | ##################################### | 100% \n",
      "pyyaml-6.0           | 182 KB    | ##################################### | 100% \n",
      "certifi-2021.10.8    | 145 KB    | ##################################### | 100% \n",
      "fsspec-2022.3.0      | 93 KB     | ##################################### | 100% \n",
      "Preparing transaction: done\n",
      "Verifying transaction: done\n",
      "Executing transaction: done\n",
      "Collecting package metadata (current_repodata.json): done\n",
      "Solving environment: - \n",
      "The environment is inconsistent, please check the package plan carefully\n",
      "The following packages are causing the inconsistency:\n",
      "\n",
      "  - conda-forge/linux-64::cudatoolkit==11.1.1=h6406543_9\n",
      "  - pytorch/linux-64::pytorch==1.10.0=py3.8_cuda11.1_cudnn8.0.5_0\n",
      "  - pytorch/noarch::captum==0.4.1=0\n",
      "  - pytorch/linux-64::torchtext==0.11.0=py38\n",
      "  - pytorch/linux-64::torchaudio==0.10.0=py38_cu111\n",
      "  - pytorch/linux-64::torchvision==0.11.1=py38_cu111\n",
      "failed with initial frozen solve. Retrying with flexible solve.\n",
      "Collecting package metadata (repodata.json): | ^C\n",
      "/ Looking in indexes: https://pypi.org/simple, https://pip.repos.neuron.amazonaws.com\n",
      "Collecting SoundFile\n",
      "  Downloading SoundFile-0.10.3.post1-py2.py3-none-any.whl (21 kB)\n",
      "Requirement already satisfied: cffi>=1.0 in /home/ec2-user/anaconda3/envs/pytorch_p38/lib/python3.8/site-packages (from SoundFile) (1.15.0)\n",
      "Requirement already satisfied: pycparser in /home/ec2-user/anaconda3/envs/pytorch_p38/lib/python3.8/site-packages (from cffi>=1.0->SoundFile) (2.21)\n",
      "^C\n",
      "\u001b[31mERROR: Operation cancelled by user\u001b[0m\u001b[31m\n",
      "\u001b[0m"
     ]
    }
   ],
   "source": [
    "# !cd /home/ec2-user/SageMaker/espnet/tools\n",
    "!conda install -y -c conda-forge libsndfile\n",
    "!conda install -y -c conda-forge librosa\n",
    "!pip install SoundFile\n"
   ]
  },
  {
   "cell_type": "code",
   "execution_count": 3,
   "id": "81ae3a46",
   "metadata": {
    "collapsed": true,
    "jupyter": {
     "outputs_hidden": true
    }
   },
   "outputs": [
    {
     "name": "stdout",
     "output_type": "stream",
     "text": [
      "Perform on CPU mode: CPU_ONLY=0\n",
      "PYTHON=/home/ec2-user/anaconda3/envs/espnet/bin/python3\n",
      "PYTHON_VERSION=Python 3.8.12\n",
      "USE_CONDA=1\n",
      "TH_VERSION=1.8.0\n",
      "# NOTE(kan-bayashi): Temporary fixed numpy version\n",
      ". ./activate_python.sh && conda install -y \"numpy<=1.21.3\"\n",
      "Collecting package metadata (current_repodata.json): done\n",
      "Solving environment: done\n",
      "\n",
      "\n",
      "==> WARNING: A newer version of conda exists. <==\n",
      "  current version: 4.8.4\n",
      "  latest version: 4.12.0\n",
      "\n",
      "Please update conda by running\n",
      "\n",
      "    $ conda update -n base -c defaults conda\n",
      "\n",
      "\n",
      "\n",
      "## Package Plan ##\n",
      "\n",
      "  environment location: /home/ec2-user/anaconda3/envs/espnet\n",
      "\n",
      "  added / updated specs:\n",
      "    - numpy[version='<=1.21.3']\n",
      "\n",
      "\n",
      "The following packages will be downloaded:\n",
      "\n",
      "    package                    |            build\n",
      "    ---------------------------|-----------------\n",
      "    numpy-1.20.3               |   py38h8246c76_2         5.8 MB  conda-forge\n",
      "    ------------------------------------------------------------\n",
      "                                           Total:         5.8 MB\n",
      "\n",
      "The following packages will be DOWNGRADED:\n",
      "\n",
      "  numpy                               1.21.6-py38h1d589f8_0 --> 1.20.3-py38h8246c76_2\n",
      "\n",
      "\n",
      "\n",
      "Downloading and Extracting Packages\n",
      "numpy-1.20.3         | 5.8 MB    | ##################################### | 100% \n",
      "Preparing transaction: done\n",
      "Verifying transaction: done\n",
      "Executing transaction: done\n",
      ". ./activate_python.sh && ./installers/install_torch.sh \"true\" \"1.8.0\" \"10.2\"\n",
      "2022-05-03T03:04:15 (install_torch.sh:119:main) [INFO] python_version=3.8.12\n",
      "2022-05-03T03:04:15 (install_torch.sh:120:main) [INFO] torch_version=1.8.0\n",
      "2022-05-03T03:04:15 (install_torch.sh:121:main) [INFO] cuda_version=10.2\n",
      "<stdin>:2: DeprecationWarning: distutils Version classes are deprecated. Use packaging.version instead.\n",
      "<stdin>:2: DeprecationWarning: distutils Version classes are deprecated. Use packaging.version instead.\n",
      "<stdin>:2: DeprecationWarning: distutils Version classes are deprecated. Use packaging.version instead.\n",
      "<stdin>:2: DeprecationWarning: distutils Version classes are deprecated. Use packaging.version instead.\n",
      "<stdin>:2: DeprecationWarning: distutils Version classes are deprecated. Use packaging.version instead.\n",
      "<stdin>:2: DeprecationWarning: distutils Version classes are deprecated. Use packaging.version instead.\n",
      "<stdin>:2: DeprecationWarning: distutils Version classes are deprecated. Use packaging.version instead.\n",
      "<stdin>:2: DeprecationWarning: distutils Version classes are deprecated. Use packaging.version instead.\n",
      "<stdin>:2: DeprecationWarning: distutils Version classes are deprecated. Use packaging.version instead.\n",
      "<stdin>:2: DeprecationWarning: distutils Version classes are deprecated. Use packaging.version instead.\n",
      "<stdin>:2: DeprecationWarning: distutils Version classes are deprecated. Use packaging.version instead.\n",
      "2022-05-03T03:04:17 (install_torch.sh:67:install_torch) conda install -y pytorch=1.8.0 torchaudio=0.8.0 cudatoolkit=10.2 -c pytorch\n",
      "Collecting package metadata (current_repodata.json): done\n",
      "Solving environment: done\n",
      "\n",
      "\n",
      "==> WARNING: A newer version of conda exists. <==\n",
      "  current version: 4.8.4\n",
      "  latest version: 4.12.0\n",
      "\n",
      "Please update conda by running\n",
      "\n",
      "    $ conda update -n base -c defaults conda\n",
      "\n",
      "\n",
      "\n",
      "## Package Plan ##\n",
      "\n",
      "  environment location: /home/ec2-user/anaconda3/envs/espnet\n",
      "\n",
      "  added / updated specs:\n",
      "    - cudatoolkit=10.2\n",
      "    - pytorch=1.8.0\n",
      "    - torchaudio=0.8.0\n",
      "\n",
      "\n",
      "The following packages will be downloaded:\n",
      "\n",
      "    package                    |            build\n",
      "    ---------------------------|-----------------\n",
      "    blas-1.0                   |              mkl           6 KB\n",
      "    cudatoolkit-10.2.89        |      h8f6ccaa_10       449.9 MB  conda-forge\n",
      "    intel-openmp-2022.0.1      |    h06a4308_3633         4.2 MB\n",
      "    libblas-3.9.0              |   14_linux64_mkl          13 KB  conda-forge\n",
      "    libcblas-3.9.0             |   14_linux64_mkl          12 KB  conda-forge\n",
      "    liblapack-3.9.0            |   14_linux64_mkl          12 KB  conda-forge\n",
      "    mkl-2022.0.1               |     h06a4308_117       127.7 MB\n",
      "    ninja-1.10.2               |       h4bd325d_1         2.4 MB  conda-forge\n",
      "    pytorch-1.8.0              |py3.8_cuda10.2_cudnn7.6.5_0       672.7 MB  pytorch\n",
      "    torchaudio-0.8.0           |             py38         4.4 MB  pytorch\n",
      "    ------------------------------------------------------------\n",
      "                                           Total:        1.23 GB\n",
      "\n",
      "The following NEW packages will be INSTALLED:\n",
      "\n",
      "  blas               pkgs/main/linux-64::blas-1.0-mkl\n",
      "  cudatoolkit        conda-forge/linux-64::cudatoolkit-10.2.89-h8f6ccaa_10\n",
      "  intel-openmp       pkgs/main/linux-64::intel-openmp-2022.0.1-h06a4308_3633\n",
      "  libuv              conda-forge/linux-64::libuv-1.43.0-h7f98852_0\n",
      "  mkl                pkgs/main/linux-64::mkl-2022.0.1-h06a4308_117\n",
      "  ninja              conda-forge/linux-64::ninja-1.10.2-h4bd325d_1\n",
      "  pytorch            pytorch/linux-64::pytorch-1.8.0-py3.8_cuda10.2_cudnn7.6.5_0\n",
      "  torchaudio         pytorch/linux-64::torchaudio-0.8.0-py38\n",
      "  typing_extensions  conda-forge/noarch::typing_extensions-4.2.0-pyha770c72_1\n",
      "\n",
      "The following packages will be DOWNGRADED:\n",
      "\n",
      "  libblas                         3.9.0-14_linux64_openblas --> 3.9.0-14_linux64_mkl\n",
      "  libcblas                        3.9.0-14_linux64_openblas --> 3.9.0-14_linux64_mkl\n",
      "  liblapack                       3.9.0-14_linux64_openblas --> 3.9.0-14_linux64_mkl\n",
      "\n",
      "\n",
      "\n",
      "Downloading and Extracting Packages\n",
      "ninja-1.10.2         | 2.4 MB    | ##################################### | 100% \n",
      "cudatoolkit-10.2.89  | 449.9 MB  | ##################################### | 100% \n",
      "intel-openmp-2022.0. | 4.2 MB    | ##################################### | 100% \n",
      "pytorch-1.8.0        | 672.7 MB  | ##################################### | 100% \n",
      "blas-1.0             | 6 KB      | ##################################### | 100% \n",
      "torchaudio-0.8.0     | 4.4 MB    | ##################################### | 100% \n",
      "mkl-2022.0.1         | 127.7 MB  | ##################################### | 100% \n",
      "liblapack-3.9.0      | 12 KB     | ##################################### | 100% \n",
      "libblas-3.9.0        | 13 KB     | ##################################### | 100% \n",
      "libcblas-3.9.0       | 12 KB     | ##################################### | 100% \n",
      "Preparing transaction: done\n",
      "Verifying transaction: done\n",
      "Executing transaction: - By downloading and using the CUDA Toolkit conda packages, you accept the terms and conditions of the CUDA End User License Agreement (EULA): https://docs.nvidia.com/cuda/eula/index.html\n",
      "\n",
      "done\n",
      "touch pytorch.done\n",
      ". ./activate_python.sh && { command -v bc || conda install -y bc -c conda-forge; }\n",
      "/usr/bin/bc\n",
      "touch bc.done\n",
      ". ./activate_python.sh && { command -v cmake || conda install -y cmake; }\n",
      "/usr/local/bin/cmake\n",
      "touch cmake.done\n",
      ". ./activate_python.sh && { command -v flac || conda install -y libflac -c conda-forge; }\n",
      "/home/ec2-user/anaconda3/envs/espnet/bin/flac\n",
      "touch flac.done\n",
      ". ./activate_python.sh && { command -v ffmpeg || conda install -y ffmpeg -c conda-forge; }\n",
      "/home/ec2-user/anaconda3/envs/espnet/bin/ffmpeg\n",
      "touch ffmpeg.done\n",
      ". ./activate_python.sh && { command -v sox || conda install -y sox -c conda-forge; }\n",
      "Collecting package metadata (current_repodata.json): done\n",
      "Solving environment: done\n",
      "\n",
      "\n",
      "==> WARNING: A newer version of conda exists. <==\n",
      "  current version: 4.8.4\n",
      "  latest version: 4.12.0\n",
      "\n",
      "Please update conda by running\n",
      "\n",
      "    $ conda update -n base -c defaults conda\n",
      "\n",
      "\n",
      "\n",
      "## Package Plan ##\n",
      "\n",
      "  environment location: /home/ec2-user/anaconda3/envs/espnet\n",
      "\n",
      "  added / updated specs:\n",
      "    - sox\n",
      "\n",
      "\n",
      "The following packages will be downloaded:\n",
      "\n",
      "    package                    |            build\n",
      "    ---------------------------|-----------------\n",
      "    mad-0.15.1b                |       h9c3ff4c_1         113 KB  conda-forge\n",
      "    sox-14.4.2                 |    hceab884_1015         765 KB  conda-forge\n",
      "    ------------------------------------------------------------\n",
      "                                           Total:         878 KB\n",
      "\n",
      "The following NEW packages will be INSTALLED:\n",
      "\n",
      "  mad                conda-forge/linux-64::mad-0.15.1b-h9c3ff4c_1\n",
      "  sox                conda-forge/linux-64::sox-14.4.2-hceab884_1015\n",
      "\n",
      "\n",
      "\n",
      "Downloading and Extracting Packages\n",
      "sox-14.4.2           | 765 KB    | ##################################### | 100% \n",
      "mad-0.15.1b          | 113 KB    | ##################################### | 100% \n",
      "Preparing transaction: done\n",
      "Verifying transaction: done\n",
      "Executing transaction: done\n",
      "touch sox.done\n",
      ". ./activate_python.sh && { python3 -c \"from ctypes.util import find_library as F; assert F('sndfile') is not None\" || conda install -y libsndfile=1.0.28 -c conda-forge; }\n",
      "touch sndfile.done\n",
      "touch conda_packages.done\n",
      ". ./activate_python.sh && python3 -m pip install -e \"..[train, recipe]\"  # Install editable mode by default\n",
      "Looking in indexes: https://pypi.org/simple, https://pip.repos.neuron.amazonaws.com\n",
      "Obtaining file:///home/ec2-user/SageMaker/espnet\n",
      "  Preparing metadata (setup.py) ... \u001b[?25ldone\n",
      "\u001b[?25hRequirement already satisfied: setuptools>=38.5.1 in /home/ec2-user/anaconda3/envs/espnet/lib/python3.8/site-packages (from espnet==202204) (62.1.0)\n",
      "Collecting configargparse>=1.2.1\n",
      "  Downloading ConfigArgParse-1.5.3-py3-none-any.whl (20 kB)\n",
      "Collecting typeguard>=2.7.0\n",
      "  Downloading typeguard-2.13.3-py3-none-any.whl (17 kB)\n",
      "Collecting humanfriendly\n",
      "  Downloading humanfriendly-10.0-py2.py3-none-any.whl (86 kB)\n",
      "\u001b[2K     \u001b[90m━━━━━━━━━━━━━━━━━━━━━━━━━━━━━━━━━━━━━━━━\u001b[0m \u001b[32m86.8/86.8 KB\u001b[0m \u001b[31m1.6 MB/s\u001b[0m eta \u001b[36m0:00:00\u001b[0mta \u001b[36m0:00:01\u001b[0m\n",
      "\u001b[?25hRequirement already satisfied: scipy>=1.4.1 in /home/ec2-user/anaconda3/envs/espnet/lib/python3.8/site-packages (from espnet==202204) (1.8.0)\n",
      "Collecting filelock\n",
      "  Downloading filelock-3.6.0-py3-none-any.whl (10.0 kB)\n",
      "Requirement already satisfied: librosa>=0.8.0 in /home/ec2-user/anaconda3/envs/espnet/lib/python3.8/site-packages (from espnet==202204) (0.9.1)\n",
      "Collecting jamo==0.4.1\n",
      "  Downloading jamo-0.4.1-py3-none-any.whl (9.5 kB)\n",
      "Collecting PyYAML>=5.1.2\n",
      "  Downloading PyYAML-6.0-cp38-cp38-manylinux_2_5_x86_64.manylinux1_x86_64.manylinux_2_12_x86_64.manylinux2010_x86_64.whl (701 kB)\n",
      "\u001b[2K     \u001b[90m━━━━━━━━━━━━━━━━━━━━━━━━━━━━━━━━━━━━━━\u001b[0m \u001b[32m701.2/701.2 KB\u001b[0m \u001b[31m72.5 MB/s\u001b[0m eta \u001b[36m0:00:00\u001b[0m\n",
      "\u001b[?25hRequirement already satisfied: soundfile>=0.10.2 in /home/ec2-user/anaconda3/envs/espnet/lib/python3.8/site-packages (from espnet==202204) (0.10.3.post1)\n",
      "Collecting h5py>=2.10.0\n",
      "  Downloading h5py-3.6.0-cp38-cp38-manylinux_2_12_x86_64.manylinux2010_x86_64.whl (4.5 MB)\n",
      "\u001b[2K     \u001b[90m━━━━━━━━━━━━━━━━━━━━━━━━━━━━━━━━━━━━━━━━\u001b[0m \u001b[32m4.5/4.5 MB\u001b[0m \u001b[31m33.1 MB/s\u001b[0m eta \u001b[36m0:00:00\u001b[0m:00:01\u001b[0m\n",
      "\u001b[?25hCollecting kaldiio>=2.17.0\n",
      "  Downloading kaldiio-2.17.2.tar.gz (24 kB)\n",
      "  Preparing metadata (setup.py) ... \u001b[?25ldone\n",
      "\u001b[?25hRequirement already satisfied: torch>=1.3.0 in /home/ec2-user/anaconda3/envs/espnet/lib/python3.8/site-packages (from espnet==202204) (1.8.0)\n",
      "Collecting torch_complex\n",
      "  Downloading torch_complex-0.4.3-py3-none-any.whl (9.1 kB)\n",
      "Collecting nltk>=3.4.5\n",
      "  Downloading nltk-3.7-py3-none-any.whl (1.5 MB)\n",
      "\u001b[2K     \u001b[90m━━━━━━━━━━━━━━━━━━━━━━━━━━━━━━━━━━━━━━━━\u001b[0m \u001b[32m1.5/1.5 MB\u001b[0m \u001b[31m88.2 MB/s\u001b[0m eta \u001b[36m0:00:00\u001b[0m\n",
      "\u001b[?25hCollecting sentencepiece\n",
      "  Downloading sentencepiece-0.1.96-cp38-cp38-manylinux_2_17_x86_64.manylinux2014_x86_64.whl (1.2 MB)\n",
      "\u001b[2K     \u001b[90m━━━━━━━━━━━━━━━━━━━━━━━━━━━━━━━━━━━━━━━━\u001b[0m \u001b[32m1.2/1.2 MB\u001b[0m \u001b[31m105.8 MB/s\u001b[0m eta \u001b[36m0:00:00\u001b[0m\n",
      "\u001b[?25hCollecting ctc-segmentation<1.8,>=1.6.6\n",
      "  Downloading ctc_segmentation-1.7.1.tar.gz (71 kB)\n",
      "\u001b[2K     \u001b[90m━━━━━━━━━━━━━━━━━━━━━━━━━━━━━━━━━━━━━━━━\u001b[0m \u001b[32m71.7/71.7 KB\u001b[0m \u001b[31m19.0 MB/s\u001b[0m eta \u001b[36m0:00:00\u001b[0m\n",
      "\u001b[?25h  Preparing metadata (setup.py) ... \u001b[?25ldone\n",
      "\u001b[?25hCollecting pyworld>=0.2.10\n",
      "  Downloading pyworld-0.3.0.tar.gz (212 kB)\n",
      "\u001b[2K     \u001b[90m━━━━━━━━━━━━━━━━━━━━━━━━━━━━━━━━━━━━━━\u001b[0m \u001b[32m212.0/212.0 KB\u001b[0m \u001b[31m47.2 MB/s\u001b[0m eta \u001b[36m0:00:00\u001b[0m\n",
      "\u001b[?25h  Installing build dependencies ... \u001b[?25ldone\n",
      "\u001b[?25h  Getting requirements to build wheel ... \u001b[?25ldone\n",
      "\u001b[?25h  Preparing metadata (pyproject.toml) ... \u001b[?25ldone\n",
      "\u001b[?25hCollecting pypinyin<=0.44.0\n",
      "  Downloading pypinyin-0.44.0-py2.py3-none-any.whl (1.3 MB)\n",
      "\u001b[2K     \u001b[90m━━━━━━━━━━━━━━━━━━━━━━━━━━━━━━━━━━━━━━━━\u001b[0m \u001b[32m1.3/1.3 MB\u001b[0m \u001b[31m9.1 MB/s\u001b[0m eta \u001b[36m0:00:00\u001b[0m0:00:01\u001b[0m\n",
      "\u001b[?25hCollecting espnet_tts_frontend\n",
      "  Downloading espnet_tts_frontend-0.0.3-py3-none-any.whl (11 kB)\n",
      "Collecting ci_sdr\n",
      "  Downloading ci_sdr-0.0.0.tar.gz (15 kB)\n",
      "  Preparing metadata (setup.py) ... \u001b[?25ldone\n",
      "\u001b[?25hCollecting pytorch_wpe\n",
      "  Downloading pytorch_wpe-0.0.1-py3-none-any.whl (8.1 kB)\n",
      "Collecting espnet_model_zoo\n",
      "  Downloading espnet_model_zoo-0.1.7-py3-none-any.whl (19 kB)\n",
      "Collecting gdown\n",
      "  Downloading gdown-4.4.0.tar.gz (14 kB)\n",
      "  Installing build dependencies ... \u001b[?25ldone\n",
      "\u001b[?25h  Getting requirements to build wheel ... \u001b[?25ldone\n",
      "\u001b[?25h  Preparing metadata (pyproject.toml) ... \u001b[?25ldone\n",
      "\u001b[?25hRequirement already satisfied: resampy in /home/ec2-user/anaconda3/envs/espnet/lib/python3.8/site-packages (from espnet==202204) (0.2.2)\n",
      "Collecting pysptk>=0.1.17\n",
      "  Downloading pysptk-0.1.20.tar.gz (410 kB)\n",
      "\u001b[2K     \u001b[90m━━━━━━━━━━━━━━━━━━━━━━━━━━━━━━━━━━━━━━━\u001b[0m \u001b[32m410.2/410.2 KB\u001b[0m \u001b[31m9.5 MB/s\u001b[0m eta \u001b[36m0:00:00\u001b[0m00:01\u001b[0m\n",
      "\u001b[?25h  Installing build dependencies ... \u001b[?25ldone\n",
      "\u001b[?25h  Getting requirements to build wheel ... \u001b[?25ldone\n",
      "\u001b[?25h  Preparing metadata (pyproject.toml) ... \u001b[?25ldone\n",
      "\u001b[?25hCollecting morfessor\n",
      "  Downloading Morfessor-2.0.6-py3-none-any.whl (35 kB)\n",
      "Collecting youtube_dl\n",
      "  Downloading youtube_dl-2021.12.17-py2.py3-none-any.whl (1.9 MB)\n",
      "\u001b[2K     \u001b[90m━━━━━━━━━━━━━━━━━━━━━━━━━━━━━━━━━━━━━━━━\u001b[0m \u001b[32m1.9/1.9 MB\u001b[0m \u001b[31m25.4 MB/s\u001b[0m eta \u001b[36m0:00:00\u001b[0m:00:01\u001b[0m\n",
      "\u001b[?25hCollecting nnmnkwii\n",
      "  Downloading nnmnkwii-0.1.1.tar.gz (2.0 MB)\n",
      "\u001b[2K     \u001b[90m━━━━━━━━━━━━━━━━━━━━━━━━━━━━━━━━━━━━━━━━\u001b[0m \u001b[32m2.0/2.0 MB\u001b[0m \u001b[31m50.4 MB/s\u001b[0m eta \u001b[36m0:00:00\u001b[0m:00:01\u001b[0m\n",
      "\u001b[?25h  Installing build dependencies ... \u001b[?25ldone\n",
      "\u001b[?25h  Getting requirements to build wheel ... \u001b[?25ldone\n",
      "\u001b[?25h  Preparing metadata (pyproject.toml) ... \u001b[?25ldone\n",
      "\u001b[?25hCollecting museval>=0.2.1\n",
      "  Downloading museval-0.4.0-py2.py3-none-any.whl (21 kB)\n",
      "Collecting pystoi>=0.2.2\n",
      "  Downloading pystoi-0.3.3.tar.gz (7.0 kB)\n",
      "  Preparing metadata (setup.py) ... \u001b[?25ldone\n",
      "\u001b[?25hCollecting mir-eval>=0.6\n",
      "  Downloading mir_eval-0.7.tar.gz (90 kB)\n",
      "\u001b[2K     \u001b[90m━━━━━━━━━━━━━━━━━━━━━━━━━━━━━━━━━━━━━━━━\u001b[0m \u001b[32m90.7/90.7 KB\u001b[0m \u001b[31m26.7 MB/s\u001b[0m eta \u001b[36m0:00:00\u001b[0m\n",
      "\u001b[?25h  Preparing metadata (setup.py) ... \u001b[?25ldone\n",
      "\u001b[?25hCollecting fastdtw\n",
      "  Downloading fastdtw-0.3.4.tar.gz (133 kB)\n",
      "\u001b[2K     \u001b[90m━━━━━━━━━━━━━━━━━━━━━━━━━━━━━━━━━━━━━━\u001b[0m \u001b[32m133.4/133.4 KB\u001b[0m \u001b[31m33.7 MB/s\u001b[0m eta \u001b[36m0:00:00\u001b[0m\n",
      "\u001b[?25h  Preparing metadata (setup.py) ... \u001b[?25ldone\n",
      "\u001b[?25hCollecting nara_wpe>=0.0.5\n",
      "  Downloading nara_wpe-0.0.8-py3-none-any.whl (33 kB)\n",
      "Collecting sacrebleu>=1.5.1\n",
      "  Downloading sacrebleu-2.0.0-py3-none-any.whl (90 kB)\n",
      "\u001b[2K     \u001b[90m━━━━━━━━━━━━━━━━━━━━━━━━━━━━━━━━━━━━━━━━\u001b[0m \u001b[32m90.7/90.7 KB\u001b[0m \u001b[31m26.8 MB/s\u001b[0m eta \u001b[36m0:00:00\u001b[0m\n",
      "\u001b[?25hCollecting matplotlib==3.1.0\n",
      "  Downloading matplotlib-3.1.0.tar.gz (37.2 MB)\n",
      "\u001b[2K     \u001b[90m━━━━━━━━━━━━━━━━━━━━━━━━━━━━━━━━━━━━━━━━\u001b[0m \u001b[32m37.2/37.2 MB\u001b[0m \u001b[31m13.2 MB/s\u001b[0m eta \u001b[36m0:00:00\u001b[0m00:01\u001b[0m00:01\u001b[0m\n",
      "\u001b[?25h  Preparing metadata (setup.py) ... \u001b[?25ldone\n",
      "\u001b[?25hRequirement already satisfied: pillow>=6.1.0 in /home/ec2-user/anaconda3/envs/espnet/lib/python3.8/site-packages (from espnet==202204) (9.1.0)\n",
      "Collecting editdistance==0.5.2\n",
      "  Downloading editdistance-0.5.2.tar.gz (20 kB)\n",
      "  Preparing metadata (setup.py) ... \u001b[?25ldone\n",
      "\u001b[?25hCollecting wandb\n",
      "  Downloading wandb-0.12.15-py2.py3-none-any.whl (1.8 MB)\n",
      "\u001b[2K     \u001b[90m━━━━━━━━━━━━━━━━━━━━━━━━━━━━━━━━━━━━━━━━\u001b[0m \u001b[32m1.8/1.8 MB\u001b[0m \u001b[31m5.4 MB/s\u001b[0m eta \u001b[36m0:00:00\u001b[0m0:00:01\u001b[0m\n",
      "\u001b[?25hCollecting tensorboard>=1.14\n",
      "  Downloading tensorboard-2.9.0-py3-none-any.whl (5.8 MB)\n",
      "\u001b[2K     \u001b[90m━━━━━━━━━━━━━━━━━━━━━━━━━━━━━━━━━━━━━━━━\u001b[0m \u001b[32m5.8/5.8 MB\u001b[0m \u001b[31m29.4 MB/s\u001b[0m eta \u001b[36m0:00:00\u001b[0m:00:01\u001b[0m\n",
      "\u001b[?25hRequirement already satisfied: cycler>=0.10 in /home/ec2-user/anaconda3/envs/espnet/lib/python3.8/site-packages (from matplotlib==3.1.0->espnet==202204) (0.11.0)\n",
      "Requirement already satisfied: kiwisolver>=1.0.1 in /home/ec2-user/anaconda3/envs/espnet/lib/python3.8/site-packages (from matplotlib==3.1.0->espnet==202204) (1.4.2)\n",
      "Requirement already satisfied: pyparsing!=2.0.4,!=2.1.2,!=2.1.6,>=2.0.1 in /home/ec2-user/anaconda3/envs/espnet/lib/python3.8/site-packages (from matplotlib==3.1.0->espnet==202204) (3.0.8)\n",
      "Requirement already satisfied: python-dateutil>=2.1 in /home/ec2-user/anaconda3/envs/espnet/lib/python3.8/site-packages (from matplotlib==3.1.0->espnet==202204) (2.8.2)\n",
      "Requirement already satisfied: numpy>=1.11 in /home/ec2-user/anaconda3/envs/espnet/lib/python3.8/site-packages (from matplotlib==3.1.0->espnet==202204) (1.20.3)\n",
      "Collecting Cython\n",
      "  Using cached Cython-0.29.28-cp38-cp38-manylinux_2_17_x86_64.manylinux2014_x86_64.manylinux_2_24_x86_64.whl (1.9 MB)\n",
      "Requirement already satisfied: packaging>=20.0 in /home/ec2-user/anaconda3/envs/espnet/lib/python3.8/site-packages (from librosa>=0.8.0->espnet==202204) (21.3)\n",
      "Requirement already satisfied: audioread>=2.1.5 in /home/ec2-user/anaconda3/envs/espnet/lib/python3.8/site-packages (from librosa>=0.8.0->espnet==202204) (2.1.9)\n",
      "Requirement already satisfied: decorator>=4.0.10 in /home/ec2-user/anaconda3/envs/espnet/lib/python3.8/site-packages (from librosa>=0.8.0->espnet==202204) (5.1.1)\n",
      "Requirement already satisfied: scikit-learn>=0.19.1 in /home/ec2-user/anaconda3/envs/espnet/lib/python3.8/site-packages (from librosa>=0.8.0->espnet==202204) (1.0.2)\n",
      "Requirement already satisfied: numba>=0.45.1 in /home/ec2-user/anaconda3/envs/espnet/lib/python3.8/site-packages (from librosa>=0.8.0->espnet==202204) (0.55.1)\n",
      "Requirement already satisfied: pooch>=1.0 in /home/ec2-user/anaconda3/envs/espnet/lib/python3.8/site-packages (from librosa>=0.8.0->espnet==202204) (1.6.0)\n",
      "Requirement already satisfied: joblib>=0.14 in /home/ec2-user/anaconda3/envs/espnet/lib/python3.8/site-packages (from librosa>=0.8.0->espnet==202204) (1.1.0)\n",
      "Collecting future\n",
      "  Downloading future-0.18.2.tar.gz (829 kB)\n",
      "\u001b[2K     \u001b[90m━━━━━━━━━━━━━━━━━━━━━━━━━━━━━━━━━━━━━━━\u001b[0m \u001b[32m829.2/829.2 KB\u001b[0m \u001b[31m7.6 MB/s\u001b[0m eta \u001b[36m0:00:00\u001b[0m00:01\u001b[0m\n",
      "\u001b[?25h  Preparing metadata (setup.py) ... \u001b[?25ldone\n",
      "\u001b[?25hRequirement already satisfied: six in /home/ec2-user/anaconda3/envs/espnet/lib/python3.8/site-packages (from mir-eval>=0.6->espnet==202204) (1.16.0)\n",
      "Collecting pandas>=1.0.1\n",
      "  Downloading pandas-1.4.2-cp38-cp38-manylinux_2_17_x86_64.manylinux2014_x86_64.whl (11.7 MB)\n",
      "\u001b[2K     \u001b[90m━━━━━━━━━━━━━━━━━━━━━━━━━━━━━━━━━━━━━━━━\u001b[0m \u001b[32m11.7/11.7 MB\u001b[0m \u001b[31m28.1 MB/s\u001b[0m eta \u001b[36m0:00:00\u001b[0m00:01\u001b[0m00:01\u001b[0m\n",
      "\u001b[?25hCollecting jsonschema\n",
      "  Downloading jsonschema-4.4.0-py3-none-any.whl (72 kB)\n",
      "\u001b[2K     \u001b[90m━━━━━━━━━━━━━━━━━━━━━━━━━━━━━━━━━━━━━━━━\u001b[0m \u001b[32m72.7/72.7 KB\u001b[0m \u001b[31m10.6 MB/s\u001b[0m eta \u001b[36m0:00:00\u001b[0m\n",
      "\u001b[?25hCollecting musdb>=0.4.0\n",
      "  Downloading musdb-0.4.0-py2.py3-none-any.whl (29 kB)\n",
      "Collecting simplejson\n",
      "  Downloading simplejson-3.17.6-cp38-cp38-manylinux_2_5_x86_64.manylinux1_x86_64.manylinux_2_12_x86_64.manylinux2010_x86_64.whl (139 kB)\n",
      "\u001b[2K     \u001b[90m━━━━━━━━━━━━━━━━━━━━━━━━━━━━━━━━━━━━━━━\u001b[0m \u001b[32m139.5/139.5 KB\u001b[0m \u001b[31m2.2 MB/s\u001b[0m eta \u001b[36m0:00:00\u001b[0ma \u001b[36m0:00:01\u001b[0m\n",
      "\u001b[?25hCollecting bottleneck\n",
      "  Downloading Bottleneck-1.3.4-cp38-cp38-manylinux_2_5_x86_64.manylinux1_x86_64.manylinux_2_24_x86_64.whl (331 kB)\n",
      "\u001b[2K     \u001b[90m━━━━━━━━━━━━━━━━━━━━━━━━━━━━━━━━━━━━━━\u001b[0m \u001b[32m331.5/331.5 KB\u001b[0m \u001b[31m68.5 MB/s\u001b[0m eta \u001b[36m0:00:00\u001b[0m\n",
      "\u001b[?25hRequirement already satisfied: tqdm in /home/ec2-user/anaconda3/envs/espnet/lib/python3.8/site-packages (from nara_wpe>=0.0.5->espnet==202204) (4.64.0)\n",
      "Collecting click\n",
      "  Downloading click-8.1.3-py3-none-any.whl (96 kB)\n",
      "\u001b[2K     \u001b[90m━━━━━━━━━━━━━━━━━━━━━━━━━━━━━━━━━━━━━━━━\u001b[0m \u001b[32m96.6/96.6 KB\u001b[0m \u001b[31m28.3 MB/s\u001b[0m eta \u001b[36m0:00:00\u001b[0m\n",
      "\u001b[?25hCollecting regex>=2021.8.3\n",
      "  Downloading regex-2022.4.24-cp38-cp38-manylinux_2_17_x86_64.manylinux2014_x86_64.whl (764 kB)\n",
      "\u001b[2K     \u001b[90m━━━━━━━━━━━━━━━━━━━━━━━━━━━━━━━━━━━━━━━\u001b[0m \u001b[32m764.9/764.9 KB\u001b[0m \u001b[31m6.2 MB/s\u001b[0m eta \u001b[36m0:00:00\u001b[0m00:01\u001b[0m\n",
      "\u001b[?25hCollecting portalocker\n",
      "  Downloading portalocker-2.4.0-py2.py3-none-any.whl (16 kB)\n",
      "Collecting tabulate>=0.8.9\n",
      "  Downloading tabulate-0.8.9-py3-none-any.whl (25 kB)\n",
      "Requirement already satisfied: colorama in /home/ec2-user/anaconda3/envs/espnet/lib/python3.8/site-packages (from sacrebleu>=1.5.1->espnet==202204) (0.4.4)\n",
      "Requirement already satisfied: cffi>=1.0 in /home/ec2-user/anaconda3/envs/espnet/lib/python3.8/site-packages (from soundfile>=0.10.2->espnet==202204) (1.15.0)\n",
      "Collecting absl-py>=0.4\n",
      "  Downloading absl_py-1.0.0-py3-none-any.whl (126 kB)\n",
      "\u001b[2K     \u001b[90m━━━━━━━━━━━━━━━━━━━━━━━━━━━━━━━━━━━━━━\u001b[0m \u001b[32m126.7/126.7 KB\u001b[0m \u001b[31m38.0 MB/s\u001b[0m eta \u001b[36m0:00:00\u001b[0m\n",
      "\u001b[?25hRequirement already satisfied: requests<3,>=2.21.0 in /home/ec2-user/anaconda3/envs/espnet/lib/python3.8/site-packages (from tensorboard>=1.14->espnet==202204) (2.27.1)\n",
      "Requirement already satisfied: wheel>=0.26 in /home/ec2-user/anaconda3/envs/espnet/lib/python3.8/site-packages (from tensorboard>=1.14->espnet==202204) (0.37.1)\n",
      "Collecting tensorboard-plugin-wit>=1.6.0\n",
      "  Downloading tensorboard_plugin_wit-1.8.1-py3-none-any.whl (781 kB)\n",
      "\u001b[2K     \u001b[90m━━━━━━━━━━━━━━━━━━━━━━━━━━━━━━━━━━━━━━━\u001b[0m \u001b[32m781.3/781.3 KB\u001b[0m \u001b[31m7.7 MB/s\u001b[0m eta \u001b[36m0:00:00\u001b[0m00:01\u001b[0m\n",
      "\u001b[?25hCollecting grpcio>=1.24.3\n",
      "  Downloading grpcio-1.44.0-cp38-cp38-manylinux_2_17_x86_64.manylinux2014_x86_64.whl (4.3 MB)\n",
      "\u001b[2K     \u001b[90m━━━━━━━━━━━━━━━━━━━━━━━━━━━━━━━━━━━━━━━━\u001b[0m \u001b[32m4.3/4.3 MB\u001b[0m \u001b[31m24.8 MB/s\u001b[0m eta \u001b[36m0:00:00\u001b[0m:00:01\u001b[0m\n",
      "\u001b[?25hCollecting tensorboard-data-server<0.7.0,>=0.6.0\n",
      "  Downloading tensorboard_data_server-0.6.1-py3-none-manylinux2010_x86_64.whl (4.9 MB)\n",
      "\u001b[2K     \u001b[90m━━━━━━━━━━━━━━━━━━━━━━━━━━━━━━━━━━━━━━━━\u001b[0m \u001b[32m4.9/4.9 MB\u001b[0m \u001b[31m25.6 MB/s\u001b[0m eta \u001b[36m0:00:00\u001b[0m:00:01\u001b[0m\n",
      "\u001b[?25hCollecting markdown>=2.6.8\n",
      "  Downloading Markdown-3.3.6-py3-none-any.whl (97 kB)\n",
      "\u001b[2K     \u001b[90m━━━━━━━━━━━━━━━━━━━━━━━━━━━━━━━━━━━━━━━━\u001b[0m \u001b[32m97.8/97.8 KB\u001b[0m \u001b[31m4.8 MB/s\u001b[0m eta \u001b[36m0:00:00\u001b[0m\n",
      "\u001b[?25hCollecting google-auth<3,>=1.6.3\n",
      "  Downloading google_auth-2.6.6-py2.py3-none-any.whl (156 kB)\n",
      "\u001b[2K     \u001b[90m━━━━━━━━━━━━━━━━━━━━━━━━━━━━━━━━━━━━━━━\u001b[0m \u001b[32m156.7/156.7 KB\u001b[0m \u001b[31m1.2 MB/s\u001b[0m eta \u001b[36m0:00:00\u001b[0m00:01\u001b[0m\n",
      "\u001b[?25hCollecting google-auth-oauthlib<0.5,>=0.4.1\n",
      "  Downloading google_auth_oauthlib-0.4.6-py2.py3-none-any.whl (18 kB)\n",
      "Collecting werkzeug>=1.0.1\n",
      "  Downloading Werkzeug-2.1.2-py3-none-any.whl (224 kB)\n",
      "\u001b[2K     \u001b[90m━━━━━━━━━━━━━━━━━━━━━━━━━━━━━━━━━━━━━━━\u001b[0m \u001b[32m224.9/224.9 KB\u001b[0m \u001b[31m4.4 MB/s\u001b[0m eta \u001b[36m0:00:00\u001b[0ma \u001b[36m0:00:01\u001b[0m\n",
      "\u001b[?25hCollecting protobuf>=3.9.2\n",
      "  Downloading protobuf-3.20.1-cp38-cp38-manylinux_2_5_x86_64.manylinux1_x86_64.whl (1.0 MB)\n",
      "\u001b[2K     \u001b[90m━━━━━━━━━━━━━━━━━━━━━━━━━━━━━━━━━━━━━━━━\u001b[0m \u001b[32m1.0/1.0 MB\u001b[0m \u001b[31m10.7 MB/s\u001b[0m eta \u001b[36m0:00:00\u001b[0m:00:01\u001b[0m\n",
      "\u001b[?25hRequirement already satisfied: typing_extensions in /home/ec2-user/anaconda3/envs/espnet/lib/python3.8/site-packages (from torch>=1.3.0->espnet==202204) (4.2.0)\n",
      "Collecting einops\n",
      "  Downloading einops-0.4.1-py3-none-any.whl (28 kB)\n",
      "Collecting huggingface-hub\n",
      "  Downloading huggingface_hub-0.5.1-py3-none-any.whl (77 kB)\n",
      "\u001b[2K     \u001b[90m━━━━━━━━━━━━━━━━━━━━━━━━━━━━━━━━━━━━━━━\u001b[0m \u001b[32m77.9/77.9 KB\u001b[0m \u001b[31m718.5 kB/s\u001b[0m eta \u001b[36m0:00:00\u001b[0ma \u001b[36m0:00:01\u001b[0m\n",
      "\u001b[?25hCollecting inflect>=1.0.0\n",
      "  Downloading inflect-5.6.0-py3-none-any.whl (33 kB)\n",
      "Collecting g2p-en\n",
      "  Downloading g2p_en-2.1.0-py3-none-any.whl (3.1 MB)\n",
      "\u001b[2K     \u001b[90m━━━━━━━━━━━━━━━━━━━━━━━━━━━━━━━━━━━━━━━━\u001b[0m \u001b[32m3.1/3.1 MB\u001b[0m \u001b[31m18.0 MB/s\u001b[0m eta \u001b[36m0:00:00\u001b[0m:00:01\u001b[0m\n",
      "\u001b[?25hCollecting jaconv\n",
      "  Downloading jaconv-0.3.tar.gz (15 kB)\n",
      "  Preparing metadata (setup.py) ... \u001b[?25ldone\n",
      "\u001b[?25hCollecting unidecode>=1.0.22\n",
      "  Downloading Unidecode-1.3.4-py3-none-any.whl (235 kB)\n",
      "\u001b[2K     \u001b[90m━━━━━━━━━━━━━━━━━━━━━━━━━━━━━━━━━━━━━━\u001b[0m \u001b[32m235.9/235.9 KB\u001b[0m \u001b[31m56.9 MB/s\u001b[0m eta \u001b[36m0:00:00\u001b[0m\n",
      "\u001b[?25hCollecting beautifulsoup4\n",
      "  Downloading beautifulsoup4-4.11.1-py3-none-any.whl (128 kB)\n",
      "\u001b[2K     \u001b[90m━━━━━━━━━━━━━━━━━━━━━━━━━━━━━━━━━━━━━━\u001b[0m \u001b[32m128.2/128.2 KB\u001b[0m \u001b[31m38.5 MB/s\u001b[0m eta \u001b[36m0:00:00\u001b[0m\n",
      "\u001b[?25hCollecting sentry-sdk>=1.0.0\n",
      "  Downloading sentry_sdk-1.5.10-py2.py3-none-any.whl (144 kB)\n",
      "\u001b[2K     \u001b[90m━━━━━━━━━━━━━━━━━━━━━━━━━━━━━━━━━━━━━━━\u001b[0m \u001b[32m144.9/144.9 KB\u001b[0m \u001b[31m2.3 MB/s\u001b[0m eta \u001b[36m0:00:00\u001b[0m00:01\u001b[0m\n",
      "\u001b[?25hCollecting docker-pycreds>=0.4.0\n",
      "  Downloading docker_pycreds-0.4.0-py2.py3-none-any.whl (9.0 kB)\n",
      "Collecting setproctitle\n",
      "  Downloading setproctitle-1.2.3-cp38-cp38-manylinux_2_5_x86_64.manylinux1_x86_64.manylinux_2_17_x86_64.manylinux2014_x86_64.whl (29 kB)\n",
      "Collecting pathtools\n",
      "  Downloading pathtools-0.1.2.tar.gz (11 kB)\n",
      "  Preparing metadata (setup.py) ... \u001b[?25ldone\n",
      "\u001b[?25hCollecting promise<3,>=2.0\n",
      "  Downloading promise-2.3.tar.gz (19 kB)\n",
      "  Preparing metadata (setup.py) ... \u001b[?25ldone\n",
      "\u001b[?25hCollecting GitPython>=1.0.0\n",
      "  Using cached GitPython-3.1.27-py3-none-any.whl (181 kB)\n",
      "Requirement already satisfied: psutil>=5.0.0 in /home/ec2-user/anaconda3/envs/espnet/lib/python3.8/site-packages (from wandb->espnet==202204) (5.9.0)\n",
      "Collecting shortuuid>=0.5.0\n",
      "  Downloading shortuuid-1.0.8-py3-none-any.whl (9.5 kB)\n",
      "Requirement already satisfied: pycparser in /home/ec2-user/anaconda3/envs/espnet/lib/python3.8/site-packages (from cffi>=1.0->soundfile>=0.10.2->espnet==202204) (2.21)\n",
      "Collecting gitdb<5,>=4.0.1\n",
      "  Using cached gitdb-4.0.9-py3-none-any.whl (63 kB)\n",
      "Collecting cachetools<6.0,>=2.0.0\n",
      "  Downloading cachetools-5.0.0-py3-none-any.whl (9.1 kB)\n",
      "Collecting pyasn1-modules>=0.2.1\n",
      "  Downloading pyasn1_modules-0.2.8-py2.py3-none-any.whl (155 kB)\n",
      "\u001b[2K     \u001b[90m━━━━━━━━━━━━━━━━━━━━━━━━━━━━━━━━━━━━━━━\u001b[0m \u001b[32m155.3/155.3 KB\u001b[0m \u001b[31m2.6 MB/s\u001b[0m eta \u001b[36m0:00:00\u001b[0m00:01\u001b[0m\n",
      "\u001b[?25hCollecting rsa<5,>=3.1.4\n",
      "  Downloading rsa-4.8-py3-none-any.whl (39 kB)\n",
      "Collecting requests-oauthlib>=0.7.0\n",
      "  Downloading requests_oauthlib-1.3.1-py2.py3-none-any.whl (23 kB)\n",
      "Collecting importlib-metadata>=4.4\n",
      "  Downloading importlib_metadata-4.11.3-py3-none-any.whl (18 kB)\n",
      "Collecting stempeg>=0.2.3\n",
      "  Downloading stempeg-0.2.3-py3-none-any.whl (963 kB)\n",
      "\u001b[2K     \u001b[90m━━━━━━━━━━━━━━━━━━━━━━━━━━━━━━━━━━━━━━━\u001b[0m \u001b[32m963.5/963.5 KB\u001b[0m \u001b[31m6.8 MB/s\u001b[0m eta \u001b[36m0:00:00\u001b[0m00:01\u001b[0m\n",
      "\u001b[?25hCollecting pyaml\n",
      "  Downloading pyaml-21.10.1-py2.py3-none-any.whl (24 kB)\n",
      "Requirement already satisfied: llvmlite<0.39,>=0.38.0rc1 in /home/ec2-user/anaconda3/envs/espnet/lib/python3.8/site-packages (from numba>=0.45.1->librosa>=0.8.0->espnet==202204) (0.38.0)\n",
      "Collecting pytz>=2020.1\n",
      "  Using cached pytz-2022.1-py2.py3-none-any.whl (503 kB)\n",
      "Requirement already satisfied: appdirs>=1.3.0 in /home/ec2-user/anaconda3/envs/espnet/lib/python3.8/site-packages (from pooch>=1.0->librosa>=0.8.0->espnet==202204) (1.4.4)\n",
      "Requirement already satisfied: urllib3<1.27,>=1.21.1 in /home/ec2-user/anaconda3/envs/espnet/lib/python3.8/site-packages (from requests<3,>=2.21.0->tensorboard>=1.14->espnet==202204) (1.26.9)\n",
      "Requirement already satisfied: idna<4,>=2.5 in /home/ec2-user/anaconda3/envs/espnet/lib/python3.8/site-packages (from requests<3,>=2.21.0->tensorboard>=1.14->espnet==202204) (3.3)\n",
      "Requirement already satisfied: charset-normalizer~=2.0.0 in /home/ec2-user/anaconda3/envs/espnet/lib/python3.8/site-packages (from requests<3,>=2.21.0->tensorboard>=1.14->espnet==202204) (2.0.12)\n",
      "Requirement already satisfied: certifi>=2017.4.17 in /home/ec2-user/anaconda3/envs/espnet/lib/python3.8/site-packages (from requests<3,>=2.21.0->tensorboard>=1.14->espnet==202204) (2021.10.8)\n",
      "Requirement already satisfied: threadpoolctl>=2.0.0 in /home/ec2-user/anaconda3/envs/espnet/lib/python3.8/site-packages (from scikit-learn>=0.19.1->librosa>=0.8.0->espnet==202204) (3.1.0)\n",
      "Collecting soupsieve>1.2\n",
      "  Downloading soupsieve-2.3.2.post1-py3-none-any.whl (37 kB)\n",
      "Collecting distance>=0.1.3\n",
      "  Downloading Distance-0.1.3.tar.gz (180 kB)\n",
      "\u001b[2K     \u001b[90m━━━━━━━━━━━━━━━━━━━━━━━━━━━━━━━━━━━━━━━\u001b[0m \u001b[32m180.3/180.3 KB\u001b[0m \u001b[31m8.5 MB/s\u001b[0m eta \u001b[36m0:00:00\u001b[0m\n",
      "\u001b[?25h  Preparing metadata (setup.py) ... \u001b[?25ldone\n",
      "\u001b[?25hCollecting importlib-resources>=1.4.0\n",
      "  Downloading importlib_resources-5.7.1-py3-none-any.whl (28 kB)\n",
      "Collecting attrs>=17.4.0\n",
      "  Downloading attrs-21.4.0-py2.py3-none-any.whl (60 kB)\n",
      "\u001b[2K     \u001b[90m━━━━━━━━━━━━━━━━━━━━━━━━━━━━━━━━━━━━━━━━\u001b[0m \u001b[32m60.6/60.6 KB\u001b[0m \u001b[31m5.9 MB/s\u001b[0m eta \u001b[36m0:00:00\u001b[0m\n",
      "\u001b[?25hCollecting pyrsistent!=0.17.0,!=0.17.1,!=0.17.2,>=0.14.0\n",
      "  Downloading pyrsistent-0.18.1-cp38-cp38-manylinux_2_17_x86_64.manylinux2014_x86_64.whl (119 kB)\n",
      "\u001b[2K     \u001b[90m━━━━━━━━━━━━━━━━━━━━━━━━━━━━━━━━━━━━━━━\u001b[0m \u001b[32m119.8/119.8 KB\u001b[0m \u001b[31m9.3 MB/s\u001b[0m eta \u001b[36m0:00:00\u001b[0m\n",
      "\u001b[?25hRequirement already satisfied: PySocks!=1.5.7,>=1.5.6 in /home/ec2-user/anaconda3/envs/espnet/lib/python3.8/site-packages (from requests<3,>=2.21.0->tensorboard>=1.14->espnet==202204) (1.7.1)\n",
      "Collecting smmap<6,>=3.0.1\n",
      "  Using cached smmap-5.0.0-py3-none-any.whl (24 kB)\n",
      "Collecting zipp>=0.5\n",
      "  Using cached zipp-3.8.0-py3-none-any.whl (5.4 kB)\n",
      "Collecting pyasn1<0.5.0,>=0.4.6\n",
      "  Using cached pyasn1-0.4.8-py2.py3-none-any.whl (77 kB)\n",
      "Collecting oauthlib>=3.0.0\n",
      "  Downloading oauthlib-3.2.0-py3-none-any.whl (151 kB)\n",
      "\u001b[2K     \u001b[90m━━━━━━━━━━━━━━━━━━━━━━━━━━━━━━━━━━━━━━\u001b[0m \u001b[32m151.5/151.5 KB\u001b[0m \u001b[31m22.7 MB/s\u001b[0m eta \u001b[36m0:00:00\u001b[0m\n",
      "\u001b[?25hCollecting ffmpeg-python>=0.2.0\n",
      "  Downloading ffmpeg_python-0.2.0-py3-none-any.whl (25 kB)\n",
      "Building wheels for collected packages: editdistance, matplotlib, ctc-segmentation, kaldiio, mir-eval, pysptk, pystoi, pyworld, ci_sdr, fastdtw, gdown, nnmnkwii, promise, future, jaconv, pathtools, distance\n",
      "  Building wheel for editdistance (setup.py) ... \u001b[?25ldone\n",
      "\u001b[?25h  Created wheel for editdistance: filename=editdistance-0.5.2-cp38-cp38-linux_x86_64.whl size=209798 sha256=076ffb0a040ef0ef6a6ac18f28351263fc8ef9d94bc25ee92a2ef91161ac2e75\n",
      "  Stored in directory: /home/ec2-user/.cache/pip/wheels/56/49/b0/85a377bddd0cde1e3fb5db91a5544938536ab8cd3fb8e05aa8\n",
      "  Building wheel for matplotlib (setup.py) ... \u001b[?25ldone\n",
      "\u001b[?25h  Created wheel for matplotlib: filename=matplotlib-3.1.0-cp38-cp38-linux_x86_64.whl size=11301674 sha256=df03aae4c100fe97248392d83b89f596829697a3cb6f81b2aa4b3563c2eaabf4\n",
      "  Stored in directory: /home/ec2-user/.cache/pip/wheels/e3/bf/f4/e1e2e54d857335e30b6260b39d479cfa222999e85ef9f8b128\n",
      "  Building wheel for ctc-segmentation (setup.py) ... \u001b[?25ldone\n",
      "\u001b[?25h  Created wheel for ctc-segmentation: filename=ctc_segmentation-1.7.1-cp38-cp38-linux_x86_64.whl size=129196 sha256=8c9a2d595ef6af598950bec3ce41357eadf3b379e3c5648dea4515160e3173ce\n",
      "  Stored in directory: /home/ec2-user/.cache/pip/wheels/60/a3/46/329a4b6dec56707be34b93fab0926ae49baf141fc75d99510b\n",
      "  Building wheel for kaldiio (setup.py) ... \u001b[?25ldone\n",
      "\u001b[?25h  Created wheel for kaldiio: filename=kaldiio-2.17.2-py3-none-any.whl size=24471 sha256=272203dc6d4dbc6cb6220cd3bed75ee8371b4bcfb8a1c5d7582466c53971232c\n",
      "  Stored in directory: /home/ec2-user/.cache/pip/wheels/49/b3/00/af2103b510836161326bb51e27795407b07fda6969d0ae5967\n",
      "  Building wheel for mir-eval (setup.py) ... \u001b[?25ldone\n",
      "\u001b[?25h  Created wheel for mir-eval: filename=mir_eval-0.7-py3-none-any.whl size=100721 sha256=f9ed81c8470f17582e246e068797b6d127d6dca1beb08ae7fa51b223cbc34680\n",
      "  Stored in directory: /home/ec2-user/.cache/pip/wheels/20/53/83/1d50d15a666140d53eda589db005f7cb53b739c7e54711f51f\n",
      "  Building wheel for pysptk (pyproject.toml) ... \u001b[?25ldone\n",
      "\u001b[?25h  Created wheel for pysptk: filename=pysptk-0.1.20-cp38-cp38-linux_x86_64.whl size=1067954 sha256=ad7a64cfaf280c73100b77243fb53017bd353d2107c5f6529ad230486f2ab1e7\n",
      "  Stored in directory: /home/ec2-user/.cache/pip/wheels/9a/5c/e0/7ba74078f12327da39deb3b86a36cc8d699c312715cab9e9c1\n",
      "  Building wheel for pystoi (setup.py) ... \u001b[?25ldone\n",
      "\u001b[?25h  Created wheel for pystoi: filename=pystoi-0.3.3-py2.py3-none-any.whl size=7793 sha256=2cb3d799970bbae4d6c5fce75b7cdc791bd6aaf28f1110050a3b44401708deb9\n",
      "  Stored in directory: /home/ec2-user/.cache/pip/wheels/62/35/75/c07f0861a60fb8aacf44fdd5c8c214a224a6c9edb4a4e1402f\n",
      "  Building wheel for pyworld (pyproject.toml) ... \u001b[?25ldone\n",
      "\u001b[?25h  Created wheel for pyworld: filename=pyworld-0.3.0-cp38-cp38-linux_x86_64.whl size=716682 sha256=2dd186d38ca11b190e6a3c82057a41652fac5836e63ed43a14f3d2634ff8a4d6\n",
      "  Stored in directory: /home/ec2-user/.cache/pip/wheels/b7/9d/77/c12111ca99a5a889f7b3a44b55308f7bd230ea9dbaa2a99613\n",
      "  Building wheel for ci_sdr (setup.py) ... \u001b[?25ldone\n",
      "\u001b[?25h  Created wheel for ci_sdr: filename=ci_sdr-0.0.0-py3-none-any.whl size=14979 sha256=2b6b81dde77d5288d724e55d15c8f11255303c767053d9a08ccbefc5800ea91f\n",
      "  Stored in directory: /home/ec2-user/.cache/pip/wheels/3f/3a/b2/d340c4bb4d572394d45f75574e56e9efc0a2de70b4302f6801\n",
      "  Building wheel for fastdtw (setup.py) ... \u001b[?25ldone\n",
      "\u001b[?25h  Created wheel for fastdtw: filename=fastdtw-0.3.4-cp38-cp38-linux_x86_64.whl size=426549 sha256=2f3e0b8d4da2d3ea52bafb0241e580db4fb18617c11345434b7fc0c42eb0dad1\n",
      "  Stored in directory: /home/ec2-user/.cache/pip/wheels/e9/ac/30/c962f9d759dd68cb5482727c44441fdfb48040fdbe983857e8\n",
      "  Building wheel for gdown (pyproject.toml) ... \u001b[?25ldone\n",
      "\u001b[?25h  Created wheel for gdown: filename=gdown-4.4.0-py3-none-any.whl size=14775 sha256=08f1d645c9424aaa12f9925e4343d3b0ed8efc72a802f4230328909b499ab8e2\n",
      "  Stored in directory: /home/ec2-user/.cache/pip/wheels/7b/7b/5d/656f46cd6889e4c93977be9586901d0adc1271b2d876c84c96\n",
      "  Building wheel for nnmnkwii (pyproject.toml) ... \u001b[?25ldone\n",
      "\u001b[?25h  Created wheel for nnmnkwii: filename=nnmnkwii-0.1.1-cp38-cp38-linux_x86_64.whl size=3069311 sha256=8880ac2cb53d5e36b8ea948baad917186afc4c176e905ae69f6ce35b354b5d6f\n",
      "  Stored in directory: /home/ec2-user/.cache/pip/wheels/89/c1/42/d8689b584be5ef5db4f31cb6a97e2edeb5900971fc682f407c\n",
      "  Building wheel for promise (setup.py) ... \u001b[?25ldone\n",
      "\u001b[?25h  Created wheel for promise: filename=promise-2.3-py3-none-any.whl size=21503 sha256=7189b6a5ab98fb3680be66e6ff28091a77cc39525ae06dfa76fa75b13563da3c\n",
      "  Stored in directory: /home/ec2-user/.cache/pip/wheels/54/aa/01/724885182f93150035a2a91bce34a12877e8067a97baaf5dc8\n",
      "  Building wheel for future (setup.py) ... \u001b[?25ldone\n",
      "\u001b[?25h  Created wheel for future: filename=future-0.18.2-py3-none-any.whl size=491070 sha256=1e2d18a55cee28de05e7eb5f8e875cac3257475fdde216eaf0482052fe952497\n",
      "  Stored in directory: /home/ec2-user/.cache/pip/wheels/8e/70/28/3d6ccd6e315f65f245da085482a2e1c7d14b90b30f239e2cf4\n",
      "  Building wheel for jaconv (setup.py) ... \u001b[?25ldone\n",
      "\u001b[?25h  Created wheel for jaconv: filename=jaconv-0.3-py3-none-any.whl size=15564 sha256=23bcbcaed9ca7c747acc04b7086f2ecbcdc643a858333e95da2979ffd204108c\n",
      "  Stored in directory: /home/ec2-user/.cache/pip/wheels/73/e8/fb/b4ad8117719f79ac73bc05406d1768f845688cdbeed7aad87e\n",
      "  Building wheel for pathtools (setup.py) ... \u001b[?25ldone\n",
      "\u001b[?25h  Created wheel for pathtools: filename=pathtools-0.1.2-py3-none-any.whl size=8806 sha256=0dfb40765d32f46317a09a4e4932eb6155ae75e51ac93d869b5f503cea8e5460\n",
      "  Stored in directory: /home/ec2-user/.cache/pip/wheels/4c/8e/7e/72fbc243e1aeecae64a96875432e70d4e92f3d2d18123be004\n",
      "  Building wheel for distance (setup.py) ... \u001b[?25ldone\n",
      "\u001b[?25h  Created wheel for distance: filename=Distance-0.1.3-py3-none-any.whl size=16276 sha256=3784f3c23c18f60b6de0447f2b24d0952a09498828ac848c4291682bb8285c37\n",
      "  Stored in directory: /home/ec2-user/.cache/pip/wheels/fb/a8/64/6edcab63ec51512a87cacf9b3563c711ad6b7b05d61b704493\n",
      "Successfully built editdistance matplotlib ctc-segmentation kaldiio mir-eval pysptk pystoi pyworld ci_sdr fastdtw gdown nnmnkwii promise future jaconv pathtools distance\n",
      "Installing collected packages: youtube_dl, tensorboard-plugin-wit, tabulate, sentencepiece, pytz, pyasn1, pathtools, morfessor, jamo, jaconv, einops, editdistance, distance, zipp, werkzeug, unidecode, typeguard, torch_complex, tensorboard-data-server, soupsieve, smmap, simplejson, shortuuid, setproctitle, sentry-sdk, rsa, regex, PyYAML, pytorch_wpe, pyrsistent, pypinyin, pyasn1-modules, protobuf, promise, portalocker, oauthlib, kaldiio, inflect, humanfriendly, h5py, grpcio, future, filelock, fastdtw, docker-pycreds, Cython, configargparse, click, cachetools, bottleneck, attrs, absl-py, sacrebleu, requests-oauthlib, pyworld, pystoi, pysptk, pyaml, pandas, nltk, mir-eval, matplotlib, importlib-resources, importlib-metadata, huggingface-hub, google-auth, gitdb, ffmpeg-python, ctc-segmentation, ci_sdr, beautifulsoup4, stempeg, nnmnkwii, nara_wpe, markdown, jsonschema, google-auth-oauthlib, GitPython, gdown, g2p-en, wandb, tensorboard, musdb, espnet_tts_frontend, museval, espnet, espnet_model_zoo\n",
      "  Attempting uninstall: matplotlib\n",
      "    Found existing installation: matplotlib 3.5.1\n",
      "    Uninstalling matplotlib-3.5.1:\n",
      "      Successfully uninstalled matplotlib-3.5.1\n",
      "  Running setup.py develop for espnet\n",
      "Successfully installed Cython-0.29.28 GitPython-3.1.27 PyYAML-6.0 absl-py-1.0.0 attrs-21.4.0 beautifulsoup4-4.11.1 bottleneck-1.3.4 cachetools-5.0.0 ci_sdr-0.0.0 click-8.1.3 configargparse-1.5.3 ctc-segmentation-1.7.1 distance-0.1.3 docker-pycreds-0.4.0 editdistance-0.5.2 einops-0.4.1 espnet-202204 espnet_model_zoo-0.1.7 espnet_tts_frontend-0.0.3 fastdtw-0.3.4 ffmpeg-python-0.2.0 filelock-3.6.0 future-0.18.2 g2p-en-2.1.0 gdown-4.4.0 gitdb-4.0.9 google-auth-2.6.6 google-auth-oauthlib-0.4.6 grpcio-1.44.0 h5py-3.6.0 huggingface-hub-0.5.1 humanfriendly-10.0 importlib-metadata-4.11.3 importlib-resources-5.7.1 inflect-5.6.0 jaconv-0.3 jamo-0.4.1 jsonschema-4.4.0 kaldiio-2.17.2 markdown-3.3.6 matplotlib-3.1.0 mir-eval-0.7 morfessor-2.0.6 musdb-0.4.0 museval-0.4.0 nara_wpe-0.0.8 nltk-3.7 nnmnkwii-0.1.1 oauthlib-3.2.0 pandas-1.4.2 pathtools-0.1.2 portalocker-2.4.0 promise-2.3 protobuf-3.20.1 pyaml-21.10.1 pyasn1-0.4.8 pyasn1-modules-0.2.8 pypinyin-0.44.0 pyrsistent-0.18.1 pysptk-0.1.20 pystoi-0.3.3 pytorch_wpe-0.0.1 pytz-2022.1 pyworld-0.3.0 regex-2022.4.24 requests-oauthlib-1.3.1 rsa-4.8 sacrebleu-2.0.0 sentencepiece-0.1.96 sentry-sdk-1.5.10 setproctitle-1.2.3 shortuuid-1.0.8 simplejson-3.17.6 smmap-5.0.0 soupsieve-2.3.2.post1 stempeg-0.2.3 tabulate-0.8.9 tensorboard-2.9.0 tensorboard-data-server-0.6.1 tensorboard-plugin-wit-1.8.1 torch_complex-0.4.3 typeguard-2.13.3 unidecode-1.3.4 wandb-0.12.15 werkzeug-2.1.2 youtube_dl-2021.12.17 zipp-3.8.0\n",
      "touch espnet.done\n",
      ". ./activate_python.sh && ./installers/install_fairscale.sh\n",
      "<stdin>:4: DeprecationWarning: distutils Version classes are deprecated. Use packaging.version instead.\n",
      "[INFO] torch_version=1.8.0\n",
      "<stdin>:3: DeprecationWarning: distutils Version classes are deprecated. Use packaging.version instead.\n",
      "[WARNING] fairscale requires pytorch>=1.8.1\n",
      "touch fairscale.done\n",
      ". ./activate_python.sh && ./installers/install_torch_optimizer.sh\n",
      "<stdin>:4: DeprecationWarning: distutils Version classes are deprecated. Use packaging.version instead.\n",
      "[INFO] torch_version=1.8.0\n",
      "<stdin>:3: DeprecationWarning: distutils Version classes are deprecated. Use packaging.version instead.\n",
      "Looking in indexes: https://pypi.org/simple, https://pip.repos.neuron.amazonaws.com\n",
      "Collecting torch_optimizer\n",
      "  Downloading torch_optimizer-0.3.0-py3-none-any.whl (61 kB)\n",
      "\u001b[2K     \u001b[90m━━━━━━━━━━━━━━━━━━━━━━━━━━━━━━━━━━━━━━━━\u001b[0m \u001b[32m61.9/61.9 KB\u001b[0m \u001b[31m14.0 MB/s\u001b[0m eta \u001b[36m0:00:00\u001b[0m\n",
      "\u001b[?25hCollecting pytorch-ranger>=0.1.1\n",
      "  Downloading pytorch_ranger-0.1.1-py3-none-any.whl (14 kB)\n",
      "Requirement already satisfied: torch>=1.5.0 in /home/ec2-user/anaconda3/envs/espnet/lib/python3.8/site-packages (from torch_optimizer) (1.8.0)\n",
      "Requirement already satisfied: typing_extensions in /home/ec2-user/anaconda3/envs/espnet/lib/python3.8/site-packages (from torch>=1.5.0->torch_optimizer) (4.2.0)\n",
      "Requirement already satisfied: numpy in /home/ec2-user/anaconda3/envs/espnet/lib/python3.8/site-packages (from torch>=1.5.0->torch_optimizer) (1.20.3)\n",
      "Installing collected packages: pytorch-ranger, torch_optimizer\n",
      "Successfully installed pytorch-ranger-0.1.1 torch_optimizer-0.3.0\n",
      "touch torch_optimizer.done\n",
      ". ./activate_python.sh; . ./extra_path.sh; python3 check_install.py\n",
      "[x] python=3.8.12 (default, Oct 12 2021, 13:49:34)  [GCC 7.5.0]\n",
      "\n",
      "Python modules:\n",
      "[x] torch=1.8.0\n",
      "[x] torch cuda=10.2\n",
      "[x] torch cudnn=7605\n",
      "[x] torch nccl\n",
      "[ ] chainer\n",
      "[ ] cupy\n",
      "[x] torchaudio=0.8.0a0+a751e1d\n",
      "[x] torch_optimizer=0.3.0\n",
      "[ ] warpctc_pytorch\n",
      "[ ] warprnnt_pytorch\n",
      "[ ] chainer_ctc\n",
      "[ ] pyopenjtalk\n",
      "[ ] tdmelodic_pyopenjtalk\n",
      "[ ] kenlm\n",
      "[ ] mmseg\n",
      "[x] espnet=202204\n",
      "[ ] fairseq\n",
      "[ ] phonemizer\n",
      "[ ] gtn\n",
      "[ ] s3prl\n",
      "[ ] transformers\n",
      "[ ] speechbrain\n",
      "[ ] k2\n",
      "[ ] longformer\n",
      "[ ] nlg-eval\n",
      "[ ] datasets\n",
      "\n",
      "Executables:\n",
      "[x] sclite\n",
      "[x] sph2pipe\n",
      "[ ] PESQ\n",
      "[ ] BeamformIt\n",
      "\n",
      "INFO:\n",
      "Use 'installers/install_warp-ctc.sh' to install warpctc_pytorch\n",
      "Use 'installers/install_warp-transducer.sh' to install warprnnt_pytorch\n",
      "Use 'installers/install_chainer_ctc.sh' to install chainer_ctc\n",
      "Use 'installers/install_pyopenjtalk.sh' to install pyopenjtalk\n",
      "Use 'installers/install_tdmelodic_pyopenjtalk.sh' to install tdmelodic_pyopenjtalk\n",
      "Use 'installers/install_kenlm.sh' to install kenlm\n",
      "Use 'installers/install_py3mmseg.sh' to install mmseg\n",
      "Use 'installers/install_fairseq.sh' to install fairseq\n",
      "Use 'installers/install_phonemizer.sh' to install phonemizer\n",
      "Use 'installers/install_gtn.sh' to install gtn\n",
      "Use 'installers/install_s3prl.sh' to install s3prl\n",
      "Use 'installers/install_transformers.sh' to install transformers\n",
      "Use 'installers/install_speechbrain.sh' to install speechbrain\n",
      "Use 'installers/install_k2.sh' to install k2\n",
      "Use 'installers/install_longformer.sh' to install longformer\n",
      "Use 'installers/install_longformer.sh' to install nlg-eval\n",
      "Use 'installers/install_longformer.sh' to install datasets\n",
      "Use 'installers/install_pesq.sh' to install PESQ\n",
      "Use 'installers/install_beamformit.sh' to install BeamformIt\n"
     ]
    }
   ],
   "source": [
    "!make TH_VERSION=1.8.0 CUDA_VERSION=10.2"
   ]
  },
  {
   "cell_type": "code",
   "execution_count": 1,
   "id": "9661f12f",
   "metadata": {},
   "outputs": [
    {
     "name": "stdout",
     "output_type": "stream",
     "text": [
      "/home/ec2-user/anaconda3/envs/espnet/etc/conda\n"
     ]
    }
   ],
   "source": [
    "%cd /home/ec2-user/anaconda3/envs/espnet/etc/conda\n",
    "!rm -rf activate.d\n",
    "!rm -rf deactivate.d\n"
   ]
  },
  {
   "cell_type": "code",
   "execution_count": 7,
   "id": "b3ec4cd2",
   "metadata": {
    "collapsed": true,
    "jupyter": {
     "outputs_hidden": true
    }
   },
   "outputs": [
    {
     "name": "stdout",
     "output_type": "stream",
     "text": [
      "/home/ec2-user/SageMaker/espnet/tools\n"
     ]
    },
    {
     "name": "stderr",
     "output_type": "stream",
     "text": [
      "Cloning into 'speech_tools'...\n"
     ]
    },
    {
     "name": "stdout",
     "output_type": "stream",
     "text": [
      "checking build system type... x86_64-pc-linux-gnu\n",
      "checking host system type... x86_64-pc-linux-gnu\n",
      "checking target system type... x86_64-pc-linux-gnu\n",
      "checking for g++... g++\n",
      "checking whether the C++ compiler works... yes\n",
      "checking for C++ compiler default output file name... a.out\n",
      "checking for suffix of executables... \n",
      "checking whether we are cross compiling... no\n",
      "checking for suffix of object files... o\n",
      "checking whether we are using the GNU C++ compiler... yes\n",
      "checking whether g++ accepts -g... yes\n",
      "checking for gcc... gcc\n",
      "checking whether we are using the GNU C compiler... yes\n",
      "checking whether gcc accepts -g... yes\n",
      "checking for gcc option to accept ISO C89... none needed\n",
      "checking for ranlib... ranlib\n",
      "checking for ar... ar\n",
      "checking how to run the C preprocessor... gcc -E\n",
      "checking for grep that handles long lines and -e... /usr/bin/grep\n",
      "checking for egrep... /usr/bin/grep -E\n",
      "checking for ANSI C header files... yes\n",
      "checking for sys/types.h... yes\n",
      "checking for sys/stat.h... yes\n",
      "checking for stdlib.h... yes\n",
      "checking for string.h... yes\n",
      "checking for memory.h... yes\n",
      "checking for strings.h... yes\n",
      "checking for inttypes.h... yes\n",
      "checking for stdint.h... yes\n",
      "checking for unistd.h... yes\n",
      "checking whether byte ordering is bigendian... no\n",
      "checking for tputs in -lncurses... yes\n",
      "checking alsa/asoundlib.h usability... no\n",
      "checking alsa/asoundlib.h presence... no\n",
      "checking for alsa/asoundlib.h... no\n",
      "configure: creating ./config.status\n",
      "config.status: creating config/config\n",
      "config.status: creating config/user_flags.mak\n"
     ]
    },
    {
     "name": "stderr",
     "output_type": "stream",
     "text": [
      "Check system type\n",
      "Remake modincludes.inc\n",
      "\tNATIVE_AUDIO\n",
      "\t\tok\n",
      "\tEDITLINE\n",
      "\t\tconfig/modules/editline.mak\n",
      "\tSIOD\n",
      "\t\tsiod/siod.mak\n",
      "\tWAGON\n",
      "\t\tstats/wagon/wagon.mak\n",
      "\tSCFG\n",
      "\t\tgrammar/scfg/scfg.mak\n",
      "\tWFST\n",
      "\t\tgrammar/wfst/wfst.mak\n",
      "\tOLS\n",
      "\t\tstats/ols.mak\n",
      "\tRXP\n",
      "\t\trxp/rxp.mak\n",
      "\tLINUX16_AUDIO\n",
      "\t\tconfig/modules/linux16_audio.mak\n"
     ]
    },
    {
     "name": "stdout",
     "output_type": "stream",
     "text": [
      "Making in directory ./siod ...\n",
      "making dependencies -- siodeditline.c el_complete.c editline.c el_sys_unix.c slib.cc slib_core.cc slib_doc.cc slib_file.cc slib_format.cc slib_list.cc slib_math.cc slib_sys.cc slib_server.cc slib_str.cc slib_xtr.cc slib_repl.cc slib_python.cc io.cc trace.cc siod.cc siod_est.cc \n",
      "g++ -c -fno-implicit-templates -fopenmp -DOMP_WAGON=1 -O3 -Wall -DSUPPORT_EDITLINE -I../include -g -O2 slib.cc\n",
      "g++ -c -fno-implicit-templates -fopenmp -DOMP_WAGON=1 -O3 -Wall -DSUPPORT_EDITLINE -I../include -g -O2 slib_core.cc\n",
      "g++ -c -fno-implicit-templates -fopenmp -DOMP_WAGON=1 -O3 -Wall -DSUPPORT_EDITLINE -I../include -g -O2 slib_doc.cc\n",
      "g++ -c -fno-implicit-templates -fopenmp -DOMP_WAGON=1 -O3 -Wall -DSUPPORT_EDITLINE -I../include -g -O2 slib_file.cc\n",
      "g++ -c -fno-implicit-templates -fopenmp -DOMP_WAGON=1 -O3 -Wall -DSUPPORT_EDITLINE -I../include -g -O2 slib_format.cc\n",
      "g++ -c -fno-implicit-templates -fopenmp -DOMP_WAGON=1 -O3 -Wall -DSUPPORT_EDITLINE -I../include -g -O2 slib_list.cc\n",
      "g++ -c -fno-implicit-templates -fopenmp -DOMP_WAGON=1 -O3 -Wall -DSUPPORT_EDITLINE -I../include -g -O2 slib_math.cc\n",
      "g++ -c -fno-implicit-templates -fopenmp -DOMP_WAGON=1 -O3 -Wall -DSUPPORT_EDITLINE -I../include -g -O2 slib_sys.cc\n",
      "g++ -c -fno-implicit-templates -fopenmp -DOMP_WAGON=1 -O3 -Wall -DSUPPORT_EDITLINE -I../include -g -O2 slib_server.cc\n",
      "g++ -c -fno-implicit-templates -fopenmp -DOMP_WAGON=1 -O3 -Wall -DSUPPORT_EDITLINE -I../include -g -O2 slib_str.cc\n",
      "g++ -c -fno-implicit-templates -fopenmp -DOMP_WAGON=1 -O3 -Wall -DSUPPORT_EDITLINE -I../include -g -O2 slib_xtr.cc\n",
      "g++ -c -fno-implicit-templates -fopenmp -DOMP_WAGON=1 -O3 -Wall -DSUPPORT_EDITLINE -I../include -g -O2 slib_repl.cc\n",
      "g++ -c -fno-implicit-templates -fopenmp -DOMP_WAGON=1 -O3 -Wall -DSUPPORT_EDITLINE -I../include -g -O2 slib_python.cc\n",
      "g++ -c -fno-implicit-templates -fopenmp -DOMP_WAGON=1 -O3 -Wall -DSUPPORT_EDITLINE -I../include -g -O2 io.cc\n",
      "g++ -c -fno-implicit-templates -fopenmp -DOMP_WAGON=1 -O3 -Wall -DSUPPORT_EDITLINE -I../include -g -O2 trace.cc\n",
      "g++ -c -fno-implicit-templates -fopenmp -DOMP_WAGON=1 -O3 -Wall -DSUPPORT_EDITLINE -I../include -g -O2 -DINSTANTIATE_TEMPLATES siod.cc\n",
      "g++ -c -fno-implicit-templates -fopenmp -DOMP_WAGON=1 -O3 -Wall -DSUPPORT_EDITLINE -I../include -g -O2 -DINSTANTIATE_TEMPLATES siod_est.cc\n",
      "gcc -c -O3 -Wall -DSUPPORT_EDITLINE -I../include -g -O2 siodeditline.c\n",
      "gcc -c -O3 -Wall -DSUPPORT_EDITLINE -I../include -g -O2 el_complete.c\n",
      "gcc -c -O3 -Wall -DSUPPORT_EDITLINE -I../include -g -O2 editline.c\n",
      "gcc -c -O3 -Wall -DSUPPORT_EDITLINE -I../include -g -O2 el_sys_unix.c\n",
      "look at library estools slib.o slib_core.o slib_doc.o slib_file.o slib_format.o slib_list.o slib_math.o slib_sys.o slib_server.o slib_str.o slib_xtr.o slib_repl.o slib_python.o io.o trace.o siod.o siod_est.o siodeditline.o el_complete.o editline.o el_sys_unix.o\n",
      "Update library estools slib.o slib_core.o slib_doc.o slib_file.o slib_format.o slib_list.o slib_math.o slib_sys.o slib_server.o slib_str.o slib_xtr.o slib_repl.o slib_python.o io.o trace.o siod.o siod_est.o siodeditline.o el_complete.o editline.o el_sys_unix.o\n",
      "a - slib.o\n",
      "a - slib_core.o\n",
      "a - slib_doc.o\n",
      "a - slib_file.o\n",
      "a - slib_format.o\n",
      "a - slib_list.o\n",
      "a - slib_math.o\n",
      "a - slib_sys.o\n",
      "a - slib_server.o\n",
      "a - slib_str.o\n",
      "a - slib_xtr.o\n",
      "a - slib_repl.o\n",
      "a - slib_python.o\n",
      "a - io.o\n",
      "a - trace.o\n",
      "a - siod.o\n",
      "a - siod_est.o\n",
      "a - siodeditline.o\n",
      "a - el_complete.o\n",
      "a - editline.o\n",
      "a - el_sys_unix.o\n",
      "look at library estbase\n",
      "look at library eststring\n",
      "Making in directory ./rxp ...\n",
      "making dependencies -- charset.c dtd.c string16.c url.c ctype16.c input.c stdio16.c system.c xmlparser.c XML_Parser.cc \n",
      "gcc -c -O3 -Wall -DCHAR_SIZE=8 -I../include/rxp -I../include -g -O2 charset.c\n",
      "gcc -c -O3 -Wall -DCHAR_SIZE=8 -I../include/rxp -I../include -g -O2 dtd.c\n",
      "gcc -c -O3 -Wall -DCHAR_SIZE=8 -I../include/rxp -I../include -g -O2 string16.c\n",
      "gcc -c -O3 -Wall -DCHAR_SIZE=8 -I../include/rxp -I../include -g -O2 url.c\n",
      "gcc -c -O3 -Wall -DCHAR_SIZE=8 -I../include/rxp -I../include -g -O2 ctype16.c\n",
      "gcc -c -O3 -Wall -DCHAR_SIZE=8 -I../include/rxp -I../include -g -O2 input.c\n",
      "gcc -c -O3 -Wall -DCHAR_SIZE=8 -I../include/rxp -I../include -g -O2 stdio16.c\n",
      "gcc -c -O3 -Wall -DCHAR_SIZE=8 -I../include/rxp -I../include -g -O2 system.c\n",
      "gcc -c -O3 -Wall -DCHAR_SIZE=8 -I../include/rxp -I../include -g -O2 xmlparser.c\n",
      "g++ -c -fno-implicit-templates -fopenmp -DOMP_WAGON=1 -O3 -Wall -DCHAR_SIZE=8 -I../include/rxp -I../include -g -O2 -DINSTANTIATE_TEMPLATES XML_Parser.cc\n",
      "look at library estools\n",
      "look at library estbase charset.o dtd.o string16.o url.o ctype16.o input.o stdio16.o system.o xmlparser.o XML_Parser.o\n",
      "Update library estbase charset.o dtd.o string16.o url.o ctype16.o input.o stdio16.o system.o xmlparser.o XML_Parser.o\n",
      "a - charset.o\n",
      "a - dtd.o\n",
      "a - string16.o\n",
      "a - url.o\n",
      "a - ctype16.o\n",
      "a - input.o\n",
      "a - stdio16.o\n",
      "a - system.o\n",
      "a - xmlparser.o\n",
      "a - XML_Parser.o\n",
      "look at library eststring\n",
      "Making in directory ./audio ...\n",
      "making dependencies -- gen_audio.cc nas.cc esd.cc sun16audio.cc mplayer.cc win32audio.cc irixaudio.cc os2audio.cc macosxaudio.cc pulseaudio.cc linux_sound.cc \n",
      "g++ -c -fno-implicit-templates -fopenmp -DOMP_WAGON=1 -O3 -Wall -DSUPPORT_VOXWARE -I../include -g -O2 gen_audio.cc\n",
      "g++ -c -fno-implicit-templates -fopenmp -DOMP_WAGON=1 -O3 -Wall -DSUPPORT_VOXWARE -I../include -g -O2 nas.cc\n",
      "g++ -c -fno-implicit-templates -fopenmp -DOMP_WAGON=1 -O3 -Wall -DSUPPORT_VOXWARE -I../include -g -O2 esd.cc\n",
      "g++ -c -fno-implicit-templates -fopenmp -DOMP_WAGON=1 -O3 -Wall -DSUPPORT_VOXWARE -I../include -g -O2 sun16audio.cc\n",
      "g++ -c -fno-implicit-templates -fopenmp -DOMP_WAGON=1 -O3 -Wall -DSUPPORT_VOXWARE -I../include -g -O2 mplayer.cc\n",
      "g++ -c -fno-implicit-templates -fopenmp -DOMP_WAGON=1 -O3 -Wall -DSUPPORT_VOXWARE -I../include -g -O2 win32audio.cc\n",
      "g++ -c -fno-implicit-templates -fopenmp -DOMP_WAGON=1 -O3 -Wall -DSUPPORT_VOXWARE -I../include -g -O2 irixaudio.cc\n",
      "g++ -c -fno-implicit-templates -fopenmp -DOMP_WAGON=1 -O3 -Wall -DSUPPORT_VOXWARE -I../include -g -O2 os2audio.cc\n",
      "g++ -c -fno-implicit-templates -fopenmp -DOMP_WAGON=1 -O3 -Wall -DSUPPORT_VOXWARE -I../include -g -O2 macosxaudio.cc\n",
      "g++ -c -fno-implicit-templates -fopenmp -DOMP_WAGON=1 -O3 -Wall -DSUPPORT_VOXWARE -I../include -g -O2 pulseaudio.cc\n",
      "g++ -c -fno-implicit-templates -fopenmp -DOMP_WAGON=1 -O3 -Wall -DSUPPORT_VOXWARE -I../include -g -O2 linux_sound.cc\n",
      "look at library estools\n",
      "look at library estbase gen_audio.o nas.o esd.o sun16audio.o mplayer.o win32audio.o irixaudio.o os2audio.o macosxaudio.o pulseaudio.o linux_sound.o\n",
      "Update library estbase gen_audio.o nas.o esd.o sun16audio.o mplayer.o win32audio.o irixaudio.o os2audio.o macosxaudio.o pulseaudio.o linux_sound.o\n",
      "a - gen_audio.o\n",
      "a - nas.o\n",
      "a - esd.o\n",
      "a - sun16audio.o\n",
      "a - mplayer.o\n",
      "a - win32audio.o\n",
      "a - irixaudio.o\n",
      "a - os2audio.o\n",
      "a - macosxaudio.o\n",
      "a - pulseaudio.o\n",
      "a - linux_sound.o\n",
      "look at library eststring\n",
      "Making in directory ./utils ...\n",
      "making dependencies -- cmd_line.cc util_io.cc filetrans.cc cmd_line_aux.cc EST_swapping.cc est_file.cc EST_cutils.c EST_error.c walloc.c system_specific_unix.c \n",
      "g++ -c -fno-implicit-templates -fopenmp -DOMP_WAGON=1 -O3 -Wall -I../include -g -O2 cmd_line.cc\n",
      "g++ -c -fno-implicit-templates -fopenmp -DOMP_WAGON=1 -O3 -Wall -I../include -g -O2 util_io.cc\n",
      "g++ -c -fno-implicit-templates -fopenmp -DOMP_WAGON=1 -O3 -Wall -I../include -g -O2 filetrans.cc\n",
      "g++ -c -fno-implicit-templates -fopenmp -DOMP_WAGON=1 -O3 -Wall -I../include -g -O2 cmd_line_aux.cc\n",
      "g++ -c -fno-implicit-templates -fopenmp -DOMP_WAGON=1 -O3 -Wall -I../include -g -O2 EST_swapping.cc\n",
      "g++ -c -fno-implicit-templates -fopenmp -DOMP_WAGON=1 -O3 -Wall -I../include -g -O2 -DINSTANTIATE_TEMPLATES est_file.cc\n",
      "gcc -c   -O3 -Wall           -I../include   -g -O2 -DESTNAME='Edinburgh Speech Tools Library' -DESTDATE='July 2020' -DESTVERSION='2.5.1' -DESTLIBDIRC='/home/ec2-user/SageMaker/espnet/tools/speech_tools/lib' -DESTSTATE='current' -DESTOSTYPE='unknown_Linux' EST_cutils.c\n",
      "gcc -c -O3 -Wall -I../include -g -O2 EST_error.c\n",
      "gcc -c -O3 -Wall -I../include -g -O2 walloc.c\n",
      "gcc -c -O3 -Wall -I../include -g -O2 system_specific_unix.c\n",
      "look at library estools\n",
      "look at library estbase cmd_line.o util_io.o filetrans.o cmd_line_aux.o EST_swapping.o est_file.o EST_cutils.o EST_error.o walloc.o system_specific_unix.o\n",
      "Update library estbase cmd_line.o util_io.o filetrans.o cmd_line_aux.o EST_swapping.o est_file.o EST_cutils.o EST_error.o walloc.o system_specific_unix.o\n",
      "a - cmd_line.o\n",
      "a - util_io.o\n",
      "a - filetrans.o\n",
      "a - cmd_line_aux.o\n",
      "a - EST_swapping.o\n",
      "a - est_file.o\n",
      "a - EST_cutils.o\n",
      "a - EST_error.o\n",
      "a - walloc.o\n",
      "a - system_specific_unix.o\n",
      "look at library eststring walloc.o\n",
      "Update library eststring walloc.o\n",
      "a - walloc.o\n",
      "Making in directory ./base_class ...\n",
      "making dependencies -- EST_UList.cc EST_Option.cc EST_StringTrie.cc EST_Token.cc vec_mat_aux.cc EST_Pathname_unix.cc THash_aux.cc EST_FMatrix.cc EST_Complex.cc EST_Val.cc EST_matrix_support.cc rateconv.cc EST_IMatrix.cc EST_SMatrix.cc EST_DMatrix.cc vec_mat_aux_d.cc EST_FeatureData.cc EST_slist_aux.cc EST_svec_aux.cc EST_ilist_aux.cc EST_features_aux.cc EST_features_io.cc vec_mat_aux_i.cc EST_Featured.cc EST_Features.cc \n",
      "g++ -c -fno-implicit-templates -fopenmp -DOMP_WAGON=1 -O3 -Wall -I../include -g -O2 EST_UList.cc\n",
      "g++ -c -fno-implicit-templates -fopenmp -DOMP_WAGON=1 -O3 -Wall -I../include -g -O2 EST_Option.cc\n",
      "g++ -c -fno-implicit-templates -fopenmp -DOMP_WAGON=1 -O3 -Wall -I../include -g -O2 EST_StringTrie.cc\n",
      "g++ -c -fno-implicit-templates -fopenmp -DOMP_WAGON=1 -O3 -Wall -I../include -g -O2 EST_Token.cc\n",
      "g++ -c -fno-implicit-templates -fopenmp -DOMP_WAGON=1 -O3 -Wall -I../include -g -O2 vec_mat_aux.cc\n",
      "g++ -c -fno-implicit-templates -fopenmp -DOMP_WAGON=1 -O3 -Wall -I../include -g -O2 EST_Pathname_unix.cc\n",
      "g++ -c -fno-implicit-templates -fopenmp -DOMP_WAGON=1 -O3 -Wall -I../include -g -O2 THash_aux.cc\n",
      "g++ -c -fno-implicit-templates -fopenmp -DOMP_WAGON=1 -O3 -Wall -I../include -g -O2 EST_FMatrix.cc\n",
      "g++ -c -fno-implicit-templates -fopenmp -DOMP_WAGON=1 -O3 -Wall -I../include -g -O2 EST_Complex.cc\n",
      "g++ -c -fno-implicit-templates -fopenmp -DOMP_WAGON=1 -O3 -Wall -I../include -g -O2 EST_Val.cc\n",
      "g++ -c -fno-implicit-templates -fopenmp -DOMP_WAGON=1 -O3 -Wall -I../include -g -O2 EST_matrix_support.cc\n",
      "g++ -c  -fno-implicit-templates  -fopenmp -DOMP_WAGON=1 -O3 -Wall           -I../include      -g -O2 -O3 rateconv.cc -o rateconv.o\n",
      "g++ -c -fno-implicit-templates -fopenmp -DOMP_WAGON=1 -O3 -Wall -I../include -g -O2 EST_IMatrix.cc\n",
      "g++ -c -fno-implicit-templates -fopenmp -DOMP_WAGON=1 -O3 -Wall -I../include -g -O2 EST_SMatrix.cc\n",
      "g++ -c -fno-implicit-templates -fopenmp -DOMP_WAGON=1 -O3 -Wall -I../include -g -O2 EST_DMatrix.cc\n",
      "g++ -c -fno-implicit-templates -fopenmp -DOMP_WAGON=1 -O3 -Wall -I../include -g -O2 vec_mat_aux_d.cc\n",
      "g++ -c -fno-implicit-templates -fopenmp -DOMP_WAGON=1 -O3 -Wall -I../include -g -O2 EST_FeatureData.cc\n",
      "g++ -c -fno-implicit-templates -fopenmp -DOMP_WAGON=1 -O3 -Wall -I../include -g -O2 EST_slist_aux.cc\n",
      "g++ -c -fno-implicit-templates -fopenmp -DOMP_WAGON=1 -O3 -Wall -I../include -g -O2 EST_svec_aux.cc\n",
      "g++ -c -fno-implicit-templates -fopenmp -DOMP_WAGON=1 -O3 -Wall -I../include -g -O2 EST_ilist_aux.cc\n",
      "g++ -c -fno-implicit-templates -fopenmp -DOMP_WAGON=1 -O3 -Wall -I../include -g -O2 EST_features_aux.cc\n",
      "g++ -c -fno-implicit-templates -fopenmp -DOMP_WAGON=1 -O3 -Wall -I../include -g -O2 EST_features_io.cc\n",
      "g++ -c -fno-implicit-templates -fopenmp -DOMP_WAGON=1 -O3 -Wall -I../include -g -O2 vec_mat_aux_i.cc\n",
      "g++ -c -fno-implicit-templates -fopenmp -DOMP_WAGON=1 -O3 -Wall -I../include -g -O2 -DINSTANTIATE_TEMPLATES EST_Featured.cc\n",
      "g++ -c -fno-implicit-templates -fopenmp -DOMP_WAGON=1 -O3 -Wall -I../include -g -O2 -DINSTANTIATE_TEMPLATES EST_Features.cc\n",
      "look at library estools\n",
      "look at library estbase EST_UList.o EST_Option.o EST_StringTrie.o EST_Token.o vec_mat_aux.o EST_Pathname_unix.o THash_aux.o EST_FMatrix.o EST_Complex.o EST_Val.o EST_matrix_support.o rateconv.o EST_IMatrix.o EST_SMatrix.o EST_DMatrix.o vec_mat_aux_d.o EST_FeatureData.o EST_slist_aux.o EST_svec_aux.o EST_ilist_aux.o EST_features_aux.o EST_features_io.o vec_mat_aux_i.o EST_Featured.o EST_Features.o\n",
      "Update library estbase EST_UList.o EST_Option.o EST_StringTrie.o EST_Token.o vec_mat_aux.o EST_Pathname_unix.o THash_aux.o EST_FMatrix.o EST_Complex.o EST_Val.o EST_matrix_support.o rateconv.o EST_IMatrix.o EST_SMatrix.o EST_DMatrix.o vec_mat_aux_d.o EST_FeatureData.o EST_slist_aux.o EST_svec_aux.o EST_ilist_aux.o EST_features_aux.o EST_features_io.o vec_mat_aux_i.o EST_Featured.o EST_Features.o\n",
      "a - EST_UList.o\n",
      "a - EST_Option.o\n",
      "a - EST_StringTrie.o\n",
      "a - EST_Token.o\n",
      "a - vec_mat_aux.o\n",
      "a - EST_Pathname_unix.o\n",
      "a - THash_aux.o\n",
      "a - EST_FMatrix.o\n",
      "a - EST_Complex.o\n",
      "a - EST_Val.o\n",
      "a - EST_matrix_support.o\n",
      "a - rateconv.o\n",
      "a - EST_IMatrix.o\n",
      "a - EST_SMatrix.o\n",
      "a - EST_DMatrix.o\n",
      "a - vec_mat_aux_d.o\n",
      "a - EST_FeatureData.o\n",
      "a - EST_slist_aux.o\n",
      "a - EST_svec_aux.o\n",
      "a - EST_ilist_aux.o\n",
      "a - EST_features_aux.o\n",
      "a - EST_features_io.o\n",
      "a - vec_mat_aux_i.o\n",
      "a - EST_Featured.o\n",
      "a - EST_Features.o\n",
      "look at library eststring\n",
      "Making in directory base_class/string ...\n",
      "making dependencies -- EST_String.cc EST_Regex.cc EST_Chunk.cc regexp.cc regerror.c regsub.c EST_strcasecmp.c \n",
      "g++ -c -fno-implicit-templates -fopenmp -DOMP_WAGON=1 -O3 -Wall -I. -I../../include -g -O2 EST_String.cc\n",
      "g++ -c -fno-implicit-templates -fopenmp -DOMP_WAGON=1 -O3 -Wall -I. -I../../include -g -O2 EST_Regex.cc\n",
      "g++ -c -fno-implicit-templates -fopenmp -DOMP_WAGON=1 -O3 -Wall -I. -I../../include -g -O2 EST_Chunk.cc\n",
      "g++ -c -fno-implicit-templates -fopenmp -DOMP_WAGON=1 -O3 -Wall -I. -I../../include -g -O2 regexp.cc\n",
      "gcc -c -O3 -Wall -I. -I../../include -g -O2 regerror.c\n",
      "gcc -c -O3 -Wall -I. -I../../include -g -O2 regsub.c\n",
      "gcc -c -O3 -Wall -I. -I../../include -g -O2 EST_strcasecmp.c\n",
      "look at library estools\n",
      "look at library estbase\n",
      "look at library eststring EST_String.o EST_Regex.o EST_Chunk.o regexp.o regerror.o regsub.o EST_strcasecmp.o\n",
      "Update library eststring EST_String.o EST_Regex.o EST_Chunk.o regexp.o regerror.o regsub.o EST_strcasecmp.o\n",
      "a - EST_String.o\n",
      "a - EST_Regex.o\n",
      "a - EST_Chunk.o\n",
      "a - regexp.o\n",
      "a - regerror.o\n",
      "a - regsub.o\n",
      "a - EST_strcasecmp.o\n",
      "Making in directory base_class/inst_tmpl ...\n",
      "making dependencies -- list_i_t.cc list_si_t.cc list_f_t.cc list_d_t.cc list_c_t.cc list_s_t.cc list_val_t.cc list_li_t.cc list_vs_t.cc list_vi_t.cc matrix_i_t.cc matrix_si_t.cc matrix_f_t.cc matrix_d_t.cc matrix_s_t.cc matrix_val_t.cc vector_i_t.cc vector_si_t.cc vector_f_t.cc vector_d_t.cc vector_c_t.cc vector_s_t.cc vector_val_t.cc vector_ls_t.cc vector_fvector_t.cc vector_fmatrix_t.cc vector_dvector_t.cc vector_dmatrix_t.cc kvl_fi_t.cc kvl_ii_t.cc kvl_sd_t.cc kvl_sf_t.cc kvl_ss_t.cc kvl_si_t.cc kvl_sv_t.cc kvl_rs_t.cc kvl_vpi_t.cc hash_fi_t.cc hash_ii_t.cc hash_sd_t.cc hash_sf_t.cc hash_ss_t.cc hash_si_t.cc hash_sv_t.cc hash_iv_t.cc hash_sfmp_t.cc hash_srp.cc tbuffer_t.cc deq_s_t.cc deq_i_t.cc \n",
      "g++ -c -fno-implicit-templates -fopenmp -DOMP_WAGON=1 -O3 -Wall -I../../include -g -O2 -DINSTANTIATE_TEMPLATES list_i_t.cc\n",
      "g++ -c -fno-implicit-templates -fopenmp -DOMP_WAGON=1 -O3 -Wall -I../../include -g -O2 -DINSTANTIATE_TEMPLATES list_si_t.cc\n",
      "g++ -c -fno-implicit-templates -fopenmp -DOMP_WAGON=1 -O3 -Wall -I../../include -g -O2 -DINSTANTIATE_TEMPLATES list_f_t.cc\n",
      "g++ -c -fno-implicit-templates -fopenmp -DOMP_WAGON=1 -O3 -Wall -I../../include -g -O2 -DINSTANTIATE_TEMPLATES list_d_t.cc\n",
      "g++ -c -fno-implicit-templates -fopenmp -DOMP_WAGON=1 -O3 -Wall -I../../include -g -O2 -DINSTANTIATE_TEMPLATES list_c_t.cc\n",
      "g++ -c -fno-implicit-templates -fopenmp -DOMP_WAGON=1 -O3 -Wall -I../../include -g -O2 -DINSTANTIATE_TEMPLATES list_s_t.cc\n",
      "g++ -c -fno-implicit-templates -fopenmp -DOMP_WAGON=1 -O3 -Wall -I../../include -g -O2 -DINSTANTIATE_TEMPLATES list_val_t.cc\n",
      "g++ -c -fno-implicit-templates -fopenmp -DOMP_WAGON=1 -O3 -Wall -I../../include -g -O2 -DINSTANTIATE_TEMPLATES list_li_t.cc\n",
      "g++ -c -fno-implicit-templates -fopenmp -DOMP_WAGON=1 -O3 -Wall -I../../include -g -O2 -DINSTANTIATE_TEMPLATES list_vs_t.cc\n",
      "g++ -c -fno-implicit-templates -fopenmp -DOMP_WAGON=1 -O3 -Wall -I../../include -g -O2 -DINSTANTIATE_TEMPLATES list_vi_t.cc\n",
      "g++ -c -fno-implicit-templates -fopenmp -DOMP_WAGON=1 -O3 -Wall -I../../include -g -O2 -DINSTANTIATE_TEMPLATES matrix_i_t.cc\n",
      "g++ -c -fno-implicit-templates -fopenmp -DOMP_WAGON=1 -O3 -Wall -I../../include -g -O2 -DINSTANTIATE_TEMPLATES matrix_si_t.cc\n",
      "g++ -c -fno-implicit-templates -fopenmp -DOMP_WAGON=1 -O3 -Wall -I../../include -g -O2 -DINSTANTIATE_TEMPLATES matrix_f_t.cc\n",
      "g++ -c -fno-implicit-templates -fopenmp -DOMP_WAGON=1 -O3 -Wall -I../../include -g -O2 -DINSTANTIATE_TEMPLATES matrix_d_t.cc\n",
      "g++ -c -fno-implicit-templates -fopenmp -DOMP_WAGON=1 -O3 -Wall -I../../include -g -O2 -DINSTANTIATE_TEMPLATES matrix_s_t.cc\n",
      "g++ -c -fno-implicit-templates -fopenmp -DOMP_WAGON=1 -O3 -Wall -I../../include -g -O2 -DINSTANTIATE_TEMPLATES matrix_val_t.cc\n",
      "g++ -c -fno-implicit-templates -fopenmp -DOMP_WAGON=1 -O3 -Wall -I../../include -g -O2 -DINSTANTIATE_TEMPLATES vector_i_t.cc\n",
      "g++ -c -fno-implicit-templates -fopenmp -DOMP_WAGON=1 -O3 -Wall -I../../include -g -O2 -DINSTANTIATE_TEMPLATES vector_si_t.cc\n",
      "g++ -c -fno-implicit-templates -fopenmp -DOMP_WAGON=1 -O3 -Wall -I../../include -g -O2 -DINSTANTIATE_TEMPLATES vector_f_t.cc\n",
      "g++ -c -fno-implicit-templates -fopenmp -DOMP_WAGON=1 -O3 -Wall -I../../include -g -O2 -DINSTANTIATE_TEMPLATES vector_d_t.cc\n",
      "g++ -c -fno-implicit-templates -fopenmp -DOMP_WAGON=1 -O3 -Wall -I../../include -g -O2 -DINSTANTIATE_TEMPLATES vector_c_t.cc\n",
      "g++ -c -fno-implicit-templates -fopenmp -DOMP_WAGON=1 -O3 -Wall -I../../include -g -O2 -DINSTANTIATE_TEMPLATES vector_s_t.cc\n",
      "g++ -c -fno-implicit-templates -fopenmp -DOMP_WAGON=1 -O3 -Wall -I../../include -g -O2 -DINSTANTIATE_TEMPLATES vector_val_t.cc\n",
      "g++ -c -fno-implicit-templates -fopenmp -DOMP_WAGON=1 -O3 -Wall -I../../include -g -O2 -DINSTANTIATE_TEMPLATES vector_ls_t.cc\n",
      "g++ -c -fno-implicit-templates -fopenmp -DOMP_WAGON=1 -O3 -Wall -I../../include -g -O2 -DINSTANTIATE_TEMPLATES vector_fvector_t.cc\n",
      "g++ -c -fno-implicit-templates -fopenmp -DOMP_WAGON=1 -O3 -Wall -I../../include -g -O2 -DINSTANTIATE_TEMPLATES vector_fmatrix_t.cc\n",
      "g++ -c -fno-implicit-templates -fopenmp -DOMP_WAGON=1 -O3 -Wall -I../../include -g -O2 -DINSTANTIATE_TEMPLATES vector_dvector_t.cc\n",
      "g++ -c -fno-implicit-templates -fopenmp -DOMP_WAGON=1 -O3 -Wall -I../../include -g -O2 -DINSTANTIATE_TEMPLATES vector_dmatrix_t.cc\n",
      "g++ -c -fno-implicit-templates -fopenmp -DOMP_WAGON=1 -O3 -Wall -I../../include -g -O2 -DINSTANTIATE_TEMPLATES kvl_fi_t.cc\n",
      "g++ -c -fno-implicit-templates -fopenmp -DOMP_WAGON=1 -O3 -Wall -I../../include -g -O2 -DINSTANTIATE_TEMPLATES kvl_ii_t.cc\n",
      "g++ -c -fno-implicit-templates -fopenmp -DOMP_WAGON=1 -O3 -Wall -I../../include -g -O2 -DINSTANTIATE_TEMPLATES kvl_sd_t.cc\n",
      "g++ -c -fno-implicit-templates -fopenmp -DOMP_WAGON=1 -O3 -Wall -I../../include -g -O2 -DINSTANTIATE_TEMPLATES kvl_sf_t.cc\n",
      "g++ -c -fno-implicit-templates -fopenmp -DOMP_WAGON=1 -O3 -Wall -I../../include -g -O2 -DINSTANTIATE_TEMPLATES kvl_ss_t.cc\n",
      "g++ -c -fno-implicit-templates -fopenmp -DOMP_WAGON=1 -O3 -Wall -I../../include -g -O2 -DINSTANTIATE_TEMPLATES kvl_si_t.cc\n",
      "g++ -c -fno-implicit-templates -fopenmp -DOMP_WAGON=1 -O3 -Wall -I../../include -g -O2 -DINSTANTIATE_TEMPLATES kvl_sv_t.cc\n",
      "g++ -c -fno-implicit-templates -fopenmp -DOMP_WAGON=1 -O3 -Wall -I../../include -g -O2 -DINSTANTIATE_TEMPLATES kvl_rs_t.cc\n",
      "g++ -c -fno-implicit-templates -fopenmp -DOMP_WAGON=1 -O3 -Wall -I../../include -g -O2 -DINSTANTIATE_TEMPLATES kvl_vpi_t.cc\n",
      "g++ -c -fno-implicit-templates -fopenmp -DOMP_WAGON=1 -O3 -Wall -I../../include -g -O2 -DINSTANTIATE_TEMPLATES hash_fi_t.cc\n",
      "g++ -c -fno-implicit-templates -fopenmp -DOMP_WAGON=1 -O3 -Wall -I../../include -g -O2 -DINSTANTIATE_TEMPLATES hash_ii_t.cc\n",
      "g++ -c -fno-implicit-templates -fopenmp -DOMP_WAGON=1 -O3 -Wall -I../../include -g -O2 -DINSTANTIATE_TEMPLATES hash_sd_t.cc\n",
      "g++ -c -fno-implicit-templates -fopenmp -DOMP_WAGON=1 -O3 -Wall -I../../include -g -O2 -DINSTANTIATE_TEMPLATES hash_sf_t.cc\n",
      "g++ -c -fno-implicit-templates -fopenmp -DOMP_WAGON=1 -O3 -Wall -I../../include -g -O2 -DINSTANTIATE_TEMPLATES hash_ss_t.cc\n",
      "g++ -c -fno-implicit-templates -fopenmp -DOMP_WAGON=1 -O3 -Wall -I../../include -g -O2 -DINSTANTIATE_TEMPLATES hash_si_t.cc\n",
      "g++ -c -fno-implicit-templates -fopenmp -DOMP_WAGON=1 -O3 -Wall -I../../include -g -O2 -DINSTANTIATE_TEMPLATES hash_sv_t.cc\n",
      "g++ -c -fno-implicit-templates -fopenmp -DOMP_WAGON=1 -O3 -Wall -I../../include -g -O2 -DINSTANTIATE_TEMPLATES hash_iv_t.cc\n",
      "g++ -c -fno-implicit-templates -fopenmp -DOMP_WAGON=1 -O3 -Wall -I../../include -g -O2 -DINSTANTIATE_TEMPLATES hash_sfmp_t.cc\n",
      "g++ -c -fno-implicit-templates -fopenmp -DOMP_WAGON=1 -O3 -Wall -I../../include -g -O2 -DINSTANTIATE_TEMPLATES hash_srp.cc\n",
      "g++ -c -fno-implicit-templates -fopenmp -DOMP_WAGON=1 -O3 -Wall -I../../include -g -O2 -DINSTANTIATE_TEMPLATES tbuffer_t.cc\n",
      "g++ -c -fno-implicit-templates -fopenmp -DOMP_WAGON=1 -O3 -Wall -I../../include -g -O2 -DINSTANTIATE_TEMPLATES deq_s_t.cc\n",
      "g++ -c -fno-implicit-templates -fopenmp -DOMP_WAGON=1 -O3 -Wall -I../../include -g -O2 -DINSTANTIATE_TEMPLATES deq_i_t.cc\n",
      "look at library estools\n",
      "look at library estbase list_i_t.o list_si_t.o list_f_t.o list_d_t.o list_c_t.o list_s_t.o list_val_t.o list_li_t.o list_vs_t.o list_vi_t.o matrix_i_t.o matrix_si_t.o matrix_f_t.o matrix_d_t.o matrix_s_t.o matrix_val_t.o vector_i_t.o vector_si_t.o vector_f_t.o vector_d_t.o vector_c_t.o vector_s_t.o vector_val_t.o vector_ls_t.o vector_fvector_t.o vector_fmatrix_t.o vector_dvector_t.o vector_dmatrix_t.o kvl_fi_t.o kvl_ii_t.o kvl_sd_t.o kvl_sf_t.o kvl_ss_t.o kvl_si_t.o kvl_sv_t.o kvl_rs_t.o kvl_vpi_t.o hash_fi_t.o hash_ii_t.o hash_sd_t.o hash_sf_t.o hash_ss_t.o hash_si_t.o hash_sv_t.o hash_iv_t.o hash_sfmp_t.o hash_srp.o tbuffer_t.o deq_s_t.o deq_i_t.o\n",
      "Update library estbase list_i_t.o list_si_t.o list_f_t.o list_d_t.o list_c_t.o list_s_t.o list_val_t.o list_li_t.o list_vs_t.o list_vi_t.o matrix_i_t.o matrix_si_t.o matrix_f_t.o matrix_d_t.o matrix_s_t.o matrix_val_t.o vector_i_t.o vector_si_t.o vector_f_t.o vector_d_t.o vector_c_t.o vector_s_t.o vector_val_t.o vector_ls_t.o vector_fvector_t.o vector_fmatrix_t.o vector_dvector_t.o vector_dmatrix_t.o kvl_fi_t.o kvl_ii_t.o kvl_sd_t.o kvl_sf_t.o kvl_ss_t.o kvl_si_t.o kvl_sv_t.o kvl_rs_t.o kvl_vpi_t.o hash_fi_t.o hash_ii_t.o hash_sd_t.o hash_sf_t.o hash_ss_t.o hash_si_t.o hash_sv_t.o hash_iv_t.o hash_sfmp_t.o hash_srp.o tbuffer_t.o deq_s_t.o deq_i_t.o\n",
      "a - list_i_t.o\n",
      "a - list_si_t.o\n",
      "a - list_f_t.o\n",
      "a - list_d_t.o\n",
      "a - list_c_t.o\n",
      "a - list_s_t.o\n",
      "a - list_val_t.o\n",
      "a - list_li_t.o\n",
      "a - list_vs_t.o\n",
      "a - list_vi_t.o\n",
      "a - matrix_i_t.o\n",
      "a - matrix_si_t.o\n",
      "a - matrix_f_t.o\n",
      "a - matrix_d_t.o\n",
      "a - matrix_s_t.o\n",
      "a - matrix_val_t.o\n",
      "a - vector_i_t.o\n",
      "a - vector_si_t.o\n",
      "a - vector_f_t.o\n",
      "a - vector_d_t.o\n",
      "a - vector_c_t.o\n",
      "a - vector_s_t.o\n",
      "a - vector_val_t.o\n",
      "a - vector_ls_t.o\n",
      "a - vector_fvector_t.o\n",
      "a - vector_fmatrix_t.o\n",
      "a - vector_dvector_t.o\n",
      "a - vector_dmatrix_t.o\n",
      "a - kvl_fi_t.o\n",
      "a - kvl_ii_t.o\n",
      "a - kvl_sd_t.o\n",
      "a - kvl_sf_t.o\n",
      "a - kvl_ss_t.o\n",
      "a - kvl_si_t.o\n",
      "a - kvl_sv_t.o\n",
      "a - kvl_rs_t.o\n",
      "a - kvl_vpi_t.o\n",
      "a - hash_fi_t.o\n",
      "a - hash_ii_t.o\n",
      "a - hash_sd_t.o\n",
      "a - hash_sf_t.o\n",
      "a - hash_ss_t.o\n",
      "a - hash_si_t.o\n",
      "a - hash_sv_t.o\n",
      "a - hash_iv_t.o\n",
      "a - hash_sfmp_t.o\n",
      "a - hash_srp.o\n",
      "a - tbuffer_t.o\n",
      "a - deq_s_t.o\n",
      "a - deq_i_t.o\n",
      "look at library eststring\n",
      "Making in directory ./ling_class ...\n",
      "making dependencies -- EST_Item.cc EST_Item_Content.cc item_aux.cc EST_relation_aux.cc EST_relation_track.cc relation_io.cc EST_relation_compare.cc standard_feature_functions.cc EST_Relation_mls.cc EST_item_aux.cc EST_item_content_aux.cc EST_Relation.cc EST_UtteranceFile.cc genxml.cc EST_utterance_aux.cc ling_class_init.cc ling_t.cc EST_Utterance.cc item_feats.cc apml.cc solexml.cc EST_FeatureFunctionPackage.cc EST_FeatureFunctionContext.cc \n",
      "g++ -c -fno-implicit-templates -fopenmp -DOMP_WAGON=1 -O3 -Wall -I../include -g -O2 EST_Item.cc\n",
      "g++ -c -fno-implicit-templates -fopenmp -DOMP_WAGON=1 -O3 -Wall -I../include -g -O2 EST_Item_Content.cc\n",
      "g++ -c -fno-implicit-templates -fopenmp -DOMP_WAGON=1 -O3 -Wall -I../include -g -O2 item_aux.cc\n",
      "g++ -c -fno-implicit-templates -fopenmp -DOMP_WAGON=1 -O3 -Wall -I../include -g -O2 EST_relation_aux.cc\n",
      "g++ -c -fno-implicit-templates -fopenmp -DOMP_WAGON=1 -O3 -Wall -I../include -g -O2 EST_relation_track.cc\n",
      "g++ -c -fno-implicit-templates -fopenmp -DOMP_WAGON=1 -O3 -Wall -I../include -g -O2 relation_io.cc\n",
      "g++ -c -fno-implicit-templates -fopenmp -DOMP_WAGON=1 -O3 -Wall -I../include -g -O2 EST_relation_compare.cc\n",
      "g++ -c -fno-implicit-templates -fopenmp -DOMP_WAGON=1 -O3 -Wall -I../include -g -O2 standard_feature_functions.cc\n",
      "g++ -c -fno-implicit-templates -fopenmp -DOMP_WAGON=1 -O3 -Wall -I../include -g -O2 EST_Relation_mls.cc\n",
      "g++ -c -fno-implicit-templates -fopenmp -DOMP_WAGON=1 -O3 -Wall -I../include -g -O2 EST_item_aux.cc\n",
      "g++ -c -fno-implicit-templates -fopenmp -DOMP_WAGON=1 -O3 -Wall -I../include -g -O2 EST_item_content_aux.cc\n",
      "g++ -c -fno-implicit-templates -fopenmp -DOMP_WAGON=1 -O3 -Wall -I../include -g -O2 EST_Relation.cc\n",
      "g++ -c -fno-implicit-templates -fopenmp -DOMP_WAGON=1 -O3 -Wall -I../include -g -O2 -DINSTANTIATE_TEMPLATES -DINCLUDE_XML_FORMATS EST_UtteranceFile.cc\n",
      "g++ -c -fno-implicit-templates -fopenmp -DOMP_WAGON=1 -O3 -Wall -I../include -g -O2 -DINSTANTIATE_TEMPLATES -DESTLIBDIRC='/home/ec2-user/SageMaker/espnet/tools/speech_tools/lib' genxml.cc\n",
      "g++ -c -fno-implicit-templates -fopenmp -DOMP_WAGON=1 -O3 -Wall -I../include -g -O2 -DINSTANTIATE_TEMPLATES -DINCLUDE_XML_FORMATS EST_utterance_aux.cc\n",
      "g++ -c -fno-implicit-templates -fopenmp -DOMP_WAGON=1 -O3 -Wall -I../include -g -O2 -DINSTANTIATE_TEMPLATES -DINCLUDE_XML_FORMATS ling_class_init.cc\n",
      "g++ -c -fno-implicit-templates -fopenmp -DOMP_WAGON=1 -O3 -Wall -I../include -g -O2 -DINSTANTIATE_TEMPLATES ling_t.cc\n",
      "g++ -c -fno-implicit-templates -fopenmp -DOMP_WAGON=1 -O3 -Wall -I../include -g -O2 -DINSTANTIATE_TEMPLATES EST_Utterance.cc\n",
      "g++ -c -fno-implicit-templates -fopenmp -DOMP_WAGON=1 -O3 -Wall -I../include -g -O2 -DINSTANTIATE_TEMPLATES item_feats.cc\n",
      "g++ -c -fno-implicit-templates -fopenmp -DOMP_WAGON=1 -O3 -Wall -I../include -g -O2 -DINSTANTIATE_TEMPLATES apml.cc\n",
      "g++ -c -fno-implicit-templates -fopenmp -DOMP_WAGON=1 -O3 -Wall -I../include -g -O2 -DINSTANTIATE_TEMPLATES solexml.cc\n",
      "g++ -c -fno-implicit-templates -fopenmp -DOMP_WAGON=1 -O3 -Wall -I../include -g -O2 -DINSTANTIATE_TEMPLATES EST_FeatureFunctionPackage.cc\n",
      "g++ -c -fno-implicit-templates -fopenmp -DOMP_WAGON=1 -O3 -Wall -I../include -g -O2 -DINSTANTIATE_TEMPLATES EST_FeatureFunctionContext.cc\n",
      "look at library estools\n",
      "look at library estbase EST_Item.o EST_Item_Content.o item_aux.o EST_relation_aux.o EST_relation_track.o relation_io.o EST_relation_compare.o standard_feature_functions.o EST_Relation_mls.o EST_item_aux.o EST_item_content_aux.o EST_Relation.o EST_UtteranceFile.o genxml.o EST_utterance_aux.o ling_class_init.o ling_t.o EST_Utterance.o item_feats.o apml.o solexml.o EST_FeatureFunctionPackage.o EST_FeatureFunctionContext.o\n",
      "Update library estbase EST_Item.o EST_Item_Content.o item_aux.o EST_relation_aux.o EST_relation_track.o relation_io.o EST_relation_compare.o standard_feature_functions.o EST_Relation_mls.o EST_item_aux.o EST_item_content_aux.o EST_Relation.o EST_UtteranceFile.o genxml.o EST_utterance_aux.o ling_class_init.o ling_t.o EST_Utterance.o item_feats.o apml.o solexml.o EST_FeatureFunctionPackage.o EST_FeatureFunctionContext.o\n",
      "a - EST_Item.o\n",
      "a - EST_Item_Content.o\n",
      "a - item_aux.o\n",
      "a - EST_relation_aux.o\n",
      "a - EST_relation_track.o\n",
      "a - relation_io.o\n",
      "a - EST_relation_compare.o\n",
      "a - standard_feature_functions.o\n",
      "a - EST_Relation_mls.o\n",
      "a - EST_item_aux.o\n",
      "a - EST_item_content_aux.o\n",
      "a - EST_Relation.o\n",
      "a - EST_UtteranceFile.o\n",
      "a - genxml.o\n",
      "a - EST_utterance_aux.o\n",
      "a - ling_class_init.o\n",
      "a - ling_t.o\n",
      "a - EST_Utterance.o\n",
      "a - item_feats.o\n",
      "a - apml.o\n",
      "a - solexml.o\n",
      "a - EST_FeatureFunctionPackage.o\n",
      "a - EST_FeatureFunctionContext.o\n",
      "look at library eststring\n",
      "Making in directory ./speech_class ...\n",
      "making dependencies -- EST_Wave.cc EST_track_aux.cc EST_wave_temp.cc EST_wave_cuts.cc ssff.cc esps_io.cc esps_utils.cc EST_wave_io.cc EST_wave_utils.cc EST_TrackMap.cc EST_Track.cc wave_t.cc track_t.cc EST_wave_aux.cc EST_TrackFile.cc EST_WaveFile.cc \n",
      "g++ -c -fno-implicit-templates -fopenmp -DOMP_WAGON=1 -O3 -Wall -I../include -g -O2 EST_Wave.cc\n",
      "g++ -c -fno-implicit-templates -fopenmp -DOMP_WAGON=1 -O3 -Wall -I../include -g -O2 EST_track_aux.cc\n",
      "g++ -c -fno-implicit-templates -fopenmp -DOMP_WAGON=1 -O3 -Wall -I../include -g -O2 EST_wave_temp.cc\n",
      "g++ -c -fno-implicit-templates -fopenmp -DOMP_WAGON=1 -O3 -Wall -I../include -g -O2 EST_wave_cuts.cc\n",
      "g++ -c -fno-implicit-templates -fopenmp -DOMP_WAGON=1 -O3 -Wall -I../include -g -O2 ssff.cc\n",
      "g++ -c -fno-implicit-templates -fopenmp -DOMP_WAGON=1 -O3 -Wall -I../include -g -O2 esps_io.cc\n",
      "g++ -c -fno-implicit-templates -fopenmp -DOMP_WAGON=1 -O3 -Wall -I../include -g -O2 esps_utils.cc\n",
      "g++ -c -fno-implicit-templates -fopenmp -DOMP_WAGON=1 -O3 -Wall -I../include -g -O2 EST_wave_io.cc\n",
      "g++ -c -fno-implicit-templates -fopenmp -DOMP_WAGON=1 -O3 -Wall -I../include -g -O2 EST_wave_utils.cc\n",
      "g++ -c -fno-implicit-templates -fopenmp -DOMP_WAGON=1 -O3 -Wall -I../include -g -O2 -DINSTANTIATE_TEMPLATES EST_TrackMap.cc\n",
      "g++ -c -fno-implicit-templates -fopenmp -DOMP_WAGON=1 -O3 -Wall -I../include -g -O2 -DINSTANTIATE_TEMPLATES EST_Track.cc\n",
      "g++ -c -fno-implicit-templates -fopenmp -DOMP_WAGON=1 -O3 -Wall -I../include -g -O2 -DINSTANTIATE_TEMPLATES wave_t.cc\n",
      "g++ -c -fno-implicit-templates -fopenmp -DOMP_WAGON=1 -O3 -Wall -I../include -g -O2 -DINSTANTIATE_TEMPLATES track_t.cc\n",
      "g++ -c -fno-implicit-templates -fopenmp -DOMP_WAGON=1 -O3 -Wall -I../include -g -O2 -DINSTANTIATE_TEMPLATES EST_wave_aux.cc\n",
      "g++ -c -fno-implicit-templates -fopenmp -DOMP_WAGON=1 -O3 -Wall -I../include -g -O2 -DINSTANTIATE_TEMPLATES EST_TrackFile.cc\n",
      "g++ -c -fno-implicit-templates -fopenmp -DOMP_WAGON=1 -O3 -Wall -I../include -g -O2 -DINSTANTIATE_TEMPLATES EST_WaveFile.cc\n",
      "look at library estools\n",
      "look at library estbase EST_Wave.o EST_track_aux.o EST_wave_temp.o EST_wave_cuts.o ssff.o esps_io.o esps_utils.o EST_wave_io.o EST_wave_utils.o EST_TrackMap.o EST_Track.o wave_t.o track_t.o EST_wave_aux.o EST_TrackFile.o EST_WaveFile.o\n",
      "Update library estbase EST_Wave.o EST_track_aux.o EST_wave_temp.o EST_wave_cuts.o ssff.o esps_io.o esps_utils.o EST_wave_io.o EST_wave_utils.o EST_TrackMap.o EST_Track.o wave_t.o track_t.o EST_wave_aux.o EST_TrackFile.o EST_WaveFile.o\n",
      "a - EST_Wave.o\n",
      "a - EST_track_aux.o\n",
      "a - EST_wave_temp.o\n",
      "a - EST_wave_cuts.o\n",
      "a - ssff.o\n",
      "a - esps_io.o\n",
      "a - esps_utils.o\n",
      "a - EST_wave_io.o\n",
      "a - EST_wave_utils.o\n",
      "a - EST_TrackMap.o\n",
      "a - EST_Track.o\n",
      "a - wave_t.o\n",
      "a - track_t.o\n",
      "a - EST_wave_aux.o\n",
      "a - EST_TrackFile.o\n",
      "a - EST_WaveFile.o\n",
      "look at library eststring\n",
      "Making in directory ./sigpr ...\n",
      "making dependencies -- EST_Window.cc delta.cc filter.cc sigpr_frame.cc sigpr_utt.cc pitchmark.cc spectrogram.cc misc.cc fft.cc \n",
      "g++ -c -fno-implicit-templates -fopenmp -DOMP_WAGON=1 -O3 -Wall -I../include -g -O2 -DINSTANTIATE_TEMPLATES EST_Window.cc\n",
      "g++ -c -fno-implicit-templates -fopenmp -DOMP_WAGON=1 -O3 -Wall -I../include -g -O2 delta.cc\n",
      "g++ -c -fno-implicit-templates -fopenmp -DOMP_WAGON=1 -O3 -Wall -I../include -g -O2 filter.cc\n",
      "g++ -c -fno-implicit-templates -fopenmp -DOMP_WAGON=1 -O3 -Wall -I../include -g -O2 sigpr_frame.cc\n",
      "g++ -c -fno-implicit-templates -fopenmp -DOMP_WAGON=1 -O3 -Wall -I../include -g -O2 sigpr_utt.cc\n",
      "g++ -c -fno-implicit-templates -fopenmp -DOMP_WAGON=1 -O3 -Wall -I../include -g -O2 pitchmark.cc\n",
      "g++ -c -fno-implicit-templates -fopenmp -DOMP_WAGON=1 -O3 -Wall -I../include -g -O2 spectrogram.cc\n",
      "g++ -c -fno-implicit-templates -fopenmp -DOMP_WAGON=1 -O3 -Wall -I../include -g -O2 misc.cc\n",
      "g++ -c -fno-implicit-templates -fopenmp -DOMP_WAGON=1 -O3 -Wall -I../include -g -O2 fft.cc\n",
      "look at library estools\n",
      "look at library estbase EST_Window.o delta.o filter.o sigpr_frame.o sigpr_utt.o pitchmark.o spectrogram.o misc.o fft.o\n",
      "Update library estbase EST_Window.o delta.o filter.o sigpr_frame.o sigpr_utt.o pitchmark.o spectrogram.o misc.o fft.o\n",
      "a - EST_Window.o\n",
      "a - delta.o\n",
      "a - filter.o\n",
      "a - sigpr_frame.o\n",
      "a - sigpr_utt.o\n",
      "a - pitchmark.o\n",
      "a - spectrogram.o\n",
      "a - misc.o\n",
      "a - fft.o\n",
      "look at library eststring\n",
      "Making in directory sigpr/pda ...\n",
      "making dependencies -- pcb_smoother.cc smooth_pda.cc pda.cc srpd1.3.cc \n",
      "g++ -c -fno-implicit-templates -fopenmp -DOMP_WAGON=1 -O3 -Wall -I../../include -g -O2 pcb_smoother.cc\n",
      "g++ -c -fno-implicit-templates -fopenmp -DOMP_WAGON=1 -O3 -Wall -I../../include -g -O2 smooth_pda.cc\n",
      "g++ -c -fno-implicit-templates -fopenmp -DOMP_WAGON=1 -O3 -Wall -I../../include -g -O2 pda.cc\n",
      "g++ -c -fno-implicit-templates -fopenmp -DOMP_WAGON=1 -O3 -Wall -I../../include -g -O2 srpd1.3.cc\n",
      "look at library estools\n",
      "look at library estbase pcb_smoother.o smooth_pda.o pda.o srpd1.3.o\n",
      "Update library estbase pcb_smoother.o smooth_pda.o pda.o srpd1.3.o\n",
      "a - pcb_smoother.o\n",
      "a - smooth_pda.o\n",
      "a - pda.o\n",
      "a - srpd1.3.o\n",
      "look at library eststring\n",
      "Making in directory ./stats ...\n",
      "making dependencies -- EST_cluster.cc EST_multistats.cc confusion.cc EST_Discrete.cc EST_DProbDist.cc EST_ols.cc EST_viterbi.cc dynamic_program.cc \n",
      "g++ -c -fno-implicit-templates -fopenmp -DOMP_WAGON=1 -O3 -Wall -I../include -g -O2 EST_cluster.cc\n",
      "g++ -c -fno-implicit-templates -fopenmp -DOMP_WAGON=1 -O3 -Wall -I../include -g -O2 EST_multistats.cc\n",
      "g++ -c -fno-implicit-templates -fopenmp -DOMP_WAGON=1 -O3 -Wall -I../include -g -O2 confusion.cc\n",
      "g++ -c -fno-implicit-templates -fopenmp -DOMP_WAGON=1 -O3 -Wall -I../include -g -O2 EST_Discrete.cc\n",
      "g++ -c -fno-implicit-templates -fopenmp -DOMP_WAGON=1 -O3 -Wall -I../include -g -O2 EST_DProbDist.cc\n",
      "g++ -c -fno-implicit-templates -fopenmp -DOMP_WAGON=1 -O3 -Wall -I../include -g -O2 EST_ols.cc\n",
      "g++ -c -fno-implicit-templates -fopenmp -DOMP_WAGON=1 -O3 -Wall -I../include -g -O2 EST_viterbi.cc\n",
      "g++ -c -fno-implicit-templates -fopenmp -DOMP_WAGON=1 -O3 -Wall -I../include -g -O2 -DINSTANTIATE_TEMPLATES dynamic_program.cc\n",
      "look at library estools\n",
      "look at library estbase EST_cluster.o EST_multistats.o confusion.o EST_Discrete.o EST_DProbDist.o EST_ols.o EST_viterbi.o dynamic_program.o\n",
      "Update library estbase EST_cluster.o EST_multistats.o confusion.o EST_Discrete.o EST_DProbDist.o EST_ols.o EST_viterbi.o dynamic_program.o\n",
      "a - EST_cluster.o\n",
      "a - EST_multistats.o\n",
      "a - confusion.o\n",
      "a - EST_Discrete.o\n",
      "a - EST_DProbDist.o\n",
      "a - EST_ols.o\n",
      "a - EST_viterbi.o\n",
      "a - dynamic_program.o\n",
      "look at library eststring\n",
      "Making in directory stats/wagon ...\n",
      "making dependencies -- dlist.cc wagon_aux.cc wagonint.cc wagon.cc \n",
      "g++ -c -fno-implicit-templates -fopenmp -DOMP_WAGON=1 -O3 -Wall -I../../include -g -O2 dlist.cc\n",
      "g++ -c -fno-implicit-templates -fopenmp -DOMP_WAGON=1 -O3 -Wall -I../../include -g -O2 wagon_aux.cc\n",
      "g++ -c -fno-implicit-templates -fopenmp -DOMP_WAGON=1 -O3 -Wall -I../../include -g -O2 wagonint.cc\n",
      "g++ -c -fno-implicit-templates -fopenmp -DOMP_WAGON=1 -O3 -Wall -I../../include -g -O2 -DINSTANTIATE_TEMPLATES wagon.cc\n",
      "look at library estools dlist.o wagon_aux.o wagonint.o wagon.o\n",
      "Update library estools dlist.o wagon_aux.o wagonint.o wagon.o\n",
      "a - dlist.o\n",
      "a - wagon_aux.o\n",
      "a - wagonint.o\n",
      "a - wagon.o\n",
      "look at library estbase\n",
      "look at library eststring\n",
      "Making in directory stats/kalman_filter ...\n",
      "making dependencies -- EST_kalman.cc \n",
      "g++ -c -fno-implicit-templates -fopenmp -DOMP_WAGON=1 -O3 -Wall -I../../include -g -O2 EST_kalman.cc\n",
      "look at library estools EST_kalman.o\n",
      "Update library estools EST_kalman.o\n",
      "a - EST_kalman.o\n",
      "look at library estbase\n",
      "look at library eststring\n",
      "Making in directory ./grammar ...\n",
      "Making in directory grammar/scfg ...\n",
      "making dependencies -- EST_SCFG.cc EST_SCFG_inout.cc EST_SCFG_Chart.cc \n",
      "g++ -c -fno-implicit-templates -fopenmp -DOMP_WAGON=1 -O3 -Wall -I../../include -g -O2 -DINSTANTIATE_TEMPLATES EST_SCFG.cc\n",
      "g++ -c -fno-implicit-templates -fopenmp -DOMP_WAGON=1 -O3 -Wall -I../../include -g -O2 -DINSTANTIATE_TEMPLATES EST_SCFG_inout.cc\n",
      "g++ -c -fno-implicit-templates -fopenmp -DOMP_WAGON=1 -O3 -Wall -I../../include -g -O2 EST_SCFG_Chart.cc\n",
      "look at library estools EST_SCFG.o EST_SCFG_inout.o EST_SCFG_Chart.o\n",
      "Update library estools EST_SCFG.o EST_SCFG_inout.o EST_SCFG_Chart.o\n",
      "a - EST_SCFG.o\n",
      "a - EST_SCFG_inout.o\n",
      "a - EST_SCFG_Chart.o\n",
      "look at library estbase\n",
      "look at library eststring\n",
      "Making in directory grammar/wfst ...\n",
      "making dependencies -- EST_WFST.cc wfst_regex.cc wfst_ops.cc wfst_transduce.cc kkcompile.cc wfst_aux.cc ltscompile.cc rgcompile.cc tlcompile.cc wfst_train.cc \n",
      "g++ -c -fno-implicit-templates -fopenmp -DOMP_WAGON=1 -O3 -Wall -I../../include -g -O2 -DINSTANTIATE_TEMPLATES EST_WFST.cc\n",
      "g++ -c -fno-implicit-templates -fopenmp -DOMP_WAGON=1 -O3 -Wall -I../../include -g -O2 -DINSTANTIATE_TEMPLATES wfst_regex.cc\n",
      "g++ -c -fno-implicit-templates -fopenmp -DOMP_WAGON=1 -O3 -Wall -I../../include -g -O2 -DINSTANTIATE_TEMPLATES wfst_ops.cc\n",
      "g++ -c -fno-implicit-templates -fopenmp -DOMP_WAGON=1 -O3 -Wall -I../../include -g -O2 -DINSTANTIATE_TEMPLATES wfst_transduce.cc\n",
      "g++ -c -fno-implicit-templates -fopenmp -DOMP_WAGON=1 -O3 -Wall -I../../include -g -O2 -DINSTANTIATE_TEMPLATES kkcompile.cc\n",
      "g++ -c -fno-implicit-templates -fopenmp -DOMP_WAGON=1 -O3 -Wall -I../../include -g -O2 wfst_aux.cc\n",
      "g++ -c -fno-implicit-templates -fopenmp -DOMP_WAGON=1 -O3 -Wall -I../../include -g -O2 ltscompile.cc\n",
      "g++ -c -fno-implicit-templates -fopenmp -DOMP_WAGON=1 -O3 -Wall -I../../include -g -O2 rgcompile.cc\n",
      "g++ -c -fno-implicit-templates -fopenmp -DOMP_WAGON=1 -O3 -Wall -I../../include -g -O2 tlcompile.cc\n",
      "g++ -c -fno-implicit-templates -fopenmp -DOMP_WAGON=1 -O3 -Wall -I../../include -g -O2 wfst_train.cc\n",
      "look at library estools EST_WFST.o wfst_regex.o wfst_ops.o wfst_transduce.o kkcompile.o wfst_aux.o ltscompile.o rgcompile.o tlcompile.o wfst_train.o\n",
      "Update library estools EST_WFST.o wfst_regex.o wfst_ops.o wfst_transduce.o kkcompile.o wfst_aux.o ltscompile.o rgcompile.o tlcompile.o wfst_train.o\n",
      "a - EST_WFST.o\n",
      "a - wfst_regex.o\n",
      "a - wfst_ops.o\n",
      "a - wfst_transduce.o\n",
      "a - kkcompile.o\n",
      "a - wfst_aux.o\n",
      "a - ltscompile.o\n",
      "a - rgcompile.o\n",
      "a - tlcompile.o\n",
      "a - wfst_train.o\n",
      "look at library estbase\n",
      "look at library eststring\n",
      "Making in directory grammar/ngram ...\n",
      "making dependencies -- lattice_t.cc EST_Ngrammar.cc ngrammar_io.cc ngrammar_aux.cc ngrammar_utils.cc EST_lattice.cc EST_lattice_io.cc freqsmooth.cc EST_PST.cc \n",
      "g++ -c -fno-implicit-templates -fopenmp -DOMP_WAGON=1 -O3 -Wall -I../../include -g -O2 -DINSTANTIATE_TEMPLATES lattice_t.cc\n",
      "g++ -c -fno-implicit-templates -fopenmp -DOMP_WAGON=1 -O3 -Wall -I../../include -g -O2 EST_Ngrammar.cc\n",
      "g++ -c -fno-implicit-templates -fopenmp -DOMP_WAGON=1 -O3 -Wall -I../../include -g -O2 ngrammar_io.cc\n",
      "g++ -c -fno-implicit-templates -fopenmp -DOMP_WAGON=1 -O3 -Wall -I../../include -g -O2 ngrammar_aux.cc\n",
      "g++ -c -fno-implicit-templates -fopenmp -DOMP_WAGON=1 -O3 -Wall -I../../include -g -O2 ngrammar_utils.cc\n",
      "g++ -c -fno-implicit-templates -fopenmp -DOMP_WAGON=1 -O3 -Wall -I../../include -g -O2 EST_lattice.cc\n",
      "g++ -c -fno-implicit-templates -fopenmp -DOMP_WAGON=1 -O3 -Wall -I../../include -g -O2 EST_lattice_io.cc\n",
      "g++ -c -fno-implicit-templates -fopenmp -DOMP_WAGON=1 -O3 -Wall -I../../include -g -O2 freqsmooth.cc\n",
      "g++ -c -fno-implicit-templates -fopenmp -DOMP_WAGON=1 -O3 -Wall -I../../include -g -O2 EST_PST.cc\n",
      "look at library estools lattice_t.o EST_Ngrammar.o ngrammar_io.o ngrammar_aux.o ngrammar_utils.o EST_lattice.o EST_lattice_io.o freqsmooth.o EST_PST.o\n",
      "Update library estools lattice_t.o EST_Ngrammar.o ngrammar_io.o ngrammar_aux.o ngrammar_utils.o EST_lattice.o EST_lattice_io.o freqsmooth.o EST_PST.o\n",
      "a - lattice_t.o\n",
      "a - EST_Ngrammar.o\n",
      "a - ngrammar_io.o\n",
      "a - ngrammar_aux.o\n",
      "a - ngrammar_utils.o\n",
      "a - EST_lattice.o\n",
      "a - EST_lattice_io.o\n",
      "a - freqsmooth.o\n",
      "a - EST_PST.o\n",
      "look at library estbase\n",
      "look at library eststring\n",
      "Making in directory ./intonation ...\n",
      "Making in directory intonation/tilt ...\n",
      "making dependencies -- tilt_analysis.cc tilt_synthesis.cc tilt_utils.cc \n",
      "g++ -c -fno-implicit-templates -fopenmp -DOMP_WAGON=1 -O3 -Wall -I../../include -g -O2 tilt_analysis.cc\n",
      "g++ -c -fno-implicit-templates -fopenmp -DOMP_WAGON=1 -O3 -Wall -I../../include -g -O2 tilt_synthesis.cc\n",
      "g++ -c -fno-implicit-templates -fopenmp -DOMP_WAGON=1 -O3 -Wall -I../../include -g -O2 tilt_utils.cc\n",
      "look at library estools tilt_analysis.o tilt_synthesis.o tilt_utils.o\n",
      "Update library estools tilt_analysis.o tilt_synthesis.o tilt_utils.o\n",
      "a - tilt_analysis.o\n",
      "a - tilt_synthesis.o\n",
      "a - tilt_utils.o\n",
      "look at library estbase\n",
      "look at library eststring\n",
      "Making in directory ./lib ...\n",
      "make est_program_makefile from est_program_makefile-in\n",
      "make est_mainline from est_mainline-in\n",
      "Making in directory ./main ...\n",
      "making dependencies -- ch_lab_main.cc ch_track_main.cc ch_wave_main.cc na_play_main.cc na_record_main.cc sigfilter_main.cc sig2fv_main.cc spectgen_main.cc pda_main.cc pitchmark_main.cc ngram_test_main.cc ngram_build_main.cc tilt_synthesis_main.cc tilt_analysis_main.cc viterbi_main.cc dp_main.cc bcat_main.cc ch_utt_main.cc design_filter_main.cc align_main.cc siod_main.cc wagon_main.cc wagon_test_main.cc scfg_make_main.cc scfg_train_main.cc scfg_test_main.cc scfg_parse_main.cc wfst_build_main.cc wfst_run_main.cc wfst_train_main.cc ols_main.cc ols_test_main.cc xml_parser_main.cc \n",
      "g++ -c  -fno-implicit-templates  -fopenmp -DOMP_WAGON=1 -O3 -Wall           -I../include      -g -O2 -o ch_lab_main.o ch_lab_main.cc\n",
      "g++ -O3 -Wall -o ch_lab ch_lab_main.o -L../lib -lestools -L../lib -lestbase -L../lib -leststring -lncurses -lm -fopenmp\n",
      "g++ -c  -fno-implicit-templates  -fopenmp -DOMP_WAGON=1 -O3 -Wall           -I../include      -g -O2 -o ch_track_main.o ch_track_main.cc\n",
      "g++ -O3 -Wall -o ch_track ch_track_main.o -L../lib -lestools -L../lib -lestbase -L../lib -leststring -lncurses -lm -fopenmp\n",
      "g++ -c  -fno-implicit-templates  -fopenmp -DOMP_WAGON=1 -O3 -Wall           -I../include      -g -O2 -o ch_wave_main.o ch_wave_main.cc\n",
      "g++ -O3 -Wall -o ch_wave ch_wave_main.o -L../lib -lestools -L../lib -lestbase -L../lib -leststring -lncurses -lm -fopenmp\n",
      "g++ -c  -fno-implicit-templates  -fopenmp -DOMP_WAGON=1 -O3 -Wall           -I../include      -g -O2 -o na_play_main.o na_play_main.cc\n",
      "g++ -O3 -Wall -o na_play na_play_main.o -L../lib -lestools -L../lib -lestbase -L../lib -leststring -lncurses -lm -fopenmp\n",
      "g++ -c  -fno-implicit-templates  -fopenmp -DOMP_WAGON=1 -O3 -Wall           -I../include      -g -O2 -o na_record_main.o na_record_main.cc\n",
      "g++ -O3 -Wall -o na_record na_record_main.o -L../lib -lestools -L../lib -lestbase -L../lib -leststring -lncurses -lm -fopenmp\n",
      "g++ -c  -fno-implicit-templates  -fopenmp -DOMP_WAGON=1 -O3 -Wall           -I../include      -g -O2 -o sigfilter_main.o sigfilter_main.cc\n",
      "g++ -O3 -Wall -o sigfilter sigfilter_main.o -L../lib -lestools -L../lib -lestbase -L../lib -leststring -lncurses -lm -fopenmp\n",
      "g++ -c  -fno-implicit-templates  -fopenmp -DOMP_WAGON=1 -O3 -Wall           -I../include      -g -O2 -o sig2fv_main.o sig2fv_main.cc\n",
      "g++ -O3 -Wall -o sig2fv sig2fv_main.o -L../lib -lestools -L../lib -lestbase -L../lib -leststring -lncurses -lm -fopenmp\n",
      "g++ -c  -fno-implicit-templates  -fopenmp -DOMP_WAGON=1 -O3 -Wall           -I../include      -g -O2 -o spectgen_main.o spectgen_main.cc\n",
      "g++ -O3 -Wall -o spectgen spectgen_main.o -L../lib -lestools -L../lib -lestbase -L../lib -leststring -lncurses -lm -fopenmp\n",
      "g++ -c  -fno-implicit-templates  -fopenmp -DOMP_WAGON=1 -O3 -Wall           -I../include      -g -O2 -o pda_main.o pda_main.cc\n",
      "g++ -O3 -Wall -o pda pda_main.o -L../lib -lestools -L../lib -lestbase -L../lib -leststring -lncurses -lm -fopenmp\n",
      "g++ -c  -fno-implicit-templates  -fopenmp -DOMP_WAGON=1 -O3 -Wall           -I../include      -g -O2 -o pitchmark_main.o pitchmark_main.cc\n",
      "g++ -O3 -Wall -o pitchmark pitchmark_main.o -L../lib -lestools -L../lib -lestbase -L../lib -leststring -lncurses -lm -fopenmp\n",
      "g++ -c  -fno-implicit-templates  -fopenmp -DOMP_WAGON=1 -O3 -Wall           -I../include      -g -O2 -o ngram_test_main.o ngram_test_main.cc\n",
      "g++ -O3 -Wall -o ngram_test ngram_test_main.o -L../lib -lestools -L../lib -lestbase -L../lib -leststring -lncurses -lm -fopenmp\n",
      "g++ -c  -fno-implicit-templates  -fopenmp -DOMP_WAGON=1 -O3 -Wall           -I../include      -g -O2 -o ngram_build_main.o ngram_build_main.cc\n",
      "g++ -O3 -Wall -o ngram_build ngram_build_main.o -L../lib -lestools -L../lib -lestbase -L../lib -leststring -lncurses -lm -fopenmp\n",
      "g++ -c  -fno-implicit-templates  -fopenmp -DOMP_WAGON=1 -O3 -Wall           -I../include      -g -O2 -o tilt_synthesis_main.o tilt_synthesis_main.cc\n",
      "g++ -O3 -Wall -o tilt_synthesis tilt_synthesis_main.o -L../lib -lestools -L../lib -lestbase -L../lib -leststring -lncurses -lm -fopenmp\n",
      "g++ -c  -fno-implicit-templates  -fopenmp -DOMP_WAGON=1 -O3 -Wall           -I../include      -g -O2 -o tilt_analysis_main.o tilt_analysis_main.cc\n",
      "g++ -O3 -Wall -o tilt_analysis tilt_analysis_main.o -L../lib -lestools -L../lib -lestbase -L../lib -leststring -lncurses -lm -fopenmp\n",
      "g++ -c  -fno-implicit-templates  -fopenmp -DOMP_WAGON=1 -O3 -Wall           -I../include      -g -O2 -o viterbi_main.o viterbi_main.cc\n",
      "g++ -O3 -Wall -o viterbi viterbi_main.o -L../lib -lestools -L../lib -lestbase -L../lib -leststring -lncurses -lm -fopenmp\n",
      "g++ -c  -fno-implicit-templates  -fopenmp -DOMP_WAGON=1 -O3 -Wall           -I../include      -g -O2 -o dp_main.o dp_main.cc\n",
      "g++ -O3 -Wall -o dp dp_main.o -L../lib -lestools -L../lib -lestbase -L../lib -leststring -lncurses -lm -fopenmp\n",
      "g++ -c  -fno-implicit-templates  -fopenmp -DOMP_WAGON=1 -O3 -Wall           -I../include      -g -O2 -o bcat_main.o bcat_main.cc\n",
      "g++ -O3 -Wall -o bcat bcat_main.o -L../lib -lestools -L../lib -lestbase -L../lib -leststring -lncurses -lm -fopenmp\n",
      "g++ -c  -fno-implicit-templates  -fopenmp -DOMP_WAGON=1 -O3 -Wall           -I../include      -g -O2 -o ch_utt_main.o ch_utt_main.cc\n",
      "g++ -O3 -Wall -o ch_utt ch_utt_main.o -L../lib -lestools -L../lib -lestbase -L../lib -leststring -lncurses -lm -fopenmp\n",
      "g++ -c  -fno-implicit-templates  -fopenmp -DOMP_WAGON=1 -O3 -Wall           -I../include      -g -O2 -o design_filter_main.o design_filter_main.cc\n",
      "g++ -O3 -Wall -o design_filter design_filter_main.o -L../lib -lestools -L../lib -lestbase -L../lib -leststring -lncurses -lm -fopenmp\n",
      "g++ -c  -fno-implicit-templates  -fopenmp -DOMP_WAGON=1 -O3 -Wall           -I../include      -g -O2 -o align_main.o align_main.cc\n",
      "g++ -O3 -Wall -o align align_main.o -L../lib -lestools -L../lib -lestbase -L../lib -leststring -lncurses -lm -fopenmp\n",
      "g++ -c  -fno-implicit-templates  -fopenmp -DOMP_WAGON=1 -O3 -Wall           -I../include      -g -O2 -o siod_main.o siod_main.cc\n",
      "g++ -O3 -Wall -o siod siod_main.o -L../lib -lestools -L../lib -lestbase -L../lib -leststring -lncurses -lm -fopenmp\n",
      "g++ -c  -fno-implicit-templates  -fopenmp -DOMP_WAGON=1 -O3 -Wall           -I../include      -g -O2 -o wagon_main.o wagon_main.cc\n",
      "g++ -O3 -Wall -o wagon wagon_main.o -L../lib -lestools -L../lib -lestbase -L../lib -leststring -lncurses -lm -fopenmp\n",
      "g++ -c  -fno-implicit-templates  -fopenmp -DOMP_WAGON=1 -O3 -Wall           -I../include      -g -O2 -o wagon_test_main.o wagon_test_main.cc\n",
      "g++ -O3 -Wall -o wagon_test wagon_test_main.o -L../lib -lestools -L../lib -lestbase -L../lib -leststring -lncurses -lm -fopenmp\n",
      "g++ -c  -fno-implicit-templates  -fopenmp -DOMP_WAGON=1 -O3 -Wall           -I../include      -g -O2 -o scfg_make_main.o scfg_make_main.cc\n",
      "g++ -O3 -Wall -o scfg_make scfg_make_main.o -L../lib -lestools -L../lib -lestbase -L../lib -leststring -lncurses -lm -fopenmp\n",
      "g++ -c  -fno-implicit-templates  -fopenmp -DOMP_WAGON=1 -O3 -Wall           -I../include      -g -O2 -o scfg_train_main.o scfg_train_main.cc\n",
      "g++ -O3 -Wall -o scfg_train scfg_train_main.o -L../lib -lestools -L../lib -lestbase -L../lib -leststring -lncurses -lm -fopenmp\n",
      "g++ -c  -fno-implicit-templates  -fopenmp -DOMP_WAGON=1 -O3 -Wall           -I../include      -g -O2 -o scfg_test_main.o scfg_test_main.cc\n",
      "g++ -O3 -Wall -o scfg_test scfg_test_main.o -L../lib -lestools -L../lib -lestbase -L../lib -leststring -lncurses -lm -fopenmp\n",
      "g++ -c  -fno-implicit-templates  -fopenmp -DOMP_WAGON=1 -O3 -Wall           -I../include      -g -O2 -o scfg_parse_main.o scfg_parse_main.cc\n",
      "g++ -O3 -Wall -o scfg_parse scfg_parse_main.o -L../lib -lestools -L../lib -lestbase -L../lib -leststring -lncurses -lm -fopenmp\n",
      "g++ -c  -fno-implicit-templates  -fopenmp -DOMP_WAGON=1 -O3 -Wall           -I../include      -g -O2 -o wfst_build_main.o wfst_build_main.cc\n",
      "g++ -O3 -Wall -o wfst_build wfst_build_main.o -L../lib -lestools -L../lib -lestbase -L../lib -leststring -lncurses -lm -fopenmp\n",
      "g++ -c  -fno-implicit-templates  -fopenmp -DOMP_WAGON=1 -O3 -Wall           -I../include      -g -O2 -o wfst_run_main.o wfst_run_main.cc\n",
      "g++ -O3 -Wall -o wfst_run wfst_run_main.o -L../lib -lestools -L../lib -lestbase -L../lib -leststring -lncurses -lm -fopenmp\n",
      "g++ -c  -fno-implicit-templates  -fopenmp -DOMP_WAGON=1 -O3 -Wall           -I../include      -g -O2 -o wfst_train_main.o wfst_train_main.cc\n",
      "g++ -O3 -Wall -o wfst_train wfst_train_main.o -L../lib -lestools -L../lib -lestbase -L../lib -leststring -lncurses -lm -fopenmp\n",
      "g++ -c  -fno-implicit-templates  -fopenmp -DOMP_WAGON=1 -O3 -Wall           -I../include      -g -O2 -o ols_main.o ols_main.cc\n",
      "g++ -O3 -Wall -o ols ols_main.o -L../lib -lestools -L../lib -lestbase -L../lib -leststring -lncurses -lm -fopenmp\n",
      "g++ -c  -fno-implicit-templates  -fopenmp -DOMP_WAGON=1 -O3 -Wall           -I../include      -g -O2 -o ols_test_main.o ols_test_main.cc\n",
      "g++ -O3 -Wall -o ols_test ols_test_main.o -L../lib -lestools -L../lib -lestbase -L../lib -leststring -lncurses -lm -fopenmp\n",
      "g++ -c  -fno-implicit-templates  -fopenmp -DOMP_WAGON=1 -O3 -Wall           -I../include      -g -O2 -o xml_parser_main.o xml_parser_main.cc\n",
      "g++ -O3 -Wall -o xml_parser xml_parser_main.o -L../lib -lestools -L../lib -lestbase -L../lib -leststring -lncurses -lm -fopenmp\n",
      "Making in directory ./scripts ...\n",
      "Making in directory ./testsuite ...\n",
      "making dependencies -- xml_example.cc string_example.cc hash_example.cc pathname_example.cc track_example.cc token_example.cc complex_example.cc list_example.cc kvl_example.cc handle_example.cc named_enum_example.cc deq_example.cc ling_example.cc feature_example.cc xml_regression.cc string_regression.cc hash_regression.cc pathname_regression.cc track_regression.cc token_regression.cc complex_regression.cc list_regression.cc kvl_regression.cc handle_regression.cc named_enum_regression.cc deq_regression.cc ling_regression.cc feature_regression.cc \n",
      "g++ -c -fno-implicit-templates -fopenmp -DOMP_WAGON=1 -O3 -Wall -DDATA=\"\\\"/home/ec2-user/SageMaker/espnet/tools/speech_tools/lib/example_data\\\"\" -DTVECTOR_BOUNDS_CHECKING -I../include -g -O2 -DINSTANTIATE_TEMPLATES xml_example.cc\n",
      "g++ -O3 -Wall     -o xml_example xml_example.o    -L../lib -lestools -L../lib -lestbase -L../lib -leststring   -lncurses    -lm  -fopenmp \n",
      "g++ -c -fno-implicit-templates -fopenmp -DOMP_WAGON=1 -O3 -Wall -DDATA=\"\\\"/home/ec2-user/SageMaker/espnet/tools/speech_tools/lib/example_data\\\"\" -DTVECTOR_BOUNDS_CHECKING -I../include -g -O2 -DINSTANTIATE_TEMPLATES string_example.cc\n",
      "g++ -O3 -Wall     -o string_example string_example.o    -L../lib -lestools -L../lib -lestbase -L../lib -leststring   -lncurses    -lm  -fopenmp \n",
      "g++ -c -fno-implicit-templates -fopenmp -DOMP_WAGON=1 -O3 -Wall -DDATA=\"\\\"/home/ec2-user/SageMaker/espnet/tools/speech_tools/lib/example_data\\\"\" -DTVECTOR_BOUNDS_CHECKING -I../include -g -O2 -DINSTANTIATE_TEMPLATES hash_example.cc\n",
      "g++ -O3 -Wall     -o hash_example hash_example.o    -L../lib -lestools -L../lib -lestbase -L../lib -leststring   -lncurses    -lm  -fopenmp \n",
      "g++ -c -fno-implicit-templates -fopenmp -DOMP_WAGON=1 -O3 -Wall -DDATA=\"\\\"/home/ec2-user/SageMaker/espnet/tools/speech_tools/lib/example_data\\\"\" -DTVECTOR_BOUNDS_CHECKING -I../include -g -O2 -DINSTANTIATE_TEMPLATES pathname_example.cc\n",
      "g++ -O3 -Wall     -o pathname_example pathname_example.o    -L../lib -lestools -L../lib -lestbase -L../lib -leststring   -lncurses    -lm  -fopenmp \n",
      "g++ -c -fno-implicit-templates -fopenmp -DOMP_WAGON=1 -O3 -Wall -DDATA=\"\\\"/home/ec2-user/SageMaker/espnet/tools/speech_tools/lib/example_data\\\"\" -DTVECTOR_BOUNDS_CHECKING -I../include -g -O2 -DINSTANTIATE_TEMPLATES track_example.cc\n",
      "g++ -O3 -Wall     -o track_example track_example.o    -L../lib -lestools -L../lib -lestbase -L../lib -leststring   -lncurses    -lm  -fopenmp \n",
      "g++ -c -fno-implicit-templates -fopenmp -DOMP_WAGON=1 -O3 -Wall -DDATA=\"\\\"/home/ec2-user/SageMaker/espnet/tools/speech_tools/lib/example_data\\\"\" -DTVECTOR_BOUNDS_CHECKING -I../include -g -O2 -DINSTANTIATE_TEMPLATES token_example.cc\n",
      "g++ -O3 -Wall     -o token_example token_example.o    -L../lib -lestools -L../lib -lestbase -L../lib -leststring   -lncurses    -lm  -fopenmp \n",
      "g++ -c -fno-implicit-templates -fopenmp -DOMP_WAGON=1 -O3 -Wall -DDATA=\"\\\"/home/ec2-user/SageMaker/espnet/tools/speech_tools/lib/example_data\\\"\" -DTVECTOR_BOUNDS_CHECKING -I../include -g -O2 -DINSTANTIATE_TEMPLATES complex_example.cc\n",
      "g++ -O3 -Wall     -o complex_example complex_example.o    -L../lib -lestools -L../lib -lestbase -L../lib -leststring   -lncurses    -lm  -fopenmp \n",
      "g++ -c -fno-implicit-templates -fopenmp -DOMP_WAGON=1 -O3 -Wall -DDATA=\"\\\"/home/ec2-user/SageMaker/espnet/tools/speech_tools/lib/example_data\\\"\" -DTVECTOR_BOUNDS_CHECKING -I../include -g -O2 -DINSTANTIATE_TEMPLATES list_example.cc\n",
      "g++ -O3 -Wall     -o list_example list_example.o    -L../lib -lestools -L../lib -lestbase -L../lib -leststring   -lncurses    -lm  -fopenmp \n",
      "g++ -c -fno-implicit-templates -fopenmp -DOMP_WAGON=1 -O3 -Wall -DDATA=\"\\\"/home/ec2-user/SageMaker/espnet/tools/speech_tools/lib/example_data\\\"\" -DTVECTOR_BOUNDS_CHECKING -I../include -g -O2 -DINSTANTIATE_TEMPLATES kvl_example.cc\n",
      "g++ -O3 -Wall     -o kvl_example kvl_example.o    -L../lib -lestools -L../lib -lestbase -L../lib -leststring   -lncurses    -lm  -fopenmp \n",
      "g++ -c -fno-implicit-templates -fopenmp -DOMP_WAGON=1 -O3 -Wall -DDATA=\"\\\"/home/ec2-user/SageMaker/espnet/tools/speech_tools/lib/example_data\\\"\" -DTVECTOR_BOUNDS_CHECKING -I../include -g -O2 -DINSTANTIATE_TEMPLATES handle_example.cc\n",
      "g++ -O3 -Wall     -o handle_example handle_example.o    -L../lib -lestools -L../lib -lestbase -L../lib -leststring   -lncurses    -lm  -fopenmp \n",
      "g++ -c -fno-implicit-templates -fopenmp -DOMP_WAGON=1 -O3 -Wall -DDATA=\"\\\"/home/ec2-user/SageMaker/espnet/tools/speech_tools/lib/example_data\\\"\" -DTVECTOR_BOUNDS_CHECKING -I../include -g -O2 -DINSTANTIATE_TEMPLATES named_enum_example.cc\n",
      "g++ -O3 -Wall     -o named_enum_example named_enum_example.o    -L../lib -lestools -L../lib -lestbase -L../lib -leststring   -lncurses    -lm  -fopenmp \n",
      "g++ -c -fno-implicit-templates -fopenmp -DOMP_WAGON=1 -O3 -Wall -DDATA=\"\\\"/home/ec2-user/SageMaker/espnet/tools/speech_tools/lib/example_data\\\"\" -DTVECTOR_BOUNDS_CHECKING -I../include -g -O2 -DINSTANTIATE_TEMPLATES deq_example.cc\n",
      "g++ -O3 -Wall     -o deq_example deq_example.o    -L../lib -lestools -L../lib -lestbase -L../lib -leststring   -lncurses    -lm  -fopenmp \n",
      "g++ -c -fno-implicit-templates -fopenmp -DOMP_WAGON=1 -O3 -Wall -DDATA=\"\\\"/home/ec2-user/SageMaker/espnet/tools/speech_tools/lib/example_data\\\"\" -DTVECTOR_BOUNDS_CHECKING -I../include -g -O2 -DINSTANTIATE_TEMPLATES ling_example.cc\n",
      "g++ -O3 -Wall     -o ling_example ling_example.o    -L../lib -lestools -L../lib -lestbase -L../lib -leststring   -lncurses    -lm  -fopenmp \n",
      "g++ -c -fno-implicit-templates -fopenmp -DOMP_WAGON=1 -O3 -Wall -DDATA=\"\\\"/home/ec2-user/SageMaker/espnet/tools/speech_tools/lib/example_data\\\"\" -DTVECTOR_BOUNDS_CHECKING -I../include -g -O2 -DINSTANTIATE_TEMPLATES feature_example.cc\n",
      "g++ -O3 -Wall     -o feature_example feature_example.o    -L../lib -lestools -L../lib -lestbase -L../lib -leststring   -lncurses    -lm  -fopenmp \n",
      "g++ -c -fno-implicit-templates -fopenmp -DOMP_WAGON=1 -O3 -Wall -DDATA=\"\\\"/home/ec2-user/SageMaker/espnet/tools/speech_tools/lib/example_data\\\"\" -DTVECTOR_BOUNDS_CHECKING -I../include -g -O2 -DINSTANTIATE_TEMPLATES xml_regression.cc\n",
      "g++ -O3 -Wall     -o xml_regression xml_regression.o    -L../lib -lestools -L../lib -lestbase -L../lib -leststring   -lncurses    -lm  -fopenmp \n",
      "g++ -c -fno-implicit-templates -fopenmp -DOMP_WAGON=1 -O3 -Wall -DDATA=\"\\\"/home/ec2-user/SageMaker/espnet/tools/speech_tools/lib/example_data\\\"\" -DTVECTOR_BOUNDS_CHECKING -I../include -g -O2 -DINSTANTIATE_TEMPLATES string_regression.cc\n",
      "g++ -O3 -Wall     -o string_regression string_regression.o    -L../lib -lestools -L../lib -lestbase -L../lib -leststring   -lncurses    -lm  -fopenmp \n",
      "g++ -c -fno-implicit-templates -fopenmp -DOMP_WAGON=1 -O3 -Wall -DDATA=\"\\\"/home/ec2-user/SageMaker/espnet/tools/speech_tools/lib/example_data\\\"\" -DTVECTOR_BOUNDS_CHECKING -I../include -g -O2 -DINSTANTIATE_TEMPLATES hash_regression.cc\n",
      "g++ -O3 -Wall     -o hash_regression hash_regression.o    -L../lib -lestools -L../lib -lestbase -L../lib -leststring   -lncurses    -lm  -fopenmp \n",
      "g++ -c -fno-implicit-templates -fopenmp -DOMP_WAGON=1 -O3 -Wall -DDATA=\"\\\"/home/ec2-user/SageMaker/espnet/tools/speech_tools/lib/example_data\\\"\" -DTVECTOR_BOUNDS_CHECKING -I../include -g -O2 -DINSTANTIATE_TEMPLATES pathname_regression.cc\n",
      "g++ -O3 -Wall     -o pathname_regression pathname_regression.o    -L../lib -lestools -L../lib -lestbase -L../lib -leststring   -lncurses    -lm  -fopenmp \n",
      "g++ -c -fno-implicit-templates -fopenmp -DOMP_WAGON=1 -O3 -Wall -DDATA=\"\\\"/home/ec2-user/SageMaker/espnet/tools/speech_tools/lib/example_data\\\"\" -DTVECTOR_BOUNDS_CHECKING -I../include -g -O2 -DINSTANTIATE_TEMPLATES track_regression.cc\n",
      "g++ -O3 -Wall     -o track_regression track_regression.o    -L../lib -lestools -L../lib -lestbase -L../lib -leststring   -lncurses    -lm  -fopenmp \n",
      "g++ -c -fno-implicit-templates -fopenmp -DOMP_WAGON=1 -O3 -Wall -DDATA=\"\\\"/home/ec2-user/SageMaker/espnet/tools/speech_tools/lib/example_data\\\"\" -DTVECTOR_BOUNDS_CHECKING -I../include -g -O2 -DINSTANTIATE_TEMPLATES token_regression.cc\n",
      "g++ -O3 -Wall     -o token_regression token_regression.o    -L../lib -lestools -L../lib -lestbase -L../lib -leststring   -lncurses    -lm  -fopenmp \n",
      "g++ -c -fno-implicit-templates -fopenmp -DOMP_WAGON=1 -O3 -Wall -DDATA=\"\\\"/home/ec2-user/SageMaker/espnet/tools/speech_tools/lib/example_data\\\"\" -DTVECTOR_BOUNDS_CHECKING -I../include -g -O2 -DINSTANTIATE_TEMPLATES complex_regression.cc\n",
      "g++ -O3 -Wall     -o complex_regression complex_regression.o    -L../lib -lestools -L../lib -lestbase -L../lib -leststring   -lncurses    -lm  -fopenmp \n",
      "g++ -c -fno-implicit-templates -fopenmp -DOMP_WAGON=1 -O3 -Wall -DDATA=\"\\\"/home/ec2-user/SageMaker/espnet/tools/speech_tools/lib/example_data\\\"\" -DTVECTOR_BOUNDS_CHECKING -I../include -g -O2 -DINSTANTIATE_TEMPLATES list_regression.cc\n",
      "g++ -O3 -Wall     -o list_regression list_regression.o    -L../lib -lestools -L../lib -lestbase -L../lib -leststring   -lncurses    -lm  -fopenmp \n",
      "g++ -c -fno-implicit-templates -fopenmp -DOMP_WAGON=1 -O3 -Wall -DDATA=\"\\\"/home/ec2-user/SageMaker/espnet/tools/speech_tools/lib/example_data\\\"\" -DTVECTOR_BOUNDS_CHECKING -I../include -g -O2 -DINSTANTIATE_TEMPLATES kvl_regression.cc\n",
      "g++ -O3 -Wall     -o kvl_regression kvl_regression.o    -L../lib -lestools -L../lib -lestbase -L../lib -leststring   -lncurses    -lm  -fopenmp \n",
      "g++ -c -fno-implicit-templates -fopenmp -DOMP_WAGON=1 -O3 -Wall -DDATA=\"\\\"/home/ec2-user/SageMaker/espnet/tools/speech_tools/lib/example_data\\\"\" -DTVECTOR_BOUNDS_CHECKING -I../include -g -O2 -DINSTANTIATE_TEMPLATES handle_regression.cc\n",
      "g++ -O3 -Wall     -o handle_regression handle_regression.o    -L../lib -lestools -L../lib -lestbase -L../lib -leststring   -lncurses    -lm  -fopenmp \n",
      "g++ -c -fno-implicit-templates -fopenmp -DOMP_WAGON=1 -O3 -Wall -DDATA=\"\\\"/home/ec2-user/SageMaker/espnet/tools/speech_tools/lib/example_data\\\"\" -DTVECTOR_BOUNDS_CHECKING -I../include -g -O2 -DINSTANTIATE_TEMPLATES named_enum_regression.cc\n",
      "g++ -O3 -Wall     -o named_enum_regression named_enum_regression.o    -L../lib -lestools -L../lib -lestbase -L../lib -leststring   -lncurses    -lm  -fopenmp \n",
      "g++ -c -fno-implicit-templates -fopenmp -DOMP_WAGON=1 -O3 -Wall -DDATA=\"\\\"/home/ec2-user/SageMaker/espnet/tools/speech_tools/lib/example_data\\\"\" -DTVECTOR_BOUNDS_CHECKING -I../include -g -O2 -DINSTANTIATE_TEMPLATES deq_regression.cc\n",
      "g++ -O3 -Wall     -o deq_regression deq_regression.o    -L../lib -lestools -L../lib -lestbase -L../lib -leststring   -lncurses    -lm  -fopenmp \n",
      "g++ -c -fno-implicit-templates -fopenmp -DOMP_WAGON=1 -O3 -Wall -DDATA=\"\\\"/home/ec2-user/SageMaker/espnet/tools/speech_tools/lib/example_data\\\"\" -DTVECTOR_BOUNDS_CHECKING -I../include -g -O2 -DINSTANTIATE_TEMPLATES ling_regression.cc\n",
      "g++ -O3 -Wall     -o ling_regression ling_regression.o    -L../lib -lestools -L../lib -lestbase -L../lib -leststring   -lncurses    -lm  -fopenmp \n",
      "g++ -c -fno-implicit-templates -fopenmp -DOMP_WAGON=1 -O3 -Wall -DDATA=\"\\\"/home/ec2-user/SageMaker/espnet/tools/speech_tools/lib/example_data\\\"\" -DTVECTOR_BOUNDS_CHECKING -I../include -g -O2 -DINSTANTIATE_TEMPLATES feature_regression.cc\n",
      "g++ -O3 -Wall     -o feature_regression feature_regression.o    -L../lib -lestools -L../lib -lestbase -L../lib -leststring   -lncurses    -lm  -fopenmp \n",
      "Making in directory ./bin ...\n",
      "\n",
      "Remove Links:\n",
      "\n",
      "Scripts: (sh) (prl) resynth pm make_wagon_desc raw_to_xgraph est_examples est_gdb est_program\n",
      "\n",
      "Main Links: ch_lab ch_track ch_wave na_play na_record sigfilter sig2fv spectgen pda pitchmark ngram_test ngram_build tilt_synthesis tilt_analysis viterbi dp bcat ch_utt design_filter align siod wagon wagon_test scfg_make scfg_train scfg_test scfg_parse wfst_build wfst_run wfst_train ols ols_test xml_parser\n"
     ]
    },
    {
     "name": "stderr",
     "output_type": "stream",
     "text": [
      "Cloning into 'festival'...\n"
     ]
    },
    {
     "name": "stdout",
     "output_type": "stream",
     "text": [
      "checking build system type... x86_64-pc-linux-gnu\n",
      "checking host system type... x86_64-pc-linux-gnu\n",
      "checking target system type... x86_64-pc-linux-gnu\n",
      "checking for g++... g++\n",
      "checking whether the C++ compiler works... yes\n",
      "checking for C++ compiler default output file name... a.out\n",
      "checking for suffix of executables... \n",
      "checking whether we are cross compiling... no\n",
      "checking for suffix of object files... o\n",
      "checking whether we are using the GNU C++ compiler... yes\n",
      "checking whether g++ accepts -g... yes\n",
      "checking for gcc... gcc\n",
      "checking whether we are using the GNU C compiler... yes\n",
      "checking whether gcc accepts -g... yes\n",
      "checking for gcc option to accept ISO C89... none needed\n",
      "checking for ranlib... ranlib\n",
      "checking for ar... ar\n",
      "checking how to run the C preprocessor... gcc -E\n",
      "checking for grep that handles long lines and -e... /usr/bin/grep\n",
      "checking for egrep... /usr/bin/grep -E\n",
      "checking for ANSI C header files... yes\n",
      "checking for sys/types.h... yes\n",
      "checking for sys/stat.h... yes\n",
      "checking for stdlib.h... yes\n",
      "checking for string.h... yes\n",
      "checking for memory.h... yes\n",
      "checking for strings.h... yes\n",
      "checking for inttypes.h... yes\n",
      "checking for stdint.h... yes\n",
      "checking for unistd.h... yes\n",
      "checking whether byte ordering is bigendian... no\n",
      "configure: creating ./config.status\n",
      "config.status: creating config/config\n"
     ]
    },
    {
     "name": "stderr",
     "output_type": "stream",
     "text": [
      "Check system type\n",
      "Remake modincludes.inc\n",
      "\tNATIVE_AUDIO\n",
      "\t\tok\n",
      "\tEDITLINE\n",
      "\t\tconfig/modules/editline.mak\n",
      "\tSIOD\n",
      "\t\tok\n",
      "\tWAGON\n",
      "\t\tok\n",
      "\tSCFG\n",
      "\t\tok\n",
      "\tWFST\n",
      "\t\tok\n",
      "\tOLS\n",
      "\t\tok\n",
      "\tRXP\n",
      "\t\tsrc/modules/rxp/rxp.mak\n",
      "\tclunits\n",
      "\t\tunknown module in src/modules/clunits\n",
      "\tclustergen\n",
      "\t\tunknown module in src/modules/clustergen\n",
      "\tMultiSyn\n",
      "\t\tunknown module in src/modules/MultiSyn\n",
      "\thts_engine\n",
      "\t\tunknown module in src/modules/hts_engine\n",
      "\tLINUX16_AUDIO\n",
      "\t\tconfig/modules/linux16_audio.mak\n"
     ]
    },
    {
     "name": "stdout",
     "output_type": "stream",
     "text": [
      "Making in directory ./src ...\n",
      "Making in directory src/arch ...\n",
      "Making in directory src/arch/festival ...\n",
      "making dependencies -- festival.cc Phone.cc utterance.cc features.cc wave.cc wagon_interp.cc linreg.cc audspio.cc server.cc client.cc web.cc tcl.cc wfst.cc ngram.cc viterbi.cc ModuleDescription.cc \n",
      "g++ -c  -fno-implicit-templates  -fopenmp -DOMP_WAGON=1 -O3 -Wall           -I../../../src/include -I../../../../speech_tools/include      -g -O2 -DINSTANTIATE_TEMPLATES -DFTNAME='Festival Speech Synthesis System' -DFTLIBDIRC='/home/ec2-user/SageMaker/espnet/tools/festival/lib ' -DFTVERSION='2.5.1' -DFTSTATE='current'  -DFTDATE='July 2020' -DFTOSTYPE=\\\"unknown_Linux\\\" festival.cc\n",
      "g++ -c -fno-implicit-templates -fopenmp -DOMP_WAGON=1 -O3 -Wall -I../../../src/include -I../../../../speech_tools/include -g -O2 Phone.cc\n",
      "g++ -c -fno-implicit-templates -fopenmp -DOMP_WAGON=1 -O3 -Wall -I../../../src/include -I../../../../speech_tools/include -g -O2 utterance.cc\n",
      "g++ -c -fno-implicit-templates -fopenmp -DOMP_WAGON=1 -O3 -Wall -I../../../src/include -I../../../../speech_tools/include -g -O2 features.cc\n",
      "g++ -c -fno-implicit-templates -fopenmp -DOMP_WAGON=1 -O3 -Wall -I../../../src/include -I../../../../speech_tools/include -g -O2 wave.cc\n",
      "g++ -c -fno-implicit-templates -fopenmp -DOMP_WAGON=1 -O3 -Wall -I../../../src/include -I../../../../speech_tools/include -g -O2 wagon_interp.cc\n",
      "g++ -c -fno-implicit-templates -fopenmp -DOMP_WAGON=1 -O3 -Wall -I../../../src/include -I../../../../speech_tools/include -g -O2 linreg.cc\n",
      "g++ -c -fno-implicit-templates -fopenmp -DOMP_WAGON=1 -O3 -Wall -I../../../src/include -I../../../../speech_tools/include -g -O2 audspio.cc\n",
      "g++ -c -fno-implicit-templates -fopenmp -DOMP_WAGON=1 -O3 -Wall -I../../../src/include -I../../../../speech_tools/include -g -O2 server.cc\n",
      "g++ -c -fno-implicit-templates -fopenmp -DOMP_WAGON=1 -O3 -Wall -I../../../src/include -I../../../../speech_tools/include -g -O2 client.cc\n",
      "g++ -c -fno-implicit-templates -fopenmp -DOMP_WAGON=1 -O3 -Wall -I../../../src/include -I../../../../speech_tools/include -g -O2 web.cc\n",
      "g++ -c -fno-implicit-templates -fopenmp -DOMP_WAGON=1 -O3 -Wall -I../../../src/include -I../../../../speech_tools/include -g -O2 tcl.cc\n",
      "g++ -c -fno-implicit-templates -fopenmp -DOMP_WAGON=1 -O3 -Wall -I../../../src/include -I../../../../speech_tools/include -g -O2 wfst.cc\n",
      "g++ -c -fno-implicit-templates -fopenmp -DOMP_WAGON=1 -O3 -Wall -I../../../src/include -I../../../../speech_tools/include -g -O2 ngram.cc\n",
      "g++ -c -fno-implicit-templates -fopenmp -DOMP_WAGON=1 -O3 -Wall -I../../../src/include -I../../../../speech_tools/include -g -O2 viterbi.cc\n",
      "g++ -c -fno-implicit-templates -fopenmp -DOMP_WAGON=1 -O3 -Wall -I../../../src/include -I../../../../speech_tools/include -g -O2 ModuleDescription.cc\n",
      "look at library Festival festival.o Phone.o utterance.o features.o wave.o wagon_interp.o linreg.o audspio.o server.o client.o web.o tcl.o wfst.o ngram.o viterbi.o ModuleDescription.o\n",
      "Update library Festival festival.o Phone.o utterance.o features.o wave.o wagon_interp.o linreg.o audspio.o server.o client.o web.o tcl.o wfst.o ngram.o viterbi.o ModuleDescription.o\n",
      "a - festival.o\n",
      "a - Phone.o\n",
      "a - utterance.o\n",
      "a - features.o\n",
      "a - wave.o\n",
      "a - wagon_interp.o\n",
      "a - linreg.o\n",
      "a - audspio.o\n",
      "a - server.o\n",
      "a - client.o\n",
      "a - web.o\n",
      "a - tcl.o\n",
      "a - wfst.o\n",
      "a - ngram.o\n",
      "a - viterbi.o\n",
      "a - ModuleDescription.o\n",
      "Making in directory src/modules ...\n",
      "Making init_modules.cc\n",
      "g++ -c -fno-implicit-templates -fopenmp -DOMP_WAGON=1 -O3 -Wall -I./Database -I../../src/include -I../../../speech_tools/include -g -O2 init_modules.cc\n",
      "look at library Festival init_modules.o\n",
      "Update library Festival init_modules.o\n",
      "a - init_modules.o\n",
      "Making in directory src/modules/rxp ...\n",
      "making dependencies -- ttsxml.cc \n",
      "g++ -c -fno-implicit-templates -fopenmp -DOMP_WAGON=1 -O3 -Wall -DCHAR_SIZE=8 -I../include -I../../../../speech_tools/include/rxp -I../../../src/include -I../../../../speech_tools/include -g -O2 ttsxml.cc\n",
      "look at library Festival ttsxml.o\n",
      "Update library Festival ttsxml.o\n",
      "a - ttsxml.o\n",
      "Making in directory src/modules/clunits ...\n",
      "making dependencies -- acost.cc clunits.cc cldb.cc cljoin.cc \n",
      "g++ -c -fno-implicit-templates -fopenmp -DOMP_WAGON=1 -O3 -Wall -I../include -I../UniSyn -I../../../src/include -I../../../../speech_tools/include -g -O2 acost.cc\n",
      "g++ -c -fno-implicit-templates -fopenmp -DOMP_WAGON=1 -O3 -Wall -I../include -I../UniSyn -I../../../src/include -I../../../../speech_tools/include -g -O2 clunits.cc\n",
      "g++ -c -fno-implicit-templates -fopenmp -DOMP_WAGON=1 -O3 -Wall -I../include -I../UniSyn -I../../../src/include -I../../../../speech_tools/include -g -O2 cldb.cc\n",
      "g++ -c -fno-implicit-templates -fopenmp -DOMP_WAGON=1 -O3 -Wall -I../include -I../UniSyn -I../../../src/include -I../../../../speech_tools/include -g -O2 cljoin.cc\n",
      "look at library Festival acost.o clunits.o cldb.o cljoin.o\n",
      "Update library Festival acost.o clunits.o cldb.o cljoin.o\n",
      "a - acost.o\n",
      "a - clunits.o\n",
      "a - cldb.o\n",
      "a - cljoin.o\n",
      "Making in directory src/modules/clustergen ...\n",
      "making dependencies -- clustergen.cc mlsa_resynthesis.cc vc.cc simple_mlpg.cc HTS_vocoder_me.cc \n",
      "g++ -c -fno-implicit-templates -fopenmp -DOMP_WAGON=1 -O3 -Wall -I../include -I ../hts_engine -DFESTIVAL -I../../../src/include -I../../../../speech_tools/include -g -O2 clustergen.cc\n",
      "g++ -c -fno-implicit-templates -fopenmp -DOMP_WAGON=1 -O3 -Wall -I../include -I ../hts_engine -DFESTIVAL -I../../../src/include -I../../../../speech_tools/include -g -O2 mlsa_resynthesis.cc\n",
      "g++ -c -fno-implicit-templates -fopenmp -DOMP_WAGON=1 -O3 -Wall -I../include -I ../hts_engine -DFESTIVAL -I../../../src/include -I../../../../speech_tools/include -g -O2 vc.cc\n",
      "g++ -c -fno-implicit-templates -fopenmp -DOMP_WAGON=1 -O3 -Wall -I../include -I ../hts_engine -DFESTIVAL -I../../../src/include -I../../../../speech_tools/include -g -O2 simple_mlpg.cc\n",
      "g++ -c -fno-implicit-templates -fopenmp -DOMP_WAGON=1 -O3 -Wall -I../include -I ../hts_engine -DFESTIVAL -I../../../src/include -I../../../../speech_tools/include -g -O2 HTS_vocoder_me.cc\n",
      "look at library Festival clustergen.o mlsa_resynthesis.o vc.o simple_mlpg.o HTS_vocoder_me.o\n",
      "Update library Festival clustergen.o mlsa_resynthesis.o vc.o simple_mlpg.o HTS_vocoder_me.o\n",
      "a - clustergen.o\n",
      "a - mlsa_resynthesis.o\n",
      "a - vc.o\n",
      "a - simple_mlpg.o\n",
      "a - HTS_vocoder_me.o\n",
      "Making in directory src/modules/MultiSyn ...\n",
      "making dependencies -- UnitSelection.cc VoiceBase.cc DiphoneUnitVoice.cc VoiceModuleBase.cc DiphoneVoiceModule.cc EST_TargetCost.cc TargetCostRescoring.cc EST_JoinCost.cc EST_JoinCostCache.cc DiphoneBackoff.cc EST_DiphoneCoverage.cc EST_FlatTargetCost.cc EST_HybridTargetCost.cc \n",
      "g++ -c -fno-implicit-templates -fopenmp -DOMP_WAGON=1 -O3 -Wall -I../include -I../../../src/include -I../../../../speech_tools/include -g -O2 UnitSelection.cc\n",
      "g++ -c -fno-implicit-templates -fopenmp -DOMP_WAGON=1 -O3 -Wall -I../include -I../../../src/include -I../../../../speech_tools/include -g -O2 VoiceBase.cc\n",
      "g++ -c -fno-implicit-templates -fopenmp -DOMP_WAGON=1 -O3 -Wall -I../include -I../../../src/include -I../../../../speech_tools/include -g -O2 DiphoneUnitVoice.cc\n",
      "g++ -c -fno-implicit-templates -fopenmp -DOMP_WAGON=1 -O3 -Wall -I../include -I../../../src/include -I../../../../speech_tools/include -g -O2 VoiceModuleBase.cc\n",
      "g++ -c -fno-implicit-templates -fopenmp -DOMP_WAGON=1 -O3 -Wall -I../include -I../../../src/include -I../../../../speech_tools/include -g -O2 DiphoneVoiceModule.cc\n",
      "g++ -c -fno-implicit-templates -fopenmp -DOMP_WAGON=1 -O3 -Wall -I../include -I../../../src/include -I../../../../speech_tools/include -g -O2 EST_TargetCost.cc\n",
      "g++ -c -fno-implicit-templates -fopenmp -DOMP_WAGON=1 -O3 -Wall -I../include -I../../../src/include -I../../../../speech_tools/include -g -O2 TargetCostRescoring.cc\n",
      "g++ -c -fno-implicit-templates -fopenmp -DOMP_WAGON=1 -O3 -Wall -I../include -I../../../src/include -I../../../../speech_tools/include -g -O2 EST_JoinCost.cc\n",
      "g++ -c -fno-implicit-templates -fopenmp -DOMP_WAGON=1 -O3 -Wall -I../include -I../../../src/include -I../../../../speech_tools/include -g -O2 EST_JoinCostCache.cc\n",
      "g++ -c -fno-implicit-templates -fopenmp -DOMP_WAGON=1 -O3 -Wall -I../include -I../../../src/include -I../../../../speech_tools/include -g -O2 DiphoneBackoff.cc\n",
      "g++ -c -fno-implicit-templates -fopenmp -DOMP_WAGON=1 -O3 -Wall -I../include -I../../../src/include -I../../../../speech_tools/include -g -O2 EST_DiphoneCoverage.cc\n",
      "g++ -c -fno-implicit-templates -fopenmp -DOMP_WAGON=1 -O3 -Wall -I../include -I../../../src/include -I../../../../speech_tools/include -g -O2 EST_FlatTargetCost.cc\n",
      "g++ -c -fno-implicit-templates -fopenmp -DOMP_WAGON=1 -O3 -Wall -I../include -I../../../src/include -I../../../../speech_tools/include -g -O2 EST_HybridTargetCost.cc\n",
      "look at library Festival UnitSelection.o VoiceBase.o DiphoneUnitVoice.o VoiceModuleBase.o DiphoneVoiceModule.o EST_TargetCost.o TargetCostRescoring.o EST_JoinCost.o EST_JoinCostCache.o DiphoneBackoff.o EST_DiphoneCoverage.o EST_FlatTargetCost.o EST_HybridTargetCost.o\n",
      "Update library Festival UnitSelection.o VoiceBase.o DiphoneUnitVoice.o VoiceModuleBase.o DiphoneVoiceModule.o EST_TargetCost.o TargetCostRescoring.o EST_JoinCost.o EST_JoinCostCache.o DiphoneBackoff.o EST_DiphoneCoverage.o EST_FlatTargetCost.o EST_HybridTargetCost.o\n",
      "a - UnitSelection.o\n",
      "a - VoiceBase.o\n",
      "a - DiphoneUnitVoice.o\n",
      "a - VoiceModuleBase.o\n",
      "a - DiphoneVoiceModule.o\n",
      "a - EST_TargetCost.o\n",
      "a - TargetCostRescoring.o\n",
      "a - EST_JoinCost.o\n",
      "a - EST_JoinCostCache.o\n",
      "a - DiphoneBackoff.o\n",
      "a - EST_DiphoneCoverage.o\n",
      "a - EST_FlatTargetCost.o\n",
      "a - EST_HybridTargetCost.o\n",
      "Making in directory src/modules/MultiSyn/inst_tmpl ...\n",
      "making dependencies -- hash_s_itemlistp_t.cc hash_itemp_tcdatap_t.cc list_uttp_t.cc list_itemp_t.cc list_voicemodulep_t.cc list_strlist_t.cc vector_jccp_t.cc list_scorepair_t.cc \n",
      "g++ -c -fno-implicit-templates -fopenmp -DOMP_WAGON=1 -O3 -Wall -I../../../../src/modules/MultiSyn -I../../../../src/include -I../../../../../speech_tools/include -g -O2 -DINSTANTIATE_TEMPLATES hash_s_itemlistp_t.cc\n",
      "g++ -c -fno-implicit-templates -fopenmp -DOMP_WAGON=1 -O3 -Wall -I../../../../src/modules/MultiSyn -I../../../../src/include -I../../../../../speech_tools/include -g -O2 -DINSTANTIATE_TEMPLATES hash_itemp_tcdatap_t.cc\n",
      "g++ -c -fno-implicit-templates -fopenmp -DOMP_WAGON=1 -O3 -Wall -I../../../../src/modules/MultiSyn -I../../../../src/include -I../../../../../speech_tools/include -g -O2 -DINSTANTIATE_TEMPLATES list_uttp_t.cc\n",
      "g++ -c -fno-implicit-templates -fopenmp -DOMP_WAGON=1 -O3 -Wall -I../../../../src/modules/MultiSyn -I../../../../src/include -I../../../../../speech_tools/include -g -O2 -DINSTANTIATE_TEMPLATES list_itemp_t.cc\n",
      "g++ -c -fno-implicit-templates -fopenmp -DOMP_WAGON=1 -O3 -Wall -I../../../../src/modules/MultiSyn -I../../../../src/include -I../../../../../speech_tools/include -g -O2 -DINSTANTIATE_TEMPLATES list_voicemodulep_t.cc\n",
      "g++ -c -fno-implicit-templates -fopenmp -DOMP_WAGON=1 -O3 -Wall -I../../../../src/modules/MultiSyn -I../../../../src/include -I../../../../../speech_tools/include -g -O2 -DINSTANTIATE_TEMPLATES list_strlist_t.cc\n",
      "g++ -c -fno-implicit-templates -fopenmp -DOMP_WAGON=1 -O3 -Wall -I../../../../src/modules/MultiSyn -I../../../../src/include -I../../../../../speech_tools/include -g -O2 -DINSTANTIATE_TEMPLATES vector_jccp_t.cc\n",
      "g++ -c -fno-implicit-templates -fopenmp -DOMP_WAGON=1 -O3 -Wall -I../../../../src/modules/MultiSyn -I../../../../src/include -I../../../../../speech_tools/include -g -O2 -DINSTANTIATE_TEMPLATES list_scorepair_t.cc\n",
      "look at library Festival hash_s_itemlistp_t.o hash_itemp_tcdatap_t.o list_uttp_t.o list_itemp_t.o list_voicemodulep_t.o list_strlist_t.o vector_jccp_t.o list_scorepair_t.o\n",
      "Update library Festival hash_s_itemlistp_t.o hash_itemp_tcdatap_t.o list_uttp_t.o list_itemp_t.o list_voicemodulep_t.o list_strlist_t.o vector_jccp_t.o list_scorepair_t.o\n",
      "a - hash_s_itemlistp_t.o\n",
      "a - hash_itemp_tcdatap_t.o\n",
      "a - list_uttp_t.o\n",
      "a - list_itemp_t.o\n",
      "a - list_voicemodulep_t.o\n",
      "a - list_strlist_t.o\n",
      "a - vector_jccp_t.o\n",
      "a - list_scorepair_t.o\n",
      "Making in directory src/modules/hts_engine ...\n",
      "making dependencies -- fest2hts_engine.cc HTS_audio.c HTS_engine.c HTS_gstream.c HTS_label.c HTS_misc.c HTS_model.c HTS_pstream.c HTS_sstream.c HTS_vocoder.c \n",
      "g++ -c -fno-implicit-templates -fopenmp -DOMP_WAGON=1 -O3 -Wall -I ../include -D FESTIVAL -I../../../src/include -I../../../../speech_tools/include -g -O2 fest2hts_engine.cc\n",
      "gcc -c -O3 -Wall -I ../include -D FESTIVAL -I../../../src/include -I../../../../speech_tools/include -g -O2 HTS_audio.c\n",
      "gcc -c -O3 -Wall -I ../include -D FESTIVAL -I../../../src/include -I../../../../speech_tools/include -g -O2 HTS_engine.c\n",
      "gcc -c -O3 -Wall -I ../include -D FESTIVAL -I../../../src/include -I../../../../speech_tools/include -g -O2 HTS_gstream.c\n",
      "gcc -c -O3 -Wall -I ../include -D FESTIVAL -I../../../src/include -I../../../../speech_tools/include -g -O2 HTS_label.c\n",
      "gcc -c -O3 -Wall -I ../include -D FESTIVAL -I../../../src/include -I../../../../speech_tools/include -g -O2 HTS_misc.c\n",
      "gcc -c -O3 -Wall -I ../include -D FESTIVAL -I../../../src/include -I../../../../speech_tools/include -g -O2 HTS_model.c\n",
      "gcc -c -O3 -Wall -I ../include -D FESTIVAL -I../../../src/include -I../../../../speech_tools/include -g -O2 HTS_pstream.c\n",
      "gcc -c -O3 -Wall -I ../include -D FESTIVAL -I../../../src/include -I../../../../speech_tools/include -g -O2 HTS_sstream.c\n",
      "gcc -c -O3 -Wall -I ../include -D FESTIVAL -I../../../src/include -I../../../../speech_tools/include -g -O2 HTS_vocoder.c\n",
      "look at library Festival fest2hts_engine.o HTS_audio.o HTS_engine.o HTS_gstream.o HTS_label.o HTS_misc.o HTS_model.o HTS_pstream.o HTS_sstream.o HTS_vocoder.o\n",
      "Update library Festival fest2hts_engine.o HTS_audio.o HTS_engine.o HTS_gstream.o HTS_label.o HTS_misc.o HTS_model.o HTS_pstream.o HTS_sstream.o HTS_vocoder.o\n",
      "a - fest2hts_engine.o\n",
      "a - HTS_audio.o\n",
      "a - HTS_engine.o\n",
      "a - HTS_gstream.o\n",
      "a - HTS_label.o\n",
      "a - HTS_misc.o\n",
      "a - HTS_model.o\n",
      "a - HTS_pstream.o\n",
      "a - HTS_sstream.o\n",
      "a - HTS_vocoder.o\n",
      "Making in directory src/modules/Lexicon ...\n",
      "making dependencies -- lex_aux.cc lexicon.cc lts.cc lts_rules.cc complex.cc lex_ff.cc \n",
      "g++ -c -fno-implicit-templates -fopenmp -DOMP_WAGON=1 -O3 -Wall -I../include -I../../../src/include -I../../../../speech_tools/include -g -O2 lex_aux.cc\n",
      "g++ -c -fno-implicit-templates -fopenmp -DOMP_WAGON=1 -O3 -Wall -I../include -I../../../src/include -I../../../../speech_tools/include -g -O2 lexicon.cc\n",
      "g++ -c -fno-implicit-templates -fopenmp -DOMP_WAGON=1 -O3 -Wall -I../include -I../../../src/include -I../../../../speech_tools/include -g -O2 lts.cc\n",
      "g++ -c -fno-implicit-templates -fopenmp -DOMP_WAGON=1 -O3 -Wall -I../include -I../../../src/include -I../../../../speech_tools/include -g -O2 lts_rules.cc\n",
      "g++ -c -fno-implicit-templates -fopenmp -DOMP_WAGON=1 -O3 -Wall -I../include -I../../../src/include -I../../../../speech_tools/include -g -O2 complex.cc\n",
      "g++ -c -fno-implicit-templates -fopenmp -DOMP_WAGON=1 -O3 -Wall -I../include -I../../../src/include -I../../../../speech_tools/include -g -O2 lex_ff.cc\n",
      "look at library Festival lex_aux.o lexicon.o lts.o lts_rules.o complex.o lex_ff.o\n",
      "Update library Festival lex_aux.o lexicon.o lts.o lts_rules.o complex.o lex_ff.o\n",
      "a - lex_aux.o\n",
      "a - lexicon.o\n",
      "a - lts.o\n",
      "a - lts_rules.o\n",
      "a - complex.o\n",
      "a - lex_ff.o\n",
      "Making in directory src/modules/base ...\n",
      "making dependencies -- modules.cc module_support.cc parameters.cc ff.cc pos.cc phrasify.cc word.cc postlex.cc phrinfo.cc \n",
      "g++ -c -fno-implicit-templates -fopenmp -DOMP_WAGON=1 -O3 -Wall -I../include -I../../../src/include -I../../../../speech_tools/include -g -O2 modules.cc\n",
      "g++ -c -fno-implicit-templates -fopenmp -DOMP_WAGON=1 -O3 -Wall -I../include -I../../../src/include -I../../../../speech_tools/include -g -O2 module_support.cc\n",
      "g++ -c -fno-implicit-templates -fopenmp -DOMP_WAGON=1 -O3 -Wall -I../include -I../../../src/include -I../../../../speech_tools/include -g -O2 parameters.cc\n",
      "g++ -c -fno-implicit-templates -fopenmp -DOMP_WAGON=1 -O3 -Wall -I../include -I../../../src/include -I../../../../speech_tools/include -g -O2 ff.cc\n",
      "g++ -c -fno-implicit-templates -fopenmp -DOMP_WAGON=1 -O3 -Wall -I../include -I../../../src/include -I../../../../speech_tools/include -g -O2 pos.cc\n",
      "g++ -c -fno-implicit-templates -fopenmp -DOMP_WAGON=1 -O3 -Wall -I../include -I../../../src/include -I../../../../speech_tools/include -g -O2 phrasify.cc\n",
      "g++ -c -fno-implicit-templates -fopenmp -DOMP_WAGON=1 -O3 -Wall -I../include -I../../../src/include -I../../../../speech_tools/include -g -O2 word.cc\n",
      "g++ -c -fno-implicit-templates -fopenmp -DOMP_WAGON=1 -O3 -Wall -I../include -I../../../src/include -I../../../../speech_tools/include -g -O2 postlex.cc\n",
      "g++ -c -fno-implicit-templates -fopenmp -DOMP_WAGON=1 -O3 -Wall -I../include -I../../../src/include -I../../../../speech_tools/include -g -O2 phrinfo.cc\n",
      "look at library Festival modules.o module_support.o parameters.o ff.o pos.o phrasify.o word.o postlex.o phrinfo.o\n",
      "Update library Festival modules.o module_support.o parameters.o ff.o pos.o phrasify.o word.o postlex.o phrinfo.o\n",
      "a - modules.o\n",
      "a - module_support.o\n",
      "a - parameters.o\n",
      "a - ff.o\n",
      "a - pos.o\n",
      "a - phrasify.o\n",
      "a - word.o\n",
      "a - postlex.o\n",
      "a - phrinfo.o\n",
      "Making in directory src/modules/Duration ...\n",
      "making dependencies -- dur_aux.cc duration.cc Klatt.cc \n",
      "g++ -c -fno-implicit-templates -fopenmp -DOMP_WAGON=1 -O3 -Wall -I../include -I../../../src/include -I../../../../speech_tools/include -g -O2 dur_aux.cc\n",
      "g++ -c -fno-implicit-templates -fopenmp -DOMP_WAGON=1 -O3 -Wall -I../include -I../../../src/include -I../../../../speech_tools/include -g -O2 duration.cc\n",
      "g++ -c -fno-implicit-templates -fopenmp -DOMP_WAGON=1 -O3 -Wall -I../include -I../../../src/include -I../../../../speech_tools/include -g -O2 Klatt.cc\n",
      "look at library Festival dur_aux.o duration.o Klatt.o\n",
      "Update library Festival dur_aux.o duration.o Klatt.o\n",
      "a - dur_aux.o\n",
      "a - duration.o\n",
      "a - Klatt.o\n",
      "Making in directory src/modules/Intonation ...\n",
      "making dependencies -- int_aux.cc duffint.cc simple.cc gen_int.cc int_tree.cc \n",
      "g++ -c -fno-implicit-templates -fopenmp -DOMP_WAGON=1 -O3 -Wall -I../include -I../../../src/include -I../../../../speech_tools/include -g -O2 int_aux.cc\n",
      "g++ -c -fno-implicit-templates -fopenmp -DOMP_WAGON=1 -O3 -Wall -I../include -I../../../src/include -I../../../../speech_tools/include -g -O2 duffint.cc\n",
      "g++ -c -fno-implicit-templates -fopenmp -DOMP_WAGON=1 -O3 -Wall -I../include -I../../../src/include -I../../../../speech_tools/include -g -O2 simple.cc\n",
      "g++ -c -fno-implicit-templates -fopenmp -DOMP_WAGON=1 -O3 -Wall -I../include -I../../../src/include -I../../../../speech_tools/include -g -O2 gen_int.cc\n"
     ]
    },
    {
     "name": "stderr",
     "output_type": "stream",
     "text": [
      "gen_int.cc: In function ‘obj* FT_Int_Targets_General_Utt(LISP)’:\n",
      "gen_int.cc:61:19: warning: variable ‘targrel’ set but not used [-Wunused-but-set-variable]\n",
      "     EST_Relation *targrel;\n",
      "                   ^~~~~~~\n"
     ]
    },
    {
     "name": "stdout",
     "output_type": "stream",
     "text": [
      "g++ -c -fno-implicit-templates -fopenmp -DOMP_WAGON=1 -O3 -Wall -I../include -I../../../src/include -I../../../../speech_tools/include -g -O2 int_tree.cc\n",
      "look at library Festival int_aux.o duffint.o simple.o gen_int.o int_tree.o\n",
      "Update library Festival int_aux.o duffint.o simple.o gen_int.o int_tree.o\n",
      "a - int_aux.o\n",
      "a - duffint.o\n",
      "a - simple.o\n",
      "a - gen_int.o\n",
      "a - int_tree.o\n",
      "Making in directory src/modules/Text ...\n",
      "making dependencies -- text_aux.cc token.cc text.cc tok_ext.cc token_pos.cc xxml.cc text_modes.cc \n",
      "g++ -c -fno-implicit-templates -fopenmp -DOMP_WAGON=1 -O3 -Wall -I../../../src/include -I../../../../speech_tools/include -g -O2 text_aux.cc\n",
      "g++ -c -fno-implicit-templates -fopenmp -DOMP_WAGON=1 -O3 -Wall -I../../../src/include -I../../../../speech_tools/include -g -O2 token.cc\n",
      "g++ -c -fno-implicit-templates -fopenmp -DOMP_WAGON=1 -O3 -Wall -I../../../src/include -I../../../../speech_tools/include -g -O2 text.cc\n",
      "g++ -c -fno-implicit-templates -fopenmp -DOMP_WAGON=1 -O3 -Wall -I../../../src/include -I../../../../speech_tools/include -g -O2 tok_ext.cc\n",
      "g++ -c -fno-implicit-templates -fopenmp -DOMP_WAGON=1 -O3 -Wall -I../../../src/include -I../../../../speech_tools/include -g -O2 token_pos.cc\n",
      "g++ -c -fno-implicit-templates -fopenmp -DOMP_WAGON=1 -O3 -Wall -I../../../src/include -I../../../../speech_tools/include -g -O2 xxml.cc\n",
      "g++ -c -fno-implicit-templates -fopenmp -DOMP_WAGON=1 -O3 -Wall -I../../../src/include -I../../../../speech_tools/include -g -O2 text_modes.cc\n",
      "look at library Festival text_aux.o token.o text.o tok_ext.o token_pos.o xxml.o text_modes.o\n",
      "Update library Festival text_aux.o token.o text.o tok_ext.o token_pos.o xxml.o text_modes.o\n",
      "a - text_aux.o\n",
      "a - token.o\n",
      "a - text.o\n",
      "a - tok_ext.o\n",
      "a - token_pos.o\n",
      "a - xxml.o\n",
      "a - text_modes.o\n",
      "Making in directory src/modules/UniSyn ...\n",
      "making dependencies -- UniSyn.cc us_prosody.cc us_unit.cc ps_synthesis.cc us_mapping.cc us_features.cc \n",
      "g++ -c  -fno-implicit-templates  -fopenmp -DOMP_WAGON=1 -O3 -Wall           -I../../../src/include -I../../../../speech_tools/include      -g -O2  UniSyn.cc -o UniSyn.o\n",
      "g++ -c -fno-implicit-templates -fopenmp -DOMP_WAGON=1 -O3 -Wall -I../../../src/include -I../../../../speech_tools/include -g -O2 us_prosody.cc\n",
      "g++ -c -fno-implicit-templates -fopenmp -DOMP_WAGON=1 -O3 -Wall -I../../../src/include -I../../../../speech_tools/include -g -O2 us_unit.cc\n",
      "g++ -c -fno-implicit-templates -fopenmp -DOMP_WAGON=1 -O3 -Wall -I../../../src/include -I../../../../speech_tools/include -g -O2 ps_synthesis.cc\n",
      "g++ -c -fno-implicit-templates -fopenmp -DOMP_WAGON=1 -O3 -Wall -I../../../src/include -I../../../../speech_tools/include -g -O2 us_mapping.cc\n",
      "g++ -c -fno-implicit-templates -fopenmp -DOMP_WAGON=1 -O3 -Wall -I../../../src/include -I../../../../speech_tools/include -g -O2 us_features.cc\n",
      "look at library Festival UniSyn.o us_prosody.o us_unit.o ps_synthesis.o us_mapping.o us_features.o\n",
      "Update library Festival UniSyn.o us_prosody.o us_unit.o ps_synthesis.o us_mapping.o us_features.o\n",
      "a - UniSyn.o\n",
      "a - us_prosody.o\n",
      "a - us_unit.o\n",
      "a - ps_synthesis.o\n",
      "a - us_mapping.o\n",
      "a - us_features.o\n",
      "Making in directory src/modules/donovan ...\n",
      "making dependencies -- makewav.c load_diphs.c coeffs.c excitation.c pitch.c durations.c donovan.cc \n",
      "gcc -c -O3 -Wall -I../include -I../../../src/include -I../../../../speech_tools/include -g -O2 makewav.c\n",
      "gcc -c -O3 -Wall -I../include -I../../../src/include -I../../../../speech_tools/include -g -O2 load_diphs.c\n",
      "gcc -c -O3 -Wall -I../include -I../../../src/include -I../../../../speech_tools/include -g -O2 coeffs.c\n",
      "gcc -c -O3 -Wall -I../include -I../../../src/include -I../../../../speech_tools/include -g -O2 excitation.c\n",
      "gcc -c -O3 -Wall -I../include -I../../../src/include -I../../../../speech_tools/include -g -O2 pitch.c\n",
      "gcc -c -O3 -Wall -I../include -I../../../src/include -I../../../../speech_tools/include -g -O2 durations.c\n",
      "g++ -c -fno-implicit-templates -fopenmp -DOMP_WAGON=1 -O3 -Wall -I../include -I../../../src/include -I../../../../speech_tools/include -g -O2 donovan.cc\n",
      "look at library Festival makewav.o load_diphs.o coeffs.o excitation.o pitch.o durations.o donovan.o\n",
      "Update library Festival makewav.o load_diphs.o coeffs.o excitation.o pitch.o durations.o donovan.o\n",
      "a - makewav.o\n",
      "a - load_diphs.o\n",
      "a - coeffs.o\n",
      "a - excitation.o\n",
      "a - pitch.o\n",
      "a - durations.o\n",
      "a - donovan.o\n",
      "Making in directory src/modules/parser ...\n",
      "making dependencies -- pparser.cc \n",
      "g++ -c -fno-implicit-templates -fopenmp -DOMP_WAGON=1 -O3 -Wall -I../include -I../../../src/include -I../../../../speech_tools/include -g -O2 pparser.cc\n",
      "look at library Festival pparser.o\n",
      "Update library Festival pparser.o\n",
      "a - pparser.o\n",
      "Making in directory src/modules/UniSyn_diphone ...\n",
      "making dependencies -- UniSyn_diphone.cc us_diphone_unit.cc us_diphone_index.cc \n",
      "g++ -c -fno-implicit-templates -fopenmp -DOMP_WAGON=1 -O3 -Wall -I../../../src/include -I../../../../speech_tools/include -g -O2 UniSyn_diphone.cc\n",
      "g++ -c -fno-implicit-templates -fopenmp -DOMP_WAGON=1 -O3 -Wall -I../../../src/include -I../../../../speech_tools/include -g -O2 us_diphone_unit.cc\n",
      "g++ -c -fno-implicit-templates -fopenmp -DOMP_WAGON=1 -O3 -Wall -I../../../src/include -I../../../../speech_tools/include -g -O2 us_diphone_index.cc\n",
      "look at library Festival UniSyn_diphone.o us_diphone_unit.o us_diphone_index.o\n",
      "Update library Festival UniSyn_diphone.o us_diphone_unit.o us_diphone_index.o\n",
      "a - UniSyn_diphone.o\n",
      "a - us_diphone_unit.o\n",
      "a - us_diphone_index.o\n",
      "rm init_modules.o\n",
      "Making in directory src/main ...\n",
      "making dependencies -- festival_main.cc audsp.cc festival_client.cc \n",
      "g++ -c -fno-implicit-templates -fopenmp -DOMP_WAGON=1 -O3 -Wall -I../../src/include -I../../../speech_tools/include -g -O2 festival_main.cc\n",
      "g++ -O3 -Wall     -o festival festival_main.o   -L../../src/lib -lFestival -L../../../speech_tools/lib -lestools -L../../../speech_tools/lib -lestbase -L../../../speech_tools/lib -leststring  -lncurses    -lm  -fopenmp \n",
      "g++ -c -fno-implicit-templates -fopenmp -DOMP_WAGON=1 -O3 -Wall -I../../src/include -I../../../speech_tools/include -g -O2 festival_client.cc\n",
      "g++ -O3 -Wall     -o festival_client festival_client.o   -L../../src/lib -lFestival -L../../../speech_tools/lib -lestools -L../../../speech_tools/lib -lestbase -L../../../speech_tools/lib -leststring  -lncurses    -lm  -fopenmp \n",
      "g++ -c -fno-implicit-templates -fopenmp -DOMP_WAGON=1 -O3 -Wall -I../../src/include -I../../../speech_tools/include -g -O2 audsp.cc\n",
      "g++ -O3 -Wall     -o ../../lib/etc/unknown_Linux/audsp audsp.o   -L../../src/lib -lFestival -L../../../speech_tools/lib -lestools -L../../../speech_tools/lib -lestbase -L../../../speech_tools/lib -leststring  -lncurses    -lm  -fopenmp \n",
      "Making in directory ./lib ...\n",
      "Copy siod.scm from EST/lib/siod\n",
      "Copy web.scm from EST/lib/siod\n",
      "Copy cstr.scm from EST/lib/siod\n",
      "Copy fringe.scm from EST/lib/siod\n",
      "Making in directory lib/etc ...\n",
      "Making in directory lib/multisyn ...\n",
      "Making in directory ./examples ...\n",
      "rm -f saytime\n",
      "cat saytime.sh >>saytime\n",
      "chmod +x saytime\n",
      "rm -f text2pos\n",
      "cat text2pos.sh >>text2pos\n",
      "chmod +x text2pos\n",
      "rm -f latest\n",
      "cat latest.sh >>latest\n",
      "chmod +x latest\n",
      "rm -f scfg_parse_text\n",
      "cat scfg_parse_text.sh >>scfg_parse_text\n",
      "chmod +x scfg_parse_text\n",
      "rm -f text2wave\n",
      "cat text2wave.sh >>text2wave\n",
      "chmod +x text2wave\n",
      "rm -f make_utts\n",
      "cat make_utts.sh >>make_utts\n",
      "chmod +x make_utts\n",
      "rm -f dumpfeats\n",
      "cat dumpfeats.sh >>dumpfeats\n",
      "chmod +x dumpfeats\n",
      "rm -f durmeanstd\n",
      "cat durmeanstd.sh >>durmeanstd\n",
      "chmod +x durmeanstd\n",
      "rm -f powmeanstd\n",
      "cat powmeanstd.sh >>powmeanstd\n",
      "chmod +x powmeanstd\n",
      "rm -f run-festival-script\n",
      "cat run-festival-script.sh >>run-festival-script\n",
      "chmod +x run-festival-script\n",
      "rm -f text2utt\n",
      "cat text2utt.sh >>text2utt\n",
      "chmod +x text2utt\n",
      "Making in directory ./bin ...\n",
      "\n",
      "Remove Links:\n",
      "\n",
      "Main Links: festival festival_client\n",
      "\n",
      "Scripts: (sh) (prl) festival_server festival_server_control default_voices\n",
      "Making in directory ./doc ...\n",
      "../bin/festival -man_options >festival.options\n",
      "cat festival.head festival.options festival.tail >festival.1\n",
      "../bin/festival_client -man_options >festival_client.options\n",
      "cat festival_client.head festival_client.options festival_client.tail >festival_client.1\n",
      "cat text2wave.head text2wave.options text2wave.tail >text2wave.1\n",
      "rm festival.options festival_client.options\n",
      "Making in bin\n",
      "\n",
      "Remove Links: default_voices festival festival_client festival_server festival_server_control text2wave\n",
      "\n",
      "Main Links: festival festival_client\n",
      "\n",
      "Scripts: (sh) (prl) festival_server festival_server_control default_voices\n"
     ]
    },
    {
     "name": "stderr",
     "output_type": "stream",
     "text": [
      "Cloning into 'espeak-ng'...\n"
     ]
    },
    {
     "name": "stdout",
     "output_type": "stream",
     "text": [
      "libtoolize: putting auxiliary files in `.'.\n",
      "libtoolize: copying file `./ltmain.sh'\n",
      "libtoolize: putting macros in AC_CONFIG_MACRO_DIR, `m4'.\n",
      "libtoolize: copying file `m4/libtool.m4'\n",
      "libtoolize: copying file `m4/ltoptions.m4'\n",
      "libtoolize: copying file `m4/ltsugar.m4'\n",
      "libtoolize: copying file `m4/ltversion.m4'\n",
      "libtoolize: copying file `m4/lt~obsolete.m4'\n"
     ]
    },
    {
     "name": "stderr",
     "output_type": "stream",
     "text": [
      "configure.ac:4: installing './config.guess'\n",
      "configure.ac:4: installing './config.sub'\n",
      "configure.ac:3: installing './install-sh'\n",
      "configure.ac:3: installing './missing'\n",
      "Makefile.am:103: warning: shell dirname $@: non-POSIX variable name\n",
      "Makefile.am:103: (probably a GNU make extension)\n",
      "Makefile.am:106: warning: shell dirname $@: non-POSIX variable name\n",
      "Makefile.am:106: (probably a GNU make extension)\n",
      "Makefile.am:108: warning: wildcard docs/*.md: non-POSIX variable name\n",
      "Makefile.am:108: (probably a GNU make extension)\n",
      "Makefile.am:108: warning: wildcard docs/*/*.md: non-POSIX variable name\n",
      "Makefile.am:108: (probably a GNU make extension)\n",
      "Makefile.am:108: warning: wildcard docs/*/*/*.md: non-POSIX variable name\n",
      "Makefile.am:108: (probably a GNU make extension)\n",
      "Makefile.am:308: warning: filter-out tests/windows-data.test,$(wildcard tests/*.test: non-POSIX variable name\n",
      "Makefile.am:308: (probably a GNU make extension)\n",
      "Makefile.am:343: warning: wildcard tests/ssml/*.ssml tests/ssml-fuzzer/*.ssml: non-POSIX variable name\n",
      "Makefile.am:343: (probably a GNU make extension)\n",
      "Makefile.am:350: warning: wildcard tests/ssml/*.expected: non-POSIX variable name\n",
      "Makefile.am:350: (probably a GNU make extension)\n",
      "Makefile.am:360: warning: wildcard phsource/*: non-POSIX variable name\n",
      "Makefile.am:360: (probably a GNU make extension)\n",
      "Makefile.am:360: warning: wildcard phsource/*/*: non-POSIX variable name\n",
      "Makefile.am:360: (probably a GNU make extension)\n",
      "Makefile.am:360: warning: wildcard phsource/*/*/*: non-POSIX variable name\n",
      "Makefile.am:360: (probably a GNU make extension)\n",
      "Makefile.am:365: warning: wildcard espeak-ng-data/lang/*: non-POSIX variable name\n",
      "Makefile.am:365: (probably a GNU make extension)\n",
      "Makefile.am:365: warning: wildcard espeak-ng-data/lang/*/*: non-POSIX variable name\n",
      "Makefile.am:365: (probably a GNU make extension)\n",
      "Makefile.am:365: warning: wildcard espeak-ng-data/voices/*/*: non-POSIX variable name\n",
      "Makefile.am:365: (probably a GNU make extension)\n",
      "Makefile.am:370: warning: filter-out phsource/phonemes.stamp,$(PHSOURCE: non-POSIX variable name\n",
      "Makefile.am:370: (probably a GNU make extension)\n",
      "Makefile.am:370: warning: filter-out espeak-ng-data/voices/!v/Mr serious,$(LANGDATA: non-POSIX variable name\n",
      "Makefile.am:370: (probably a GNU make extension)\n",
      "Makefile.am:395: warning: '%'-style pattern rules are a GNU make extension\n",
      "Makefile.am:406: warning: '%'-style pattern rules are a GNU make extension\n",
      "Makefile.am:417: warning: '%'-style pattern rules are a GNU make extension\n",
      "Makefile.am:420: warning: *F: non-POSIX variable name\n",
      "Makefile.am:536: warning: wildcard dictsource/*_emoji: non-POSIX variable name\n",
      "Makefile.am:536: (probably a GNU make extension)\n",
      "Makefile.am:536: warning: wildcard dictsource/*_extra: non-POSIX variable name\n",
      "Makefile.am:536: (probably a GNU make extension)\n",
      "Makefile.am:536: warning: wildcard dictsource/*_list: non-POSIX variable name\n",
      "Makefile.am:536: (probably a GNU make extension)\n",
      "Makefile.am:536: warning: wildcard dictsource/*_rules: non-POSIX variable name\n",
      "Makefile.am:536: (probably a GNU make extension)\n",
      "Makefile.am:536: warning: wildcard dictsource/extra/*: non-POSIX variable name\n",
      "Makefile.am:536: (probably a GNU make extension)\n",
      "Makefile.am:929: warning: wildcard phsource/mbrola/*: non-POSIX variable name\n",
      "Makefile.am:929: (probably a GNU make extension)\n",
      "Makefile.am:935: warning: '%'-style pattern rules are a GNU make extension\n",
      "Makefile.am: installing './INSTALL'\n",
      "Makefile.am:259: warning: compiling 'src/espeak-ng.c' in subdir requires 'AM_PROG_CC_C_O' in 'configure.ac'\n",
      "Makefile.am: installing './depcomp'\n"
     ]
    },
    {
     "name": "stdout",
     "output_type": "stream",
     "text": [
      "checking for a BSD-compatible install... /usr/bin/install -c\n",
      "checking whether build environment is sane... yes\n",
      "checking for a thread-safe mkdir -p... /usr/bin/mkdir -p\n",
      "checking for gawk... gawk\n",
      "checking whether make sets $(MAKE)... yes\n",
      "checking whether make supports nested variables... yes\n",
      "checking build system type... x86_64-unknown-linux-gnu\n",
      "checking host system type... x86_64-unknown-linux-gnu\n",
      "checking how to print strings... printf\n",
      "checking for style of include used by make... GNU\n",
      "checking for gcc... gcc\n",
      "checking whether the C compiler works... yes\n",
      "checking for C compiler default output file name... a.out\n",
      "checking for suffix of executables... \n",
      "checking whether we are cross compiling... no\n",
      "checking for suffix of object files... o\n",
      "checking whether we are using the GNU C compiler... yes\n",
      "checking whether gcc accepts -g... yes\n",
      "checking for gcc option to accept ISO C89... none needed\n",
      "checking dependency style of gcc... gcc3\n",
      "checking for a sed that does not truncate output... /usr/bin/sed\n",
      "checking for grep that handles long lines and -e... /usr/bin/grep\n",
      "checking for egrep... /usr/bin/grep -E\n",
      "checking for fgrep... /usr/bin/grep -F\n",
      "checking for ld used by gcc... /usr/bin/ld\n",
      "checking if the linker (/usr/bin/ld) is GNU ld... yes\n",
      "checking for BSD- or MS-compatible name lister (nm)... /usr/bin/nm -B\n",
      "checking the name lister (/usr/bin/nm -B) interface... BSD nm\n",
      "checking whether ln -s works... yes\n",
      "checking the maximum length of command line arguments... 1966080\n",
      "checking whether the shell understands some XSI constructs... yes\n",
      "checking whether the shell understands \"+=\"... yes\n",
      "checking how to convert x86_64-unknown-linux-gnu file names to x86_64-unknown-linux-gnu format... func_convert_file_noop\n",
      "checking how to convert x86_64-unknown-linux-gnu file names to toolchain format... func_convert_file_noop\n",
      "checking for /usr/bin/ld option to reload object files... -r\n",
      "checking for objdump... objdump\n",
      "checking how to recognize dependent libraries... pass_all\n",
      "checking for dlltool... no\n",
      "checking how to associate runtime and link libraries... printf %s\\n\n",
      "checking for ar... ar\n",
      "checking for archiver @FILE support... @\n",
      "checking for strip... strip\n",
      "checking for ranlib... ranlib\n",
      "checking command to parse /usr/bin/nm -B output from gcc object... ok\n",
      "checking for sysroot... no\n",
      "checking for mt... no\n",
      "checking if : is a manifest tool... no\n",
      "checking how to run the C preprocessor... gcc -E\n",
      "checking for ANSI C header files... yes\n",
      "checking for sys/types.h... yes\n",
      "checking for sys/stat.h... yes\n",
      "checking for stdlib.h... yes\n",
      "checking for string.h... yes\n",
      "checking for memory.h... yes\n",
      "checking for strings.h... yes\n",
      "checking for inttypes.h... yes\n",
      "checking for stdint.h... yes\n",
      "checking for unistd.h... yes\n",
      "checking for dlfcn.h... yes\n",
      "checking for objdir... .libs\n",
      "checking if gcc supports -fno-rtti -fno-exceptions... no\n",
      "checking for gcc option to produce PIC... -fPIC -DPIC\n",
      "checking if gcc PIC flag -fPIC -DPIC works... yes\n",
      "checking if gcc static flag -static works... no\n",
      "checking if gcc supports -c -o file.o... yes\n",
      "checking if gcc supports -c -o file.o... (cached) yes\n",
      "checking whether the gcc linker (/usr/bin/ld -m elf_x86_64) supports shared libraries... yes\n",
      "checking whether -lc should be explicitly linked in... no\n",
      "checking dynamic linker characteristics... GNU/Linux ld.so\n",
      "checking how to hardcode library paths into programs... immediate\n",
      "checking whether stripping libraries is possible... yes\n",
      "checking if libtool supports shared libraries... yes\n",
      "checking whether to build shared libraries... yes\n",
      "checking whether to build static libraries... yes\n",
      "checking whether make supports nested variables... (cached) yes\n",
      "checking whether make supports nested variables... (cached) yes\n",
      "checking for gcc... (cached) gcc\n",
      "checking whether we are using the GNU C compiler... (cached) yes\n",
      "checking whether gcc accepts -g... (cached) yes\n",
      "checking for gcc option to accept ISO C89... (cached) none needed\n",
      "checking dependency style of gcc... (cached) gcc3\n",
      "checking for g++... g++\n",
      "checking whether we are using the GNU C++ compiler... yes\n",
      "checking whether g++ accepts -g... yes\n",
      "checking dependency style of g++... gcc3\n",
      "checking how to run the C++ preprocessor... g++ -E\n",
      "checking for ld used by g++... /usr/bin/ld -m elf_x86_64\n",
      "checking if the linker (/usr/bin/ld -m elf_x86_64) is GNU ld... yes\n",
      "checking whether the g++ linker (/usr/bin/ld -m elf_x86_64) supports shared libraries... yes\n",
      "checking for g++ option to produce PIC... -fPIC -DPIC\n",
      "checking if g++ PIC flag -fPIC -DPIC works... yes\n",
      "checking if g++ static flag -static works... no\n",
      "checking if g++ supports -c -o file.o... yes\n",
      "checking if g++ supports -c -o file.o... (cached) yes\n",
      "checking whether the g++ linker (/usr/bin/ld -m elf_x86_64) supports shared libraries... yes\n",
      "checking dynamic linker characteristics... (cached) GNU/Linux ld.so\n",
      "checking how to hardcode library paths into programs... immediate\n",
      "checking whether make sets $(MAKE)... (cached) yes\n",
      "checking whether ln -s works... yes\n",
      "checking for gradle... no\n",
      "checking if gcc supports C99 without any flags... yes\n",
      "checking if gcc supports C99 with the -std=c99 flag... yes\n",
      "checking if gcc supports C99... -std=c99\n",
      "checking if targeting FreeBSD... no\n",
      "checking endian.h usability... yes\n",
      "checking endian.h presence... yes\n",
      "checking for endian.h... yes\n",
      "checking fcntl.h usability... yes\n",
      "checking fcntl.h presence... yes\n",
      "checking for fcntl.h... yes\n",
      "checking getopt.h usability... yes\n",
      "checking getopt.h presence... yes\n",
      "checking for getopt.h... yes\n",
      "checking locale.h usability... yes\n",
      "checking locale.h presence... yes\n",
      "checking for locale.h... yes\n",
      "checking stddef.h usability... yes\n",
      "checking stddef.h presence... yes\n",
      "checking for stddef.h... yes\n",
      "checking stdbool.h usability... yes\n",
      "checking stdbool.h presence... yes\n",
      "checking for stdbool.h... yes\n",
      "checking sys/endian.h usability... no\n",
      "checking sys/endian.h presence... no\n",
      "checking for sys/endian.h... no\n",
      "checking sys/time.h usability... yes\n",
      "checking sys/time.h presence... yes\n",
      "checking for sys/time.h... yes\n",
      "checking wchar.h usability... yes\n",
      "checking wchar.h presence... yes\n",
      "checking for wchar.h... yes\n",
      "checking wctype.h usability... yes\n",
      "checking wctype.h presence... yes\n",
      "checking for wctype.h... yes\n",
      "checking for size_t... yes\n",
      "checking for ssize_t... yes\n",
      "checking for uint16_t... yes\n",
      "checking for uint32_t... yes\n",
      "checking for uint64_t... yes\n",
      "checking for pid_t... yes\n",
      "checking vfork.h usability... no\n",
      "checking vfork.h presence... no\n",
      "checking for vfork.h... no\n",
      "checking for fork... yes\n",
      "checking for vfork... yes\n",
      "checking for working fork... yes\n",
      "checking for working vfork... (cached) yes\n",
      "checking for working strcoll... yes\n",
      "checking for error_at_line... yes\n",
      "checking for dup2... yes\n",
      "checking for getopt_long... yes\n",
      "checking for gettimeofday... yes\n",
      "checking for malloc... yes\n",
      "checking for memchr... yes\n",
      "checking for memmove... yes\n",
      "checking for memset... yes\n",
      "checking for mkdir... yes\n",
      "checking for mkstemp... yes\n",
      "checking for pow... no\n",
      "checking for realloc... yes\n",
      "checking for setlocale... yes\n",
      "checking for sqrt... no\n",
      "checking for strchr... yes\n",
      "checking for strdup... yes\n",
      "checking for strerror... yes\n",
      "checking for strrchr... yes\n",
      "checking for strstr... yes\n",
      "checking pcaudiolib/audio.h usability... no\n",
      "checking pcaudiolib/audio.h presence... no\n",
      "checking for pcaudiolib/audio.h... no\n",
      "checking sonic.h usability... no\n",
      "checking sonic.h presence... no\n",
      "checking for sonic.h... no\n",
      "checking valgrind/memcheck.h usability... no\n",
      "checking valgrind/memcheck.h presence... no\n",
      "checking for valgrind/memcheck.h... no\n",
      "checking for ronn... no\n",
      "checking for kramdown... no\n",
      "checking whether C compiler accepts -Wimplicit... yes\n",
      "checking whether C compiler accepts -Wint-conversion... yes\n",
      "checking whether C compiler accepts -Wmissing-prototypes... yes\n",
      "checking whether C compiler accepts -Wreturn-type... yes\n",
      "checking whether C compiler accepts -Wuninitialized... yes\n",
      "checking whether C compiler accepts -Wunused... yes\n",
      "checking whether C compiler accepts -Wunused-parameter... yes\n",
      "checking whether C compiler accepts -fwrapv... yes\n",
      "checking that generated files are newer than configure... done\n",
      "configure: creating ./config.status\n",
      "config.status: creating Makefile\n",
      "config.status: creating espeak-ng.pc\n",
      "config.status: creating config.h\n",
      "config.status: executing depfiles commands\n",
      "config.status: executing libtool commands\n",
      "configure:\n",
      "\n",
      "    Configuration for eSpeak NG complete.\n",
      "\n",
      "        Source code location:          .\n",
      "\n",
      "        C99 Compiler:                  gcc\n",
      "        C99 Compiler flags:            -fwrapv -Wunused-parameter -Wunused -Wuninitialized -Wreturn-type -Wmissing-prototypes -Wint-conversion -Wimplicit -g -O2 -std=c99\n",
      "\n",
      "        Sonic:                         no\n",
      "        PCAudioLib:                    no\n",
      "\n",
      "        gradle (Android):              \n",
      "\n",
      "        Klatt:                         yes\n",
      "        speechPlayer:                  yes\n",
      "        MBROLA:                        yes\n",
      "        Async:                         yes\n",
      "\n",
      "        Extended Dictionaries:\n",
      "            Russian:                   yes\n",
      "            Chinese (Mandarin):        yes\n",
      "            Chinese (Cantonese):       yes\n",
      "\n",
      "make  all-am\n",
      "make[1]: Entering directory `/home/ec2-user/SageMaker/espnet/tools/espeak-ng'\n",
      "  CC       src/ucd-tools/src/src_libespeak_ng_la-case.lo\n",
      "  CC       src/ucd-tools/src/src_libespeak_ng_la-categories.lo\n",
      "  CC       src/ucd-tools/src/src_libespeak_ng_la-ctype.lo\n",
      "  CC       src/ucd-tools/src/src_libespeak_ng_la-proplist.lo\n",
      "  CC       src/ucd-tools/src/src_libespeak_ng_la-scripts.lo\n",
      "  CC       src/ucd-tools/src/src_libespeak_ng_la-tostring.lo\n",
      "  CC       src/libespeak-ng/src_libespeak_ng_la-compiledata.lo\n",
      "  CC       src/libespeak-ng/src_libespeak_ng_la-compiledict.lo\n",
      "  CC       src/libespeak-ng/src_libespeak_ng_la-compilembrola.lo\n",
      "  CC       src/libespeak-ng/src_libespeak_ng_la-dictionary.lo\n",
      "  CC       src/libespeak-ng/src_libespeak_ng_la-encoding.lo\n",
      "  CC       src/libespeak-ng/src_libespeak_ng_la-error.lo\n",
      "  CC       src/libespeak-ng/src_libespeak_ng_la-espeak_api.lo\n",
      "  CC       src/libespeak-ng/src_libespeak_ng_la-ieee80.lo\n",
      "  CC       src/libespeak-ng/src_libespeak_ng_la-intonation.lo\n",
      "  CC       src/libespeak-ng/src_libespeak_ng_la-mnemonics.lo\n",
      "  CC       src/libespeak-ng/src_libespeak_ng_la-numbers.lo\n",
      "  CC       src/libespeak-ng/src_libespeak_ng_la-readclause.lo\n",
      "  CC       src/libespeak-ng/src_libespeak_ng_la-phoneme.lo\n",
      "  CC       src/libespeak-ng/src_libespeak_ng_la-phonemelist.lo\n",
      "  CC       src/libespeak-ng/src_libespeak_ng_la-setlengths.lo\n",
      "  CC       src/libespeak-ng/src_libespeak_ng_la-soundicon.lo\n",
      "  CC       src/libespeak-ng/src_libespeak_ng_la-spect.lo\n",
      "  CC       src/libespeak-ng/src_libespeak_ng_la-speech.lo\n",
      "  CC       src/libespeak-ng/src_libespeak_ng_la-ssml.lo\n",
      "  CC       src/libespeak-ng/src_libespeak_ng_la-synthdata.lo\n",
      "  CC       src/libespeak-ng/src_libespeak_ng_la-synthesize.lo\n",
      "  CC       src/libespeak-ng/src_libespeak_ng_la-synth_mbrola.lo\n",
      "  CC       src/libespeak-ng/src_libespeak_ng_la-translate.lo\n",
      "  CC       src/libespeak-ng/src_libespeak_ng_la-tr_languages.lo\n",
      "  CC       src/libespeak-ng/src_libespeak_ng_la-voices.lo\n",
      "  CC       src/libespeak-ng/src_libespeak_ng_la-wavegen.lo\n",
      "  CC       src/libespeak-ng/src_libespeak_ng_la-klatt.lo\n",
      "  CC       src/libespeak-ng/src_libespeak_ng_la-sPlayer.lo\n",
      "  CXX      src/speechPlayer/src/frame.lo\n",
      "  CXX      src/speechPlayer/src/speechPlayer.lo\n",
      "  CXX      src/speechPlayer/src/speechWaveGenerator.lo\n",
      "  CC       src/libespeak-ng/src_libespeak_ng_la-mbrowrap.lo\n",
      "  CC       src/libespeak-ng/src_libespeak_ng_la-espeak_command.lo\n",
      "  CC       src/libespeak-ng/src_libespeak_ng_la-event.lo\n",
      "  CC       src/libespeak-ng/src_libespeak_ng_la-fifo.lo\n",
      "  CXXLD    src/libespeak-ng.la\n",
      "  CC       src/speak-ng.o\n",
      "  CXXLD    src/speak-ng\n",
      "  CC       src/espeak-ng.o\n",
      "  CXXLD    src/espeak-ng\n",
      "ESPEAK_DATA_PATH=/home/ec2-user/SageMaker/espnet/tools/espeak-ng src/espeak-ng --compile-intonations && \\\n",
      "\tESPEAK_DATA_PATH=/home/ec2-user/SageMaker/espnet/tools/espeak-ng src/espeak-ng --compile-phonemes && \\\n",
      "\ttouch phsource/phonemes.stamp\n",
      "Compiled 30 intonation tunes: 0 errors.\n",
      "Compiling phoneme data: /home/ec2-user/SageMaker/espnet/tools/espeak-ng/espeak-ng-data/../phsource/phonemes\n",
      "\n",
      "Refs 4503,  Reused 3527\n",
      "Compiled phonemes: 0 errors.\n",
      "touch dictsource/af_extra\n",
      "  DICT      espeak-ng-data/af_dict\n",
      "rm -f espeak-ng-data/af_dict\n",
      "cd dictsource && ESPEAK_DATA_PATH=/home/ec2-user/SageMaker/espnet/tools/espeak-ng ../src/espeak-ng --compile=\"af\"\n"
     ]
    },
    {
     "name": "stderr",
     "output_type": "stream",
     "text": [
      "Can't read dictionary file: '/home/ec2-user/SageMaker/espnet/tools/espeak-ng/espeak-ng-data/af_dict'\n",
      "Using phonemetable: 'af'\n",
      "Compiling: 'af_list'\n",
      "\t1584 entries\n",
      "Compiling: 'af_emoji'\n",
      "\t1639 entries\n",
      "Compiling: 'af_extra'\n",
      "\t0 entries\n",
      "Compiling: 'af_rules'\n",
      "\t5202 rules, 60 groups (0)\n",
      "\n"
     ]
    },
    {
     "name": "stdout",
     "output_type": "stream",
     "text": [
      "touch dictsource/am_extra\n",
      "  DICT      espeak-ng-data/am_dict\n",
      "rm -f espeak-ng-data/am_dict\n",
      "cd dictsource && ESPEAK_DATA_PATH=/home/ec2-user/SageMaker/espnet/tools/espeak-ng ../src/espeak-ng --compile=\"am\"\n"
     ]
    },
    {
     "name": "stderr",
     "output_type": "stream",
     "text": [
      "Can't read dictionary file: '/home/ec2-user/SageMaker/espnet/tools/espeak-ng/espeak-ng-data/am_dict'\n",
      "Using phonemetable: 'am'\n",
      "Compiling: 'am_list'\n",
      "\t31 entries\n",
      "Compiling: 'am_emoji'\n",
      "\t1639 entries\n",
      "Compiling: 'am_extra'\n",
      "\t0 entries\n",
      "Compiling: 'am_rules'\n",
      "\t345 rules, 7 groups (0)\n",
      "\n"
     ]
    },
    {
     "name": "stdout",
     "output_type": "stream",
     "text": [
      "touch dictsource/an_extra\n",
      "  DICT      espeak-ng-data/an_dict\n",
      "rm -f espeak-ng-data/an_dict\n",
      "cd dictsource && ESPEAK_DATA_PATH=/home/ec2-user/SageMaker/espnet/tools/espeak-ng ../src/espeak-ng --compile=\"an\"\n"
     ]
    },
    {
     "name": "stderr",
     "output_type": "stream",
     "text": [
      "Can't read dictionary file: '/home/ec2-user/SageMaker/espnet/tools/espeak-ng/espeak-ng-data/an_dict'\n",
      "Using phonemetable: 'an'\n",
      "Compiling: 'an_list'\n",
      "\t484 entries\n",
      "Compiling: 'an_extra'\n",
      "\t0 entries\n",
      "Compiling: 'an_rules'\n",
      "\t184 rules, 29 groups (0)\n",
      "\n"
     ]
    },
    {
     "name": "stdout",
     "output_type": "stream",
     "text": [
      "touch dictsource/ar_extra\n",
      "  DICT      espeak-ng-data/ar_dict\n",
      "rm -f espeak-ng-data/ar_dict\n",
      "cd dictsource && ESPEAK_DATA_PATH=/home/ec2-user/SageMaker/espnet/tools/espeak-ng ../src/espeak-ng --compile=\"ar\"\n"
     ]
    },
    {
     "name": "stderr",
     "output_type": "stream",
     "text": [
      "Can't read dictionary file: '/home/ec2-user/SageMaker/espnet/tools/espeak-ng/espeak-ng-data/ar_dict'\n",
      "Using phonemetable: 'ar'\n",
      "Compiling: 'ar_listx'\n",
      "\t30089 entries\n",
      "Compiling: 'ar_list'\n",
      "\t252 entries\n",
      "Compiling: 'ar_emoji'\n",
      "\t1639 entries\n",
      "Compiling: 'ar_extra'\n",
      "\t0 entries\n",
      "Compiling: 'ar_rules'\n",
      "\t383 rules, 39 groups (37)\n",
      "\n"
     ]
    },
    {
     "name": "stdout",
     "output_type": "stream",
     "text": [
      "touch dictsource/as_extra\n",
      "  DICT      espeak-ng-data/as_dict\n",
      "rm -f espeak-ng-data/as_dict\n",
      "cd dictsource && ESPEAK_DATA_PATH=/home/ec2-user/SageMaker/espnet/tools/espeak-ng ../src/espeak-ng --compile=\"as\"\n"
     ]
    },
    {
     "name": "stderr",
     "output_type": "stream",
     "text": [
      "Can't read dictionary file: '/home/ec2-user/SageMaker/espnet/tools/espeak-ng/espeak-ng-data/as_dict'\n",
      "Using phonemetable: 'as'\n",
      "Compiling: 'as_list'\n",
      "\t209 entries\n",
      "Compiling: 'as_extra'\n",
      "\t0 entries\n",
      "Compiling: 'as_rules'\n",
      "\t146 rules, 66 groups (66)\n",
      "\n"
     ]
    },
    {
     "name": "stdout",
     "output_type": "stream",
     "text": [
      "touch dictsource/az_extra\n",
      "  DICT      espeak-ng-data/az_dict\n",
      "rm -f espeak-ng-data/az_dict\n",
      "cd dictsource && ESPEAK_DATA_PATH=/home/ec2-user/SageMaker/espnet/tools/espeak-ng ../src/espeak-ng --compile=\"az\"\n"
     ]
    },
    {
     "name": "stderr",
     "output_type": "stream",
     "text": [
      "Can't read dictionary file: '/home/ec2-user/SageMaker/espnet/tools/espeak-ng/espeak-ng-data/az_dict'\n",
      "Using phonemetable: 'az'\n",
      "Compiling: 'az_list'\n",
      "\t84 entries\n",
      "Compiling: 'az_emoji'\n",
      "\t1639 entries\n",
      "Compiling: 'az_extra'\n",
      "\t0 entries\n",
      "Compiling: 'az_rules'\n",
      "\t58 rules, 34 groups (0)\n",
      "\n"
     ]
    },
    {
     "name": "stdout",
     "output_type": "stream",
     "text": [
      "  DICT      espeak-ng-data/ba_dict\n",
      "rm -f espeak-ng-data/ba_dict\n",
      "cd dictsource && ESPEAK_DATA_PATH=/home/ec2-user/SageMaker/espnet/tools/espeak-ng ../src/espeak-ng --compile=\"ba\"\n"
     ]
    },
    {
     "name": "stderr",
     "output_type": "stream",
     "text": [
      "Can't read dictionary file: '/home/ec2-user/SageMaker/espnet/tools/espeak-ng/espeak-ng-data/ba_dict'\n",
      "Using phonemetable: 'ba'\n",
      "Compiling: 'ba_list'\n",
      "\t79 entries\n",
      "Compiling: 'ba_rules'\n",
      "\t52 rules, 44 groups (0)\n",
      "\n"
     ]
    },
    {
     "name": "stdout",
     "output_type": "stream",
     "text": [
      "  DICT      espeak-ng-data/be_dict\n",
      "rm -f espeak-ng-data/be_dict\n",
      "cd dictsource && ESPEAK_DATA_PATH=/home/ec2-user/SageMaker/espnet/tools/espeak-ng ../src/espeak-ng --compile=\"be\"\n"
     ]
    },
    {
     "name": "stderr",
     "output_type": "stream",
     "text": [
      "Can't read dictionary file: '/home/ec2-user/SageMaker/espnet/tools/espeak-ng/espeak-ng-data/be_dict'\n",
      "Using phonemetable: 'be'\n",
      "Compiling: 'be_list'\n",
      "\t73 entries\n",
      "Compiling: 'be_rules'\n",
      "\t33 rules, 33 groups (0)\n",
      "\n",
      "Full dictionary is not installed for 'be'\n"
     ]
    },
    {
     "name": "stdout",
     "output_type": "stream",
     "text": [
      "touch dictsource/bg_extra\n",
      "  DICT      espeak-ng-data/bg_dict\n",
      "rm -f espeak-ng-data/bg_dict\n",
      "cd dictsource && ESPEAK_DATA_PATH=/home/ec2-user/SageMaker/espnet/tools/espeak-ng ../src/espeak-ng --compile=\"bg\"\n"
     ]
    },
    {
     "name": "stderr",
     "output_type": "stream",
     "text": [
      "Can't read dictionary file: '/home/ec2-user/SageMaker/espnet/tools/espeak-ng/espeak-ng-data/bg_dict'\n",
      "Using phonemetable: 'bg'\n",
      "Compiling: 'bg_listx'\n",
      "\t2790 entries\n",
      "Compiling: 'bg_list'\n",
      "\t231 entries\n",
      "Compiling: 'bg_emoji'\n",
      "\t1639 entries\n",
      "Compiling: 'bg_extra'\n",
      "\t0 entries\n",
      "Compiling: 'bg_rules'\n",
      "\t118 rules, 31 groups (30)\n",
      "\n"
     ]
    },
    {
     "name": "stdout",
     "output_type": "stream",
     "text": [
      "touch dictsource/bn_extra\n",
      "  DICT      espeak-ng-data/bn_dict\n",
      "rm -f espeak-ng-data/bn_dict\n",
      "cd dictsource && ESPEAK_DATA_PATH=/home/ec2-user/SageMaker/espnet/tools/espeak-ng ../src/espeak-ng --compile=\"bn\"\n"
     ]
    },
    {
     "name": "stderr",
     "output_type": "stream",
     "text": [
      "Can't read dictionary file: '/home/ec2-user/SageMaker/espnet/tools/espeak-ng/espeak-ng-data/bn_dict'\n",
      "Using phonemetable: 'bn'\n",
      "Compiling: 'bn_list'\n",
      "\t380 entries\n",
      "Compiling: 'bn_emoji'\n",
      "\t1639 entries\n",
      "Compiling: 'bn_extra'\n",
      "\t0 entries\n",
      "Compiling: 'bn_rules'\n",
      "\t168 rules, 68 groups (67)\n",
      "\n"
     ]
    },
    {
     "name": "stdout",
     "output_type": "stream",
     "text": [
      "touch dictsource/bpy_extra\n",
      "  DICT      espeak-ng-data/bpy_dict\n",
      "rm -f espeak-ng-data/bpy_dict\n",
      "cd dictsource && ESPEAK_DATA_PATH=/home/ec2-user/SageMaker/espnet/tools/espeak-ng ../src/espeak-ng --compile=\"bpy\"\n"
     ]
    },
    {
     "name": "stderr",
     "output_type": "stream",
     "text": [
      "Can't read dictionary file: '/home/ec2-user/SageMaker/espnet/tools/espeak-ng/espeak-ng-data/bpy_dict'\n",
      "Using phonemetable: 'bpy'\n",
      "Compiling: 'bpy_list'\n",
      "\t179 entries\n",
      "Compiling: 'bpy_extra'\n",
      "\t0 entries\n",
      "Compiling: 'bpy_rules'\n",
      "\t212 rules, 63 groups (63)\n",
      "\n"
     ]
    },
    {
     "name": "stdout",
     "output_type": "stream",
     "text": [
      "touch dictsource/bs_extra\n",
      "  DICT      espeak-ng-data/bs_dict\n",
      "rm -f espeak-ng-data/bs_dict\n",
      "cd dictsource && ESPEAK_DATA_PATH=/home/ec2-user/SageMaker/espnet/tools/espeak-ng ../src/espeak-ng --compile=\"bs\"\n"
     ]
    },
    {
     "name": "stderr",
     "output_type": "stream",
     "text": [
      "Can't read dictionary file: '/home/ec2-user/SageMaker/espnet/tools/espeak-ng/espeak-ng-data/bs_dict'\n",
      "Using phonemetable: 'hr'\n",
      "Compiling: 'bs_list'\n",
      "\t613 entries\n",
      "Compiling: 'bs_emoji'\n",
      "\t1635 entries\n",
      "Compiling: 'bs_extra'\n",
      "\t0 entries\n",
      "Compiling: 'bs_rules'\n",
      "\t112 rules, 34 groups (0)\n",
      "\n"
     ]
    },
    {
     "name": "stdout",
     "output_type": "stream",
     "text": [
      "touch dictsource/ca_extra\n",
      "  DICT      espeak-ng-data/ca_dict\n",
      "rm -f espeak-ng-data/ca_dict\n",
      "cd dictsource && ESPEAK_DATA_PATH=/home/ec2-user/SageMaker/espnet/tools/espeak-ng ../src/espeak-ng --compile=\"ca\"\n"
     ]
    },
    {
     "name": "stderr",
     "output_type": "stream",
     "text": [
      "Can't read dictionary file: '/home/ec2-user/SageMaker/espnet/tools/espeak-ng/espeak-ng-data/ca_dict'\n",
      "Using phonemetable: 'ca'\n",
      "Compiling: 'ca_list'\n",
      "\t192 entries\n",
      "Compiling: 'ca_emoji'\n",
      "\t1639 entries\n",
      "Compiling: 'ca_extra'\n",
      "\t0 entries\n",
      "Compiling: 'ca_rules'\n",
      "\t134 rules, 28 groups (0)\n",
      "\n"
     ]
    },
    {
     "name": "stdout",
     "output_type": "stream",
     "text": [
      "  DICT      espeak-ng-data/chr_dict\n",
      "rm -f espeak-ng-data/chr_dict\n",
      "cd dictsource && ESPEAK_DATA_PATH=/home/ec2-user/SageMaker/espnet/tools/espeak-ng ../src/espeak-ng --compile=\"chr\"\n"
     ]
    },
    {
     "name": "stderr",
     "output_type": "stream",
     "text": [
      "Can't read dictionary file: '/home/ec2-user/SageMaker/espnet/tools/espeak-ng/espeak-ng-data/chr_dict'\n",
      "Using phonemetable: 'chr'\n",
      "Compiling: 'chr_list'\n",
      "\t0 entries\n",
      "Compiling: 'chr_rules'\n",
      "\t198 rules, 27 groups (0)\n",
      "\n"
     ]
    },
    {
     "name": "stdout",
     "output_type": "stream",
     "text": [
      "ln -svf extra/cmn_listx dictsource/\n",
      "‘dictsource/cmn_listx’ -> ‘extra/cmn_listx’\n",
      "touch dictsource/cmn_extra\n",
      "  DICT      espeak-ng-data/cmn_dict\n",
      "rm -f espeak-ng-data/cmn_dict\n",
      "cd dictsource && ESPEAK_DATA_PATH=/home/ec2-user/SageMaker/espnet/tools/espeak-ng ../src/espeak-ng --compile=\"cmn\"\n"
     ]
    },
    {
     "name": "stderr",
     "output_type": "stream",
     "text": [
      "Can't read dictionary file: '/home/ec2-user/SageMaker/espnet/tools/espeak-ng/espeak-ng-data/cmn_dict'\n",
      "Using phonemetable: 'cmn'\n",
      "Compiling: 'cmn_listx'\n",
      "\t77860 entries\n",
      "Compiling: 'cmn_list'\n",
      "\t3885 entries\n",
      "Compiling: 'cmn_emoji'\n",
      "\t1639 entries\n",
      "Compiling: 'cmn_extra'\n",
      "\t0 entries\n",
      "Compiling: 'cmn_rules'\n",
      "\t208 rules, 28 groups (0)\n",
      "\n"
     ]
    },
    {
     "name": "stdout",
     "output_type": "stream",
     "text": [
      "touch dictsource/cs_extra\n",
      "  DICT      espeak-ng-data/cs_dict\n",
      "rm -f espeak-ng-data/cs_dict\n",
      "cd dictsource && ESPEAK_DATA_PATH=/home/ec2-user/SageMaker/espnet/tools/espeak-ng ../src/espeak-ng --compile=\"cs\"\n"
     ]
    },
    {
     "name": "stderr",
     "output_type": "stream",
     "text": [
      "Can't read dictionary file: '/home/ec2-user/SageMaker/espnet/tools/espeak-ng/espeak-ng-data/cs_dict'\n",
      "Using phonemetable: 'cs'\n",
      "Compiling: 'cs_list'\n",
      "\t357 entries\n",
      "Compiling: 'cs_emoji'\n",
      "\t1639 entries\n",
      "Compiling: 'cs_extra'\n",
      "\t0 entries\n",
      "Compiling: 'cs_rules'\n",
      "\t506 rules, 48 groups (0)\n",
      "\n"
     ]
    },
    {
     "name": "stdout",
     "output_type": "stream",
     "text": [
      "touch dictsource/cv_extra\n",
      "  DICT      espeak-ng-data/cv_dict\n",
      "rm -f espeak-ng-data/cv_dict\n",
      "cd dictsource && ESPEAK_DATA_PATH=/home/ec2-user/SageMaker/espnet/tools/espeak-ng ../src/espeak-ng --compile=\"cv\"\n"
     ]
    },
    {
     "name": "stderr",
     "output_type": "stream",
     "text": [
      "Can't read dictionary file: '/home/ec2-user/SageMaker/espnet/tools/espeak-ng/espeak-ng-data/cv_dict'\n",
      "Using phonemetable: 'cv'\n",
      "Compiling: 'cv_list'\n",
      "\t0 entries\n",
      "Compiling: 'cv_extra'\n",
      "\t0 entries\n",
      "Compiling: 'cv_rules'\n",
      "\t39 rules, 37 groups (0)\n",
      "\n"
     ]
    },
    {
     "name": "stdout",
     "output_type": "stream",
     "text": [
      "touch dictsource/cy_extra\n",
      "  DICT      espeak-ng-data/cy_dict\n",
      "rm -f espeak-ng-data/cy_dict\n",
      "cd dictsource && ESPEAK_DATA_PATH=/home/ec2-user/SageMaker/espnet/tools/espeak-ng ../src/espeak-ng --compile=\"cy\"\n"
     ]
    },
    {
     "name": "stderr",
     "output_type": "stream",
     "text": [
      "Can't read dictionary file: '/home/ec2-user/SageMaker/espnet/tools/espeak-ng/espeak-ng-data/cy_dict'\n",
      "Using phonemetable: 'cy'\n",
      "Compiling: 'cy_list'\n",
      "\t166 entries\n",
      "Compiling: 'cy_emoji'\n",
      "\t1636 entries\n",
      "Compiling: 'cy_extra'\n",
      "\t0 entries\n",
      "Compiling: 'cy_rules'\n",
      "\t210 rules, 27 groups (0)\n",
      "\n"
     ]
    },
    {
     "name": "stdout",
     "output_type": "stream",
     "text": [
      "touch dictsource/da_extra\n",
      "  DICT      espeak-ng-data/da_dict\n",
      "rm -f espeak-ng-data/da_dict\n",
      "cd dictsource && ESPEAK_DATA_PATH=/home/ec2-user/SageMaker/espnet/tools/espeak-ng ../src/espeak-ng --compile=\"da\"\n"
     ]
    },
    {
     "name": "stderr",
     "output_type": "stream",
     "text": [
      "Can't read dictionary file: '/home/ec2-user/SageMaker/espnet/tools/espeak-ng/espeak-ng-data/da_dict'\n",
      "Using phonemetable: 'da'\n",
      "Compiling: 'da_list'\n",
      "\t11152 entries\n",
      "Compiling: 'da_emoji'\n",
      "\t1639 entries\n",
      "Compiling: 'da_extra'\n",
      "\t0 entries\n",
      "Compiling: 'da_rules'\n",
      "\t9269 rules, 56 groups (0)\n",
      "\n"
     ]
    },
    {
     "name": "stdout",
     "output_type": "stream",
     "text": [
      "touch dictsource/de_extra\n",
      "  DICT      espeak-ng-data/de_dict\n",
      "rm -f espeak-ng-data/de_dict\n",
      "cd dictsource && ESPEAK_DATA_PATH=/home/ec2-user/SageMaker/espnet/tools/espeak-ng ../src/espeak-ng --compile=\"de\"\n"
     ]
    },
    {
     "name": "stderr",
     "output_type": "stream",
     "text": [
      "Can't read dictionary file: '/home/ec2-user/SageMaker/espnet/tools/espeak-ng/espeak-ng-data/de_dict'\n",
      "Using phonemetable: 'de'\n",
      "Compiling: 'de_list'\n",
      "\t940 entries\n",
      "Compiling: 'de_emoji'\n",
      "\t1688 entries\n",
      "Compiling: 'de_extra'\n",
      "\t0 entries\n",
      "Compiling: 'de_rules'\n",
      "\t1330 rules, 34 groups (0)\n",
      "\n"
     ]
    },
    {
     "name": "stdout",
     "output_type": "stream",
     "text": [
      "touch dictsource/el_extra\n",
      "  DICT      espeak-ng-data/el_dict\n",
      "rm -f espeak-ng-data/el_dict\n",
      "cd dictsource && ESPEAK_DATA_PATH=/home/ec2-user/SageMaker/espnet/tools/espeak-ng ../src/espeak-ng --compile=\"el\"\n"
     ]
    },
    {
     "name": "stderr",
     "output_type": "stream",
     "text": [
      "Can't read dictionary file: '/home/ec2-user/SageMaker/espnet/tools/espeak-ng/espeak-ng-data/el_dict'\n",
      "Using phonemetable: 'el'\n",
      "Compiling: 'el_list'\n",
      "\t379 entries\n",
      "Compiling: 'el_emoji'\n",
      "\t1639 entries\n",
      "Compiling: 'el_extra'\n",
      "\t0 entries\n",
      "Compiling: 'el_rules'\n",
      "\t182 rules, 27 groups (26)\n",
      "\n"
     ]
    },
    {
     "name": "stdout",
     "output_type": "stream",
     "text": [
      "touch dictsource/en_extra\n",
      "  DICT      espeak-ng-data/en_dict\n",
      "rm -f espeak-ng-data/en_dict\n",
      "cd dictsource && ESPEAK_DATA_PATH=/home/ec2-user/SageMaker/espnet/tools/espeak-ng ../src/espeak-ng --compile=\"en\"\n"
     ]
    },
    {
     "name": "stderr",
     "output_type": "stream",
     "text": [
      "Can't read dictionary file: '/home/ec2-user/SageMaker/espnet/tools/espeak-ng/espeak-ng-data/en_dict'\n",
      "Using phonemetable: 'en'\n",
      "Compiling: 'en_list'\n",
      "\t5465 entries\n",
      "Compiling: 'en_emoji'\n",
      "\t1690 entries\n",
      "Compiling: 'en_extra'\n",
      "\t0 entries\n",
      "Compiling: 'en_rules'\n",
      "\t6744 rules, 103 groups (0)\n",
      "\n"
     ]
    },
    {
     "name": "stdout",
     "output_type": "stream",
     "text": [
      "touch dictsource/eo_extra\n",
      "  DICT      espeak-ng-data/eo_dict\n",
      "rm -f espeak-ng-data/eo_dict\n",
      "cd dictsource && ESPEAK_DATA_PATH=/home/ec2-user/SageMaker/espnet/tools/espeak-ng ../src/espeak-ng --compile=\"eo\"\n"
     ]
    },
    {
     "name": "stderr",
     "output_type": "stream",
     "text": [
      "Can't read dictionary file: '/home/ec2-user/SageMaker/espnet/tools/espeak-ng/espeak-ng-data/eo_dict'\n",
      "Using phonemetable: 'eo'\n",
      "Compiling: 'eo_list'\n",
      "\t242 entries\n",
      "Compiling: 'eo_extra'\n",
      "\t0 entries\n",
      "Compiling: 'eo_rules'\n",
      "\t130 rules, 27 groups (0)\n",
      "\n"
     ]
    },
    {
     "name": "stdout",
     "output_type": "stream",
     "text": [
      "touch dictsource/es_extra\n",
      "  DICT      espeak-ng-data/es_dict\n",
      "rm -f espeak-ng-data/es_dict\n",
      "cd dictsource && ESPEAK_DATA_PATH=/home/ec2-user/SageMaker/espnet/tools/espeak-ng ../src/espeak-ng --compile=\"es\"\n"
     ]
    },
    {
     "name": "stderr",
     "output_type": "stream",
     "text": [
      "Can't read dictionary file: '/home/ec2-user/SageMaker/espnet/tools/espeak-ng/espeak-ng-data/es_dict'\n",
      "Using phonemetable: 'es'\n",
      "Compiling: 'es_list'\n",
      "\t338 entries\n",
      "Compiling: 'es_emoji'\n",
      "\t1639 entries\n",
      "Compiling: 'es_extra'\n",
      "\t0 entries\n",
      "Compiling: 'es_rules'\n",
      "\t192 rules, 29 groups (0)\n",
      "\n"
     ]
    },
    {
     "name": "stdout",
     "output_type": "stream",
     "text": [
      "touch dictsource/et_extra\n",
      "  DICT      espeak-ng-data/et_dict\n",
      "rm -f espeak-ng-data/et_dict\n",
      "cd dictsource && ESPEAK_DATA_PATH=/home/ec2-user/SageMaker/espnet/tools/espeak-ng ../src/espeak-ng --compile=\"et\"\n"
     ]
    },
    {
     "name": "stderr",
     "output_type": "stream",
     "text": [
      "Can't read dictionary file: '/home/ec2-user/SageMaker/espnet/tools/espeak-ng/espeak-ng-data/et_dict'\n",
      "Using phonemetable: 'et'\n",
      "Compiling: 'et_list'\n",
      "\t303 entries\n",
      "Compiling: 'et_emoji'\n",
      "\t1639 entries\n",
      "Compiling: 'et_extra'\n",
      "\t0 entries\n",
      "Compiling: 'et_rules'\n",
      "\t221 rules, 31 groups (0)\n",
      "\n"
     ]
    },
    {
     "name": "stdout",
     "output_type": "stream",
     "text": [
      "touch dictsource/eu_extra\n",
      "  DICT      espeak-ng-data/eu_dict\n",
      "rm -f espeak-ng-data/eu_dict\n",
      "cd dictsource && ESPEAK_DATA_PATH=/home/ec2-user/SageMaker/espnet/tools/espeak-ng ../src/espeak-ng --compile=\"eu\"\n"
     ]
    },
    {
     "name": "stderr",
     "output_type": "stream",
     "text": [
      "Can't read dictionary file: '/home/ec2-user/SageMaker/espnet/tools/espeak-ng/espeak-ng-data/eu_dict'\n",
      "Using phonemetable: 'eu'\n",
      "Compiling: 'eu_list'\n",
      "\t194 entries\n",
      "Compiling: 'eu_emoji'\n",
      "\t1639 entries\n",
      "Compiling: 'eu_extra'\n",
      "\t0 entries\n",
      "Compiling: 'eu_rules'\n",
      "\t159 rules, 27 groups (0)\n",
      "\n"
     ]
    },
    {
     "name": "stdout",
     "output_type": "stream",
     "text": [
      "touch dictsource/fa_extra\n",
      "  DICT      espeak-ng-data/fa_dict\n",
      "rm -f espeak-ng-data/fa_dict\n",
      "cd dictsource && ESPEAK_DATA_PATH=/home/ec2-user/SageMaker/espnet/tools/espeak-ng ../src/espeak-ng --compile=\"fa\"\n"
     ]
    },
    {
     "name": "stderr",
     "output_type": "stream",
     "text": [
      "Can't read dictionary file: '/home/ec2-user/SageMaker/espnet/tools/espeak-ng/espeak-ng-data/fa_dict'\n",
      "Using phonemetable: 'fa'\n",
      "Compiling: 'fa_list'\n",
      "\t13202 entries\n",
      "Compiling: 'fa_emoji'\n",
      "\t1639 entries\n",
      "Compiling: 'fa_extra'\n",
      "\t0 entries\n",
      "Compiling: 'fa_rules'\n",
      "\t3922 rules, 93 groups (45)\n",
      "\n"
     ]
    },
    {
     "name": "stdout",
     "output_type": "stream",
     "text": [
      "touch dictsource/fi_extra\n",
      "  DICT      espeak-ng-data/fi_dict\n",
      "rm -f espeak-ng-data/fi_dict\n",
      "cd dictsource && ESPEAK_DATA_PATH=/home/ec2-user/SageMaker/espnet/tools/espeak-ng ../src/espeak-ng --compile=\"fi\"\n"
     ]
    },
    {
     "name": "stderr",
     "output_type": "stream",
     "text": [
      "Can't read dictionary file: '/home/ec2-user/SageMaker/espnet/tools/espeak-ng/espeak-ng-data/fi_dict'\n",
      "Using phonemetable: 'fi'\n",
      "Compiling: 'fi_list'\n",
      "\t332 entries\n",
      "Compiling: 'fi_emoji'\n",
      "\t1639 entries\n",
      "Compiling: 'fi_extra'\n",
      "\t0 entries\n",
      "Compiling: 'fi_rules'\n",
      "\t144 rules, 29 groups (0)\n",
      "\n"
     ]
    },
    {
     "name": "stdout",
     "output_type": "stream",
     "text": [
      "touch dictsource/fr_extra\n",
      "  DICT      espeak-ng-data/fr_dict\n",
      "rm -f espeak-ng-data/fr_dict\n",
      "cd dictsource && ESPEAK_DATA_PATH=/home/ec2-user/SageMaker/espnet/tools/espeak-ng ../src/espeak-ng --compile=\"fr\"\n"
     ]
    },
    {
     "name": "stderr",
     "output_type": "stream",
     "text": [
      "Can't read dictionary file: '/home/ec2-user/SageMaker/espnet/tools/espeak-ng/espeak-ng-data/fr_dict'\n",
      "Using phonemetable: 'fr'\n",
      "Compiling: 'fr_list'\n",
      "\t885 entries\n",
      "Compiling: 'fr_emoji'\n",
      "\t1638 entries\n",
      "Compiling: 'fr_extra'\n",
      "\t0 entries\n",
      "Compiling: 'fr_rules'\n",
      "\t1207 rules, 33 groups (0)\n",
      "\n"
     ]
    },
    {
     "name": "stdout",
     "output_type": "stream",
     "text": [
      "touch dictsource/ga_extra\n",
      "  DICT      espeak-ng-data/ga_dict\n",
      "rm -f espeak-ng-data/ga_dict\n",
      "cd dictsource && ESPEAK_DATA_PATH=/home/ec2-user/SageMaker/espnet/tools/espeak-ng ../src/espeak-ng --compile=\"ga\"\n"
     ]
    },
    {
     "name": "stderr",
     "output_type": "stream",
     "text": [
      "Can't read dictionary file: '/home/ec2-user/SageMaker/espnet/tools/espeak-ng/espeak-ng-data/ga_dict'\n",
      "Using phonemetable: 'ga'\n",
      "Compiling: 'ga_list'\n",
      "\t250 entries\n",
      "Compiling: 'ga_emoji'\n",
      "\t1636 entries\n",
      "Compiling: 'ga_extra'\n",
      "\t0 entries\n",
      "Compiling: 'ga_rules'\n",
      "\t481 rules, 34 groups (0)\n",
      "\n"
     ]
    },
    {
     "name": "stdout",
     "output_type": "stream",
     "text": [
      "touch dictsource/gd_extra\n",
      "  DICT      espeak-ng-data/gd_dict\n",
      "rm -f espeak-ng-data/gd_dict\n",
      "cd dictsource && ESPEAK_DATA_PATH=/home/ec2-user/SageMaker/espnet/tools/espeak-ng ../src/espeak-ng --compile=\"gd\"\n"
     ]
    },
    {
     "name": "stderr",
     "output_type": "stream",
     "text": [
      "Can't read dictionary file: '/home/ec2-user/SageMaker/espnet/tools/espeak-ng/espeak-ng-data/gd_dict'\n",
      "Using phonemetable: 'gd'\n",
      "Compiling: 'gd_list'\n",
      "\t104 entries\n",
      "Compiling: 'gd_emoji'\n",
      "\t1636 entries\n",
      "Compiling: 'gd_extra'\n",
      "\t0 entries\n",
      "Compiling: 'gd_rules'\n",
      "\t252 rules, 35 groups (0)\n",
      "\n"
     ]
    },
    {
     "name": "stdout",
     "output_type": "stream",
     "text": [
      "touch dictsource/gn_extra\n",
      "  DICT      espeak-ng-data/gn_dict\n",
      "rm -f espeak-ng-data/gn_dict\n",
      "cd dictsource && ESPEAK_DATA_PATH=/home/ec2-user/SageMaker/espnet/tools/espeak-ng ../src/espeak-ng --compile=\"gn\"\n"
     ]
    },
    {
     "name": "stderr",
     "output_type": "stream",
     "text": [
      "Can't read dictionary file: '/home/ec2-user/SageMaker/espnet/tools/espeak-ng/espeak-ng-data/gn_dict'\n",
      "Using phonemetable: 'gn'\n",
      "Compiling: 'gn_list'\n",
      "\t140 entries\n",
      "Compiling: 'gn_extra'\n",
      "\t0 entries\n",
      "Compiling: 'gn_rules'\n",
      "\t58 rules, 48 groups (0)\n",
      "\n"
     ]
    },
    {
     "name": "stdout",
     "output_type": "stream",
     "text": [
      "touch dictsource/grc_extra\n",
      "  DICT      espeak-ng-data/grc_dict\n",
      "rm -f espeak-ng-data/grc_dict\n",
      "cd dictsource && ESPEAK_DATA_PATH=/home/ec2-user/SageMaker/espnet/tools/espeak-ng ../src/espeak-ng --compile=\"grc\"\n"
     ]
    },
    {
     "name": "stderr",
     "output_type": "stream",
     "text": [
      "Can't read dictionary file: '/home/ec2-user/SageMaker/espnet/tools/espeak-ng/espeak-ng-data/grc_dict'\n",
      "Using phonemetable: 'grc'\n",
      "Compiling: 'grc_list'\n",
      "\t22 entries\n",
      "Compiling: 'grc_extra'\n",
      "\t0 entries\n",
      "Compiling: 'grc_rules'\n",
      "\t136 rules, 55 groups (27)\n",
      "\n"
     ]
    },
    {
     "name": "stdout",
     "output_type": "stream",
     "text": [
      "touch dictsource/gu_extra\n",
      "  DICT      espeak-ng-data/gu_dict\n",
      "rm -f espeak-ng-data/gu_dict\n",
      "cd dictsource && ESPEAK_DATA_PATH=/home/ec2-user/SageMaker/espnet/tools/espeak-ng ../src/espeak-ng --compile=\"gu\"\n"
     ]
    },
    {
     "name": "stderr",
     "output_type": "stream",
     "text": [
      "Can't read dictionary file: '/home/ec2-user/SageMaker/espnet/tools/espeak-ng/espeak-ng-data/gu_dict'\n",
      "Using phonemetable: 'gu'\n",
      "Compiling: 'gu_list'\n",
      "\t174 entries\n",
      "Compiling: 'gu_emoji'\n",
      "\t1639 entries\n",
      "Compiling: 'gu_extra'\n",
      "\t0 entries\n",
      "Compiling: 'gu_rules'\n",
      "\t269 rules, 79 groups (77)\n",
      "\n"
     ]
    },
    {
     "name": "stdout",
     "output_type": "stream",
     "text": [
      "touch dictsource/hak_extra\n",
      "  DICT      espeak-ng-data/hak_dict\n",
      "rm -f espeak-ng-data/hak_dict\n",
      "cd dictsource && ESPEAK_DATA_PATH=/home/ec2-user/SageMaker/espnet/tools/espeak-ng ../src/espeak-ng --compile=\"hak\"\n"
     ]
    },
    {
     "name": "stderr",
     "output_type": "stream",
     "text": [
      "Can't read dictionary file: '/home/ec2-user/SageMaker/espnet/tools/espeak-ng/espeak-ng-data/hak_dict'\n",
      "Using phonemetable: 'hak'\n",
      "Compiling: 'hak_list'\n",
      "\t22 entries\n",
      "Compiling: 'hak_extra'\n",
      "\t0 entries\n",
      "Compiling: 'hak_rules'\n",
      "\t261 rules, 27 groups (0)\n",
      "\n"
     ]
    },
    {
     "name": "stdout",
     "output_type": "stream",
     "text": [
      "touch dictsource/haw_extra\n",
      "  DICT      espeak-ng-data/haw_dict\n",
      "rm -f espeak-ng-data/haw_dict\n",
      "cd dictsource && ESPEAK_DATA_PATH=/home/ec2-user/SageMaker/espnet/tools/espeak-ng ../src/espeak-ng --compile=\"haw\"\n"
     ]
    },
    {
     "name": "stderr",
     "output_type": "stream",
     "text": [
      "Can't read dictionary file: '/home/ec2-user/SageMaker/espnet/tools/espeak-ng/espeak-ng-data/haw_dict'\n",
      "Using phonemetable: 'haw'\n",
      "Compiling: 'haw_list'\n",
      "\t100 entries\n",
      "Compiling: 'haw_extra'\n",
      "\t0 entries\n",
      "Compiling: 'haw_rules'\n",
      "\t40 rules, 30 groups (0)\n",
      "\n"
     ]
    },
    {
     "name": "stdout",
     "output_type": "stream",
     "text": [
      "touch dictsource/he_extra\n",
      "  DICT      espeak-ng-data/he_dict\n",
      "rm -f espeak-ng-data/he_dict\n",
      "cd dictsource && ESPEAK_DATA_PATH=/home/ec2-user/SageMaker/espnet/tools/espeak-ng ../src/espeak-ng --compile=\"he\"\n"
     ]
    },
    {
     "name": "stderr",
     "output_type": "stream",
     "text": [
      "Can't read dictionary file: '/home/ec2-user/SageMaker/espnet/tools/espeak-ng/espeak-ng-data/he_dict'\n",
      "Using phonemetable: 'he'\n",
      "Compiling: 'he_listx'\n",
      "\t137 entries\n",
      "Compiling: 'he_list'\n",
      "\t33 entries\n",
      "Compiling: 'he_extra'\n",
      "\t0 entries\n",
      "Compiling: 'he_rules'\n",
      "\t358 rules, 37 groups (0)\n",
      "\n"
     ]
    },
    {
     "name": "stdout",
     "output_type": "stream",
     "text": [
      "touch dictsource/hi_extra\n",
      "  DICT      espeak-ng-data/hi_dict\n",
      "rm -f espeak-ng-data/hi_dict\n",
      "cd dictsource && ESPEAK_DATA_PATH=/home/ec2-user/SageMaker/espnet/tools/espeak-ng ../src/espeak-ng --compile=\"hi\"\n"
     ]
    },
    {
     "name": "stderr",
     "output_type": "stream",
     "text": [
      "Can't read dictionary file: '/home/ec2-user/SageMaker/espnet/tools/espeak-ng/espeak-ng-data/hi_dict'\n",
      "Using phonemetable: 'hi'\n",
      "Compiling: 'hi_list'\n",
      "\t316 entries\n",
      "Compiling: 'hi_emoji'\n",
      "\t1639 entries\n",
      "Compiling: 'hi_extra'\n",
      "\t0 entries\n",
      "Compiling: 'hi_rules'\n",
      "\t301 rules, 87 groups (86)\n",
      "\n"
     ]
    },
    {
     "name": "stdout",
     "output_type": "stream",
     "text": [
      "touch dictsource/hr_extra\n",
      "  DICT      espeak-ng-data/hr_dict\n",
      "rm -f espeak-ng-data/hr_dict\n",
      "cd dictsource && ESPEAK_DATA_PATH=/home/ec2-user/SageMaker/espnet/tools/espeak-ng ../src/espeak-ng --compile=\"hr\"\n"
     ]
    },
    {
     "name": "stderr",
     "output_type": "stream",
     "text": [
      "Can't read dictionary file: '/home/ec2-user/SageMaker/espnet/tools/espeak-ng/espeak-ng-data/hr_dict'\n",
      "Using phonemetable: 'hr'\n",
      "Compiling: 'hr_list'\n",
      "\t613 entries\n",
      "Compiling: 'hr_emoji'\n",
      "\t1639 entries\n",
      "Compiling: 'hr_extra'\n",
      "\t0 entries\n",
      "Compiling: 'hr_rules'\n",
      "\t112 rules, 34 groups (0)\n",
      "\n"
     ]
    },
    {
     "name": "stdout",
     "output_type": "stream",
     "text": [
      "touch dictsource/ht_extra\n",
      "  DICT      espeak-ng-data/ht_dict\n",
      "rm -f espeak-ng-data/ht_dict\n",
      "cd dictsource && ESPEAK_DATA_PATH=/home/ec2-user/SageMaker/espnet/tools/espeak-ng ../src/espeak-ng --compile=\"ht\"\n"
     ]
    },
    {
     "name": "stderr",
     "output_type": "stream",
     "text": [
      "Can't read dictionary file: '/home/ec2-user/SageMaker/espnet/tools/espeak-ng/espeak-ng-data/ht_dict'\n",
      "Using phonemetable: 'ht'\n",
      "Compiling: 'ht_list'\n",
      "\t50 entries\n",
      "Compiling: 'ht_extra'\n",
      "\t0 entries\n",
      "Compiling: 'ht_rules'\n",
      "\t36 rules, 32 groups (0)\n",
      "\n"
     ]
    },
    {
     "name": "stdout",
     "output_type": "stream",
     "text": [
      "touch dictsource/hu_extra\n",
      "  DICT      espeak-ng-data/hu_dict\n",
      "rm -f espeak-ng-data/hu_dict\n",
      "cd dictsource && ESPEAK_DATA_PATH=/home/ec2-user/SageMaker/espnet/tools/espeak-ng ../src/espeak-ng --compile=\"hu\"\n"
     ]
    },
    {
     "name": "stderr",
     "output_type": "stream",
     "text": [
      "Can't read dictionary file: '/home/ec2-user/SageMaker/espnet/tools/espeak-ng/espeak-ng-data/hu_dict'\n",
      "Using phonemetable: 'hu'\n",
      "Compiling: 'hu_list'\n",
      "\t5331 entries\n",
      "Compiling: 'hu_emoji'\n",
      "\t1639 entries\n",
      "Compiling: 'hu_extra'\n",
      "\t0 entries\n",
      "Compiling: 'hu_rules'\n",
      "\t3019 rules, 46 groups (0)\n",
      "\n"
     ]
    },
    {
     "name": "stdout",
     "output_type": "stream",
     "text": [
      "touch dictsource/hy_extra\n",
      "  DICT      espeak-ng-data/hy_dict\n",
      "rm -f espeak-ng-data/hy_dict\n",
      "cd dictsource && ESPEAK_DATA_PATH=/home/ec2-user/SageMaker/espnet/tools/espeak-ng ../src/espeak-ng --compile=\"hy\"\n"
     ]
    },
    {
     "name": "stderr",
     "output_type": "stream",
     "text": [
      "Can't read dictionary file: '/home/ec2-user/SageMaker/espnet/tools/espeak-ng/espeak-ng-data/hy_dict'\n",
      "Using phonemetable: 'hy'\n",
      "Compiling: 'hy_list'\n",
      "\t170 entries\n",
      "Compiling: 'hy_emoji'\n",
      "\t1639 entries\n",
      "Compiling: 'hy_extra'\n",
      "\t0 entries\n",
      "Compiling: 'hy_rules'\n",
      "\t96 rules, 38 groups (38)\n",
      "\n"
     ]
    },
    {
     "name": "stdout",
     "output_type": "stream",
     "text": [
      "touch dictsource/ia_extra\n",
      "  DICT      espeak-ng-data/ia_dict\n",
      "rm -f espeak-ng-data/ia_dict\n",
      "cd dictsource && ESPEAK_DATA_PATH=/home/ec2-user/SageMaker/espnet/tools/espeak-ng ../src/espeak-ng --compile=\"ia\"\n"
     ]
    },
    {
     "name": "stderr",
     "output_type": "stream",
     "text": [
      "Can't read dictionary file: '/home/ec2-user/SageMaker/espnet/tools/espeak-ng/espeak-ng-data/ia_dict'\n",
      "Using phonemetable: 'ia'\n",
      "Compiling: 'ia_listx'\n",
      "\t15620 entries\n",
      "Compiling: 'ia_list'\n",
      "\t90 entries\n",
      "Compiling: 'ia_extra'\n",
      "\t0 entries\n",
      "Compiling: 'ia_rules'\n",
      "\t79 rules, 26 groups (0)\n",
      "\n"
     ]
    },
    {
     "name": "stdout",
     "output_type": "stream",
     "text": [
      "touch dictsource/id_extra\n",
      "  DICT      espeak-ng-data/id_dict\n",
      "rm -f espeak-ng-data/id_dict\n",
      "cd dictsource && ESPEAK_DATA_PATH=/home/ec2-user/SageMaker/espnet/tools/espeak-ng ../src/espeak-ng --compile=\"id\"\n"
     ]
    },
    {
     "name": "stderr",
     "output_type": "stream",
     "text": [
      "Can't read dictionary file: '/home/ec2-user/SageMaker/espnet/tools/espeak-ng/espeak-ng-data/id_dict'\n",
      "Using phonemetable: 'id'\n",
      "Compiling: 'id_list'\n",
      "\t132 entries\n",
      "Compiling: 'id_emoji'\n",
      "\t1639 entries\n",
      "Compiling: 'id_extra'\n",
      "\t0 entries\n",
      "Compiling: 'id_rules'\n",
      "\t78 rules, 27 groups (0)\n",
      "\n"
     ]
    },
    {
     "name": "stdout",
     "output_type": "stream",
     "text": [
      "touch dictsource/io_extra\n",
      "  DICT      espeak-ng-data/io_dict\n",
      "rm -f espeak-ng-data/io_dict\n",
      "cd dictsource && ESPEAK_DATA_PATH=/home/ec2-user/SageMaker/espnet/tools/espeak-ng ../src/espeak-ng --compile=\"io\"\n"
     ]
    },
    {
     "name": "stderr",
     "output_type": "stream",
     "text": [
      "Can't read dictionary file: '/home/ec2-user/SageMaker/espnet/tools/espeak-ng/espeak-ng-data/io_dict'\n",
      "Using phonemetable: 'eo'\n",
      "Compiling: 'io_list'\n",
      "\t50 entries\n",
      "Compiling: 'io_extra'\n",
      "\t0 entries\n",
      "Compiling: 'io_rules'\n",
      "\t78 rules, 26 groups (0)\n",
      "\n"
     ]
    },
    {
     "name": "stdout",
     "output_type": "stream",
     "text": [
      "touch dictsource/is_extra\n",
      "  DICT      espeak-ng-data/is_dict\n",
      "rm -f espeak-ng-data/is_dict\n",
      "cd dictsource && ESPEAK_DATA_PATH=/home/ec2-user/SageMaker/espnet/tools/espeak-ng ../src/espeak-ng --compile=\"is\"\n"
     ]
    },
    {
     "name": "stderr",
     "output_type": "stream",
     "text": [
      "Can't read dictionary file: '/home/ec2-user/SageMaker/espnet/tools/espeak-ng/espeak-ng-data/is_dict'\n",
      "Using phonemetable: 'is'\n",
      "Compiling: 'is_list'\n",
      "\t327 entries\n",
      "Compiling: 'is_emoji'\n",
      "\t1639 entries\n",
      "Compiling: 'is_extra'\n",
      "\t0 entries\n",
      "Compiling: 'is_rules'\n",
      "\t205 rules, 37 groups (0)\n",
      "\n"
     ]
    },
    {
     "name": "stdout",
     "output_type": "stream",
     "text": [
      "touch dictsource/it_extra\n",
      "  DICT      espeak-ng-data/it_dict\n",
      "rm -f espeak-ng-data/it_dict\n",
      "cd dictsource && ESPEAK_DATA_PATH=/home/ec2-user/SageMaker/espnet/tools/espeak-ng ../src/espeak-ng --compile=\"it\"\n"
     ]
    },
    {
     "name": "stderr",
     "output_type": "stream",
     "text": [
      "Can't read dictionary file: '/home/ec2-user/SageMaker/espnet/tools/espeak-ng/espeak-ng-data/it_dict'\n",
      "Using phonemetable: 'it'\n",
      "Compiling: 'it_listx'\n",
      "\t4291 entries\n",
      "Compiling: 'it_list'\n",
      "\t5107 entries\n",
      "Compiling: 'it_emoji'\n",
      "\t1639 entries\n",
      "Compiling: 'it_extra'\n",
      "\t0 entries\n",
      "Compiling: 'it_rules'\n",
      "\t708 rules, 30 groups (0)\n",
      "\n"
     ]
    },
    {
     "name": "stdout",
     "output_type": "stream",
     "text": [
      "touch dictsource/ja_extra\n",
      "  DICT      espeak-ng-data/ja_dict\n",
      "rm -f espeak-ng-data/ja_dict\n",
      "cd dictsource && ESPEAK_DATA_PATH=/home/ec2-user/SageMaker/espnet/tools/espeak-ng ../src/espeak-ng --compile=\"ja\"\n"
     ]
    },
    {
     "name": "stderr",
     "output_type": "stream",
     "text": [
      "Can't read dictionary file: '/home/ec2-user/SageMaker/espnet/tools/espeak-ng/espeak-ng-data/ja_dict'\n",
      "Using phonemetable: 'ja'\n",
      "Compiling: 'ja_list'\n",
      "\t23 entries\n",
      "Compiling: 'ja_emoji'\n",
      "\t1639 entries\n",
      "Compiling: 'ja_extra'\n",
      "\t0 entries\n",
      "Compiling: 'ja_rules'\n",
      "\t457 rules, 53 groups (0)\n",
      "\n"
     ]
    },
    {
     "name": "stdout",
     "output_type": "stream",
     "text": [
      "touch dictsource/jbo_extra\n",
      "  DICT      espeak-ng-data/jbo_dict\n",
      "rm -f espeak-ng-data/jbo_dict\n",
      "cd dictsource && ESPEAK_DATA_PATH=/home/ec2-user/SageMaker/espnet/tools/espeak-ng ../src/espeak-ng --compile=\"jbo\"\n"
     ]
    },
    {
     "name": "stderr",
     "output_type": "stream",
     "text": [
      "Can't read dictionary file: '/home/ec2-user/SageMaker/espnet/tools/espeak-ng/espeak-ng-data/jbo_dict'\n",
      "Using phonemetable: 'jbo'\n",
      "Compiling: 'jbo_list'\n",
      "\t85 entries\n",
      "Compiling: 'jbo_extra'\n",
      "\t0 entries\n",
      "Compiling: 'jbo_rules'\n",
      "\t64 rules, 27 groups (0)\n",
      "\n"
     ]
    },
    {
     "name": "stdout",
     "output_type": "stream",
     "text": [
      "touch dictsource/ka_extra\n",
      "  DICT      espeak-ng-data/ka_dict\n",
      "rm -f espeak-ng-data/ka_dict\n",
      "cd dictsource && ESPEAK_DATA_PATH=/home/ec2-user/SageMaker/espnet/tools/espeak-ng ../src/espeak-ng --compile=\"ka\"\n"
     ]
    },
    {
     "name": "stderr",
     "output_type": "stream",
     "text": [
      "Can't read dictionary file: '/home/ec2-user/SageMaker/espnet/tools/espeak-ng/espeak-ng-data/ka_dict'\n",
      "Using phonemetable: 'ka'\n",
      "Compiling: 'ka_list'\n",
      "\t132 entries\n",
      "Compiling: 'ka_emoji'\n",
      "\t1639 entries\n",
      "Compiling: 'ka_extra'\n",
      "\t0 entries\n",
      "Compiling: 'ka_rules'\n",
      "\t50 rules, 44 groups (43)\n",
      "\n"
     ]
    },
    {
     "name": "stdout",
     "output_type": "stream",
     "text": [
      "touch dictsource/kk_extra\n",
      "  DICT      espeak-ng-data/kk_dict\n",
      "rm -f espeak-ng-data/kk_dict\n",
      "cd dictsource && ESPEAK_DATA_PATH=/home/ec2-user/SageMaker/espnet/tools/espeak-ng ../src/espeak-ng --compile=\"kk\"\n"
     ]
    },
    {
     "name": "stderr",
     "output_type": "stream",
     "text": [
      "Can't read dictionary file: '/home/ec2-user/SageMaker/espnet/tools/espeak-ng/espeak-ng-data/kk_dict'\n",
      "Using phonemetable: 'kk'\n",
      "Compiling: 'kk_list'\n",
      "\t51 entries\n",
      "Compiling: 'kk_emoji'\n",
      "\t0 entries\n",
      "Compiling: 'kk_extra'\n",
      "\t0 entries\n",
      "Compiling: 'kk_rules'\n",
      "\t42 rules, 42 groups (36)\n",
      "\n"
     ]
    },
    {
     "name": "stdout",
     "output_type": "stream",
     "text": [
      "touch dictsource/kl_extra\n",
      "  DICT      espeak-ng-data/kl_dict\n",
      "rm -f espeak-ng-data/kl_dict\n",
      "cd dictsource && ESPEAK_DATA_PATH=/home/ec2-user/SageMaker/espnet/tools/espeak-ng ../src/espeak-ng --compile=\"kl\"\n"
     ]
    },
    {
     "name": "stderr",
     "output_type": "stream",
     "text": [
      "Can't read dictionary file: '/home/ec2-user/SageMaker/espnet/tools/espeak-ng/espeak-ng-data/kl_dict'\n",
      "Using phonemetable: 'kl'\n",
      "Compiling: 'kl_list'\n",
      "\t92 entries\n",
      "Compiling: 'kl_extra'\n",
      "\t0 entries\n",
      "Compiling: 'kl_rules'\n",
      "\t80 rules, 30 groups (0)\n",
      "\n"
     ]
    },
    {
     "name": "stdout",
     "output_type": "stream",
     "text": [
      "touch dictsource/kn_extra\n",
      "  DICT      espeak-ng-data/kn_dict\n",
      "rm -f espeak-ng-data/kn_dict\n",
      "cd dictsource && ESPEAK_DATA_PATH=/home/ec2-user/SageMaker/espnet/tools/espeak-ng ../src/espeak-ng --compile=\"kn\"\n"
     ]
    },
    {
     "name": "stderr",
     "output_type": "stream",
     "text": [
      "Can't read dictionary file: '/home/ec2-user/SageMaker/espnet/tools/espeak-ng/espeak-ng-data/kn_dict'\n",
      "Using phonemetable: 'kn'\n",
      "Compiling: 'kn_list'\n",
      "\t262 entries\n",
      "Compiling: 'kn_emoji'\n",
      "\t1639 entries\n",
      "Compiling: 'kn_extra'\n",
      "\t0 entries\n",
      "Compiling: 'kn_rules'\n",
      "\t115 rules, 55 groups (50)\n",
      "\n"
     ]
    },
    {
     "name": "stdout",
     "output_type": "stream",
     "text": [
      "touch dictsource/ko_extra\n",
      "  DICT      espeak-ng-data/ko_dict\n",
      "rm -f espeak-ng-data/ko_dict\n",
      "cd dictsource && ESPEAK_DATA_PATH=/home/ec2-user/SageMaker/espnet/tools/espeak-ng ../src/espeak-ng --compile=\"ko\"\n"
     ]
    },
    {
     "name": "stderr",
     "output_type": "stream",
     "text": [
      "Can't read dictionary file: '/home/ec2-user/SageMaker/espnet/tools/espeak-ng/espeak-ng-data/ko_dict'\n",
      "Using phonemetable: 'ko'\n",
      "Compiling: 'ko_list'\n",
      "\t133 entries\n",
      "Compiling: 'ko_emoji'\n",
      "\t1639 entries\n",
      "Compiling: 'ko_extra'\n",
      "\t0 entries\n",
      "Compiling: 'ko_rules'\n",
      "\t128 rules, 68 groups (40)\n",
      "\n"
     ]
    },
    {
     "name": "stdout",
     "output_type": "stream",
     "text": [
      "touch dictsource/kok_extra\n",
      "  DICT      espeak-ng-data/kok_dict\n",
      "rm -f espeak-ng-data/kok_dict\n",
      "cd dictsource && ESPEAK_DATA_PATH=/home/ec2-user/SageMaker/espnet/tools/espeak-ng ../src/espeak-ng --compile=\"kok\"\n"
     ]
    },
    {
     "name": "stderr",
     "output_type": "stream",
     "text": [
      "Can't read dictionary file: '/home/ec2-user/SageMaker/espnet/tools/espeak-ng/espeak-ng-data/kok_dict'\n",
      "Using phonemetable: 'kok'\n",
      "Compiling: 'kok_list'\n",
      "\t189 entries\n",
      "Compiling: 'kok_extra'\n",
      "\t0 entries\n",
      "Compiling: 'kok_rules'\n",
      "\t337 rules, 88 groups (0)\n",
      "\n"
     ]
    },
    {
     "name": "stdout",
     "output_type": "stream",
     "text": [
      "touch dictsource/ku_extra\n",
      "  DICT      espeak-ng-data/ku_dict\n",
      "rm -f espeak-ng-data/ku_dict\n",
      "cd dictsource && ESPEAK_DATA_PATH=/home/ec2-user/SageMaker/espnet/tools/espeak-ng ../src/espeak-ng --compile=\"ku\"\n"
     ]
    },
    {
     "name": "stderr",
     "output_type": "stream",
     "text": [
      "Can't read dictionary file: '/home/ec2-user/SageMaker/espnet/tools/espeak-ng/espeak-ng-data/ku_dict'\n",
      "Using phonemetable: 'ku'\n",
      "Compiling: 'ku_list'\n",
      "\t106 entries\n",
      "Compiling: 'ku_extra'\n",
      "\t0 entries\n",
      "Compiling: 'ku_rules'\n",
      "\t46 rules, 32 groups (0)\n",
      "\n"
     ]
    },
    {
     "name": "stdout",
     "output_type": "stream",
     "text": [
      "touch dictsource/ky_extra\n",
      "  DICT      espeak-ng-data/ky_dict\n",
      "rm -f espeak-ng-data/ky_dict\n",
      "cd dictsource && ESPEAK_DATA_PATH=/home/ec2-user/SageMaker/espnet/tools/espeak-ng ../src/espeak-ng --compile=\"ky\"\n"
     ]
    },
    {
     "name": "stderr",
     "output_type": "stream",
     "text": [
      "Can't read dictionary file: '/home/ec2-user/SageMaker/espnet/tools/espeak-ng/espeak-ng-data/ky_dict'\n",
      "Using phonemetable: 'ky'\n",
      "Compiling: 'ky_list'\n",
      "\t77 entries\n",
      "Compiling: 'ky_emoji'\n",
      "\t1636 entries\n",
      "Compiling: 'ky_extra'\n",
      "\t0 entries\n",
      "Compiling: 'ky_rules'\n",
      "\t113 rules, 33 groups (0)\n",
      "\n"
     ]
    },
    {
     "name": "stdout",
     "output_type": "stream",
     "text": [
      "touch dictsource/la_extra\n",
      "  DICT      espeak-ng-data/la_dict\n",
      "rm -f espeak-ng-data/la_dict\n",
      "cd dictsource && ESPEAK_DATA_PATH=/home/ec2-user/SageMaker/espnet/tools/espeak-ng ../src/espeak-ng --compile=\"la\"\n"
     ]
    },
    {
     "name": "stderr",
     "output_type": "stream",
     "text": [
      "Can't read dictionary file: '/home/ec2-user/SageMaker/espnet/tools/espeak-ng/espeak-ng-data/la_dict'\n",
      "Using phonemetable: 'la'\n",
      "Compiling: 'la_list'\n",
      "\t215 entries\n",
      "Compiling: 'la_extra'\n",
      "\t0 entries\n",
      "Compiling: 'la_rules'\n",
      "\t113 rules, 31 groups (0)\n",
      "\n"
     ]
    },
    {
     "name": "stdout",
     "output_type": "stream",
     "text": [
      "  DICT      espeak-ng-data/lb_dict\n",
      "rm -f espeak-ng-data/lb_dict\n",
      "cd dictsource && ESPEAK_DATA_PATH=/home/ec2-user/SageMaker/espnet/tools/espeak-ng ../src/espeak-ng --compile=\"lb\"\n"
     ]
    },
    {
     "name": "stderr",
     "output_type": "stream",
     "text": [
      "Can't read dictionary file: '/home/ec2-user/SageMaker/espnet/tools/espeak-ng/espeak-ng-data/lb_dict'\n",
      "Using phonemetable: 'lb'\n",
      "Compiling: 'lb_list'\n",
      "\t35647 entries\n",
      "Compiling: 'lb_emoji'\n",
      "\t25 entries\n",
      "Compiling: 'lb_rules'\n",
      "\t175 rules, 50 groups (0)\n",
      "\n"
     ]
    },
    {
     "name": "stdout",
     "output_type": "stream",
     "text": [
      "touch dictsource/lfn_extra\n",
      "  DICT      espeak-ng-data/lfn_dict\n",
      "rm -f espeak-ng-data/lfn_dict\n",
      "cd dictsource && ESPEAK_DATA_PATH=/home/ec2-user/SageMaker/espnet/tools/espeak-ng ../src/espeak-ng --compile=\"lfn\"\n"
     ]
    },
    {
     "name": "stderr",
     "output_type": "stream",
     "text": [
      "Can't read dictionary file: '/home/ec2-user/SageMaker/espnet/tools/espeak-ng/espeak-ng-data/lfn_dict'\n",
      "Using phonemetable: 'base2'\n",
      "Compiling: 'lfn_list'\n",
      "\t127 entries\n",
      "Compiling: 'lfn_extra'\n",
      "\t0 entries\n",
      "Compiling: 'lfn_rules'\n",
      "\t76 rules, 27 groups (0)\n",
      "\n"
     ]
    },
    {
     "name": "stdout",
     "output_type": "stream",
     "text": [
      "touch dictsource/lt_extra\n",
      "  DICT      espeak-ng-data/lt_dict\n",
      "rm -f espeak-ng-data/lt_dict\n",
      "cd dictsource && ESPEAK_DATA_PATH=/home/ec2-user/SageMaker/espnet/tools/espeak-ng ../src/espeak-ng --compile=\"lt\"\n"
     ]
    },
    {
     "name": "stderr",
     "output_type": "stream",
     "text": [
      "Can't read dictionary file: '/home/ec2-user/SageMaker/espnet/tools/espeak-ng/espeak-ng-data/lt_dict'\n",
      "Using phonemetable: 'lt'\n",
      "Compiling: 'lt_list'\n",
      "\t167 entries\n",
      "Compiling: 'lt_emoji'\n",
      "\t1639 entries\n",
      "Compiling: 'lt_extra'\n",
      "\t0 entries\n",
      "Compiling: 'lt_rules'\n",
      "\t210 rules, 38 groups (0)\n",
      "\n"
     ]
    },
    {
     "name": "stdout",
     "output_type": "stream",
     "text": [
      "touch dictsource/lv_extra\n",
      "  DICT      espeak-ng-data/lv_dict\n",
      "rm -f espeak-ng-data/lv_dict\n",
      "cd dictsource && ESPEAK_DATA_PATH=/home/ec2-user/SageMaker/espnet/tools/espeak-ng ../src/espeak-ng --compile=\"lv\"\n"
     ]
    },
    {
     "name": "stderr",
     "output_type": "stream",
     "text": [
      "Can't read dictionary file: '/home/ec2-user/SageMaker/espnet/tools/espeak-ng/espeak-ng-data/lv_dict'\n",
      "Using phonemetable: 'lv'\n",
      "Compiling: 'lv_list'\n",
      "\t848 entries\n",
      "Compiling: 'lv_emoji'\n",
      "\t1639 entries\n",
      "Compiling: 'lv_extra'\n",
      "\t0 entries\n",
      "Compiling: 'lv_rules'\n",
      "\t1523 rules, 62 groups (0)\n",
      "\n"
     ]
    },
    {
     "name": "stdout",
     "output_type": "stream",
     "text": [
      "touch dictsource/mi_extra\n",
      "  DICT      espeak-ng-data/mi_dict\n",
      "rm -f espeak-ng-data/mi_dict\n",
      "cd dictsource && ESPEAK_DATA_PATH=/home/ec2-user/SageMaker/espnet/tools/espeak-ng ../src/espeak-ng --compile=\"mi\"\n"
     ]
    },
    {
     "name": "stderr",
     "output_type": "stream",
     "text": [
      "Can't read dictionary file: '/home/ec2-user/SageMaker/espnet/tools/espeak-ng/espeak-ng-data/mi_dict'\n",
      "Using phonemetable: 'mi'\n",
      "Compiling: 'mi_list'\n",
      "\t14 entries\n",
      "Compiling: 'mi_extra'\n",
      "\t0 entries\n",
      "Compiling: 'mi_rules'\n",
      "\t27 rules, 18 groups (0)\n",
      "\n"
     ]
    },
    {
     "name": "stdout",
     "output_type": "stream",
     "text": [
      "touch dictsource/mk_extra\n",
      "  DICT      espeak-ng-data/mk_dict\n",
      "rm -f espeak-ng-data/mk_dict\n",
      "cd dictsource && ESPEAK_DATA_PATH=/home/ec2-user/SageMaker/espnet/tools/espeak-ng ../src/espeak-ng --compile=\"mk\"\n"
     ]
    },
    {
     "name": "stderr",
     "output_type": "stream",
     "text": [
      "Can't read dictionary file: '/home/ec2-user/SageMaker/espnet/tools/espeak-ng/espeak-ng-data/mk_dict'\n",
      "Using phonemetable: 'mk'\n",
      "Compiling: 'mk_list'\n",
      "\t188 entries\n",
      "Compiling: 'mk_emoji'\n",
      "\t1636 entries\n",
      "Compiling: 'mk_extra'\n",
      "\t0 entries\n",
      "Compiling: 'mk_rules'\n",
      "\t96 rules, 34 groups (31)\n",
      "\n"
     ]
    },
    {
     "name": "stdout",
     "output_type": "stream",
     "text": [
      "touch dictsource/ml_extra\n",
      "  DICT      espeak-ng-data/ml_dict\n",
      "rm -f espeak-ng-data/ml_dict\n",
      "cd dictsource && ESPEAK_DATA_PATH=/home/ec2-user/SageMaker/espnet/tools/espeak-ng ../src/espeak-ng --compile=\"ml\"\n"
     ]
    },
    {
     "name": "stderr",
     "output_type": "stream",
     "text": [
      "Can't read dictionary file: '/home/ec2-user/SageMaker/espnet/tools/espeak-ng/espeak-ng-data/ml_dict'\n",
      "Using phonemetable: 'ml'\n",
      "Compiling: 'ml_list'\n",
      "\t165 entries\n",
      "Compiling: 'ml_emoji'\n",
      "\t1639 entries\n",
      "Compiling: 'ml_extra'\n",
      "\t0 entries\n",
      "Compiling: 'ml_rules'\n",
      "\t141 rules, 45 groups (42)\n",
      "\n"
     ]
    },
    {
     "name": "stdout",
     "output_type": "stream",
     "text": [
      "touch dictsource/mr_extra\n",
      "  DICT      espeak-ng-data/mr_dict\n",
      "rm -f espeak-ng-data/mr_dict\n",
      "cd dictsource && ESPEAK_DATA_PATH=/home/ec2-user/SageMaker/espnet/tools/espeak-ng ../src/espeak-ng --compile=\"mr\"\n"
     ]
    },
    {
     "name": "stderr",
     "output_type": "stream",
     "text": [
      "Can't read dictionary file: '/home/ec2-user/SageMaker/espnet/tools/espeak-ng/espeak-ng-data/mr_dict'\n",
      "Using phonemetable: 'mr'\n",
      "Compiling: 'mr_list'\n",
      "\t235 entries\n",
      "Compiling: 'mr_emoji'\n",
      "\t1639 entries\n",
      "Compiling: 'mr_extra'\n",
      "\t0 entries\n",
      "Compiling: 'mr_rules'\n",
      "\t298 rules, 87 groups (85)\n",
      "\n"
     ]
    },
    {
     "name": "stdout",
     "output_type": "stream",
     "text": [
      "touch dictsource/ms_extra\n",
      "  DICT      espeak-ng-data/ms_dict\n",
      "rm -f espeak-ng-data/ms_dict\n",
      "cd dictsource && ESPEAK_DATA_PATH=/home/ec2-user/SageMaker/espnet/tools/espeak-ng ../src/espeak-ng --compile=\"ms\"\n"
     ]
    },
    {
     "name": "stderr",
     "output_type": "stream",
     "text": [
      "Can't read dictionary file: '/home/ec2-user/SageMaker/espnet/tools/espeak-ng/espeak-ng-data/ms_dict'\n",
      "Using phonemetable: 'id'\n",
      "Compiling: 'ms_list'\n",
      "\t703 entries\n",
      "Compiling: 'ms_emoji'\n",
      "\t1639 entries\n",
      "Compiling: 'ms_extra'\n",
      "\t0 entries\n",
      "Compiling: 'ms_rules'\n",
      "\t125 rules, 27 groups (0)\n",
      "\n"
     ]
    },
    {
     "name": "stdout",
     "output_type": "stream",
     "text": [
      "touch dictsource/mt_extra\n",
      "  DICT      espeak-ng-data/mt_dict\n",
      "rm -f espeak-ng-data/mt_dict\n",
      "cd dictsource && ESPEAK_DATA_PATH=/home/ec2-user/SageMaker/espnet/tools/espeak-ng ../src/espeak-ng --compile=\"mt\"\n"
     ]
    },
    {
     "name": "stderr",
     "output_type": "stream",
     "text": [
      "Can't read dictionary file: '/home/ec2-user/SageMaker/espnet/tools/espeak-ng/espeak-ng-data/mt_dict'\n",
      "Using phonemetable: 'mt'\n",
      "Compiling: 'mt_list'\n",
      "\t232 entries\n",
      "Compiling: 'mt_extra'\n",
      "\t0 entries\n",
      "Compiling: 'mt_rules'\n",
      "\t99 rules, 31 groups (0)\n",
      "\n"
     ]
    },
    {
     "name": "stdout",
     "output_type": "stream",
     "text": [
      "touch dictsource/my_extra\n",
      "  DICT      espeak-ng-data/my_dict\n",
      "rm -f espeak-ng-data/my_dict\n",
      "cd dictsource && ESPEAK_DATA_PATH=/home/ec2-user/SageMaker/espnet/tools/espeak-ng ../src/espeak-ng --compile=\"my\"\n"
     ]
    },
    {
     "name": "stderr",
     "output_type": "stream",
     "text": [
      "Can't read dictionary file: '/home/ec2-user/SageMaker/espnet/tools/espeak-ng/espeak-ng-data/my_dict'\n",
      "Using phonemetable: 'my'\n",
      "Compiling: 'my_list'\n",
      "\t11 entries\n",
      "Compiling: 'my_emoji'\n",
      "\t1644 entries\n",
      "Compiling: 'my_extra'\n",
      "\t0 entries\n",
      "Compiling: 'my_rules'\n",
      "\t78 rules, 64 groups (0)\n",
      "\n"
     ]
    },
    {
     "name": "stdout",
     "output_type": "stream",
     "text": [
      "touch dictsource/nci_extra\n",
      "  DICT      espeak-ng-data/nci_dict\n",
      "rm -f espeak-ng-data/nci_dict\n",
      "cd dictsource && ESPEAK_DATA_PATH=/home/ec2-user/SageMaker/espnet/tools/espeak-ng ../src/espeak-ng --compile=\"nci\"\n"
     ]
    },
    {
     "name": "stderr",
     "output_type": "stream",
     "text": [
      "Can't read dictionary file: '/home/ec2-user/SageMaker/espnet/tools/espeak-ng/espeak-ng-data/nci_dict'\n",
      "Using phonemetable: 'nci'\n",
      "Compiling: 'nci_list'\n",
      "\t16 entries\n",
      "Compiling: 'nci_extra'\n",
      "\t0 entries\n",
      "Compiling: 'nci_rules'\n",
      "\t41 rules, 21 groups (0)\n",
      "\n"
     ]
    },
    {
     "name": "stdout",
     "output_type": "stream",
     "text": [
      "touch dictsource/ne_extra\n",
      "  DICT      espeak-ng-data/ne_dict\n",
      "rm -f espeak-ng-data/ne_dict\n",
      "cd dictsource && ESPEAK_DATA_PATH=/home/ec2-user/SageMaker/espnet/tools/espeak-ng ../src/espeak-ng --compile=\"ne\"\n"
     ]
    },
    {
     "name": "stderr",
     "output_type": "stream",
     "text": [
      "Can't read dictionary file: '/home/ec2-user/SageMaker/espnet/tools/espeak-ng/espeak-ng-data/ne_dict'\n",
      "Using phonemetable: 'ne'\n",
      "Compiling: 'ne_list'\n",
      "\t193 entries\n",
      "Compiling: 'ne_emoji'\n",
      "\t1639 entries\n",
      "Compiling: 'ne_extra'\n",
      "\t0 entries\n",
      "Compiling: 'ne_rules'\n",
      "\t520 rules, 100 groups (92)\n",
      "\n"
     ]
    },
    {
     "name": "stdout",
     "output_type": "stream",
     "text": [
      "touch dictsource/nl_extra\n",
      "  DICT      espeak-ng-data/nl_dict\n",
      "rm -f espeak-ng-data/nl_dict\n",
      "cd dictsource && ESPEAK_DATA_PATH=/home/ec2-user/SageMaker/espnet/tools/espeak-ng ../src/espeak-ng --compile=\"nl\"\n"
     ]
    },
    {
     "name": "stderr",
     "output_type": "stream",
     "text": [
      "Can't read dictionary file: '/home/ec2-user/SageMaker/espnet/tools/espeak-ng/espeak-ng-data/nl_dict'\n",
      "Using phonemetable: 'nl'\n",
      "Compiling: 'nl_list'\n",
      "\t1768 entries\n",
      "Compiling: 'nl_emoji'\n",
      "\t1639 entries\n",
      "Compiling: 'nl_extra'\n",
      "\t0 entries\n",
      "Compiling: 'nl_rules'\n",
      "\t826 rules, 37 groups (0)\n",
      "\n"
     ]
    },
    {
     "name": "stdout",
     "output_type": "stream",
     "text": [
      "touch dictsource/no_extra\n",
      "  DICT      espeak-ng-data/no_dict\n",
      "rm -f espeak-ng-data/no_dict\n",
      "cd dictsource && ESPEAK_DATA_PATH=/home/ec2-user/SageMaker/espnet/tools/espeak-ng ../src/espeak-ng --compile=\"no\"\n"
     ]
    },
    {
     "name": "stderr",
     "output_type": "stream",
     "text": [
      "Can't read dictionary file: '/home/ec2-user/SageMaker/espnet/tools/espeak-ng/espeak-ng-data/no_dict'\n",
      "Using phonemetable: 'no'\n",
      "Compiling: 'no_list'\n",
      "\t236 entries\n",
      "Compiling: 'no_extra'\n",
      "\t0 entries\n",
      "Compiling: 'no_rules'\n",
      "\t142 rules, 32 groups (0)\n",
      "\n"
     ]
    },
    {
     "name": "stdout",
     "output_type": "stream",
     "text": [
      "touch dictsource/nog_extra\n",
      "  DICT      espeak-ng-data/nog_dict\n",
      "rm -f espeak-ng-data/nog_dict\n",
      "cd dictsource && ESPEAK_DATA_PATH=/home/ec2-user/SageMaker/espnet/tools/espeak-ng ../src/espeak-ng --compile=\"nog\"\n"
     ]
    },
    {
     "name": "stderr",
     "output_type": "stream",
     "text": [
      "Can't read dictionary file: '/home/ec2-user/SageMaker/espnet/tools/espeak-ng/espeak-ng-data/nog_dict'\n",
      "Using phonemetable: 'nog'\n",
      "Compiling: 'nog_list'\n",
      "\t0 entries\n",
      "Compiling: 'nog_extra'\n",
      "\t0 entries\n",
      "Compiling: 'nog_rules'\n",
      "\t75 rules, 33 groups (0)\n",
      "\n"
     ]
    },
    {
     "name": "stdout",
     "output_type": "stream",
     "text": [
      "touch dictsource/om_extra\n",
      "  DICT      espeak-ng-data/om_dict\n",
      "rm -f espeak-ng-data/om_dict\n",
      "cd dictsource && ESPEAK_DATA_PATH=/home/ec2-user/SageMaker/espnet/tools/espeak-ng ../src/espeak-ng --compile=\"om\"\n"
     ]
    },
    {
     "name": "stderr",
     "output_type": "stream",
     "text": [
      "Can't read dictionary file: '/home/ec2-user/SageMaker/espnet/tools/espeak-ng/espeak-ng-data/om_dict'\n",
      "Using phonemetable: 'om'\n",
      "Compiling: 'om_list'\n",
      "\t87 entries\n",
      "Compiling: 'om_extra'\n",
      "\t0 entries\n",
      "Compiling: 'om_rules'\n",
      "\t53 rules, 33 groups (0)\n",
      "\n"
     ]
    },
    {
     "name": "stdout",
     "output_type": "stream",
     "text": [
      "touch dictsource/or_extra\n",
      "  DICT      espeak-ng-data/or_dict\n",
      "rm -f espeak-ng-data/or_dict\n",
      "cd dictsource && ESPEAK_DATA_PATH=/home/ec2-user/SageMaker/espnet/tools/espeak-ng ../src/espeak-ng --compile=\"or\"\n"
     ]
    },
    {
     "name": "stderr",
     "output_type": "stream",
     "text": [
      "Can't read dictionary file: '/home/ec2-user/SageMaker/espnet/tools/espeak-ng/espeak-ng-data/or_dict'\n",
      "Using phonemetable: 'or'\n",
      "Compiling: 'or_list'\n",
      "\t198 entries\n",
      "Compiling: 'or_emoji'\n",
      "\t1634 entries\n",
      "Compiling: 'or_extra'\n",
      "\t0 entries\n",
      "Compiling: 'or_rules'\n",
      "\t197 rules, 67 groups (66)\n",
      "\n"
     ]
    },
    {
     "name": "stdout",
     "output_type": "stream",
     "text": [
      "touch dictsource/pa_extra\n",
      "  DICT      espeak-ng-data/pa_dict\n",
      "rm -f espeak-ng-data/pa_dict\n",
      "cd dictsource && ESPEAK_DATA_PATH=/home/ec2-user/SageMaker/espnet/tools/espeak-ng ../src/espeak-ng --compile=\"pa\"\n"
     ]
    },
    {
     "name": "stderr",
     "output_type": "stream",
     "text": [
      "Can't read dictionary file: '/home/ec2-user/SageMaker/espnet/tools/espeak-ng/espeak-ng-data/pa_dict'\n",
      "Using phonemetable: 'pa'\n",
      "Compiling: 'pa_list'\n",
      "\t196 entries\n",
      "Compiling: 'pa_emoji'\n",
      "\t1636 entries\n",
      "Compiling: 'pa_extra'\n",
      "\t0 entries\n",
      "Compiling: 'pa_rules'\n",
      "\t283 rules, 68 groups (65)\n",
      "\n"
     ]
    },
    {
     "name": "stdout",
     "output_type": "stream",
     "text": [
      "touch dictsource/pap_extra\n",
      "  DICT      espeak-ng-data/pap_dict\n",
      "rm -f espeak-ng-data/pap_dict\n",
      "cd dictsource && ESPEAK_DATA_PATH=/home/ec2-user/SageMaker/espnet/tools/espeak-ng ../src/espeak-ng --compile=\"pap\"\n"
     ]
    },
    {
     "name": "stderr",
     "output_type": "stream",
     "text": [
      "Can't read dictionary file: '/home/ec2-user/SageMaker/espnet/tools/espeak-ng/espeak-ng-data/pap_dict'\n",
      "Using phonemetable: 'base2'\n",
      "Compiling: 'pap_list'\n",
      "\t86 entries\n",
      "Compiling: 'pap_extra'\n",
      "\t0 entries\n",
      "Compiling: 'pap_rules'\n",
      "\t68 rules, 32 groups (0)\n",
      "\n"
     ]
    },
    {
     "name": "stdout",
     "output_type": "stream",
     "text": [
      "  DICT      espeak-ng-data/piqd_dict\n",
      "rm -f espeak-ng-data/piqd_dict\n",
      "cd dictsource && ESPEAK_DATA_PATH=/home/ec2-user/SageMaker/espnet/tools/espeak-ng ../src/espeak-ng --compile=\"piqd\"\n"
     ]
    },
    {
     "name": "stderr",
     "output_type": "stream",
     "text": [
      "Can't read dictionary file: '/home/ec2-user/SageMaker/espnet/tools/espeak-ng/espeak-ng-data/piqd_dict'\n",
      "Using phonemetable: 'piqd'\n",
      "Compiling: 'piqd_list'\n",
      "\t36 entries\n",
      "Compiling: 'piqd_rules'\n",
      "\t35 rules, 23 groups (0)\n",
      "\n"
     ]
    },
    {
     "name": "stdout",
     "output_type": "stream",
     "text": [
      "touch dictsource/pl_extra\n",
      "  DICT      espeak-ng-data/pl_dict\n",
      "rm -f espeak-ng-data/pl_dict\n",
      "cd dictsource && ESPEAK_DATA_PATH=/home/ec2-user/SageMaker/espnet/tools/espeak-ng ../src/espeak-ng --compile=\"pl\"\n"
     ]
    },
    {
     "name": "stderr",
     "output_type": "stream",
     "text": [
      "Can't read dictionary file: '/home/ec2-user/SageMaker/espnet/tools/espeak-ng/espeak-ng-data/pl_dict'\n",
      "Using phonemetable: 'pl'\n",
      "Compiling: 'pl_list'\n",
      "\t2956 entries\n",
      "Compiling: 'pl_emoji'\n",
      "\t1639 entries\n",
      "Compiling: 'pl_extra'\n",
      "\t0 entries\n",
      "Compiling: 'pl_rules'\n",
      "\t886 rules, 46 groups (0)\n",
      "\n"
     ]
    },
    {
     "name": "stdout",
     "output_type": "stream",
     "text": [
      "touch dictsource/pt_extra\n",
      "  DICT      espeak-ng-data/pt_dict\n",
      "rm -f espeak-ng-data/pt_dict\n",
      "cd dictsource && ESPEAK_DATA_PATH=/home/ec2-user/SageMaker/espnet/tools/espeak-ng ../src/espeak-ng --compile=\"pt\"\n"
     ]
    },
    {
     "name": "stderr",
     "output_type": "stream",
     "text": [
      "Can't read dictionary file: '/home/ec2-user/SageMaker/espnet/tools/espeak-ng/espeak-ng-data/pt_dict'\n",
      "Using phonemetable: 'pt-pt'\n",
      "Compiling: 'pt_list'\n",
      "\t1458 entries\n",
      "Compiling: 'pt_emoji'\n",
      "\t1639 entries\n",
      "Compiling: 'pt_extra'\n",
      "\t0 entries\n",
      "Compiling: 'pt_rules'\n",
      "\t1105 rules, 39 groups (0)\n",
      "\n"
     ]
    },
    {
     "name": "stdout",
     "output_type": "stream",
     "text": [
      "touch dictsource/py_extra\n",
      "  DICT      espeak-ng-data/py_dict\n",
      "rm -f espeak-ng-data/py_dict\n",
      "cd dictsource && ESPEAK_DATA_PATH=/home/ec2-user/SageMaker/espnet/tools/espeak-ng ../src/espeak-ng --compile=\"py\"\n"
     ]
    },
    {
     "name": "stderr",
     "output_type": "stream",
     "text": [
      "Can't read dictionary file: '/home/ec2-user/SageMaker/espnet/tools/espeak-ng/espeak-ng-data/py_dict'\n",
      "Using phonemetable: 'py'\n",
      "Compiling: 'py_list'\n",
      "\t106 entries\n",
      "Compiling: 'py_extra'\n",
      "\t0 entries\n",
      "Compiling: 'py_rules'\n",
      "\t31 rules, 28 groups (0)\n",
      "\n"
     ]
    },
    {
     "name": "stdout",
     "output_type": "stream",
     "text": [
      "  DICT      espeak-ng-data/qdb_dict\n",
      "rm -f espeak-ng-data/qdb_dict\n",
      "cd dictsource && ESPEAK_DATA_PATH=/home/ec2-user/SageMaker/espnet/tools/espeak-ng ../src/espeak-ng --compile=\"qdb\"\n"
     ]
    },
    {
     "name": "stderr",
     "output_type": "stream",
     "text": [
      "Can't read dictionary file: '/home/ec2-user/SageMaker/espnet/tools/espeak-ng/espeak-ng-data/qdb_dict'\n",
      "Using phonemetable: 'qdb'\n",
      "Compiling: 'qdb_list'\n",
      "\t169 entries\n",
      "Compiling: 'qdb_rules'\n",
      "\t38 rules, 25 groups (0)\n",
      "\n"
     ]
    },
    {
     "name": "stdout",
     "output_type": "stream",
     "text": [
      "touch dictsource/qu_extra\n",
      "  DICT      espeak-ng-data/qu_dict\n",
      "rm -f espeak-ng-data/qu_dict\n",
      "cd dictsource && ESPEAK_DATA_PATH=/home/ec2-user/SageMaker/espnet/tools/espeak-ng ../src/espeak-ng --compile=\"qu\"\n"
     ]
    },
    {
     "name": "stderr",
     "output_type": "stream",
     "text": [
      "Can't read dictionary file: '/home/ec2-user/SageMaker/espnet/tools/espeak-ng/espeak-ng-data/qu_dict'\n",
      "Using phonemetable: 'qu'\n",
      "Compiling: 'qu_list'\n",
      "\t76 entries\n",
      "Compiling: 'qu_extra'\n",
      "\t0 entries\n",
      "Compiling: 'qu_rules'\n",
      "\t39 rules, 28 groups (0)\n",
      "\n"
     ]
    },
    {
     "name": "stdout",
     "output_type": "stream",
     "text": [
      "touch dictsource/quc_extra\n",
      "  DICT      espeak-ng-data/quc_dict\n",
      "rm -f espeak-ng-data/quc_dict\n",
      "cd dictsource && ESPEAK_DATA_PATH=/home/ec2-user/SageMaker/espnet/tools/espeak-ng ../src/espeak-ng --compile=\"quc\"\n"
     ]
    },
    {
     "name": "stderr",
     "output_type": "stream",
     "text": [
      "Can't read dictionary file: '/home/ec2-user/SageMaker/espnet/tools/espeak-ng/espeak-ng-data/quc_dict'\n",
      "Using phonemetable: 'quc'\n",
      "Compiling: 'quc_list'\n",
      "\t10 entries\n",
      "Compiling: 'quc_emoji'\n",
      "\t0 entries\n",
      "Compiling: 'quc_extra'\n",
      "\t0 entries\n",
      "Compiling: 'quc_rules'\n",
      "\t35 rules, 27 groups (0)\n",
      "\n"
     ]
    },
    {
     "name": "stdout",
     "output_type": "stream",
     "text": [
      "  DICT      espeak-ng-data/qya_dict\n",
      "rm -f espeak-ng-data/qya_dict\n",
      "cd dictsource && ESPEAK_DATA_PATH=/home/ec2-user/SageMaker/espnet/tools/espeak-ng ../src/espeak-ng --compile=\"qya\"\n"
     ]
    },
    {
     "name": "stderr",
     "output_type": "stream",
     "text": [
      "Can't read dictionary file: '/home/ec2-user/SageMaker/espnet/tools/espeak-ng/espeak-ng-data/qya_dict'\n",
      "Using phonemetable: 'qya'\n",
      "Compiling: 'qya_list'\n",
      "\t27 entries\n",
      "Compiling: 'qya_rules'\n",
      "\t70 rules, 38 groups (0)\n",
      "\n"
     ]
    },
    {
     "name": "stdout",
     "output_type": "stream",
     "text": [
      "touch dictsource/ro_extra\n",
      "  DICT      espeak-ng-data/ro_dict\n",
      "rm -f espeak-ng-data/ro_dict\n",
      "cd dictsource && ESPEAK_DATA_PATH=/home/ec2-user/SageMaker/espnet/tools/espeak-ng ../src/espeak-ng --compile=\"ro\"\n"
     ]
    },
    {
     "name": "stderr",
     "output_type": "stream",
     "text": [
      "Can't read dictionary file: '/home/ec2-user/SageMaker/espnet/tools/espeak-ng/espeak-ng-data/ro_dict'\n",
      "Using phonemetable: 'ro'\n",
      "Compiling: 'ro_list'\n",
      "\t2167 entries\n",
      "Compiling: 'ro_emoji'\n",
      "\t1639 entries\n",
      "Compiling: 'ro_extra'\n",
      "\t0 entries\n",
      "Compiling: 'ro_rules'\n",
      "\t349 rules, 32 groups (0)\n",
      "\n"
     ]
    },
    {
     "name": "stdout",
     "output_type": "stream",
     "text": [
      "touch dictsource/ru_extra\n",
      "ln -svf extra/ru_listx dictsource/\n",
      "‘dictsource/ru_listx’ -> ‘extra/ru_listx’\n",
      "  DICT      espeak-ng-data/ru_dict\n",
      "rm -f espeak-ng-data/ru_dict\n",
      "cd dictsource && ESPEAK_DATA_PATH=/home/ec2-user/SageMaker/espnet/tools/espeak-ng ../src/espeak-ng --compile=\"ru\"\n"
     ]
    },
    {
     "name": "stderr",
     "output_type": "stream",
     "text": [
      "Can't read dictionary file: '/home/ec2-user/SageMaker/espnet/tools/espeak-ng/espeak-ng-data/ru_dict'\n",
      "Using phonemetable: 'ru'\n",
      "Compiling: 'ru_listx'\n",
      "\t199806 entries\n",
      "Compiling: 'ru_list'\n",
      "\t195 entries\n",
      "Compiling: 'ru_emoji'\n",
      "\t1639 entries\n",
      "Compiling: 'ru_extra'\n",
      "\t0 entries\n",
      "Compiling: 'ru_rules'\n",
      "\t370 rules, 34 groups (33)\n",
      "\n"
     ]
    },
    {
     "name": "stdout",
     "output_type": "stream",
     "text": [
      "touch dictsource/sd_extra\n",
      "  DICT      espeak-ng-data/sd_dict\n",
      "rm -f espeak-ng-data/sd_dict\n",
      "cd dictsource && ESPEAK_DATA_PATH=/home/ec2-user/SageMaker/espnet/tools/espeak-ng ../src/espeak-ng --compile=\"sd\"\n"
     ]
    },
    {
     "name": "stderr",
     "output_type": "stream",
     "text": [
      "Can't read dictionary file: '/home/ec2-user/SageMaker/espnet/tools/espeak-ng/espeak-ng-data/sd_dict'\n",
      "Using phonemetable: 'sd'\n",
      "Compiling: 'sd_list'\n",
      "\t266 entries\n",
      "Compiling: 'sd_emoji'\n",
      "\t1565 entries\n",
      "Compiling: 'sd_extra'\n",
      "\t0 entries\n",
      "Compiling: 'sd_rules'\n",
      "\t372 rules, 73 groups (47)\n",
      "\n"
     ]
    },
    {
     "name": "stdout",
     "output_type": "stream",
     "text": [
      "touch dictsource/shn_extra\n",
      "  DICT      espeak-ng-data/shn_dict\n",
      "rm -f espeak-ng-data/shn_dict\n",
      "cd dictsource && ESPEAK_DATA_PATH=/home/ec2-user/SageMaker/espnet/tools/espeak-ng ../src/espeak-ng --compile=\"shn\"\n"
     ]
    },
    {
     "name": "stderr",
     "output_type": "stream",
     "text": [
      "Can't read dictionary file: '/home/ec2-user/SageMaker/espnet/tools/espeak-ng/espeak-ng-data/shn_dict'\n",
      "Using phonemetable: 'shn'\n",
      "Compiling: 'shn_list'\n",
      "\t4147 entries\n",
      "Compiling: 'shn_extra'\n",
      "\t0 entries\n",
      "Compiling: 'shn_rules'\n",
      "\t228 rules, 52 groups (0)\n",
      "\n"
     ]
    },
    {
     "name": "stdout",
     "output_type": "stream",
     "text": [
      "touch dictsource/si_extra\n",
      "  DICT      espeak-ng-data/si_dict\n",
      "rm -f espeak-ng-data/si_dict\n",
      "cd dictsource && ESPEAK_DATA_PATH=/home/ec2-user/SageMaker/espnet/tools/espeak-ng ../src/espeak-ng --compile=\"si\"\n"
     ]
    },
    {
     "name": "stderr",
     "output_type": "stream",
     "text": [
      "Can't read dictionary file: '/home/ec2-user/SageMaker/espnet/tools/espeak-ng/espeak-ng-data/si_dict'\n",
      "Using phonemetable: 'si'\n",
      "Compiling: 'si_list'\n",
      "\t152 entries\n",
      "Compiling: 'si_emoji'\n",
      "\t1648 entries\n",
      "Compiling: 'si_extra'\n",
      "\t0 entries\n",
      "Compiling: 'si_rules'\n",
      "\t142 rules, 75 groups (73)\n",
      "\n"
     ]
    },
    {
     "name": "stdout",
     "output_type": "stream",
     "text": [
      "  DICT      espeak-ng-data/sjn_dict\n",
      "rm -f espeak-ng-data/sjn_dict\n",
      "cd dictsource && ESPEAK_DATA_PATH=/home/ec2-user/SageMaker/espnet/tools/espeak-ng ../src/espeak-ng --compile=\"sjn\"\n"
     ]
    },
    {
     "name": "stderr",
     "output_type": "stream",
     "text": [
      "Can't read dictionary file: '/home/ec2-user/SageMaker/espnet/tools/espeak-ng/espeak-ng-data/sjn_dict'\n",
      "Using phonemetable: 'sjn'\n",
      "Compiling: 'sjn_list'\n",
      "\t21 entries\n",
      "Compiling: 'sjn_rules'\n",
      "\t71 rules, 40 groups (0)\n",
      "\n"
     ]
    },
    {
     "name": "stdout",
     "output_type": "stream",
     "text": [
      "touch dictsource/sk_extra\n",
      "  DICT      espeak-ng-data/sk_dict\n",
      "rm -f espeak-ng-data/sk_dict\n",
      "cd dictsource && ESPEAK_DATA_PATH=/home/ec2-user/SageMaker/espnet/tools/espeak-ng ../src/espeak-ng --compile=\"sk\"\n"
     ]
    },
    {
     "name": "stderr",
     "output_type": "stream",
     "text": [
      "Can't read dictionary file: '/home/ec2-user/SageMaker/espnet/tools/espeak-ng/espeak-ng-data/sk_dict'\n",
      "Using phonemetable: 'sk'\n",
      "Compiling: 'sk_list'\n",
      "\t348 entries\n",
      "Compiling: 'sk_emoji'\n",
      "\t1639 entries\n",
      "Compiling: 'sk_extra'\n",
      "\t0 entries\n",
      "Compiling: 'sk_rules'\n",
      "\t535 rules, 46 groups (0)\n",
      "\n"
     ]
    },
    {
     "name": "stdout",
     "output_type": "stream",
     "text": [
      "touch dictsource/sl_extra\n",
      "  DICT      espeak-ng-data/sl_dict\n",
      "rm -f espeak-ng-data/sl_dict\n",
      "cd dictsource && ESPEAK_DATA_PATH=/home/ec2-user/SageMaker/espnet/tools/espeak-ng ../src/espeak-ng --compile=\"sl\"\n"
     ]
    },
    {
     "name": "stderr",
     "output_type": "stream",
     "text": [
      "Can't read dictionary file: '/home/ec2-user/SageMaker/espnet/tools/espeak-ng/espeak-ng-data/sl_dict'\n",
      "Using phonemetable: 'sl'\n",
      "Compiling: 'sl_list'\n",
      "\t196 entries\n",
      "Compiling: 'sl_emoji'\n",
      "\t1639 entries\n",
      "Compiling: 'sl_extra'\n",
      "\t0 entries\n",
      "Compiling: 'sl_rules'\n",
      "\t108 rules, 31 groups (0)\n",
      "\n"
     ]
    },
    {
     "name": "stdout",
     "output_type": "stream",
     "text": [
      "  DICT      espeak-ng-data/smj_dict\n",
      "rm -f espeak-ng-data/smj_dict\n",
      "cd dictsource && ESPEAK_DATA_PATH=/home/ec2-user/SageMaker/espnet/tools/espeak-ng ../src/espeak-ng --compile=\"smj\"\n"
     ]
    },
    {
     "name": "stderr",
     "output_type": "stream",
     "text": [
      "Can't read dictionary file: '/home/ec2-user/SageMaker/espnet/tools/espeak-ng/espeak-ng-data/smj_dict'\n",
      "Using phonemetable: 'smj'\n",
      "Compiling: 'smj_list'\n",
      "\t2816 entries\n",
      "Compiling: 'smj_rules'\n",
      "\t136 rules, 34 groups (0)\n",
      "\n"
     ]
    },
    {
     "name": "stdout",
     "output_type": "stream",
     "text": [
      "touch dictsource/sq_extra\n",
      "  DICT      espeak-ng-data/sq_dict\n",
      "rm -f espeak-ng-data/sq_dict\n",
      "cd dictsource && ESPEAK_DATA_PATH=/home/ec2-user/SageMaker/espnet/tools/espeak-ng ../src/espeak-ng --compile=\"sq\"\n"
     ]
    },
    {
     "name": "stderr",
     "output_type": "stream",
     "text": [
      "Can't read dictionary file: '/home/ec2-user/SageMaker/espnet/tools/espeak-ng/espeak-ng-data/sq_dict'\n",
      "Using phonemetable: 'sq'\n",
      "Compiling: 'sq_list'\n",
      "\t132 entries\n",
      "Compiling: 'sq_emoji'\n",
      "\t1636 entries\n",
      "Compiling: 'sq_extra'\n",
      "\t0 entries\n",
      "Compiling: 'sq_rules'\n",
      "\t100 rules, 29 groups (0)\n",
      "\n"
     ]
    },
    {
     "name": "stdout",
     "output_type": "stream",
     "text": [
      "touch dictsource/sr_extra\n",
      "  DICT      espeak-ng-data/sr_dict\n",
      "rm -f espeak-ng-data/sr_dict\n",
      "cd dictsource && ESPEAK_DATA_PATH=/home/ec2-user/SageMaker/espnet/tools/espeak-ng ../src/espeak-ng --compile=\"sr\"\n"
     ]
    },
    {
     "name": "stderr",
     "output_type": "stream",
     "text": [
      "Can't read dictionary file: '/home/ec2-user/SageMaker/espnet/tools/espeak-ng/espeak-ng-data/sr_dict'\n",
      "Using phonemetable: 'sr'\n",
      "Compiling: 'sr_list'\n",
      "\t613 entries\n",
      "Compiling: 'sr_emoji'\n",
      "\t1568 entries\n",
      "Compiling: 'sr_extra'\n",
      "\t0 entries\n",
      "Compiling: 'sr_rules'\n",
      "\t112 rules, 34 groups (0)\n",
      "\n"
     ]
    },
    {
     "name": "stdout",
     "output_type": "stream",
     "text": [
      "touch dictsource/sv_extra\n",
      "  DICT      espeak-ng-data/sv_dict\n",
      "rm -f espeak-ng-data/sv_dict\n",
      "cd dictsource && ESPEAK_DATA_PATH=/home/ec2-user/SageMaker/espnet/tools/espeak-ng ../src/espeak-ng --compile=\"sv\"\n"
     ]
    },
    {
     "name": "stderr",
     "output_type": "stream",
     "text": [
      "Can't read dictionary file: '/home/ec2-user/SageMaker/espnet/tools/espeak-ng/espeak-ng-data/sv_dict'\n",
      "Using phonemetable: 'sv'\n",
      "Compiling: 'sv_list'\n",
      "\t341 entries\n",
      "Compiling: 'sv_emoji'\n",
      "\t1639 entries\n",
      "Compiling: 'sv_extra'\n",
      "\t0 entries\n",
      "Compiling: 'sv_rules'\n",
      "\t697 rules, 30 groups (0)\n",
      "\n"
     ]
    },
    {
     "name": "stdout",
     "output_type": "stream",
     "text": [
      "touch dictsource/sw_extra\n",
      "  DICT      espeak-ng-data/sw_dict\n",
      "rm -f espeak-ng-data/sw_dict\n",
      "cd dictsource && ESPEAK_DATA_PATH=/home/ec2-user/SageMaker/espnet/tools/espeak-ng ../src/espeak-ng --compile=\"sw\"\n"
     ]
    },
    {
     "name": "stderr",
     "output_type": "stream",
     "text": [
      "Can't read dictionary file: '/home/ec2-user/SageMaker/espnet/tools/espeak-ng/espeak-ng-data/sw_dict'\n",
      "Using phonemetable: 'sw'\n",
      "Compiling: 'sw_list'\n",
      "\t170 entries\n",
      "Compiling: 'sw_emoji'\n",
      "\t1638 entries\n",
      "Compiling: 'sw_extra'\n",
      "\t0 entries\n",
      "Compiling: 'sw_rules'\n",
      "\t63 rules, 27 groups (0)\n",
      "\n"
     ]
    },
    {
     "name": "stdout",
     "output_type": "stream",
     "text": [
      "touch dictsource/ta_extra\n",
      "  DICT      espeak-ng-data/ta_dict\n",
      "rm -f espeak-ng-data/ta_dict\n",
      "cd dictsource && ESPEAK_DATA_PATH=/home/ec2-user/SageMaker/espnet/tools/espeak-ng ../src/espeak-ng --compile=\"ta\"\n"
     ]
    },
    {
     "name": "stderr",
     "output_type": "stream",
     "text": [
      "Can't read dictionary file: '/home/ec2-user/SageMaker/espnet/tools/espeak-ng/espeak-ng-data/ta_dict'\n",
      "Using phonemetable: 'ta'\n",
      "Compiling: 'ta_list'\n",
      "\t551 entries\n",
      "Compiling: 'ta_emoji'\n",
      "\t1639 entries\n",
      "Compiling: 'ta_extra'\n",
      "\t0 entries\n",
      "Compiling: 'ta_rules'\n",
      "\t5040 rules, 33 groups (28)\n",
      "\n"
     ]
    },
    {
     "name": "stdout",
     "output_type": "stream",
     "text": [
      "touch dictsource/te_extra\n",
      "  DICT      espeak-ng-data/te_dict\n",
      "rm -f espeak-ng-data/te_dict\n",
      "cd dictsource && ESPEAK_DATA_PATH=/home/ec2-user/SageMaker/espnet/tools/espeak-ng ../src/espeak-ng --compile=\"te\"\n"
     ]
    },
    {
     "name": "stderr",
     "output_type": "stream",
     "text": [
      "Can't read dictionary file: '/home/ec2-user/SageMaker/espnet/tools/espeak-ng/espeak-ng-data/te_dict'\n",
      "Using phonemetable: 'te'\n",
      "Compiling: 'te_list'\n",
      "\t155 entries\n",
      "Compiling: 'te_emoji'\n",
      "\t1639 entries\n",
      "Compiling: 'te_extra'\n",
      "\t0 entries\n",
      "Compiling: 'te_rules'\n",
      "\t112 rules, 56 groups (53)\n",
      "\n"
     ]
    },
    {
     "name": "stdout",
     "output_type": "stream",
     "text": [
      "  DICT      espeak-ng-data/th_dict\n",
      "rm -f espeak-ng-data/th_dict\n",
      "cd dictsource && ESPEAK_DATA_PATH=/home/ec2-user/SageMaker/espnet/tools/espeak-ng ../src/espeak-ng --compile=\"th\"\n"
     ]
    },
    {
     "name": "stderr",
     "output_type": "stream",
     "text": [
      "Can't read dictionary file: '/home/ec2-user/SageMaker/espnet/tools/espeak-ng/espeak-ng-data/th_dict'\n",
      "Using phonemetable: 'th'\n",
      "Compiling: 'th_list'\n",
      "\t10 entries\n",
      "Compiling: 'th_rules'\n",
      "\t139 rules, 64 groups (0)\n",
      "\n"
     ]
    },
    {
     "name": "stdout",
     "output_type": "stream",
     "text": [
      "touch dictsource/tk_extra\n",
      "  DICT      espeak-ng-data/tk_dict\n",
      "rm -f espeak-ng-data/tk_dict\n",
      "cd dictsource && ESPEAK_DATA_PATH=/home/ec2-user/SageMaker/espnet/tools/espeak-ng ../src/espeak-ng --compile=\"tk\"\n"
     ]
    },
    {
     "name": "stderr",
     "output_type": "stream",
     "text": [
      "Can't read dictionary file: '/home/ec2-user/SageMaker/espnet/tools/espeak-ng/espeak-ng-data/tk_dict'\n",
      "Using phonemetable: 'tk'\n",
      "Compiling: 'tk_listx'\n",
      "\t868 entries\n",
      "Compiling: 'tk_list'\n",
      "\t30 entries\n",
      "Compiling: 'tk_extra'\n",
      "\t0 entries\n",
      "Compiling: 'tk_rules'\n",
      "\t318 rules, 30 groups (0)\n",
      "\n"
     ]
    },
    {
     "name": "stdout",
     "output_type": "stream",
     "text": [
      "touch dictsource/tn_extra\n",
      "  DICT      espeak-ng-data/tn_dict\n",
      "rm -f espeak-ng-data/tn_dict\n",
      "cd dictsource && ESPEAK_DATA_PATH=/home/ec2-user/SageMaker/espnet/tools/espeak-ng ../src/espeak-ng --compile=\"tn\"\n"
     ]
    },
    {
     "name": "stderr",
     "output_type": "stream",
     "text": [
      "Can't read dictionary file: '/home/ec2-user/SageMaker/espnet/tools/espeak-ng/espeak-ng-data/tn_dict'\n",
      "Using phonemetable: 'tn'\n",
      "Compiling: 'tn_list'\n",
      "\t110 entries\n",
      "Compiling: 'tn_extra'\n",
      "\t0 entries\n",
      "Compiling: 'tn_rules'\n",
      "\t82 rules, 27 groups (0)\n",
      "\n"
     ]
    },
    {
     "name": "stdout",
     "output_type": "stream",
     "text": [
      "touch dictsource/tr_extra\n",
      "  DICT      espeak-ng-data/tr_dict\n",
      "rm -f espeak-ng-data/tr_dict\n",
      "cd dictsource && ESPEAK_DATA_PATH=/home/ec2-user/SageMaker/espnet/tools/espeak-ng ../src/espeak-ng --compile=\"tr\"\n"
     ]
    },
    {
     "name": "stderr",
     "output_type": "stream",
     "text": [
      "Can't read dictionary file: '/home/ec2-user/SageMaker/espnet/tools/espeak-ng/espeak-ng-data/tr_dict'\n",
      "Using phonemetable: 'tr'\n",
      "Compiling: 'tr_listx'\n",
      "\t149 entries\n",
      "Compiling: 'tr_list'\n",
      "\t175 entries\n",
      "Compiling: 'tr_emoji'\n",
      "\t1639 entries\n",
      "Compiling: 'tr_extra'\n",
      "\t0 entries\n",
      "Compiling: 'tr_rules'\n",
      "\t215 rules, 37 groups (0)\n",
      "\n"
     ]
    },
    {
     "name": "stdout",
     "output_type": "stream",
     "text": [
      "touch dictsource/tt_extra\n",
      "  DICT      espeak-ng-data/tt_dict\n",
      "rm -f espeak-ng-data/tt_dict\n",
      "cd dictsource && ESPEAK_DATA_PATH=/home/ec2-user/SageMaker/espnet/tools/espeak-ng ../src/espeak-ng --compile=\"tt\"\n"
     ]
    },
    {
     "name": "stderr",
     "output_type": "stream",
     "text": [
      "Can't read dictionary file: '/home/ec2-user/SageMaker/espnet/tools/espeak-ng/espeak-ng-data/tt_dict'\n",
      "Using phonemetable: 'tt'\n",
      "Compiling: 'tt_list'\n",
      "\t74 entries\n",
      "Compiling: 'tt_extra'\n",
      "\t0 entries\n",
      "Compiling: 'tt_rules'\n",
      "\t49 rules, 40 groups (34)\n",
      "\n"
     ]
    },
    {
     "name": "stdout",
     "output_type": "stream",
     "text": [
      "touch dictsource/uk_extra\n",
      "  DICT      espeak-ng-data/uk_dict\n",
      "rm -f espeak-ng-data/uk_dict\n",
      "cd dictsource && ESPEAK_DATA_PATH=/home/ec2-user/SageMaker/espnet/tools/espeak-ng ../src/espeak-ng --compile=\"uk\"\n"
     ]
    },
    {
     "name": "stderr",
     "output_type": "stream",
     "text": [
      "Can't read dictionary file: '/home/ec2-user/SageMaker/espnet/tools/espeak-ng/espeak-ng-data/uk_dict'\n",
      "Using phonemetable: 'uk'\n",
      "Compiling: 'uk_list'\n",
      "\t76 entries\n",
      "Compiling: 'uk_extra'\n",
      "\t0 entries\n",
      "Compiling: 'uk_rules'\n",
      "\t33 rules, 33 groups (33)\n",
      "\n"
     ]
    },
    {
     "name": "stdout",
     "output_type": "stream",
     "text": [
      "touch dictsource/ug_extra\n",
      "  DICT      espeak-ng-data/ug_dict\n",
      "rm -f espeak-ng-data/ug_dict\n",
      "cd dictsource && ESPEAK_DATA_PATH=/home/ec2-user/SageMaker/espnet/tools/espeak-ng ../src/espeak-ng --compile=\"ug\"\n"
     ]
    },
    {
     "name": "stderr",
     "output_type": "stream",
     "text": [
      "Can't read dictionary file: '/home/ec2-user/SageMaker/espnet/tools/espeak-ng/espeak-ng-data/ug_dict'\n",
      "Using phonemetable: 'ug'\n",
      "Compiling: 'ug_list'\n",
      "\t37 entries\n",
      "Compiling: 'ug_extra'\n",
      "\t0 entries\n",
      "Compiling: 'ug_rules'\n",
      "\t81 rules, 61 groups (0)\n",
      "\n"
     ]
    },
    {
     "name": "stdout",
     "output_type": "stream",
     "text": [
      "touch dictsource/ur_extra\n",
      "  DICT      espeak-ng-data/ur_dict\n",
      "rm -f espeak-ng-data/ur_dict\n",
      "cd dictsource && ESPEAK_DATA_PATH=/home/ec2-user/SageMaker/espnet/tools/espeak-ng ../src/espeak-ng --compile=\"ur\"\n"
     ]
    },
    {
     "name": "stderr",
     "output_type": "stream",
     "text": [
      "Can't read dictionary file: '/home/ec2-user/SageMaker/espnet/tools/espeak-ng/espeak-ng-data/ur_dict'\n",
      "Using phonemetable: 'ur'\n",
      "Compiling: 'ur_list'\n",
      "\t3028 entries\n",
      "Compiling: 'ur_emoji'\n",
      "\t1639 entries\n",
      "Compiling: 'ur_extra'\n",
      "\t0 entries\n",
      "Compiling: 'ur_rules'\n",
      "\t1488 rules, 62 groups (44)\n",
      "\n"
     ]
    },
    {
     "name": "stdout",
     "output_type": "stream",
     "text": [
      "touch dictsource/uz_extra\n",
      "  DICT      espeak-ng-data/uz_dict\n",
      "rm -f espeak-ng-data/uz_dict\n",
      "cd dictsource && ESPEAK_DATA_PATH=/home/ec2-user/SageMaker/espnet/tools/espeak-ng ../src/espeak-ng --compile=\"uz\"\n"
     ]
    },
    {
     "name": "stderr",
     "output_type": "stream",
     "text": [
      "Can't read dictionary file: '/home/ec2-user/SageMaker/espnet/tools/espeak-ng/espeak-ng-data/uz_dict'\n",
      "Using phonemetable: 'uz'\n",
      "Compiling: 'uz_list'\n",
      "\t122 entries\n",
      "Compiling: 'uz_extra'\n",
      "\t0 entries\n",
      "Compiling: 'uz_rules'\n",
      "\t35 rules, 26 groups (0)\n",
      "\n"
     ]
    },
    {
     "name": "stdout",
     "output_type": "stream",
     "text": [
      "touch dictsource/vi_extra\n",
      "  DICT      espeak-ng-data/vi_dict\n",
      "rm -f espeak-ng-data/vi_dict\n",
      "cd dictsource && ESPEAK_DATA_PATH=/home/ec2-user/SageMaker/espnet/tools/espeak-ng ../src/espeak-ng --compile=\"vi\"\n"
     ]
    },
    {
     "name": "stderr",
     "output_type": "stream",
     "text": [
      "Can't read dictionary file: '/home/ec2-user/SageMaker/espnet/tools/espeak-ng/espeak-ng-data/vi_dict'\n",
      "Using phonemetable: 'vi'\n",
      "Compiling: 'vi_list'\n",
      "\t135 entries\n",
      "Compiling: 'vi_emoji'\n",
      "\t1639 entries\n",
      "Compiling: 'vi_extra'\n",
      "\t0 entries\n",
      "Compiling: 'vi_rules'\n",
      "\t592 rules, 97 groups (0)\n",
      "\n"
     ]
    },
    {
     "name": "stdout",
     "output_type": "stream",
     "text": [
      "touch dictsource/yue_extra\n",
      "ln -svf extra/yue_listx dictsource/\n",
      "‘dictsource/yue_listx’ -> ‘extra/yue_listx’\n",
      "  DICT      espeak-ng-data/yue_dict\n",
      "rm -f espeak-ng-data/yue_dict\n",
      "cd dictsource && ESPEAK_DATA_PATH=/home/ec2-user/SageMaker/espnet/tools/espeak-ng LD_LIBRARY_PATH=../src:/opt/amazon/efa/lib64:/opt/amazon/openmpi/lib64:/usr/local/lib:/usr/lib:/lib:/opt/amazon/efa/lib64:/opt/amazon/openmpi/lib64:/usr/local/lib:/usr/lib:/lib: ../src/espeak-ng --compile=yue && cd ..\n"
     ]
    },
    {
     "name": "stderr",
     "output_type": "stream",
     "text": [
      "Can't read dictionary file: '/home/ec2-user/SageMaker/espnet/tools/espeak-ng/espeak-ng-data/yue_dict'\n",
      "Using phonemetable: 'yue'\n",
      "Compiling: 'yue_list'\n",
      "\t3822 entries\n",
      "Compiling: 'yue_listx'\n",
      "\t33813 entries\n",
      "Compiling: 'yue_emoji'\n",
      "\t1635 entries\n",
      "Compiling: 'yue_extra'\n",
      "\t0 entries\n",
      "Compiling: 'yue_rules'\n",
      "\t79 rules, 27 groups (0)\n",
      "\n"
     ]
    },
    {
     "name": "stdout",
     "output_type": "stream",
     "text": [
      "mkdir -p espeak-ng-data/mbrola_ph\n",
      "ESPEAK_DATA_PATH=/home/ec2-user/SageMaker/espnet/tools/espeak-ng src/espeak-ng --compile-mbrola=phsource/mbrola/ar2\n",
      "Mbrola translation file: /home/ec2-user/SageMaker/espnet/tools/espeak-ng/espeak-ng-data/mbrola_ph/ar2_phtrans -- 66 phonemes\n",
      "mkdir -p espeak-ng-data/mbrola_ph\n",
      "ESPEAK_DATA_PATH=/home/ec2-user/SageMaker/espnet/tools/espeak-ng src/espeak-ng --compile-mbrola=phsource/mbrola/vz\n",
      "Mbrola translation file: /home/ec2-user/SageMaker/espnet/tools/espeak-ng/espeak-ng-data/mbrola_ph/vz_phtrans -- 94 phonemes\n",
      "mkdir -p espeak-ng-data/mbrola_ph\n",
      "ESPEAK_DATA_PATH=/home/ec2-user/SageMaker/espnet/tools/espeak-ng src/espeak-ng --compile-mbrola=phsource/mbrola/de6\n",
      "Mbrola translation file: /home/ec2-user/SageMaker/espnet/tools/espeak-ng/espeak-ng-data/mbrola_ph/de6_phtrans -- 57 phonemes\n",
      "mkdir -p espeak-ng-data/mbrola_ph\n",
      "ESPEAK_DATA_PATH=/home/ec2-user/SageMaker/espnet/tools/espeak-ng src/espeak-ng --compile-mbrola=phsource/mbrola/es3\n",
      "Mbrola translation file: /home/ec2-user/SageMaker/espnet/tools/espeak-ng/espeak-ng-data/mbrola_ph/es3_phtrans -- 43 phonemes\n",
      "mkdir -p espeak-ng-data/mbrola_ph\n",
      "ESPEAK_DATA_PATH=/home/ec2-user/SageMaker/espnet/tools/espeak-ng src/espeak-ng --compile-mbrola=phsource/mbrola/grc-de6\n",
      "Mbrola translation file: /home/ec2-user/SageMaker/espnet/tools/espeak-ng/espeak-ng-data/mbrola_ph/grc-de6_phtrans -- 19 phonemes\n",
      "mkdir -p espeak-ng-data/mbrola_ph\n",
      "ESPEAK_DATA_PATH=/home/ec2-user/SageMaker/espnet/tools/espeak-ng src/espeak-ng --compile-mbrola=phsource/mbrola/cmn\n",
      "Mbrola translation file: /home/ec2-user/SageMaker/espnet/tools/espeak-ng/espeak-ng-data/mbrola_ph/cmn_phtrans -- 61 phonemes\n",
      "mkdir -p espeak-ng-data/mbrola_ph\n",
      "ESPEAK_DATA_PATH=/home/ec2-user/SageMaker/espnet/tools/espeak-ng src/espeak-ng --compile-mbrola=phsource/mbrola/sv\n",
      "Mbrola translation file: /home/ec2-user/SageMaker/espnet/tools/espeak-ng/espeak-ng-data/mbrola_ph/sv_phtrans -- 65 phonemes\n",
      "mkdir -p espeak-ng-data/mbrola_ph\n",
      "ESPEAK_DATA_PATH=/home/ec2-user/SageMaker/espnet/tools/espeak-ng src/espeak-ng --compile-mbrola=phsource/mbrola/nl\n",
      "Mbrola translation file: /home/ec2-user/SageMaker/espnet/tools/espeak-ng/espeak-ng-data/mbrola_ph/nl_phtrans -- 69 phonemes\n",
      "mkdir -p espeak-ng-data/mbrola_ph\n",
      "ESPEAK_DATA_PATH=/home/ec2-user/SageMaker/espnet/tools/espeak-ng src/espeak-ng --compile-mbrola=phsource/mbrola/us3\n",
      "Mbrola translation file: /home/ec2-user/SageMaker/espnet/tools/espeak-ng/espeak-ng-data/mbrola_ph/us3_phtrans -- 47 phonemes\n",
      "mkdir -p espeak-ng-data/mbrola_ph\n",
      "ESPEAK_DATA_PATH=/home/ec2-user/SageMaker/espnet/tools/espeak-ng src/espeak-ng --compile-mbrola=phsource/mbrola/tr1\n",
      "Mbrola translation file: /home/ec2-user/SageMaker/espnet/tools/espeak-ng/espeak-ng-data/mbrola_ph/tr1_phtrans -- 14 phonemes\n",
      "mkdir -p espeak-ng-data/mbrola_ph\n",
      "ESPEAK_DATA_PATH=/home/ec2-user/SageMaker/espnet/tools/espeak-ng src/espeak-ng --compile-mbrola=phsource/mbrola/it3\n",
      "Mbrola translation file: /home/ec2-user/SageMaker/espnet/tools/espeak-ng/espeak-ng-data/mbrola_ph/it3_phtrans -- 36 phonemes\n",
      "mkdir -p espeak-ng-data/mbrola_ph\n",
      "ESPEAK_DATA_PATH=/home/ec2-user/SageMaker/espnet/tools/espeak-ng src/espeak-ng --compile-mbrola=phsource/mbrola/en1\n",
      "Mbrola translation file: /home/ec2-user/SageMaker/espnet/tools/espeak-ng/espeak-ng-data/mbrola_ph/en1_phtrans -- 32 phonemes\n",
      "mkdir -p espeak-ng-data/mbrola_ph\n",
      "ESPEAK_DATA_PATH=/home/ec2-user/SageMaker/espnet/tools/espeak-ng src/espeak-ng --compile-mbrola=phsource/mbrola/es\n",
      "Mbrola translation file: /home/ec2-user/SageMaker/espnet/tools/espeak-ng/espeak-ng-data/mbrola_ph/es_phtrans -- 71 phonemes\n",
      "mkdir -p espeak-ng-data/mbrola_ph\n",
      "ESPEAK_DATA_PATH=/home/ec2-user/SageMaker/espnet/tools/espeak-ng src/espeak-ng --compile-mbrola=phsource/mbrola/ma1\n",
      "Mbrola translation file: /home/ec2-user/SageMaker/espnet/tools/espeak-ng/espeak-ng-data/mbrola_ph/ma1_phtrans -- 38 phonemes\n",
      "mkdir -p espeak-ng-data/mbrola_ph\n",
      "ESPEAK_DATA_PATH=/home/ec2-user/SageMaker/espnet/tools/espeak-ng src/espeak-ng --compile-mbrola=phsource/mbrola/la1\n",
      "Mbrola translation file: /home/ec2-user/SageMaker/espnet/tools/espeak-ng/espeak-ng-data/mbrola_ph/la1_phtrans -- 30 phonemes\n",
      "mkdir -p espeak-ng-data/mbrola_ph\n",
      "ESPEAK_DATA_PATH=/home/ec2-user/SageMaker/espnet/tools/espeak-ng src/espeak-ng --compile-mbrola=phsource/mbrola/sv2\n",
      "Mbrola translation file: /home/ec2-user/SageMaker/espnet/tools/espeak-ng/espeak-ng-data/mbrola_ph/sv2_phtrans -- 65 phonemes\n",
      "mkdir -p espeak-ng-data/mbrola_ph\n",
      "ESPEAK_DATA_PATH=/home/ec2-user/SageMaker/espnet/tools/espeak-ng src/espeak-ng --compile-mbrola=phsource/mbrola/de2\n",
      "Mbrola translation file: /home/ec2-user/SageMaker/espnet/tools/espeak-ng/espeak-ng-data/mbrola_ph/de2_phtrans -- 71 phonemes\n",
      "mkdir -p espeak-ng-data/mbrola_ph\n",
      "ESPEAK_DATA_PATH=/home/ec2-user/SageMaker/espnet/tools/espeak-ng src/espeak-ng --compile-mbrola=phsource/mbrola/ic1\n",
      "Mbrola translation file: /home/ec2-user/SageMaker/espnet/tools/espeak-ng/espeak-ng-data/mbrola_ph/ic1_phtrans -- 46 phonemes\n",
      "mkdir -p espeak-ng-data/mbrola_ph\n",
      "ESPEAK_DATA_PATH=/home/ec2-user/SageMaker/espnet/tools/espeak-ng src/espeak-ng --compile-mbrola=phsource/mbrola/af1\n",
      "Mbrola translation file: /home/ec2-user/SageMaker/espnet/tools/espeak-ng/espeak-ng-data/mbrola_ph/af1_phtrans -- 67 phonemes\n",
      "mkdir -p espeak-ng-data/mbrola_ph\n",
      "ESPEAK_DATA_PATH=/home/ec2-user/SageMaker/espnet/tools/espeak-ng src/espeak-ng --compile-mbrola=phsource/mbrola/ir1\n",
      "Mbrola translation file: /home/ec2-user/SageMaker/espnet/tools/espeak-ng/espeak-ng-data/mbrola_ph/ir1_phtrans -- 241 phonemes\n",
      "mkdir -p espeak-ng-data/mbrola_ph\n",
      "ESPEAK_DATA_PATH=/home/ec2-user/SageMaker/espnet/tools/espeak-ng src/espeak-ng --compile-mbrola=phsource/mbrola/de8\n",
      "Mbrola translation file: /home/ec2-user/SageMaker/espnet/tools/espeak-ng/espeak-ng-data/mbrola_ph/de8_phtrans -- 47 phonemes\n",
      "mkdir -p espeak-ng-data/mbrola_ph\n",
      "ESPEAK_DATA_PATH=/home/ec2-user/SageMaker/espnet/tools/espeak-ng src/espeak-ng --compile-mbrola=phsource/mbrola/ee1\n",
      "Mbrola translation file: /home/ec2-user/SageMaker/espnet/tools/espeak-ng/espeak-ng-data/mbrola_ph/ee1_phtrans -- 59 phonemes\n",
      "mkdir -p espeak-ng-data/mbrola_ph\n",
      "ESPEAK_DATA_PATH=/home/ec2-user/SageMaker/espnet/tools/espeak-ng src/espeak-ng --compile-mbrola=phsource/mbrola/jp\n",
      "Mbrola translation file: /home/ec2-user/SageMaker/espnet/tools/espeak-ng/espeak-ng-data/mbrola_ph/jp_phtrans -- 42 phonemes\n",
      "mkdir -p espeak-ng-data/mbrola_ph\n",
      "ESPEAK_DATA_PATH=/home/ec2-user/SageMaker/espnet/tools/espeak-ng src/espeak-ng --compile-mbrola=phsource/mbrola/lt\n",
      "Mbrola translation file: /home/ec2-user/SageMaker/espnet/tools/espeak-ng/espeak-ng-data/mbrola_ph/lt_phtrans -- 43 phonemes\n",
      "mkdir -p espeak-ng-data/mbrola_ph\n",
      "ESPEAK_DATA_PATH=/home/ec2-user/SageMaker/espnet/tools/espeak-ng src/espeak-ng --compile-mbrola=phsource/mbrola/ar1\n",
      "Mbrola translation file: /home/ec2-user/SageMaker/espnet/tools/espeak-ng/espeak-ng-data/mbrola_ph/ar1_phtrans -- 66 phonemes\n",
      "mkdir -p espeak-ng-data/mbrola_ph\n",
      "ESPEAK_DATA_PATH=/home/ec2-user/SageMaker/espnet/tools/espeak-ng src/espeak-ng --compile-mbrola=phsource/mbrola/gr1\n",
      "Mbrola translation file: /home/ec2-user/SageMaker/espnet/tools/espeak-ng/espeak-ng-data/mbrola_ph/gr1_phtrans -- 91 phonemes\n",
      "mkdir -p espeak-ng-data/mbrola_ph\n",
      "ESPEAK_DATA_PATH=/home/ec2-user/SageMaker/espnet/tools/espeak-ng src/espeak-ng --compile-mbrola=phsource/mbrola/mx1\n",
      "Mbrola translation file: /home/ec2-user/SageMaker/espnet/tools/espeak-ng/espeak-ng-data/mbrola_ph/mx1_phtrans -- 74 phonemes\n",
      "mkdir -p espeak-ng-data/mbrola_ph\n",
      "ESPEAK_DATA_PATH=/home/ec2-user/SageMaker/espnet/tools/espeak-ng src/espeak-ng --compile-mbrola=phsource/mbrola/he\n",
      "Mbrola translation file: /home/ec2-user/SageMaker/espnet/tools/espeak-ng/espeak-ng-data/mbrola_ph/he_phtrans -- 30 phonemes\n",
      "mkdir -p espeak-ng-data/mbrola_ph\n",
      "ESPEAK_DATA_PATH=/home/ec2-user/SageMaker/espnet/tools/espeak-ng src/espeak-ng --compile-mbrola=phsource/mbrola/id1\n",
      "Mbrola translation file: /home/ec2-user/SageMaker/espnet/tools/espeak-ng/espeak-ng-data/mbrola_ph/id1_phtrans -- 70 phonemes\n",
      "mkdir -p espeak-ng-data/mbrola_ph\n",
      "ESPEAK_DATA_PATH=/home/ec2-user/SageMaker/espnet/tools/espeak-ng src/espeak-ng --compile-mbrola=phsource/mbrola/ptbr4\n",
      "Mbrola translation file: /home/ec2-user/SageMaker/espnet/tools/espeak-ng/espeak-ng-data/mbrola_ph/ptbr4_phtrans -- 97 phonemes\n",
      "mkdir -p espeak-ng-data/mbrola_ph\n",
      "ESPEAK_DATA_PATH=/home/ec2-user/SageMaker/espnet/tools/espeak-ng src/espeak-ng --compile-mbrola=phsource/mbrola/it1\n",
      "Mbrola translation file: /home/ec2-user/SageMaker/espnet/tools/espeak-ng/espeak-ng-data/mbrola_ph/it1_phtrans -- 54 phonemes\n",
      "mkdir -p espeak-ng-data/mbrola_ph\n",
      "ESPEAK_DATA_PATH=/home/ec2-user/SageMaker/espnet/tools/espeak-ng src/espeak-ng --compile-mbrola=phsource/mbrola/ca\n",
      "Mbrola translation file: /home/ec2-user/SageMaker/espnet/tools/espeak-ng/espeak-ng-data/mbrola_ph/ca_phtrans -- 82 phonemes\n",
      "mkdir -p espeak-ng-data/mbrola_ph\n",
      "ESPEAK_DATA_PATH=/home/ec2-user/SageMaker/espnet/tools/espeak-ng src/espeak-ng --compile-mbrola=phsource/mbrola/nz1\n",
      "Mbrola translation file: /home/ec2-user/SageMaker/espnet/tools/espeak-ng/espeak-ng-data/mbrola_ph/nz1_phtrans -- 29 phonemes\n",
      "mkdir -p espeak-ng-data/mbrola_ph\n",
      "ESPEAK_DATA_PATH=/home/ec2-user/SageMaker/espnet/tools/espeak-ng src/espeak-ng --compile-mbrola=phsource/mbrola/pl1\n",
      "Mbrola translation file: /home/ec2-user/SageMaker/espnet/tools/espeak-ng/espeak-ng-data/mbrola_ph/pl1_phtrans -- 64 phonemes\n",
      "mkdir -p espeak-ng-data/mbrola_ph\n",
      "ESPEAK_DATA_PATH=/home/ec2-user/SageMaker/espnet/tools/espeak-ng src/espeak-ng --compile-mbrola=phsource/mbrola/cr1\n",
      "Mbrola translation file: /home/ec2-user/SageMaker/espnet/tools/espeak-ng/espeak-ng-data/mbrola_ph/cr1_phtrans -- 89 phonemes\n",
      "mkdir -p espeak-ng-data/mbrola_ph\n",
      "ESPEAK_DATA_PATH=/home/ec2-user/SageMaker/espnet/tools/espeak-ng src/espeak-ng --compile-mbrola=phsource/mbrola/in\n",
      "Mbrola translation file: /home/ec2-user/SageMaker/espnet/tools/espeak-ng/espeak-ng-data/mbrola_ph/in_phtrans -- 59 phonemes\n",
      "mkdir -p espeak-ng-data/mbrola_ph\n",
      "ESPEAK_DATA_PATH=/home/ec2-user/SageMaker/espnet/tools/espeak-ng src/espeak-ng --compile-mbrola=phsource/mbrola/us\n",
      "Mbrola translation file: /home/ec2-user/SageMaker/espnet/tools/espeak-ng/espeak-ng-data/mbrola_ph/us_phtrans -- 50 phonemes\n",
      "mkdir -p espeak-ng-data/mbrola_ph\n",
      "ESPEAK_DATA_PATH=/home/ec2-user/SageMaker/espnet/tools/espeak-ng src/espeak-ng --compile-mbrola=phsource/mbrola/pt1\n",
      "Mbrola translation file: /home/ec2-user/SageMaker/espnet/tools/espeak-ng/espeak-ng-data/mbrola_ph/pt1_phtrans -- 86 phonemes\n",
      "mkdir -p espeak-ng-data/mbrola_ph\n",
      "ESPEAK_DATA_PATH=/home/ec2-user/SageMaker/espnet/tools/espeak-ng src/espeak-ng --compile-mbrola=phsource/mbrola/gr2\n",
      "Mbrola translation file: /home/ec2-user/SageMaker/espnet/tools/espeak-ng/espeak-ng-data/mbrola_ph/gr2_phtrans -- 91 phonemes\n",
      "mkdir -p espeak-ng-data/mbrola_ph\n",
      "ESPEAK_DATA_PATH=/home/ec2-user/SageMaker/espnet/tools/espeak-ng src/espeak-ng --compile-mbrola=phsource/mbrola/ptbr\n",
      "Mbrola translation file: /home/ec2-user/SageMaker/espnet/tools/espeak-ng/espeak-ng-data/mbrola_ph/ptbr_phtrans -- 104 phonemes\n",
      "mkdir -p espeak-ng-data/mbrola_ph\n",
      "ESPEAK_DATA_PATH=/home/ec2-user/SageMaker/espnet/tools/espeak-ng src/espeak-ng --compile-mbrola=phsource/mbrola/mx2\n",
      "Mbrola translation file: /home/ec2-user/SageMaker/espnet/tools/espeak-ng/espeak-ng-data/mbrola_ph/mx2_phtrans -- 75 phonemes\n",
      "mkdir -p espeak-ng-data/mbrola_ph\n",
      "ESPEAK_DATA_PATH=/home/ec2-user/SageMaker/espnet/tools/espeak-ng src/espeak-ng --compile-mbrola=phsource/mbrola/ro1\n",
      "Mbrola translation file: /home/ec2-user/SageMaker/espnet/tools/espeak-ng/espeak-ng-data/mbrola_ph/ro1_phtrans -- 89 phonemes\n",
      "mkdir -p espeak-ng-data/mbrola_ph\n",
      "ESPEAK_DATA_PATH=/home/ec2-user/SageMaker/espnet/tools/espeak-ng src/espeak-ng --compile-mbrola=phsource/mbrola/hn1\n",
      "Mbrola translation file: /home/ec2-user/SageMaker/espnet/tools/espeak-ng/espeak-ng-data/mbrola_ph/hn1_phtrans -- 21 phonemes\n",
      "mkdir -p espeak-ng-data/mbrola_ph\n",
      "ESPEAK_DATA_PATH=/home/ec2-user/SageMaker/espnet/tools/espeak-ng src/espeak-ng --compile-mbrola=phsource/mbrola/es4\n",
      "Mbrola translation file: /home/ec2-user/SageMaker/espnet/tools/espeak-ng/espeak-ng-data/mbrola_ph/es4_phtrans -- 45 phonemes\n",
      "mkdir -p espeak-ng-data/mbrola_ph\n",
      "ESPEAK_DATA_PATH=/home/ec2-user/SageMaker/espnet/tools/espeak-ng src/espeak-ng --compile-mbrola=phsource/mbrola/cs\n",
      "Mbrola translation file: /home/ec2-user/SageMaker/espnet/tools/espeak-ng/espeak-ng-data/mbrola_ph/cs_phtrans -- 23 phonemes\n",
      "mkdir -p espeak-ng-data/mbrola_ph\n",
      "ESPEAK_DATA_PATH=/home/ec2-user/SageMaker/espnet/tools/espeak-ng src/espeak-ng --compile-mbrola=phsource/mbrola/fr\n",
      "Mbrola translation file: /home/ec2-user/SageMaker/espnet/tools/espeak-ng/espeak-ng-data/mbrola_ph/fr_phtrans -- 81 phonemes\n",
      "mkdir -p espeak-ng-data/mbrola_ph\n",
      "ESPEAK_DATA_PATH=/home/ec2-user/SageMaker/espnet/tools/espeak-ng src/espeak-ng --compile-mbrola=phsource/mbrola/tl1\n",
      "Mbrola translation file: /home/ec2-user/SageMaker/espnet/tools/espeak-ng/espeak-ng-data/mbrola_ph/tl1_phtrans -- 31 phonemes\n",
      "mkdir -p espeak-ng-data/mbrola_ph\n",
      "ESPEAK_DATA_PATH=/home/ec2-user/SageMaker/espnet/tools/espeak-ng src/espeak-ng --compile-mbrola=phsource/mbrola/hu1\n",
      "Mbrola translation file: /home/ec2-user/SageMaker/espnet/tools/espeak-ng/espeak-ng-data/mbrola_ph/hu1_phtrans -- 59 phonemes\n",
      "mkdir -p espeak-ng-data/mbrola_ph\n",
      "ESPEAK_DATA_PATH=/home/ec2-user/SageMaker/espnet/tools/espeak-ng src/espeak-ng --compile-mbrola=phsource/mbrola/de4\n",
      "Mbrola translation file: /home/ec2-user/SageMaker/espnet/tools/espeak-ng/espeak-ng-data/mbrola_ph/de4_phtrans -- 74 phonemes\n",
      "make[1]: Leaving directory `/home/ec2-user/SageMaker/espnet/tools/espeak-ng'\n"
     ]
    },
    {
     "name": "stderr",
     "output_type": "stream",
     "text": [
      "make: Circular phsource/phonemes.stamp <- phsource/phonemes.stamp dependency dropped.\n"
     ]
    },
    {
     "name": "stdout",
     "output_type": "stream",
     "text": [
      "make[1]: Entering directory `/home/ec2-user/SageMaker/espnet/tools/espeak-ng'\n",
      " /usr/bin/mkdir -p '/home/ec2-user/SageMaker/espnet/tools/espeak-ng/lib'\n",
      " /bin/sh ./libtool   --mode=install /usr/bin/install -c   src/libespeak-ng.la '/home/ec2-user/SageMaker/espnet/tools/espeak-ng/lib'\n",
      "libtool: install: /usr/bin/install -c src/.libs/libespeak-ng.so.1.1.51 /home/ec2-user/SageMaker/espnet/tools/espeak-ng/lib/libespeak-ng.so.1.1.51\n",
      "libtool: install: (cd /home/ec2-user/SageMaker/espnet/tools/espeak-ng/lib && { ln -s -f libespeak-ng.so.1.1.51 libespeak-ng.so.1 || { rm -f libespeak-ng.so.1 && ln -s libespeak-ng.so.1.1.51 libespeak-ng.so.1; }; })\n",
      "libtool: install: (cd /home/ec2-user/SageMaker/espnet/tools/espeak-ng/lib && { ln -s -f libespeak-ng.so.1.1.51 libespeak-ng.so || { rm -f libespeak-ng.so && ln -s libespeak-ng.so.1.1.51 libespeak-ng.so; }; })\n",
      "libtool: install: /usr/bin/install -c src/.libs/libespeak-ng.lai /home/ec2-user/SageMaker/espnet/tools/espeak-ng/lib/libespeak-ng.la\n",
      "libtool: install: /usr/bin/install -c src/.libs/libespeak-ng.a /home/ec2-user/SageMaker/espnet/tools/espeak-ng/lib/libespeak-ng.a\n",
      "libtool: install: chmod 644 /home/ec2-user/SageMaker/espnet/tools/espeak-ng/lib/libespeak-ng.a\n",
      "libtool: install: ranlib /home/ec2-user/SageMaker/espnet/tools/espeak-ng/lib/libespeak-ng.a\n",
      "libtool: finish: PATH=\"/opt/amazon/openmpi/bin:/opt/amazon/efa/bin:/home/ec2-user/anaconda3/condabin:/home/ec2-user/.dl_binaries/bin:/opt/aws/neuron/bin:/usr/libexec/gcc/x86_64-redhat-linux/7:/opt/aws/bin:/home/ec2-user/anaconda3/envs/espnet/bin:/home/ec2-user/anaconda3/condabin:/opt/amazon/openmpi/bin:/opt/amazon/efa/bin:/home/ec2-user/anaconda3/condabin:/home/ec2-user/.dl_binaries/bin:/opt/aws/neuron/bin:/usr/libexec/gcc/x86_64-redhat-linux/7:/opt/aws/bin:/usr/local/bin:/usr/bin:/usr/local/sbin:/usr/sbin:/sbin\" ldconfig -n /home/ec2-user/SageMaker/espnet/tools/espeak-ng/lib\n",
      "----------------------------------------------------------------------\n",
      "Libraries have been installed in:\n",
      "   /home/ec2-user/SageMaker/espnet/tools/espeak-ng/lib\n",
      "\n",
      "If you ever happen to want to link against installed libraries\n",
      "in a given directory, LIBDIR, you must either use libtool, and\n",
      "specify the full pathname of the library, or use the `-LLIBDIR'\n",
      "flag during linking and do at least one of the following:\n",
      "   - add LIBDIR to the `LD_LIBRARY_PATH' environment variable\n",
      "     during execution\n",
      "   - add LIBDIR to the `LD_RUN_PATH' environment variable\n",
      "     during linking\n",
      "   - use the `-Wl,-rpath -Wl,LIBDIR' linker flag\n",
      "   - have your system administrator add LIBDIR to `/etc/ld.so.conf'\n",
      "\n",
      "See any operating system documentation about shared libraries for\n",
      "more information, such as the ld(1) and ld.so(8) manual pages.\n",
      "----------------------------------------------------------------------\n",
      " /usr/bin/mkdir -p '/home/ec2-user/SageMaker/espnet/tools/espeak-ng/bin'\n",
      "  /bin/sh ./libtool   --mode=install /usr/bin/install -c src/speak-ng src/espeak-ng '/home/ec2-user/SageMaker/espnet/tools/espeak-ng/bin'\n",
      "libtool: install: /usr/bin/install -c src/speak-ng /home/ec2-user/SageMaker/espnet/tools/espeak-ng/bin/speak-ng\n",
      "libtool: install: /usr/bin/install -c src/.libs/espeak-ng /home/ec2-user/SageMaker/espnet/tools/espeak-ng/bin/espeak-ng\n",
      "make  install-exec-hook\n",
      "make[2]: Entering directory `/home/ec2-user/SageMaker/espnet/tools/espeak-ng'\n",
      "cd /home/ec2-user/SageMaker/espnet/tools/espeak-ng/bin && rm -f espeak && ln -s espeak-ng espeak\n",
      "cd /home/ec2-user/SageMaker/espnet/tools/espeak-ng/bin && rm -f speak  && ln -s speak-ng speak\n",
      "cd /home/ec2-user/SageMaker/espnet/tools/espeak-ng/lib && rm -f libespeak.la && ln -s libespeak-ng.la libespeak.la\n",
      "make[2]: Leaving directory `/home/ec2-user/SageMaker/espnet/tools/espeak-ng'\n",
      " /usr/bin/mkdir -p '/home/ec2-user/SageMaker/espnet/tools/espeak-ng/include/espeak'\n",
      " /usr/bin/install -c -m 644 src/include/espeak/speak_lib.h '/home/ec2-user/SageMaker/espnet/tools/espeak-ng/include/espeak'\n",
      " /usr/bin/mkdir -p '/home/ec2-user/SageMaker/espnet/tools/espeak-ng/include/espeak-ng'\n",
      " /usr/bin/install -c -m 644 src/include/espeak-ng/encoding.h src/include/espeak-ng/espeak_ng.h src/include/espeak-ng/speak_lib.h '/home/ec2-user/SageMaker/espnet/tools/espeak-ng/include/espeak-ng'\n",
      " /usr/bin/mkdir -p '/home/ec2-user/SageMaker/espnet/tools/espeak-ng/lib/pkgconfig'\n",
      " /usr/bin/install -c -m 644 espeak-ng.pc '/home/ec2-user/SageMaker/espnet/tools/espeak-ng/lib/pkgconfig'\n",
      " /usr/bin/mkdir -p '/home/ec2-user/SageMaker/espnet/tools/espeak-ng/share/vim/addons/ftdetect'\n",
      " /usr/bin/install -c -m 644 ./vim/ftdetect/espeakfiletype.vim '/home/ec2-user/SageMaker/espnet/tools/espeak-ng/share/vim/addons/ftdetect'\n",
      " /usr/bin/mkdir -p '/home/ec2-user/SageMaker/espnet/tools/espeak-ng/share/vim/addons/syntax'\n",
      " /usr/bin/install -c -m 644 ./vim/syntax/espeaklist.vim ./vim/syntax/espeakrules.vim '/home/ec2-user/SageMaker/espnet/tools/espeak-ng/share/vim/addons/syntax'\n",
      " /usr/bin/mkdir -p '/home/ec2-user/SageMaker/espnet/tools/espeak-ng/share/vim/registry'\n",
      " /usr/bin/install -c -m 644 ./vim/registry/espeak.yaml '/home/ec2-user/SageMaker/espnet/tools/espeak-ng/share/vim/registry'\n",
      "make  install-data-hook\n",
      "make[2]: Entering directory `/home/ec2-user/SageMaker/espnet/tools/espeak-ng'\n",
      "rm -rf /home/ec2-user/SageMaker/espnet/tools/espeak-ng/share/espeak-ng-data\n",
      "mkdir -p /home/ec2-user/SageMaker/espnet/tools/espeak-ng/share/espeak-ng-data\n",
      "cp -prf espeak-ng-data/* /home/ec2-user/SageMaker/espnet/tools/espeak-ng/share/espeak-ng-data\n",
      "make[2]: Leaving directory `/home/ec2-user/SageMaker/espnet/tools/espeak-ng'\n",
      "make[1]: Leaving directory `/home/ec2-user/SageMaker/espnet/tools/espeak-ng'\n"
     ]
    },
    {
     "name": "stderr",
     "output_type": "stream",
     "text": [
      "Cloning into 'MBROLA'...\n"
     ]
    },
    {
     "name": "stdout",
     "output_type": "stream",
     "text": [
      "if [ ! -d Bin/Standalone ]; then \\\n",
      "mkdir Bin ; mkdir Bin/LibOneChannel; mkdir Bin/LibMultiChannel ; mkdir Bin/Standalone ; mkdir Bin/Standalone/Standalone ; mkdir Bin/Standalone/Parser ;\tmkdir Bin/Standalone/Engine ;\tmkdir Bin/Standalone/Database ;\tmkdir Bin/Standalone/Misc; \\\n",
      "fi\n",
      "gcc  -DLITTLE_ENDIAN -ansi -pedantic -IParser -IStandalone -IMisc -ILibOneChannel -ILibMultiChannel -IEngine -IDatabase -Wall -DROMDATABASE_STORE -DROMDATABASE_INIT -DSIGNAL  -o Bin/Standalone/Standalone/synth.o -c Standalone/synth.c\n",
      "gcc  -DLITTLE_ENDIAN -ansi -pedantic -IParser -IStandalone -IMisc -ILibOneChannel -ILibMultiChannel -IEngine -IDatabase -Wall -DROMDATABASE_STORE -DROMDATABASE_INIT -DSIGNAL  -o Bin/Standalone/Engine/mbrola.o -c Engine/mbrola.c\n",
      "gcc  -DLITTLE_ENDIAN -ansi -pedantic -IParser -IStandalone -IMisc -ILibOneChannel -ILibMultiChannel -IEngine -IDatabase -Wall -DROMDATABASE_STORE -DROMDATABASE_INIT -DSIGNAL  -o Bin/Standalone/Engine/diphone.o -c Engine/diphone.c\n",
      "gcc  -DLITTLE_ENDIAN -ansi -pedantic -IParser -IStandalone -IMisc -ILibOneChannel -ILibMultiChannel -IEngine -IDatabase -Wall -DROMDATABASE_STORE -DROMDATABASE_INIT -DSIGNAL  -o Bin/Standalone/Parser/phone.o -c Parser/phone.c\n",
      "gcc  -DLITTLE_ENDIAN -ansi -pedantic -IParser -IStandalone -IMisc -ILibOneChannel -ILibMultiChannel -IEngine -IDatabase -Wall -DROMDATABASE_STORE -DROMDATABASE_INIT -DSIGNAL  -o Bin/Standalone/Parser/parser_input.o -c Parser/parser_input.c\n",
      "gcc  -DLITTLE_ENDIAN -ansi -pedantic -IParser -IStandalone -IMisc -ILibOneChannel -ILibMultiChannel -IEngine -IDatabase -Wall -DROMDATABASE_STORE -DROMDATABASE_INIT -DSIGNAL  -o Bin/Standalone/Parser/input_file.o -c Parser/input_file.c\n",
      "gcc  -DLITTLE_ENDIAN -ansi -pedantic -IParser -IStandalone -IMisc -ILibOneChannel -ILibMultiChannel -IEngine -IDatabase -Wall -DROMDATABASE_STORE -DROMDATABASE_INIT -DSIGNAL  -o Bin/Standalone/Parser/phonbuff.o -c Parser/phonbuff.c\n",
      "gcc  -DLITTLE_ENDIAN -ansi -pedantic -IParser -IStandalone -IMisc -ILibOneChannel -ILibMultiChannel -IEngine -IDatabase -Wall -DROMDATABASE_STORE -DROMDATABASE_INIT -DSIGNAL  -o Bin/Standalone/Misc/audio.o -c Misc/audio.c\n",
      "gcc  -DLITTLE_ENDIAN -ansi -pedantic -IParser -IStandalone -IMisc -ILibOneChannel -ILibMultiChannel -IEngine -IDatabase -Wall -DROMDATABASE_STORE -DROMDATABASE_INIT -DSIGNAL  -o Bin/Standalone/Misc/vp_error.o -c Misc/vp_error.c\n",
      "gcc  -DLITTLE_ENDIAN -ansi -pedantic -IParser -IStandalone -IMisc -ILibOneChannel -ILibMultiChannel -IEngine -IDatabase -Wall -DROMDATABASE_STORE -DROMDATABASE_INIT -DSIGNAL  -o Bin/Standalone/Misc/mbralloc.o -c Misc/mbralloc.c\n",
      "gcc  -DLITTLE_ENDIAN -ansi -pedantic -IParser -IStandalone -IMisc -ILibOneChannel -ILibMultiChannel -IEngine -IDatabase -Wall -DROMDATABASE_STORE -DROMDATABASE_INIT -DSIGNAL  -o Bin/Standalone/Misc/common.o -c Misc/common.c\n",
      "gcc  -DLITTLE_ENDIAN -ansi -pedantic -IParser -IStandalone -IMisc -ILibOneChannel -ILibMultiChannel -IEngine -IDatabase -Wall -DROMDATABASE_STORE -DROMDATABASE_INIT -DSIGNAL  -o Bin/Standalone/Database/database.o -c Database/database.c\n",
      "gcc  -DLITTLE_ENDIAN -ansi -pedantic -IParser -IStandalone -IMisc -ILibOneChannel -ILibMultiChannel -IEngine -IDatabase -Wall -DROMDATABASE_STORE -DROMDATABASE_INIT -DSIGNAL  -o Bin/Standalone/Database/database_old.o -c Database/database_old.c\n",
      "gcc  -DLITTLE_ENDIAN -ansi -pedantic -IParser -IStandalone -IMisc -ILibOneChannel -ILibMultiChannel -IEngine -IDatabase -Wall -DROMDATABASE_STORE -DROMDATABASE_INIT -DSIGNAL  -o Bin/Standalone/Database/diphone_info.o -c Database/diphone_info.c\n",
      "gcc  -DLITTLE_ENDIAN -ansi -pedantic -IParser -IStandalone -IMisc -ILibOneChannel -ILibMultiChannel -IEngine -IDatabase -Wall -DROMDATABASE_STORE -DROMDATABASE_INIT -DSIGNAL  -o Bin/Standalone/Database/little_big.o -c Database/little_big.c\n",
      "gcc  -DLITTLE_ENDIAN -ansi -pedantic -IParser -IStandalone -IMisc -ILibOneChannel -ILibMultiChannel -IEngine -IDatabase -Wall -DROMDATABASE_STORE -DROMDATABASE_INIT -DSIGNAL  -o Bin/Standalone/Database/hash_tab.o -c Database/hash_tab.c\n",
      "gcc  -DLITTLE_ENDIAN -ansi -pedantic -IParser -IStandalone -IMisc -ILibOneChannel -ILibMultiChannel -IEngine -IDatabase -Wall -DROMDATABASE_STORE -DROMDATABASE_INIT -DSIGNAL  -o Bin/Standalone/Database/zstring_list.o -c Database/zstring_list.c\n",
      "gcc  -DLITTLE_ENDIAN -ansi -pedantic -IParser -IStandalone -IMisc -ILibOneChannel -ILibMultiChannel -IEngine -IDatabase -Wall -DROMDATABASE_STORE -DROMDATABASE_INIT -DSIGNAL  -o Bin/Standalone/Database/rom_handling.o -c Database/rom_handling.c\n",
      "gcc  -DLITTLE_ENDIAN -ansi -pedantic -IParser -IStandalone -IMisc -ILibOneChannel -ILibMultiChannel -IEngine -IDatabase -Wall -DROMDATABASE_STORE -DROMDATABASE_INIT -DSIGNAL  -o Bin/Standalone/Database/rom_database.o -c Database/rom_database.c\n",
      "gcc -DLITTLE_ENDIAN -ansi -pedantic -IParser -IStandalone -IMisc -ILibOneChannel -ILibMultiChannel -IEngine -IDatabase -Wall -DROMDATABASE_STORE -DROMDATABASE_INIT -DSIGNAL   -o ./Bin/mbrola Bin/Standalone/Standalone/synth.o Bin/Standalone/Engine/mbrola.o Bin/Standalone/Engine/diphone.o Bin/Standalone/Parser/phone.o Bin/Standalone/Parser/parser_input.o Bin/Standalone/Parser/input_file.o Bin/Standalone/Parser/phonbuff.o Bin/Standalone/Misc/audio.o Bin/Standalone/Misc/vp_error.o Bin/Standalone/Misc/mbralloc.o Bin/Standalone/Misc/common.o Bin/Standalone/Database/database.o Bin/Standalone/Database/database_old.o Bin/Standalone/Database/diphone_info.o Bin/Standalone/Database/little_big.o Bin/Standalone/Database/hash_tab.o Bin/Standalone/Database/zstring_list.o Bin/Standalone/Database/rom_handling.o Bin/Standalone/Database/rom_database.o -lm\n",
      "Looking in indexes: https://pypi.org/simple, https://pip.repos.neuron.amazonaws.com\n",
      "Collecting phonemizer==3.0\n",
      "  Downloading phonemizer-3.0-py3-none-any.whl (87 kB)\n",
      "     ━━━━━━━━━━━━━━━━━━━━━━━━━━━━━━━━━━━━━━━━ 87.0/87.0 kB 17.2 MB/s eta 0:00:00\n",
      "Collecting dlinfo\n",
      "  Downloading dlinfo-1.2.1-py3-none-any.whl (3.6 kB)\n",
      "Requirement already satisfied: joblib in /home/ec2-user/anaconda3/envs/espnet/lib/python3.8/site-packages (from phonemizer==3.0) (1.1.0)\n",
      "Collecting segments\n",
      "  Downloading segments-2.2.0-py2.py3-none-any.whl (15 kB)\n",
      "Requirement already satisfied: attrs>=18.1 in /home/ec2-user/anaconda3/envs/espnet/lib/python3.8/site-packages (from phonemizer==3.0) (21.4.0)\n",
      "Requirement already satisfied: regex in /home/ec2-user/anaconda3/envs/espnet/lib/python3.8/site-packages (from segments->phonemizer==3.0) (2022.6.2)\n",
      "Collecting clldutils>=1.7.3\n",
      "  Downloading clldutils-3.12.0-py2.py3-none-any.whl (197 kB)\n",
      "     ━━━━━━━━━━━━━━━━━━━━━━━━━━━━━━━━━━━━━━ 197.6/197.6 kB 45.9 MB/s eta 0:00:00\n",
      "Collecting csvw>=1.5.6\n",
      "  Downloading csvw-2.0.0-py2.py3-none-any.whl (35 kB)\n",
      "Collecting colorlog\n",
      "  Downloading colorlog-6.6.0-py2.py3-none-any.whl (11 kB)\n",
      "Requirement already satisfied: python-dateutil in /home/ec2-user/anaconda3/envs/espnet/lib/python3.8/site-packages (from clldutils>=1.7.3->segments->phonemizer==3.0) (2.8.2)\n",
      "Requirement already satisfied: tabulate>=0.7.7 in /home/ec2-user/anaconda3/envs/espnet/lib/python3.8/site-packages (from clldutils>=1.7.3->segments->phonemizer==3.0) (0.8.9)\n",
      "Collecting isodate\n",
      "  Downloading isodate-0.6.1-py2.py3-none-any.whl (41 kB)\n",
      "     ━━━━━━━━━━━━━━━━━━━━━━━━━━━━━━━━━━━━━━━━ 41.7/41.7 kB 10.7 MB/s eta 0:00:00\n",
      "Collecting rfc3986<2\n",
      "  Downloading rfc3986-1.5.0-py2.py3-none-any.whl (31 kB)\n",
      "Collecting uritemplate>=3.0.0\n",
      "  Downloading uritemplate-4.1.1-py2.py3-none-any.whl (10 kB)\n",
      "Requirement already satisfied: six in /home/ec2-user/anaconda3/envs/espnet/lib/python3.8/site-packages (from isodate->csvw>=1.5.6->segments->phonemizer==3.0) (1.16.0)\n",
      "Installing collected packages: rfc3986, dlinfo, uritemplate, isodate, colorlog, csvw, clldutils, segments, phonemizer\n",
      "Successfully installed clldutils-3.12.0 colorlog-6.6.0 csvw-2.0.0 dlinfo-1.2.1 isodate-0.6.1 phonemizer-3.0 rfc3986-1.5.0 segments-2.2.0 uritemplate-4.1.1\n"
     ]
    }
   ],
   "source": [
    "%%bash\n",
    "# remove espeak ng from folder in needed\n",
    "# instal ncurses library using \" sudo apt-get install libncurses5-dev libncursesw5-dev\"\n",
    "# there are several .done files inthe tools folder/ if you have previousley  installed them /on sagemaker remove tthem and then install\n",
    "cd /home/ec2-user/SageMaker/espnet/tools/\n",
    "pwd\n",
    "./installers/install_phonemizer.sh "
   ]
  },
  {
   "cell_type": "code",
   "execution_count": null,
   "id": "fd02a1ce",
   "metadata": {},
   "outputs": [],
   "source": []
  },
  {
   "cell_type": "markdown",
   "id": "b68f6d90",
   "metadata": {},
   "source": [
    "<h3 style=\"color:red\">Installation finished</h3>\n",
    "<hr>"
   ]
  },
  {
   "cell_type": "markdown",
   "id": "d243e489",
   "metadata": {},
   "source": [
    "<h1>Setup Project</h1>\n",
    "<h2>Create project folder</h2>"
   ]
  },
  {
   "cell_type": "code",
   "execution_count": 8,
   "id": "301c8099",
   "metadata": {},
   "outputs": [],
   "source": [
    "Project_name=\"German_Male\""
   ]
  },
  {
   "cell_type": "code",
   "execution_count": 9,
   "id": "1be51ebd",
   "metadata": {},
   "outputs": [
    {
     "name": "stdout",
     "output_type": "stream",
     "text": [
      "German_Male\n",
      "2022-06-14T07:29:44 (setup.sh:71:main) Created: /home/ec2-user/SageMaker/espnet/egs2/German_Male/tts1//home/ec2-user/SageMaker/espnet/egs2/German_Male/tts1/../../TEMPLATE/tts1/cmd.sh /home/ec2-user/SageMaker/espnet/egs2/German_Male/tts1//home/ec2-user/SageMaker/espnet/egs2/German_Male/tts1/../../TEMPLATE/tts1/conf /home/ec2-user/SageMaker/espnet/egs2/German_Male/tts1//home/ec2-user/SageMaker/espnet/egs2/German_Male/tts1/../../TEMPLATE/tts1/local /home/ec2-user/SageMaker/espnet/egs2/German_Male/tts1/../../TEMPLATE/tts1/tts.sh /home/ec2-user/SageMaker/espnet/egs2/German_Male/tts1/../../TEMPLATE/tts1/path.sh /home/ec2-user/SageMaker/espnet/egs2/German_Male/tts1/../../TEMPLATE/asr1/db.sh /home/ec2-user/SageMaker/espnet/egs2/German_Male/tts1/../../TEMPLATE/asr1/scripts /home/ec2-user/SageMaker/espnet/egs2/German_Male/tts1/../../TEMPLATE/asr1/pyscripts /home/ec2-user/SageMaker/espnet/egs2/German_Male/tts1/../../../tools/kaldi/egs/wsj/s5/steps /home/ec2-user/SageMaker/espnet/egs2/German_Male/tts1/../../../tools/kaldi/egs/wsj/s5/utils /home/ec2-user/SageMaker/espnet/egs2/German_Male/tts1/../../../tools/kaldi/egs/sre08/v1/sid \n",
      "/home/ec2-user/SageMaker/espnet/egs2/German_Male/tts1\n"
     ]
    }
   ],
   "source": [
    "%%bash -s \"$Project_name\"\n",
    "\n",
    "echo $1\n",
    "\n",
    "/home/ec2-user/SageMaker/espnet/egs2/TEMPLATE/tts1/setup.sh  /home/ec2-user/SageMaker/espnet/egs2/$1/tts1\n",
    "cd /home/ec2-user/SageMaker/espnet/egs2/$1/tts1\n",
    "pwd"
   ]
  },
  {
   "cell_type": "code",
   "execution_count": 11,
   "id": "10a73c77",
   "metadata": {},
   "outputs": [
    {
     "name": "stdout",
     "output_type": "stream",
     "text": [
      "download: s3://commonvoicesdataset/Text2Speech/GermanMale/wavs.zip to ../../../../../SageMaker/espnet/egs2/German_Male/tts1/wavs.zip\n"
     ]
    }
   ],
   "source": [
    "!aws s3 cp 's3://commonvoicesdataset/Text2Speech/GermanMale/wavs.zip' '/home/ec2-user/SageMaker/espnet/egs2/German_Male/tts1'"
   ]
  },
  {
   "cell_type": "code",
   "execution_count": 13,
   "id": "c4db37a7",
   "metadata": {},
   "outputs": [],
   "source": [
    "%%bash -s \"$Project_name\"\n",
    "\n",
    "unzip -q /home/ec2-user/SageMaker/espnet/egs2/$1/tts1/wavs.zip -d /home/ec2-user/SageMaker/espnet/egs2/$1/tts1/"
   ]
  },
  {
   "cell_type": "code",
   "execution_count": 14,
   "id": "37fcde1a",
   "metadata": {},
   "outputs": [
    {
     "name": "stdout",
     "output_type": "stream",
     "text": [
      "download: s3://commonvoicesdataset/Text2Speech/GermanMale/data.zip to ../../../../../SageMaker/espnet/egs2/German_Male/tts1/data.zip\n"
     ]
    }
   ],
   "source": [
    "%%bash -s \"$Project_name\"\n",
    "aws s3 cp s3://commonvoicesdataset/Text2Speech/GermanMale/data.zip /home/ec2-user/SageMaker/espnet/egs2/$1/tts1"
   ]
  },
  {
   "cell_type": "code",
   "execution_count": 15,
   "id": "09341a90",
   "metadata": {},
   "outputs": [
    {
     "name": "stdout",
     "output_type": "stream",
     "text": [
      "/home/ec2-user/SageMaker/espnet/egs2/German_Male/tts1/data.zip\n"
     ]
    }
   ],
   "source": [
    "%%bash -s \"$Project_name\"\n",
    "echo /home/ec2-user/SageMaker/espnet/egs2/$1/tts1/data.zip\n",
    "unzip -q /home/ec2-user/SageMaker/espnet/egs2/$1/tts1/data.zip -d /home/ec2-user/SageMaker/espnet/egs2/$1/tts1/"
   ]
  },
  {
   "cell_type": "code",
   "execution_count": 16,
   "id": "3aac9bf0",
   "metadata": {},
   "outputs": [],
   "source": [
    "%%bash -s \"$Project_name\"\n",
    "rm  /home/ec2-user/SageMaker/espnet/egs2/$1/tts1/wavs.zip"
   ]
  },
  {
   "cell_type": "code",
   "execution_count": 17,
   "id": "efce9d9f",
   "metadata": {},
   "outputs": [
    {
     "name": "stdout",
     "output_type": "stream",
     "text": [
      "/home/ec2-user/SageMaker/espnet/egs2/German_Male/tts1\n"
     ]
    }
   ],
   "source": [
    "%cd /home/ec2-user/SageMaker/espnet/egs2/German_Male/tts1"
   ]
  },
  {
   "cell_type": "code",
   "execution_count": 18,
   "id": "8f608c99",
   "metadata": {},
   "outputs": [
    {
     "name": "stdout",
     "output_type": "stream",
     "text": [
      "2022-06-14T07:36:29 (tts.sh:232:main) ./tts.sh --stage 2 --ngpu 1 --train_set train --valid_set valid --test_sets test --stop-stage 2\n",
      "2022-06-14T07:36:29 (tts.sh:344:main) Stage 2: Format wav.scp: data/ -> dump/raw/\n",
      "utils/copy_data_dir.sh: copied data from data/train to dump/raw/org/train\n",
      "this program is runnnnnnnnnnnnin\n",
      "utils/validate_data_dir.sh: WARNING: you have only one speaker.  This probably a bad idea.\n",
      "   Search for the word 'bold' in http://kaldi-asr.org/doc/data_prep.html\n",
      "   for more information.\n",
      "utils/validate_data_dir.sh: Successfully validated data-directory dump/raw/org/train\n",
      "2022-06-14T07:36:31 (format_wav_scp.sh:42:main) scripts/audio/format_wav_scp.sh --nj 32 --cmd run.pl --audio-format flac --fs 22050 data/train/wav.scp dump/raw/org/train\n",
      "2022-06-14T07:36:31 (format_wav_scp.sh:110:main) [info]: without segments\n",
      "2022-06-14T07:37:31 (format_wav_scp.sh:142:main) Successfully finished. [elapsed=60s]\n",
      "utils/copy_data_dir.sh: copied data from data/valid to dump/raw/org/valid\n",
      "this program is runnnnnnnnnnnnin\n",
      "utils/validate_data_dir.sh: WARNING: you have only one speaker.  This probably a bad idea.\n",
      "   Search for the word 'bold' in http://kaldi-asr.org/doc/data_prep.html\n",
      "   for more information.\n",
      "utils/validate_data_dir.sh: Successfully validated data-directory dump/raw/org/valid\n",
      "2022-06-14T07:37:31 (format_wav_scp.sh:42:main) scripts/audio/format_wav_scp.sh --nj 32 --cmd run.pl --audio-format flac --fs 22050 data/valid/wav.scp dump/raw/org/valid\n",
      "2022-06-14T07:37:31 (format_wav_scp.sh:110:main) [info]: without segments\n",
      "2022-06-14T07:37:47 (format_wav_scp.sh:142:main) Successfully finished. [elapsed=16s]\n",
      "utils/copy_data_dir.sh: copied data from data/test to dump/raw/test\n",
      "this program is runnnnnnnnnnnnin\n",
      "utils/validate_data_dir.sh: WARNING: you have only one speaker.  This probably a bad idea.\n",
      "   Search for the word 'bold' in http://kaldi-asr.org/doc/data_prep.html\n",
      "   for more information.\n",
      "utils/validate_data_dir.sh: Successfully validated data-directory dump/raw/test\n",
      "2022-06-14T07:37:47 (format_wav_scp.sh:42:main) scripts/audio/format_wav_scp.sh --nj 32 --cmd run.pl --audio-format flac --fs 22050 data/test/wav.scp dump/raw/test\n",
      "2022-06-14T07:37:48 (format_wav_scp.sh:110:main) [info]: without segments\n",
      "2022-06-14T07:38:00 (format_wav_scp.sh:142:main) Successfully finished. [elapsed=13s]\n",
      "2022-06-14T07:38:00 (tts.sh:1201:main) Skip the uploading stage\n",
      "2022-06-14T07:38:00 (tts.sh:1253:main) Skip the uploading to HuggingFace stage\n",
      "2022-06-14T07:38:00 (tts.sh:1256:main) Successfully finished. [elapsed=91s]\n"
     ]
    }
   ],
   "source": [
    "!./tts.sh \\\n",
    " --stage 2 \\\n",
    " --ngpu 1 \\\n",
    " --train_set train \\\n",
    " --valid_set valid \\\n",
    " --test_sets test \\\n",
    " --stop-stage 2"
   ]
  },
  {
   "cell_type": "code",
   "execution_count": 19,
   "id": "995e12aa",
   "metadata": {},
   "outputs": [
    {
     "name": "stdout",
     "output_type": "stream",
     "text": [
      "2022-06-14T07:38:37 (tts.sh:232:main) ./tts.sh --stage 3 --stop-stage 3\n",
      "2022-06-14T07:38:37 (tts.sh:489:main) Stage 3: Remove long/short data: dump/raw/org -> dump/raw\n",
      "utils/copy_data_dir.sh: copied data from dump/raw/org/train to dump/raw/train\n",
      "this program is runnnnnnnnnnnnin\n",
      "utils/validate_data_dir.sh: WARNING: you have only one speaker.  This probably a bad idea.\n",
      "   Search for the word 'bold' in http://kaldi-asr.org/doc/data_prep.html\n",
      "   for more information.\n",
      "utils/validate_data_dir.sh: Successfully validated data-directory dump/raw/train\n",
      "fix_data_dir.sh: kept all 20179 utterances.\n",
      "fix_data_dir.sh: old files are kept in dump/raw/train/.backup\n",
      "utils/copy_data_dir.sh: copied data from dump/raw/org/valid to dump/raw/valid\n",
      "this program is runnnnnnnnnnnnin\n",
      "utils/validate_data_dir.sh: WARNING: you have only one speaker.  This probably a bad idea.\n",
      "   Search for the word 'bold' in http://kaldi-asr.org/doc/data_prep.html\n",
      "   for more information.\n",
      "utils/validate_data_dir.sh: Successfully validated data-directory dump/raw/valid\n",
      "fix_data_dir.sh: kept all 2268 utterances.\n",
      "fix_data_dir.sh: old files are kept in dump/raw/valid/.backup\n",
      "2022-06-14T07:38:39 (tts.sh:1201:main) Skip the uploading stage\n",
      "2022-06-14T07:38:39 (tts.sh:1253:main) Skip the uploading to HuggingFace stage\n",
      "2022-06-14T07:38:39 (tts.sh:1256:main) Successfully finished. [elapsed=2s]\n"
     ]
    }
   ],
   "source": [
    "!./tts.sh --stage 3 --stop-stage 3"
   ]
  },
  {
   "cell_type": "code",
   "execution_count": 2,
   "id": "5e4ccf7e",
   "metadata": {},
   "outputs": [
    {
     "data": {
      "text/plain": [
       "'/home/ec2-user/SageMaker'"
      ]
     },
     "execution_count": 2,
     "metadata": {},
     "output_type": "execute_result"
    }
   ],
   "source": []
  },
  {
   "cell_type": "code",
   "execution_count": 20,
   "id": "6b30c022",
   "metadata": {},
   "outputs": [
    {
     "name": "stdout",
     "output_type": "stream",
     "text": [
      "2022-06-14T07:39:39 (tts.sh:232:main) ./tts.sh --stage 4 --stop-stage 4 --srctexts data/train/text --cleaner tacotron --token_type phn --g2p espeak_ng_german\n",
      "2022-06-14T07:39:39 (tts.sh:544:main) Stage 4: Generate token_list from data/train/text\n",
      "[nltk_data] Downloading package averaged_perceptron_tagger to\n",
      "[nltk_data]     /home/ec2-user/nltk_data...\n",
      "[nltk_data]   Unzipping taggers/averaged_perceptron_tagger.zip.\n",
      "[nltk_data] Downloading package cmudict to /home/ec2-user/nltk_data...\n",
      "[nltk_data]   Unzipping corpora/cmudict.zip.\n",
      "/home/ec2-user/anaconda3/envs/espnet/bin/python3 /home/ec2-user/SageMaker/espnet/espnet2/bin/tokenize_text.py --token_type phn -f 2- --input dump/raw/srctexts --output dump/token_list/phn_tacotron_espeak_ng_german/tokens.txt --non_linguistic_symbols none --cleaner tacotron --g2p espeak_ng_german --write_vocabulary true --add_symbol '<blank>:0' --add_symbol '<unk>:1' --add_symbol '<sos/eos>:-1'\n",
      "2022-06-14 07:39:47,946 (tokenize_text:174) INFO: OOV rate = 0.0 %\n",
      "2022-06-14T07:39:48 (tts.sh:1201:main) Skip the uploading stage\n",
      "2022-06-14T07:39:48 (tts.sh:1253:main) Skip the uploading to HuggingFace stage\n",
      "2022-06-14T07:39:48 (tts.sh:1256:main) Successfully finished. [elapsed=9s]\n"
     ]
    }
   ],
   "source": [
    "!./tts.sh --stage 4 --stop-stage 4 --srctexts \"data/train/text\" --cleaner tacotron  --token_type phn --g2p espeak_ng_german"
   ]
  },
  {
   "cell_type": "code",
   "execution_count": 21,
   "id": "0317d765",
   "metadata": {},
   "outputs": [
    {
     "name": "stdout",
     "output_type": "stream",
     "text": [
      "2022-06-14T07:41:24 (tts.sh:232:main) ./tts.sh --stage 5 --stop-stage 5 --cleaner tacotron --token_type phn --g2p espeak_ng_german\n",
      "2022-06-14T07:41:24 (tts.sh:576:main) Stage 5: TTS collect stats: train_set=dump/raw/train, valid_set=dump/raw/valid\n",
      "2022-06-14T07:41:24 (tts.sh:663:main) Generate 'exp/tts_stats_raw_phn_tacotron_espeak_ng_german/run.sh'. You can resume the process from stage 5 using this script\n",
      "2022-06-14T07:41:24 (tts.sh:667:main) TTS collect_stats started... log: 'exp/tts_stats_raw_phn_tacotron_espeak_ng_german/logdir/stats.*.log'\n",
      "/home/ec2-user/anaconda3/envs/espnet/bin/python3 /home/ec2-user/SageMaker/espnet/espnet2/bin/aggregate_stats_dirs.py --input_dir exp/tts_stats_raw_phn_tacotron_espeak_ng_german/logdir/stats.1 --input_dir exp/tts_stats_raw_phn_tacotron_espeak_ng_german/logdir/stats.2 --input_dir exp/tts_stats_raw_phn_tacotron_espeak_ng_german/logdir/stats.3 --input_dir exp/tts_stats_raw_phn_tacotron_espeak_ng_german/logdir/stats.4 --input_dir exp/tts_stats_raw_phn_tacotron_espeak_ng_german/logdir/stats.5 --input_dir exp/tts_stats_raw_phn_tacotron_espeak_ng_german/logdir/stats.6 --input_dir exp/tts_stats_raw_phn_tacotron_espeak_ng_german/logdir/stats.7 --input_dir exp/tts_stats_raw_phn_tacotron_espeak_ng_german/logdir/stats.8 --input_dir exp/tts_stats_raw_phn_tacotron_espeak_ng_german/logdir/stats.9 --input_dir exp/tts_stats_raw_phn_tacotron_espeak_ng_german/logdir/stats.10 --input_dir exp/tts_stats_raw_phn_tacotron_espeak_ng_german/logdir/stats.11 --input_dir exp/tts_stats_raw_phn_tacotron_espeak_ng_german/logdir/stats.12 --input_dir exp/tts_stats_raw_phn_tacotron_espeak_ng_german/logdir/stats.13 --input_dir exp/tts_stats_raw_phn_tacotron_espeak_ng_german/logdir/stats.14 --input_dir exp/tts_stats_raw_phn_tacotron_espeak_ng_german/logdir/stats.15 --input_dir exp/tts_stats_raw_phn_tacotron_espeak_ng_german/logdir/stats.16 --input_dir exp/tts_stats_raw_phn_tacotron_espeak_ng_german/logdir/stats.17 --input_dir exp/tts_stats_raw_phn_tacotron_espeak_ng_german/logdir/stats.18 --input_dir exp/tts_stats_raw_phn_tacotron_espeak_ng_german/logdir/stats.19 --input_dir exp/tts_stats_raw_phn_tacotron_espeak_ng_german/logdir/stats.20 --input_dir exp/tts_stats_raw_phn_tacotron_espeak_ng_german/logdir/stats.21 --input_dir exp/tts_stats_raw_phn_tacotron_espeak_ng_german/logdir/stats.22 --input_dir exp/tts_stats_raw_phn_tacotron_espeak_ng_german/logdir/stats.23 --input_dir exp/tts_stats_raw_phn_tacotron_espeak_ng_german/logdir/stats.24 --input_dir exp/tts_stats_raw_phn_tacotron_espeak_ng_german/logdir/stats.25 --input_dir exp/tts_stats_raw_phn_tacotron_espeak_ng_german/logdir/stats.26 --input_dir exp/tts_stats_raw_phn_tacotron_espeak_ng_german/logdir/stats.27 --input_dir exp/tts_stats_raw_phn_tacotron_espeak_ng_german/logdir/stats.28 --input_dir exp/tts_stats_raw_phn_tacotron_espeak_ng_german/logdir/stats.29 --input_dir exp/tts_stats_raw_phn_tacotron_espeak_ng_german/logdir/stats.30 --input_dir exp/tts_stats_raw_phn_tacotron_espeak_ng_german/logdir/stats.31 --input_dir exp/tts_stats_raw_phn_tacotron_espeak_ng_german/logdir/stats.32 --output_dir exp/tts_stats_raw_phn_tacotron_espeak_ng_german\n",
      "2022-06-14T07:44:31 (tts.sh:1201:main) Skip the uploading stage\n",
      "2022-06-14T07:44:31 (tts.sh:1253:main) Skip the uploading to HuggingFace stage\n",
      "2022-06-14T07:44:31 (tts.sh:1256:main) Successfully finished. [elapsed=187s]\n"
     ]
    }
   ],
   "source": [
    "!./tts.sh --stage 5 --stop-stage 5 --cleaner tacotron  --token_type phn --g2p espeak_ng_german"
   ]
  },
  {
   "cell_type": "code",
   "execution_count": 12,
   "id": "412442a6",
   "metadata": {},
   "outputs": [
    {
     "data": {
      "text/plain": [
       "'/home/ec2-user/SageMaker/espnet/tools'"
      ]
     },
     "execution_count": 12,
     "metadata": {},
     "output_type": "execute_result"
    }
   ],
   "source": [
    "%pwd"
   ]
  },
  {
   "cell_type": "code",
   "execution_count": 22,
   "id": "f2c3df01",
   "metadata": {},
   "outputs": [
    {
     "name": "stdout",
     "output_type": "stream",
     "text": [
      "\n"
     ]
    }
   ],
   "source": [
    "%%bash -s \"$Project_name\"\n",
    "echo ${pwd}\n",
    "source=/home/ec2-user/SageMaker/espnet/egs2/ljspeech/tts1/conf/tuning\n",
    "destination=/home/ec2-user/SageMaker/espnet/egs2/$1/tts1/conf\n",
    "cp -rn $source $destination"
   ]
  },
  {
   "cell_type": "code",
   "execution_count": 23,
   "id": "7678cbd3",
   "metadata": {},
   "outputs": [
    {
     "name": "stdout",
     "output_type": "stream",
     "text": [
      "/home/ec2-user/SageMaker/espnet/egs2/German_Male/tts1\n"
     ]
    }
   ],
   "source": [
    "%cd '/home/ec2-user/SageMaker/espnet/egs2/German_Male/tts1'"
   ]
  },
  {
   "cell_type": "code",
   "execution_count": null,
   "id": "2e933f90",
   "metadata": {},
   "outputs": [],
   "source": []
  },
  {
   "cell_type": "code",
   "execution_count": 24,
   "id": "bda9f80b",
   "metadata": {},
   "outputs": [
    {
     "name": "stdout",
     "output_type": "stream",
     "text": [
      "Tue Jun 14 07:45:09 2022       \n",
      "+-----------------------------------------------------------------------------+\n",
      "| NVIDIA-SMI 510.47.03    Driver Version: 510.47.03    CUDA Version: 11.6     |\n",
      "|-------------------------------+----------------------+----------------------+\n",
      "| GPU  Name        Persistence-M| Bus-Id        Disp.A | Volatile Uncorr. ECC |\n",
      "| Fan  Temp  Perf  Pwr:Usage/Cap|         Memory-Usage | GPU-Util  Compute M. |\n",
      "|                               |                      |               MIG M. |\n",
      "|===============================+======================+======================|\n",
      "|   0  Tesla T4            On   | 00000000:00:1E.0 Off |                    0 |\n",
      "| N/A   35C    P8    14W /  70W |      0MiB / 15360MiB |      0%      Default |\n",
      "|                               |                      |                  N/A |\n",
      "+-------------------------------+----------------------+----------------------+\n",
      "                                                                               \n",
      "+-----------------------------------------------------------------------------+\n",
      "| Processes:                                                                  |\n",
      "|  GPU   GI   CI        PID   Type   Process name                  GPU Memory |\n",
      "|        ID   ID                                                   Usage      |\n",
      "|=============================================================================|\n",
      "|  No running processes found                                                 |\n",
      "+-----------------------------------------------------------------------------+\n"
     ]
    }
   ],
   "source": [
    "!nvidia-smi"
   ]
  },
  {
   "cell_type": "code",
   "execution_count": null,
   "id": "f45c077e",
   "metadata": {},
   "outputs": [
    {
     "name": "stdout",
     "output_type": "stream",
     "text": [
      "2022-06-14T07:46:33 (tts.sh:232:main) ./tts.sh --stage 6 --stop-stage 6 --cleaner tacotron --token_type phn --g2p espeak_ng_german --train_config /home/ec2-user/SageMaker/espnet/egs2/German_Male/tts1/conf/tuning/train_tacotron2.yaml\n",
      "2022-06-14T07:46:33 (tts.sh:712:main) Stage 6: TTS Training: train_set=dump/raw/train, valid_set=dump/raw/valid\n",
      "2022-06-14T07:46:33 (tts.sh:892:main) Generate 'exp/tts_train_tacotron2_raw_phn_tacotron_espeak_ng_german/run.sh'. You can resume the process from stage 6 using this script\n",
      "2022-06-14T07:46:33 (tts.sh:897:main) TTS training started... log: 'exp/tts_train_tacotron2_raw_phn_tacotron_espeak_ng_german/train.log'\n",
      "2022-06-14 07:46:34,284 (launch:95) INFO: /home/ec2-user/anaconda3/envs/espnet/bin/python3 /home/ec2-user/SageMaker/espnet/espnet2/bin/launch.py --cmd 'run.pl --name exp/tts_train_tacotron2_raw_phn_tacotron_espeak_ng_german/train.log' --log exp/tts_train_tacotron2_raw_phn_tacotron_espeak_ng_german/train.log --ngpu 1 --num_nodes 1 --init_file_prefix exp/tts_train_tacotron2_raw_phn_tacotron_espeak_ng_german/.dist_init_ --multiprocessing_distributed true -- python3 -m espnet2.bin.tts_train --use_preprocessor true --token_type phn --token_list dump/token_list/phn_tacotron_espeak_ng_german/tokens.txt --non_linguistic_symbols none --cleaner tacotron --g2p espeak_ng_german --normalize global_mvn --resume true --fold_length 150 --fold_length 204800 --output_dir exp/tts_train_tacotron2_raw_phn_tacotron_espeak_ng_german --config /home/ec2-user/SageMaker/espnet/egs2/German_Male/tts1/conf/tuning/train_tacotron2.yaml --feats_extract fbank --feats_extract_conf n_fft=1024 --feats_extract_conf hop_length=256 --feats_extract_conf win_length=null --feats_extract_conf fs=22050 --feats_extract_conf fmin=80 --feats_extract_conf fmax=7600 --feats_extract_conf n_mels=80 --train_data_path_and_name_and_type dump/raw/train/text,text,text --train_data_path_and_name_and_type dump/raw/train/wav.scp,speech,sound --train_shape_file exp/tts_stats_raw_phn_tacotron_espeak_ng_german/train/text_shape.phn --train_shape_file exp/tts_stats_raw_phn_tacotron_espeak_ng_german/train/speech_shape --valid_data_path_and_name_and_type dump/raw/valid/text,text,text --valid_data_path_and_name_and_type dump/raw/valid/wav.scp,speech,sound --valid_shape_file exp/tts_stats_raw_phn_tacotron_espeak_ng_german/valid/text_shape.phn --valid_shape_file exp/tts_stats_raw_phn_tacotron_espeak_ng_german/valid/speech_shape --normalize_conf stats_file=exp/tts_stats_raw_phn_tacotron_espeak_ng_german/train/feats_stats.npz\n",
      "2022-06-14 07:46:34,307 (launch:349) INFO: log file: exp/tts_train_tacotron2_raw_phn_tacotron_espeak_ng_german/train.log\n"
     ]
    }
   ],
   "source": [
    "!./tts.sh --stage 6 --stop-stage 6  --cleaner tacotron  --token_type phn --g2p espeak_ng_german --train_config '/home/ec2-user/SageMaker/espnet/egs2/German_Male/tts1/conf/tuning/train_tacotron2.yaml'"
   ]
  },
  {
   "cell_type": "code",
   "execution_count": 26,
   "id": "3dbaf34f",
   "metadata": {},
   "outputs": [
    {
     "name": "stdout",
     "output_type": "stream",
     "text": [
      "2022-06-17T05:49:03 (tts.sh:232:main) ./tts.sh --stage 7 --stop-stage 7 --cleaner tacotron --token_type phn --g2p espeak_ng_german --train_config /home/ec2-user/SageMaker/espnet/egs2/German_Male/tts1/conf/train.yaml\n",
      "2022-06-17T05:49:03 (tts.sh:954:main) Stage 7: Decoding: training_dir=exp/tts_train_raw_phn_tacotron_espeak_ng_german\n",
      "2022-06-17T05:49:03 (tts.sh:977:main) Generate 'exp/tts_train_raw_phn_tacotron_espeak_ng_german/inference_train.loss.ave/run.sh'. You can resume the process from stage 7 using this script\n",
      "2022-06-17T05:49:03 (tts.sh:1031:main) Decoding started... log: 'exp/tts_train_raw_phn_tacotron_espeak_ng_german/inference_train.loss.ave/test/log/tts_inference.*.log'\n",
      "run.pl: 32 / 32 failed, log is in exp/tts_train_raw_phn_tacotron_espeak_ng_german/inference_train.loss.ave/test/log/tts_inference.*.log\n"
     ]
    }
   ],
   "source": [
    "!./tts.sh --stage 7 --stop-stage 7  --cleaner tacotron  --token_type phn --g2p espeak_ng_german --train_config '/home/ec2-user/SageMaker/espnet/egs2/German_Male/tts1/conf/train.yaml'"
   ]
  },
  {
   "cell_type": "code",
   "execution_count": 18,
   "id": "e5c498e5",
   "metadata": {},
   "outputs": [
    {
     "name": "stdout",
     "output_type": "stream",
     "text": [
      "a\n"
     ]
    }
   ],
   "source": []
  }
 ],
 "metadata": {
  "kernelspec": {
   "display_name": "conda_espnet",
   "language": "python",
   "name": "conda_espnet"
  },
  "language_info": {
   "codemirror_mode": {
    "name": "ipython",
    "version": 3
   },
   "file_extension": ".py",
   "mimetype": "text/x-python",
   "name": "python",
   "nbconvert_exporter": "python",
   "pygments_lexer": "ipython3",
   "version": "3.8.12"
  }
 },
 "nbformat": 4,
 "nbformat_minor": 5
}
