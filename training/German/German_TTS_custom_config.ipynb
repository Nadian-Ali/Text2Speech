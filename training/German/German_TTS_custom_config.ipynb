{
 "cells": [
  {
   "cell_type": "code",
   "execution_count": 1,
   "id": "bef81e65",
   "metadata": {},
   "outputs": [
    {
     "name": "stdout",
     "output_type": "stream",
     "text": [
      "Python 3.8.12\n"
     ]
    }
   ],
   "source": [
    "!python --version\n"
   ]
  },
  {
   "cell_type": "code",
   "execution_count": null,
   "id": "5f890a7b",
   "metadata": {},
   "outputs": [],
   "source": []
  },
  {
   "cell_type": "code",
   "execution_count": 2,
   "id": "f9c33ffe",
   "metadata": {
    "collapsed": true,
    "jupyter": {
     "outputs_hidden": true
    }
   },
   "outputs": [
    {
     "name": "stdout",
     "output_type": "stream",
     "text": [
      "# conda environments:\n",
      "#\n",
      "base                     /home/ec2-user/anaconda3\n",
      "JupyterSystemEnv         /home/ec2-user/anaconda3/envs/JupyterSystemEnv\n",
      "R                        /home/ec2-user/anaconda3/envs/R\n",
      "amazonei_mxnet_p36       /home/ec2-user/anaconda3/envs/amazonei_mxnet_p36\n",
      "amazonei_pytorch_latest_p37     /home/ec2-user/anaconda3/envs/amazonei_pytorch_latest_p37\n",
      "amazonei_tensorflow2_p36     /home/ec2-user/anaconda3/envs/amazonei_tensorflow2_p36\n",
      "espnet                *  /home/ec2-user/anaconda3/envs/espnet\n",
      "mxnet_p37                /home/ec2-user/anaconda3/envs/mxnet_p37\n",
      "python3                  /home/ec2-user/anaconda3/envs/python3\n",
      "pytorch_p38              /home/ec2-user/anaconda3/envs/pytorch_p38\n",
      "tensorflow2_p38          /home/ec2-user/anaconda3/envs/tensorflow2_p38\n",
      "\n"
     ]
    }
   ],
   "source": [
    "!conda info --envs"
   ]
  },
  {
   "cell_type": "code",
   "execution_count": 34,
   "id": "6e94a106",
   "metadata": {},
   "outputs": [
    {
     "name": "stdout",
     "output_type": "stream",
     "text": [
      "Thu Apr 28 11:27:53 2022       \n",
      "+-----------------------------------------------------------------------------+\n",
      "| NVIDIA-SMI 510.47.03    Driver Version: 510.47.03    CUDA Version: 11.6     |\n",
      "|-------------------------------+----------------------+----------------------+\n",
      "| GPU  Name        Persistence-M| Bus-Id        Disp.A | Volatile Uncorr. ECC |\n",
      "| Fan  Temp  Perf  Pwr:Usage/Cap|         Memory-Usage | GPU-Util  Compute M. |\n",
      "|                               |                      |               MIG M. |\n",
      "|===============================+======================+======================|\n",
      "|   0  Tesla T4            On   | 00000000:00:1E.0 Off |                    0 |\n",
      "| N/A   48C    P0    32W /  70W |   9729MiB / 15360MiB |     66%      Default |\n",
      "|                               |                      |                  N/A |\n",
      "+-------------------------------+----------------------+----------------------+\n",
      "                                                                               \n",
      "+-----------------------------------------------------------------------------+\n",
      "| Processes:                                                                  |\n",
      "|  GPU   GI   CI        PID   Type   Process name                  GPU Memory |\n",
      "|        ID   ID                                                   Usage      |\n",
      "|=============================================================================|\n",
      "|    0   N/A  N/A     22897      C   python3                          9727MiB |\n",
      "+-----------------------------------------------------------------------------+\n"
     ]
    }
   ],
   "source": [
    "!nvidia-smi"
   ]
  },
  {
   "cell_type": "markdown",
   "id": "38dbfa05",
   "metadata": {},
   "source": [
    "<hr>\n",
    "<h1> Installation</h1>"
   ]
  },
  {
   "cell_type": "code",
   "execution_count": 2,
   "id": "d5eeef22",
   "metadata": {},
   "outputs": [
    {
     "name": "stdout",
     "output_type": "stream",
     "text": [
      "/home/ec2-user/SageMaker/espnet/tools\n"
     ]
    }
   ],
   "source": [
    "%cd /home/ec2-user/SageMaker/espnet/tools"
   ]
  },
  {
   "cell_type": "code",
   "execution_count": null,
   "id": "21b4e02e",
   "metadata": {},
   "outputs": [],
   "source": []
  },
  {
   "cell_type": "code",
   "execution_count": 3,
   "id": "a4f8eebc",
   "metadata": {},
   "outputs": [],
   "source": [
    "%%capture \n",
    "!./setup_anaconda.sh \"/home/ec2-user/anaconda3\" espnet 3.8.12\n",
    "#!./setup_venv.sh $(command -v python3)"
   ]
  },
  {
   "cell_type": "code",
   "execution_count": 1,
   "id": "26c67707",
   "metadata": {
    "collapsed": true,
    "jupyter": {
     "outputs_hidden": true
    }
   },
   "outputs": [
    {
     "name": "stdout",
     "output_type": "stream",
     "text": [
      "Collecting package metadata (current_repodata.json): done\n",
      "Solving environment: \\ \n",
      "The environment is inconsistent, please check the package plan carefully\n",
      "The following packages are causing the inconsistenc| \n",
      "\n",
      "  - conda-forge/linux-64::cudatoolkit==11.1.1=h6406543_9\n",
      "  - pytorch/linux-64::pytorch==1.10.0=py3.8_cuda11.1_cudnn8.0.5_0\n",
      "  - conda-forge/noarch::tqdm==4.62.3=pyhd8ed1ab_0\n",
      "  - conda-forge/noarch::black==21.11b0=pyhd8ed1ab_0\n",
      "  - conda-forge/noarch::dask-core==2021.11.2=pyhd8ed1ab_0\n",
      "  - conda-forge/linux-64::pytest==6.2.5=py38h578d9bd_1\n",
      "  - pytorch/linux-64::torch-model-archiver==0.5.0=py38_0\n",
      "  - pytorch/linux-64::torch-workflow-archiver==0.2.0=py38_0\n",
      "  - pytorch/linux-64::torchserve==0.5.0=py38_0\n",
      "  - conda-forge/linux-64::watchdog==2.1.6=py38h578d9bd_1\n",
      "  - conda-forge/linux-64::aiohttp==3.8.1=py38h497a2fe_0\n",
      "  - conda-forge/linux-64::distributed==2021.11.2=py38h578d9bd_0\n",
      "  - conda-forge/noarch::flask==2.0.2=pyhd8ed1ab_0\n",
      "  - conda-forge/noarch::nbformat==5.1.3=pyhd8ed1ab_0\n",
      "  - conda-forge/noarch::nltk==3.6.5=pyhd8ed1ab_0\n",
      "  - conda-forge/noarch::pylint==2.11.1=pyhd8ed1ab_0\n",
      "  - conda-forge/noarch::nbclient==0.5.9=pyhd8ed1ab_0\n",
      "  - conda-forge/noarch::python-language-server==0.36.2=pyhd8ed1ab_0\n",
      "  - conda-forge/linux-64::nbconvert==6.3.0=py38h578d9bd_1\n",
      "  - conda-forge/noarch::pyls-black==0.4.6=pyh9f0ad1d_0\n",
      "  - conda-forge/noarch::pyls-spyder==0.3.2=pyhd8ed1ab_0\n",
      "  - pytorch/noarch::captum==0.4.1=0\n",
      "  - conda-forge/noarch::requests==2.26.0=pyhd8ed1ab_1\n",
      "  - conda-forge/noarch::anaconda-client==1.8.0=pyhd8ed1ab_0\n",
      "  - conda-forge/noarch::cookiecutter==1.7.0=py_0\n",
      "  - conda-forge/noarch::jupyter_server==1.12.0=pyhd8ed1ab_0\n",
      "  - conda-forge/noarch::pooch==1.5.2=pyhd8ed1ab_0\n",
      "  - pytorch/linux-64::torchtext==0.11.0=py38\n",
      "  - conda-forge/noarch::anaconda-project==0.10.2=pyhd8ed1ab_0\n",
      "  - conda-forge/noarch::ipyparallel==8.0.0=pyhd8ed1ab_0\n",
      "  - conda-forge/noarch::jupyterlab_server==2.8.2=pyhd8ed1ab_0\n",
      "  - conda-forge/noarch::notebook==6.4.6=pyha770c72_0\n",
      "  - conda-forge/linux-64::nb_conda==2.2.1=py38h578d9bd_4\n",
      "  - conda-forge/noarch::nbclassic==0.3.4=pyhd8ed1ab_0\n",
      "  - conda-forge/linux-64::widgetsnbextension==3.5.2=py38h578d9bd_1\n",
      "  - conda-forge/noarch::ipywidgets==7.6.5=pyhd8ed1ab_0\n",
      "  - conda-forge/noarch::jupyterlab==3.2.4=pyhd8ed1ab_0\n",
      "  - conda-forge/linux-64::jupyter==1.0.0=py38h578d9bd_7\n",
      "  - conda-forge/linux-64::bokeh==2.4.2=py38h578d9bd_0\n",
      "  - conda-forge/linux-64::matplotlib==3.5.0=py38h578d9bd_0\n",
      "  - conda-forge/linux-64::matplotlib-base==3.5.0=py38hf4fb855_0\n",
      "  - conda-forge/noarch::imageio==2.9.0=py_0\n",
      "  - pytorch/linux-64::torchaudio==0.10.0=py38_cu111\n",
      "  - pytorch/linux-64::torchvision==0.11.1=py38_cu111\n",
      "  - conda-forge/linux-64::astropy==5.0=py38h6c62de6_0\n",
      "  - conda-forge/noarch::dask==2021.11.2=pyhd8ed1ab_0\n",
      "  - conda-forge/noarch::networkx==2.6.3=pyhd8ed1ab_1\n",
      "  - conda-forge/noarch::seaborn-base==0.11.2=pyhd8ed1ab_0\n",
      "  - conda-forge/linux-64::scikit-image==0.18.3=py38h43a58ef_0\n",
      "  - conda-forge/noarch::seaborn==0.11.2=hd8ed1ab_0\n",
      "  - conda-forge/noarch::numpydoc==1.1.0=py_1\n",
      "  - conda-forge/linux-64::spyder==5.0.5=py38h578d9bd_2\n",
      "  - conda-forge/noarch::sphinx==4.3.0=pyh6c4a22f_0\n",
      "  - conda-forge/noarch::sphinxcontrib-serializinghtml==1.1.5=pyhd8ed1ab_1\n",
      "  - conda-forge/noarch::sphinxcontrib-websupport==1.2.4=pyhd8ed1ab_1\n",
      "  - defaults/linux-64::_anaconda_depends==2020.07=py38_0\n",
      "done\n",
      "\n",
      "\n",
      "==> WARNING: A newer version of conda exists. <==\n",
      "  current version: 4.8.4\n",
      "  latest version: 4.12.0\n",
      "\n",
      "Please update conda by running\n",
      "\n",
      "    $ conda update -n base -c defaults conda\n",
      "\n",
      "\n",
      "\n",
      "## Package Plan ##\n",
      "\n",
      "  environment location: /home/ec2-user/anaconda3/envs/pytorch_p38\n",
      "\n",
      "  added / updated specs:\n",
      "    - libsndfile\n",
      "\n",
      "\n",
      "The following packages will be downloaded:\n",
      "\n",
      "    package                    |            build\n",
      "    ---------------------------|-----------------\n",
      "    certifi-2021.10.8          |   py38h578d9bd_2         145 KB  conda-forge\n",
      "    colorama-0.4.4             |     pyh9f0ad1d_0          18 KB  conda-forge\n",
      "    dataclasses-0.8            |     pyhc8e2a94_3          10 KB  conda-forge\n",
      "    docutils-0.15.2            |   py38h578d9bd_3         739 KB  conda-forge\n",
      "    fsspec-2022.3.0            |     pyhd8ed1ab_0          93 KB  conda-forge\n",
      "    jsonschema-4.5.1           |     pyhd8ed1ab_0          57 KB  conda-forge\n",
      "    libflac-1.3.4              |       h27087fc_0         474 KB  conda-forge\n",
      "    libsndfile-1.0.31          |       h9c3ff4c_1         602 KB  conda-forge\n",
      "    lxml-4.8.0                 |   py38h0a891b7_2         1.4 MB  conda-forge\n",
      "    openssl-1.1.1o             |       h166bdaf_0         2.1 MB  conda-forge\n",
      "    pillow-8.4.0               |   py38h8e6f84c_0         704 KB  conda-forge\n",
      "    pyyaml-6.0                 |   py38h0a891b7_4         182 KB  conda-forge\n",
      "    websocket-client-1.3.2     |     pyhd8ed1ab_0          41 KB  conda-forge\n",
      "    werkzeug-2.1.2             |     pyhd8ed1ab_1         237 KB  conda-forge\n",
      "    ------------------------------------------------------------\n",
      "                                           Total:         6.8 MB\n",
      "\n",
      "The following NEW packages will be INSTALLED:\n",
      "\n",
      "  attrs              conda-forge/noarch::attrs-21.4.0-pyhd8ed1ab_0\n",
      "  colorama           conda-forge/noarch::colorama-0.4.4-pyh9f0ad1d_0\n",
      "  dataclasses        conda-forge/noarch::dataclasses-0.8-pyhc8e2a94_3\n",
      "  docutils           conda-forge/linux-64::docutils-0.15.2-py38h578d9bd_3\n",
      "  fsspec             conda-forge/noarch::fsspec-2022.3.0-pyhd8ed1ab_0\n",
      "  jsonschema         conda-forge/noarch::jsonschema-4.5.1-pyhd8ed1ab_0\n",
      "  libflac            conda-forge/linux-64::libflac-1.3.4-h27087fc_0\n",
      "  libsndfile         conda-forge/linux-64::libsndfile-1.0.31-h9c3ff4c_1\n",
      "  lxml               conda-forge/linux-64::lxml-4.8.0-py38h0a891b7_2\n",
      "  pillow             conda-forge/linux-64::pillow-8.4.0-py38h8e6f84c_0\n",
      "  pip                conda-forge/noarch::pip-22.0.4-pyhd8ed1ab_0\n",
      "  pyyaml             conda-forge/linux-64::pyyaml-6.0-py38h0a891b7_4\n",
      "  urllib3            conda-forge/noarch::urllib3-1.26.9-pyhd8ed1ab_0\n",
      "  websocket-client   conda-forge/noarch::websocket-client-1.3.2-pyhd8ed1ab_0\n",
      "  werkzeug           conda-forge/noarch::werkzeug-2.1.2-pyhd8ed1ab_1\n",
      "\n",
      "The following packages will be UPDATED:\n",
      "\n",
      "  certifi                          2021.10.8-py38h578d9bd_1 --> 2021.10.8-py38h578d9bd_2\n",
      "  openssl                                 1.1.1l-h7f98852_0 --> 1.1.1o-h166bdaf_0\n",
      "\n",
      "\n",
      "\n",
      "Downloading and Extracting Packages\n",
      "websocket-client-1.3 | 41 KB     | ##################################### | 100% \n",
      "lxml-4.8.0           | 1.4 MB    | ##################################### | 100% \n",
      "jsonschema-4.5.1     | 57 KB     | ##################################### | 100% \n",
      "libsndfile-1.0.31    | 602 KB    | ##################################### | 100% \n",
      "libflac-1.3.4        | 474 KB    | ##################################### | 100% \n",
      "colorama-0.4.4       | 18 KB     | ##################################### | 100% \n",
      "werkzeug-2.1.2       | 237 KB    | ##################################### | 100% \n",
      "openssl-1.1.1o       | 2.1 MB    | ##################################### | 100% \n",
      "dataclasses-0.8      | 10 KB     | ##################################### | 100% \n",
      "docutils-0.15.2      | 739 KB    | ##################################### | 100% \n",
      "pillow-8.4.0         | 704 KB    | ##################################### | 100% \n",
      "pyyaml-6.0           | 182 KB    | ##################################### | 100% \n",
      "certifi-2021.10.8    | 145 KB    | ##################################### | 100% \n",
      "fsspec-2022.3.0      | 93 KB     | ##################################### | 100% \n",
      "Preparing transaction: done\n",
      "Verifying transaction: done\n",
      "Executing transaction: done\n",
      "Collecting package metadata (current_repodata.json): done\n",
      "Solving environment: - \n",
      "The environment is inconsistent, please check the package plan carefully\n",
      "The following packages are causing the inconsistency:\n",
      "\n",
      "  - conda-forge/linux-64::cudatoolkit==11.1.1=h6406543_9\n",
      "  - pytorch/linux-64::pytorch==1.10.0=py3.8_cuda11.1_cudnn8.0.5_0\n",
      "  - pytorch/noarch::captum==0.4.1=0\n",
      "  - pytorch/linux-64::torchtext==0.11.0=py38\n",
      "  - pytorch/linux-64::torchaudio==0.10.0=py38_cu111\n",
      "  - pytorch/linux-64::torchvision==0.11.1=py38_cu111\n",
      "failed with initial frozen solve. Retrying with flexible solve.\n",
      "Collecting package metadata (repodata.json): | ^C\n",
      "/ Looking in indexes: https://pypi.org/simple, https://pip.repos.neuron.amazonaws.com\n",
      "Collecting SoundFile\n",
      "  Downloading SoundFile-0.10.3.post1-py2.py3-none-any.whl (21 kB)\n",
      "Requirement already satisfied: cffi>=1.0 in /home/ec2-user/anaconda3/envs/pytorch_p38/lib/python3.8/site-packages (from SoundFile) (1.15.0)\n",
      "Requirement already satisfied: pycparser in /home/ec2-user/anaconda3/envs/pytorch_p38/lib/python3.8/site-packages (from cffi>=1.0->SoundFile) (2.21)\n",
      "^C\n",
      "\u001b[31mERROR: Operation cancelled by user\u001b[0m\u001b[31m\n",
      "\u001b[0m"
     ]
    }
   ],
   "source": [
    "# !cd /home/ec2-user/SageMaker/espnet/tools\n",
    "!conda install -y -c conda-forge libsndfile\n",
    "!conda install -y -c conda-forge librosa\n",
    "!pip install SoundFile\n"
   ]
  },
  {
   "cell_type": "code",
   "execution_count": 3,
   "id": "b02854c2",
   "metadata": {
    "collapsed": true,
    "jupyter": {
     "outputs_hidden": true
    }
   },
   "outputs": [
    {
     "name": "stdout",
     "output_type": "stream",
     "text": [
      "Perform on CPU mode: CPU_ONLY=0\n",
      "PYTHON=/home/ec2-user/anaconda3/envs/espnet/bin/python3\n",
      "PYTHON_VERSION=Python 3.8.12\n",
      "USE_CONDA=1\n",
      "TH_VERSION=1.8.0\n",
      "# NOTE(kan-bayashi): Temporary fixed numpy version\n",
      ". ./activate_python.sh && conda install -y \"numpy<=1.21.3\"\n",
      "Collecting package metadata (current_repodata.json): done\n",
      "Solving environment: done\n",
      "\n",
      "\n",
      "==> WARNING: A newer version of conda exists. <==\n",
      "  current version: 4.8.4\n",
      "  latest version: 4.12.0\n",
      "\n",
      "Please update conda by running\n",
      "\n",
      "    $ conda update -n base -c defaults conda\n",
      "\n",
      "\n",
      "\n",
      "## Package Plan ##\n",
      "\n",
      "  environment location: /home/ec2-user/anaconda3/envs/espnet\n",
      "\n",
      "  added / updated specs:\n",
      "    - numpy[version='<=1.21.3']\n",
      "\n",
      "\n",
      "The following packages will be downloaded:\n",
      "\n",
      "    package                    |            build\n",
      "    ---------------------------|-----------------\n",
      "    numpy-1.20.3               |   py38h8246c76_2         5.8 MB  conda-forge\n",
      "    ------------------------------------------------------------\n",
      "                                           Total:         5.8 MB\n",
      "\n",
      "The following packages will be DOWNGRADED:\n",
      "\n",
      "  numpy                               1.21.6-py38h1d589f8_0 --> 1.20.3-py38h8246c76_2\n",
      "\n",
      "\n",
      "\n",
      "Downloading and Extracting Packages\n",
      "numpy-1.20.3         | 5.8 MB    | ##################################### | 100% \n",
      "Preparing transaction: done\n",
      "Verifying transaction: done\n",
      "Executing transaction: done\n",
      ". ./activate_python.sh && ./installers/install_torch.sh \"true\" \"1.8.0\" \"10.2\"\n",
      "2022-05-03T03:04:15 (install_torch.sh:119:main) [INFO] python_version=3.8.12\n",
      "2022-05-03T03:04:15 (install_torch.sh:120:main) [INFO] torch_version=1.8.0\n",
      "2022-05-03T03:04:15 (install_torch.sh:121:main) [INFO] cuda_version=10.2\n",
      "<stdin>:2: DeprecationWarning: distutils Version classes are deprecated. Use packaging.version instead.\n",
      "<stdin>:2: DeprecationWarning: distutils Version classes are deprecated. Use packaging.version instead.\n",
      "<stdin>:2: DeprecationWarning: distutils Version classes are deprecated. Use packaging.version instead.\n",
      "<stdin>:2: DeprecationWarning: distutils Version classes are deprecated. Use packaging.version instead.\n",
      "<stdin>:2: DeprecationWarning: distutils Version classes are deprecated. Use packaging.version instead.\n",
      "<stdin>:2: DeprecationWarning: distutils Version classes are deprecated. Use packaging.version instead.\n",
      "<stdin>:2: DeprecationWarning: distutils Version classes are deprecated. Use packaging.version instead.\n",
      "<stdin>:2: DeprecationWarning: distutils Version classes are deprecated. Use packaging.version instead.\n",
      "<stdin>:2: DeprecationWarning: distutils Version classes are deprecated. Use packaging.version instead.\n",
      "<stdin>:2: DeprecationWarning: distutils Version classes are deprecated. Use packaging.version instead.\n",
      "<stdin>:2: DeprecationWarning: distutils Version classes are deprecated. Use packaging.version instead.\n",
      "2022-05-03T03:04:17 (install_torch.sh:67:install_torch) conda install -y pytorch=1.8.0 torchaudio=0.8.0 cudatoolkit=10.2 -c pytorch\n",
      "Collecting package metadata (current_repodata.json): done\n",
      "Solving environment: done\n",
      "\n",
      "\n",
      "==> WARNING: A newer version of conda exists. <==\n",
      "  current version: 4.8.4\n",
      "  latest version: 4.12.0\n",
      "\n",
      "Please update conda by running\n",
      "\n",
      "    $ conda update -n base -c defaults conda\n",
      "\n",
      "\n",
      "\n",
      "## Package Plan ##\n",
      "\n",
      "  environment location: /home/ec2-user/anaconda3/envs/espnet\n",
      "\n",
      "  added / updated specs:\n",
      "    - cudatoolkit=10.2\n",
      "    - pytorch=1.8.0\n",
      "    - torchaudio=0.8.0\n",
      "\n",
      "\n",
      "The following packages will be downloaded:\n",
      "\n",
      "    package                    |            build\n",
      "    ---------------------------|-----------------\n",
      "    blas-1.0                   |              mkl           6 KB\n",
      "    cudatoolkit-10.2.89        |      h8f6ccaa_10       449.9 MB  conda-forge\n",
      "    intel-openmp-2022.0.1      |    h06a4308_3633         4.2 MB\n",
      "    libblas-3.9.0              |   14_linux64_mkl          13 KB  conda-forge\n",
      "    libcblas-3.9.0             |   14_linux64_mkl          12 KB  conda-forge\n",
      "    liblapack-3.9.0            |   14_linux64_mkl          12 KB  conda-forge\n",
      "    mkl-2022.0.1               |     h06a4308_117       127.7 MB\n",
      "    ninja-1.10.2               |       h4bd325d_1         2.4 MB  conda-forge\n",
      "    pytorch-1.8.0              |py3.8_cuda10.2_cudnn7.6.5_0       672.7 MB  pytorch\n",
      "    torchaudio-0.8.0           |             py38         4.4 MB  pytorch\n",
      "    ------------------------------------------------------------\n",
      "                                           Total:        1.23 GB\n",
      "\n",
      "The following NEW packages will be INSTALLED:\n",
      "\n",
      "  blas               pkgs/main/linux-64::blas-1.0-mkl\n",
      "  cudatoolkit        conda-forge/linux-64::cudatoolkit-10.2.89-h8f6ccaa_10\n",
      "  intel-openmp       pkgs/main/linux-64::intel-openmp-2022.0.1-h06a4308_3633\n",
      "  libuv              conda-forge/linux-64::libuv-1.43.0-h7f98852_0\n",
      "  mkl                pkgs/main/linux-64::mkl-2022.0.1-h06a4308_117\n",
      "  ninja              conda-forge/linux-64::ninja-1.10.2-h4bd325d_1\n",
      "  pytorch            pytorch/linux-64::pytorch-1.8.0-py3.8_cuda10.2_cudnn7.6.5_0\n",
      "  torchaudio         pytorch/linux-64::torchaudio-0.8.0-py38\n",
      "  typing_extensions  conda-forge/noarch::typing_extensions-4.2.0-pyha770c72_1\n",
      "\n",
      "The following packages will be DOWNGRADED:\n",
      "\n",
      "  libblas                         3.9.0-14_linux64_openblas --> 3.9.0-14_linux64_mkl\n",
      "  libcblas                        3.9.0-14_linux64_openblas --> 3.9.0-14_linux64_mkl\n",
      "  liblapack                       3.9.0-14_linux64_openblas --> 3.9.0-14_linux64_mkl\n",
      "\n",
      "\n",
      "\n",
      "Downloading and Extracting Packages\n",
      "ninja-1.10.2         | 2.4 MB    | ##################################### | 100% \n",
      "cudatoolkit-10.2.89  | 449.9 MB  | ##################################### | 100% \n",
      "intel-openmp-2022.0. | 4.2 MB    | ##################################### | 100% \n",
      "pytorch-1.8.0        | 672.7 MB  | ##################################### | 100% \n",
      "blas-1.0             | 6 KB      | ##################################### | 100% \n",
      "torchaudio-0.8.0     | 4.4 MB    | ##################################### | 100% \n",
      "mkl-2022.0.1         | 127.7 MB  | ##################################### | 100% \n",
      "liblapack-3.9.0      | 12 KB     | ##################################### | 100% \n",
      "libblas-3.9.0        | 13 KB     | ##################################### | 100% \n",
      "libcblas-3.9.0       | 12 KB     | ##################################### | 100% \n",
      "Preparing transaction: done\n",
      "Verifying transaction: done\n",
      "Executing transaction: - By downloading and using the CUDA Toolkit conda packages, you accept the terms and conditions of the CUDA End User License Agreement (EULA): https://docs.nvidia.com/cuda/eula/index.html\n",
      "\n",
      "done\n",
      "touch pytorch.done\n",
      ". ./activate_python.sh && { command -v bc || conda install -y bc -c conda-forge; }\n",
      "/usr/bin/bc\n",
      "touch bc.done\n",
      ". ./activate_python.sh && { command -v cmake || conda install -y cmake; }\n",
      "/usr/local/bin/cmake\n",
      "touch cmake.done\n",
      ". ./activate_python.sh && { command -v flac || conda install -y libflac -c conda-forge; }\n",
      "/home/ec2-user/anaconda3/envs/espnet/bin/flac\n",
      "touch flac.done\n",
      ". ./activate_python.sh && { command -v ffmpeg || conda install -y ffmpeg -c conda-forge; }\n",
      "/home/ec2-user/anaconda3/envs/espnet/bin/ffmpeg\n",
      "touch ffmpeg.done\n",
      ". ./activate_python.sh && { command -v sox || conda install -y sox -c conda-forge; }\n",
      "Collecting package metadata (current_repodata.json): done\n",
      "Solving environment: done\n",
      "\n",
      "\n",
      "==> WARNING: A newer version of conda exists. <==\n",
      "  current version: 4.8.4\n",
      "  latest version: 4.12.0\n",
      "\n",
      "Please update conda by running\n",
      "\n",
      "    $ conda update -n base -c defaults conda\n",
      "\n",
      "\n",
      "\n",
      "## Package Plan ##\n",
      "\n",
      "  environment location: /home/ec2-user/anaconda3/envs/espnet\n",
      "\n",
      "  added / updated specs:\n",
      "    - sox\n",
      "\n",
      "\n",
      "The following packages will be downloaded:\n",
      "\n",
      "    package                    |            build\n",
      "    ---------------------------|-----------------\n",
      "    mad-0.15.1b                |       h9c3ff4c_1         113 KB  conda-forge\n",
      "    sox-14.4.2                 |    hceab884_1015         765 KB  conda-forge\n",
      "    ------------------------------------------------------------\n",
      "                                           Total:         878 KB\n",
      "\n",
      "The following NEW packages will be INSTALLED:\n",
      "\n",
      "  mad                conda-forge/linux-64::mad-0.15.1b-h9c3ff4c_1\n",
      "  sox                conda-forge/linux-64::sox-14.4.2-hceab884_1015\n",
      "\n",
      "\n",
      "\n",
      "Downloading and Extracting Packages\n",
      "sox-14.4.2           | 765 KB    | ##################################### | 100% \n",
      "mad-0.15.1b          | 113 KB    | ##################################### | 100% \n",
      "Preparing transaction: done\n",
      "Verifying transaction: done\n",
      "Executing transaction: done\n",
      "touch sox.done\n",
      ". ./activate_python.sh && { python3 -c \"from ctypes.util import find_library as F; assert F('sndfile') is not None\" || conda install -y libsndfile=1.0.28 -c conda-forge; }\n",
      "touch sndfile.done\n",
      "touch conda_packages.done\n",
      ". ./activate_python.sh && python3 -m pip install -e \"..[train, recipe]\"  # Install editable mode by default\n",
      "Looking in indexes: https://pypi.org/simple, https://pip.repos.neuron.amazonaws.com\n",
      "Obtaining file:///home/ec2-user/SageMaker/espnet\n",
      "  Preparing metadata (setup.py) ... \u001b[?25ldone\n",
      "\u001b[?25hRequirement already satisfied: setuptools>=38.5.1 in /home/ec2-user/anaconda3/envs/espnet/lib/python3.8/site-packages (from espnet==202204) (62.1.0)\n",
      "Collecting configargparse>=1.2.1\n",
      "  Downloading ConfigArgParse-1.5.3-py3-none-any.whl (20 kB)\n",
      "Collecting typeguard>=2.7.0\n",
      "  Downloading typeguard-2.13.3-py3-none-any.whl (17 kB)\n",
      "Collecting humanfriendly\n",
      "  Downloading humanfriendly-10.0-py2.py3-none-any.whl (86 kB)\n",
      "\u001b[2K     \u001b[90m━━━━━━━━━━━━━━━━━━━━━━━━━━━━━━━━━━━━━━━━\u001b[0m \u001b[32m86.8/86.8 KB\u001b[0m \u001b[31m1.6 MB/s\u001b[0m eta \u001b[36m0:00:00\u001b[0mta \u001b[36m0:00:01\u001b[0m\n",
      "\u001b[?25hRequirement already satisfied: scipy>=1.4.1 in /home/ec2-user/anaconda3/envs/espnet/lib/python3.8/site-packages (from espnet==202204) (1.8.0)\n",
      "Collecting filelock\n",
      "  Downloading filelock-3.6.0-py3-none-any.whl (10.0 kB)\n",
      "Requirement already satisfied: librosa>=0.8.0 in /home/ec2-user/anaconda3/envs/espnet/lib/python3.8/site-packages (from espnet==202204) (0.9.1)\n",
      "Collecting jamo==0.4.1\n",
      "  Downloading jamo-0.4.1-py3-none-any.whl (9.5 kB)\n",
      "Collecting PyYAML>=5.1.2\n",
      "  Downloading PyYAML-6.0-cp38-cp38-manylinux_2_5_x86_64.manylinux1_x86_64.manylinux_2_12_x86_64.manylinux2010_x86_64.whl (701 kB)\n",
      "\u001b[2K     \u001b[90m━━━━━━━━━━━━━━━━━━━━━━━━━━━━━━━━━━━━━━\u001b[0m \u001b[32m701.2/701.2 KB\u001b[0m \u001b[31m72.5 MB/s\u001b[0m eta \u001b[36m0:00:00\u001b[0m\n",
      "\u001b[?25hRequirement already satisfied: soundfile>=0.10.2 in /home/ec2-user/anaconda3/envs/espnet/lib/python3.8/site-packages (from espnet==202204) (0.10.3.post1)\n",
      "Collecting h5py>=2.10.0\n",
      "  Downloading h5py-3.6.0-cp38-cp38-manylinux_2_12_x86_64.manylinux2010_x86_64.whl (4.5 MB)\n",
      "\u001b[2K     \u001b[90m━━━━━━━━━━━━━━━━━━━━━━━━━━━━━━━━━━━━━━━━\u001b[0m \u001b[32m4.5/4.5 MB\u001b[0m \u001b[31m33.1 MB/s\u001b[0m eta \u001b[36m0:00:00\u001b[0m:00:01\u001b[0m\n",
      "\u001b[?25hCollecting kaldiio>=2.17.0\n",
      "  Downloading kaldiio-2.17.2.tar.gz (24 kB)\n",
      "  Preparing metadata (setup.py) ... \u001b[?25ldone\n",
      "\u001b[?25hRequirement already satisfied: torch>=1.3.0 in /home/ec2-user/anaconda3/envs/espnet/lib/python3.8/site-packages (from espnet==202204) (1.8.0)\n",
      "Collecting torch_complex\n",
      "  Downloading torch_complex-0.4.3-py3-none-any.whl (9.1 kB)\n",
      "Collecting nltk>=3.4.5\n",
      "  Downloading nltk-3.7-py3-none-any.whl (1.5 MB)\n",
      "\u001b[2K     \u001b[90m━━━━━━━━━━━━━━━━━━━━━━━━━━━━━━━━━━━━━━━━\u001b[0m \u001b[32m1.5/1.5 MB\u001b[0m \u001b[31m88.2 MB/s\u001b[0m eta \u001b[36m0:00:00\u001b[0m\n",
      "\u001b[?25hCollecting sentencepiece\n",
      "  Downloading sentencepiece-0.1.96-cp38-cp38-manylinux_2_17_x86_64.manylinux2014_x86_64.whl (1.2 MB)\n",
      "\u001b[2K     \u001b[90m━━━━━━━━━━━━━━━━━━━━━━━━━━━━━━━━━━━━━━━━\u001b[0m \u001b[32m1.2/1.2 MB\u001b[0m \u001b[31m105.8 MB/s\u001b[0m eta \u001b[36m0:00:00\u001b[0m\n",
      "\u001b[?25hCollecting ctc-segmentation<1.8,>=1.6.6\n",
      "  Downloading ctc_segmentation-1.7.1.tar.gz (71 kB)\n",
      "\u001b[2K     \u001b[90m━━━━━━━━━━━━━━━━━━━━━━━━━━━━━━━━━━━━━━━━\u001b[0m \u001b[32m71.7/71.7 KB\u001b[0m \u001b[31m19.0 MB/s\u001b[0m eta \u001b[36m0:00:00\u001b[0m\n",
      "\u001b[?25h  Preparing metadata (setup.py) ... \u001b[?25ldone\n",
      "\u001b[?25hCollecting pyworld>=0.2.10\n",
      "  Downloading pyworld-0.3.0.tar.gz (212 kB)\n",
      "\u001b[2K     \u001b[90m━━━━━━━━━━━━━━━━━━━━━━━━━━━━━━━━━━━━━━\u001b[0m \u001b[32m212.0/212.0 KB\u001b[0m \u001b[31m47.2 MB/s\u001b[0m eta \u001b[36m0:00:00\u001b[0m\n",
      "\u001b[?25h  Installing build dependencies ... \u001b[?25ldone\n",
      "\u001b[?25h  Getting requirements to build wheel ... \u001b[?25ldone\n",
      "\u001b[?25h  Preparing metadata (pyproject.toml) ... \u001b[?25ldone\n",
      "\u001b[?25hCollecting pypinyin<=0.44.0\n",
      "  Downloading pypinyin-0.44.0-py2.py3-none-any.whl (1.3 MB)\n",
      "\u001b[2K     \u001b[90m━━━━━━━━━━━━━━━━━━━━━━━━━━━━━━━━━━━━━━━━\u001b[0m \u001b[32m1.3/1.3 MB\u001b[0m \u001b[31m9.1 MB/s\u001b[0m eta \u001b[36m0:00:00\u001b[0m0:00:01\u001b[0m\n",
      "\u001b[?25hCollecting espnet_tts_frontend\n",
      "  Downloading espnet_tts_frontend-0.0.3-py3-none-any.whl (11 kB)\n",
      "Collecting ci_sdr\n",
      "  Downloading ci_sdr-0.0.0.tar.gz (15 kB)\n",
      "  Preparing metadata (setup.py) ... \u001b[?25ldone\n",
      "\u001b[?25hCollecting pytorch_wpe\n",
      "  Downloading pytorch_wpe-0.0.1-py3-none-any.whl (8.1 kB)\n",
      "Collecting espnet_model_zoo\n",
      "  Downloading espnet_model_zoo-0.1.7-py3-none-any.whl (19 kB)\n",
      "Collecting gdown\n",
      "  Downloading gdown-4.4.0.tar.gz (14 kB)\n",
      "  Installing build dependencies ... \u001b[?25ldone\n",
      "\u001b[?25h  Getting requirements to build wheel ... \u001b[?25ldone\n",
      "\u001b[?25h  Preparing metadata (pyproject.toml) ... \u001b[?25ldone\n",
      "\u001b[?25hRequirement already satisfied: resampy in /home/ec2-user/anaconda3/envs/espnet/lib/python3.8/site-packages (from espnet==202204) (0.2.2)\n",
      "Collecting pysptk>=0.1.17\n",
      "  Downloading pysptk-0.1.20.tar.gz (410 kB)\n",
      "\u001b[2K     \u001b[90m━━━━━━━━━━━━━━━━━━━━━━━━━━━━━━━━━━━━━━━\u001b[0m \u001b[32m410.2/410.2 KB\u001b[0m \u001b[31m9.5 MB/s\u001b[0m eta \u001b[36m0:00:00\u001b[0m00:01\u001b[0m\n",
      "\u001b[?25h  Installing build dependencies ... \u001b[?25ldone\n",
      "\u001b[?25h  Getting requirements to build wheel ... \u001b[?25ldone\n",
      "\u001b[?25h  Preparing metadata (pyproject.toml) ... \u001b[?25ldone\n",
      "\u001b[?25hCollecting morfessor\n",
      "  Downloading Morfessor-2.0.6-py3-none-any.whl (35 kB)\n",
      "Collecting youtube_dl\n",
      "  Downloading youtube_dl-2021.12.17-py2.py3-none-any.whl (1.9 MB)\n",
      "\u001b[2K     \u001b[90m━━━━━━━━━━━━━━━━━━━━━━━━━━━━━━━━━━━━━━━━\u001b[0m \u001b[32m1.9/1.9 MB\u001b[0m \u001b[31m25.4 MB/s\u001b[0m eta \u001b[36m0:00:00\u001b[0m:00:01\u001b[0m\n",
      "\u001b[?25hCollecting nnmnkwii\n",
      "  Downloading nnmnkwii-0.1.1.tar.gz (2.0 MB)\n",
      "\u001b[2K     \u001b[90m━━━━━━━━━━━━━━━━━━━━━━━━━━━━━━━━━━━━━━━━\u001b[0m \u001b[32m2.0/2.0 MB\u001b[0m \u001b[31m50.4 MB/s\u001b[0m eta \u001b[36m0:00:00\u001b[0m:00:01\u001b[0m\n",
      "\u001b[?25h  Installing build dependencies ... \u001b[?25ldone\n",
      "\u001b[?25h  Getting requirements to build wheel ... \u001b[?25ldone\n",
      "\u001b[?25h  Preparing metadata (pyproject.toml) ... \u001b[?25ldone\n",
      "\u001b[?25hCollecting museval>=0.2.1\n",
      "  Downloading museval-0.4.0-py2.py3-none-any.whl (21 kB)\n",
      "Collecting pystoi>=0.2.2\n",
      "  Downloading pystoi-0.3.3.tar.gz (7.0 kB)\n",
      "  Preparing metadata (setup.py) ... \u001b[?25ldone\n",
      "\u001b[?25hCollecting mir-eval>=0.6\n",
      "  Downloading mir_eval-0.7.tar.gz (90 kB)\n",
      "\u001b[2K     \u001b[90m━━━━━━━━━━━━━━━━━━━━━━━━━━━━━━━━━━━━━━━━\u001b[0m \u001b[32m90.7/90.7 KB\u001b[0m \u001b[31m26.7 MB/s\u001b[0m eta \u001b[36m0:00:00\u001b[0m\n",
      "\u001b[?25h  Preparing metadata (setup.py) ... \u001b[?25ldone\n",
      "\u001b[?25hCollecting fastdtw\n",
      "  Downloading fastdtw-0.3.4.tar.gz (133 kB)\n",
      "\u001b[2K     \u001b[90m━━━━━━━━━━━━━━━━━━━━━━━━━━━━━━━━━━━━━━\u001b[0m \u001b[32m133.4/133.4 KB\u001b[0m \u001b[31m33.7 MB/s\u001b[0m eta \u001b[36m0:00:00\u001b[0m\n",
      "\u001b[?25h  Preparing metadata (setup.py) ... \u001b[?25ldone\n",
      "\u001b[?25hCollecting nara_wpe>=0.0.5\n",
      "  Downloading nara_wpe-0.0.8-py3-none-any.whl (33 kB)\n",
      "Collecting sacrebleu>=1.5.1\n",
      "  Downloading sacrebleu-2.0.0-py3-none-any.whl (90 kB)\n",
      "\u001b[2K     \u001b[90m━━━━━━━━━━━━━━━━━━━━━━━━━━━━━━━━━━━━━━━━\u001b[0m \u001b[32m90.7/90.7 KB\u001b[0m \u001b[31m26.8 MB/s\u001b[0m eta \u001b[36m0:00:00\u001b[0m\n",
      "\u001b[?25hCollecting matplotlib==3.1.0\n",
      "  Downloading matplotlib-3.1.0.tar.gz (37.2 MB)\n",
      "\u001b[2K     \u001b[90m━━━━━━━━━━━━━━━━━━━━━━━━━━━━━━━━━━━━━━━━\u001b[0m \u001b[32m37.2/37.2 MB\u001b[0m \u001b[31m13.2 MB/s\u001b[0m eta \u001b[36m0:00:00\u001b[0m00:01\u001b[0m00:01\u001b[0m\n",
      "\u001b[?25h  Preparing metadata (setup.py) ... \u001b[?25ldone\n",
      "\u001b[?25hRequirement already satisfied: pillow>=6.1.0 in /home/ec2-user/anaconda3/envs/espnet/lib/python3.8/site-packages (from espnet==202204) (9.1.0)\n",
      "Collecting editdistance==0.5.2\n",
      "  Downloading editdistance-0.5.2.tar.gz (20 kB)\n",
      "  Preparing metadata (setup.py) ... \u001b[?25ldone\n",
      "\u001b[?25hCollecting wandb\n",
      "  Downloading wandb-0.12.15-py2.py3-none-any.whl (1.8 MB)\n",
      "\u001b[2K     \u001b[90m━━━━━━━━━━━━━━━━━━━━━━━━━━━━━━━━━━━━━━━━\u001b[0m \u001b[32m1.8/1.8 MB\u001b[0m \u001b[31m5.4 MB/s\u001b[0m eta \u001b[36m0:00:00\u001b[0m0:00:01\u001b[0m\n",
      "\u001b[?25hCollecting tensorboard>=1.14\n",
      "  Downloading tensorboard-2.9.0-py3-none-any.whl (5.8 MB)\n",
      "\u001b[2K     \u001b[90m━━━━━━━━━━━━━━━━━━━━━━━━━━━━━━━━━━━━━━━━\u001b[0m \u001b[32m5.8/5.8 MB\u001b[0m \u001b[31m29.4 MB/s\u001b[0m eta \u001b[36m0:00:00\u001b[0m:00:01\u001b[0m\n",
      "\u001b[?25hRequirement already satisfied: cycler>=0.10 in /home/ec2-user/anaconda3/envs/espnet/lib/python3.8/site-packages (from matplotlib==3.1.0->espnet==202204) (0.11.0)\n",
      "Requirement already satisfied: kiwisolver>=1.0.1 in /home/ec2-user/anaconda3/envs/espnet/lib/python3.8/site-packages (from matplotlib==3.1.0->espnet==202204) (1.4.2)\n",
      "Requirement already satisfied: pyparsing!=2.0.4,!=2.1.2,!=2.1.6,>=2.0.1 in /home/ec2-user/anaconda3/envs/espnet/lib/python3.8/site-packages (from matplotlib==3.1.0->espnet==202204) (3.0.8)\n",
      "Requirement already satisfied: python-dateutil>=2.1 in /home/ec2-user/anaconda3/envs/espnet/lib/python3.8/site-packages (from matplotlib==3.1.0->espnet==202204) (2.8.2)\n",
      "Requirement already satisfied: numpy>=1.11 in /home/ec2-user/anaconda3/envs/espnet/lib/python3.8/site-packages (from matplotlib==3.1.0->espnet==202204) (1.20.3)\n",
      "Collecting Cython\n",
      "  Using cached Cython-0.29.28-cp38-cp38-manylinux_2_17_x86_64.manylinux2014_x86_64.manylinux_2_24_x86_64.whl (1.9 MB)\n",
      "Requirement already satisfied: packaging>=20.0 in /home/ec2-user/anaconda3/envs/espnet/lib/python3.8/site-packages (from librosa>=0.8.0->espnet==202204) (21.3)\n",
      "Requirement already satisfied: audioread>=2.1.5 in /home/ec2-user/anaconda3/envs/espnet/lib/python3.8/site-packages (from librosa>=0.8.0->espnet==202204) (2.1.9)\n",
      "Requirement already satisfied: decorator>=4.0.10 in /home/ec2-user/anaconda3/envs/espnet/lib/python3.8/site-packages (from librosa>=0.8.0->espnet==202204) (5.1.1)\n",
      "Requirement already satisfied: scikit-learn>=0.19.1 in /home/ec2-user/anaconda3/envs/espnet/lib/python3.8/site-packages (from librosa>=0.8.0->espnet==202204) (1.0.2)\n",
      "Requirement already satisfied: numba>=0.45.1 in /home/ec2-user/anaconda3/envs/espnet/lib/python3.8/site-packages (from librosa>=0.8.0->espnet==202204) (0.55.1)\n",
      "Requirement already satisfied: pooch>=1.0 in /home/ec2-user/anaconda3/envs/espnet/lib/python3.8/site-packages (from librosa>=0.8.0->espnet==202204) (1.6.0)\n",
      "Requirement already satisfied: joblib>=0.14 in /home/ec2-user/anaconda3/envs/espnet/lib/python3.8/site-packages (from librosa>=0.8.0->espnet==202204) (1.1.0)\n",
      "Collecting future\n",
      "  Downloading future-0.18.2.tar.gz (829 kB)\n",
      "\u001b[2K     \u001b[90m━━━━━━━━━━━━━━━━━━━━━━━━━━━━━━━━━━━━━━━\u001b[0m \u001b[32m829.2/829.2 KB\u001b[0m \u001b[31m7.6 MB/s\u001b[0m eta \u001b[36m0:00:00\u001b[0m00:01\u001b[0m\n",
      "\u001b[?25h  Preparing metadata (setup.py) ... \u001b[?25ldone\n",
      "\u001b[?25hRequirement already satisfied: six in /home/ec2-user/anaconda3/envs/espnet/lib/python3.8/site-packages (from mir-eval>=0.6->espnet==202204) (1.16.0)\n",
      "Collecting pandas>=1.0.1\n",
      "  Downloading pandas-1.4.2-cp38-cp38-manylinux_2_17_x86_64.manylinux2014_x86_64.whl (11.7 MB)\n",
      "\u001b[2K     \u001b[90m━━━━━━━━━━━━━━━━━━━━━━━━━━━━━━━━━━━━━━━━\u001b[0m \u001b[32m11.7/11.7 MB\u001b[0m \u001b[31m28.1 MB/s\u001b[0m eta \u001b[36m0:00:00\u001b[0m00:01\u001b[0m00:01\u001b[0m\n",
      "\u001b[?25hCollecting jsonschema\n",
      "  Downloading jsonschema-4.4.0-py3-none-any.whl (72 kB)\n",
      "\u001b[2K     \u001b[90m━━━━━━━━━━━━━━━━━━━━━━━━━━━━━━━━━━━━━━━━\u001b[0m \u001b[32m72.7/72.7 KB\u001b[0m \u001b[31m10.6 MB/s\u001b[0m eta \u001b[36m0:00:00\u001b[0m\n",
      "\u001b[?25hCollecting musdb>=0.4.0\n",
      "  Downloading musdb-0.4.0-py2.py3-none-any.whl (29 kB)\n",
      "Collecting simplejson\n",
      "  Downloading simplejson-3.17.6-cp38-cp38-manylinux_2_5_x86_64.manylinux1_x86_64.manylinux_2_12_x86_64.manylinux2010_x86_64.whl (139 kB)\n",
      "\u001b[2K     \u001b[90m━━━━━━━━━━━━━━━━━━━━━━━━━━━━━━━━━━━━━━━\u001b[0m \u001b[32m139.5/139.5 KB\u001b[0m \u001b[31m2.2 MB/s\u001b[0m eta \u001b[36m0:00:00\u001b[0ma \u001b[36m0:00:01\u001b[0m\n",
      "\u001b[?25hCollecting bottleneck\n",
      "  Downloading Bottleneck-1.3.4-cp38-cp38-manylinux_2_5_x86_64.manylinux1_x86_64.manylinux_2_24_x86_64.whl (331 kB)\n",
      "\u001b[2K     \u001b[90m━━━━━━━━━━━━━━━━━━━━━━━━━━━━━━━━━━━━━━\u001b[0m \u001b[32m331.5/331.5 KB\u001b[0m \u001b[31m68.5 MB/s\u001b[0m eta \u001b[36m0:00:00\u001b[0m\n",
      "\u001b[?25hRequirement already satisfied: tqdm in /home/ec2-user/anaconda3/envs/espnet/lib/python3.8/site-packages (from nara_wpe>=0.0.5->espnet==202204) (4.64.0)\n",
      "Collecting click\n",
      "  Downloading click-8.1.3-py3-none-any.whl (96 kB)\n",
      "\u001b[2K     \u001b[90m━━━━━━━━━━━━━━━━━━━━━━━━━━━━━━━━━━━━━━━━\u001b[0m \u001b[32m96.6/96.6 KB\u001b[0m \u001b[31m28.3 MB/s\u001b[0m eta \u001b[36m0:00:00\u001b[0m\n",
      "\u001b[?25hCollecting regex>=2021.8.3\n",
      "  Downloading regex-2022.4.24-cp38-cp38-manylinux_2_17_x86_64.manylinux2014_x86_64.whl (764 kB)\n",
      "\u001b[2K     \u001b[90m━━━━━━━━━━━━━━━━━━━━━━━━━━━━━━━━━━━━━━━\u001b[0m \u001b[32m764.9/764.9 KB\u001b[0m \u001b[31m6.2 MB/s\u001b[0m eta \u001b[36m0:00:00\u001b[0m00:01\u001b[0m\n",
      "\u001b[?25hCollecting portalocker\n",
      "  Downloading portalocker-2.4.0-py2.py3-none-any.whl (16 kB)\n",
      "Collecting tabulate>=0.8.9\n",
      "  Downloading tabulate-0.8.9-py3-none-any.whl (25 kB)\n",
      "Requirement already satisfied: colorama in /home/ec2-user/anaconda3/envs/espnet/lib/python3.8/site-packages (from sacrebleu>=1.5.1->espnet==202204) (0.4.4)\n",
      "Requirement already satisfied: cffi>=1.0 in /home/ec2-user/anaconda3/envs/espnet/lib/python3.8/site-packages (from soundfile>=0.10.2->espnet==202204) (1.15.0)\n",
      "Collecting absl-py>=0.4\n",
      "  Downloading absl_py-1.0.0-py3-none-any.whl (126 kB)\n",
      "\u001b[2K     \u001b[90m━━━━━━━━━━━━━━━━━━━━━━━━━━━━━━━━━━━━━━\u001b[0m \u001b[32m126.7/126.7 KB\u001b[0m \u001b[31m38.0 MB/s\u001b[0m eta \u001b[36m0:00:00\u001b[0m\n",
      "\u001b[?25hRequirement already satisfied: requests<3,>=2.21.0 in /home/ec2-user/anaconda3/envs/espnet/lib/python3.8/site-packages (from tensorboard>=1.14->espnet==202204) (2.27.1)\n",
      "Requirement already satisfied: wheel>=0.26 in /home/ec2-user/anaconda3/envs/espnet/lib/python3.8/site-packages (from tensorboard>=1.14->espnet==202204) (0.37.1)\n",
      "Collecting tensorboard-plugin-wit>=1.6.0\n",
      "  Downloading tensorboard_plugin_wit-1.8.1-py3-none-any.whl (781 kB)\n",
      "\u001b[2K     \u001b[90m━━━━━━━━━━━━━━━━━━━━━━━━━━━━━━━━━━━━━━━\u001b[0m \u001b[32m781.3/781.3 KB\u001b[0m \u001b[31m7.7 MB/s\u001b[0m eta \u001b[36m0:00:00\u001b[0m00:01\u001b[0m\n",
      "\u001b[?25hCollecting grpcio>=1.24.3\n",
      "  Downloading grpcio-1.44.0-cp38-cp38-manylinux_2_17_x86_64.manylinux2014_x86_64.whl (4.3 MB)\n",
      "\u001b[2K     \u001b[90m━━━━━━━━━━━━━━━━━━━━━━━━━━━━━━━━━━━━━━━━\u001b[0m \u001b[32m4.3/4.3 MB\u001b[0m \u001b[31m24.8 MB/s\u001b[0m eta \u001b[36m0:00:00\u001b[0m:00:01\u001b[0m\n",
      "\u001b[?25hCollecting tensorboard-data-server<0.7.0,>=0.6.0\n",
      "  Downloading tensorboard_data_server-0.6.1-py3-none-manylinux2010_x86_64.whl (4.9 MB)\n",
      "\u001b[2K     \u001b[90m━━━━━━━━━━━━━━━━━━━━━━━━━━━━━━━━━━━━━━━━\u001b[0m \u001b[32m4.9/4.9 MB\u001b[0m \u001b[31m25.6 MB/s\u001b[0m eta \u001b[36m0:00:00\u001b[0m:00:01\u001b[0m\n",
      "\u001b[?25hCollecting markdown>=2.6.8\n",
      "  Downloading Markdown-3.3.6-py3-none-any.whl (97 kB)\n",
      "\u001b[2K     \u001b[90m━━━━━━━━━━━━━━━━━━━━━━━━━━━━━━━━━━━━━━━━\u001b[0m \u001b[32m97.8/97.8 KB\u001b[0m \u001b[31m4.8 MB/s\u001b[0m eta \u001b[36m0:00:00\u001b[0m\n",
      "\u001b[?25hCollecting google-auth<3,>=1.6.3\n",
      "  Downloading google_auth-2.6.6-py2.py3-none-any.whl (156 kB)\n",
      "\u001b[2K     \u001b[90m━━━━━━━━━━━━━━━━━━━━━━━━━━━━━━━━━━━━━━━\u001b[0m \u001b[32m156.7/156.7 KB\u001b[0m \u001b[31m1.2 MB/s\u001b[0m eta \u001b[36m0:00:00\u001b[0m00:01\u001b[0m\n",
      "\u001b[?25hCollecting google-auth-oauthlib<0.5,>=0.4.1\n",
      "  Downloading google_auth_oauthlib-0.4.6-py2.py3-none-any.whl (18 kB)\n",
      "Collecting werkzeug>=1.0.1\n",
      "  Downloading Werkzeug-2.1.2-py3-none-any.whl (224 kB)\n",
      "\u001b[2K     \u001b[90m━━━━━━━━━━━━━━━━━━━━━━━━━━━━━━━━━━━━━━━\u001b[0m \u001b[32m224.9/224.9 KB\u001b[0m \u001b[31m4.4 MB/s\u001b[0m eta \u001b[36m0:00:00\u001b[0ma \u001b[36m0:00:01\u001b[0m\n",
      "\u001b[?25hCollecting protobuf>=3.9.2\n",
      "  Downloading protobuf-3.20.1-cp38-cp38-manylinux_2_5_x86_64.manylinux1_x86_64.whl (1.0 MB)\n",
      "\u001b[2K     \u001b[90m━━━━━━━━━━━━━━━━━━━━━━━━━━━━━━━━━━━━━━━━\u001b[0m \u001b[32m1.0/1.0 MB\u001b[0m \u001b[31m10.7 MB/s\u001b[0m eta \u001b[36m0:00:00\u001b[0m:00:01\u001b[0m\n",
      "\u001b[?25hRequirement already satisfied: typing_extensions in /home/ec2-user/anaconda3/envs/espnet/lib/python3.8/site-packages (from torch>=1.3.0->espnet==202204) (4.2.0)\n",
      "Collecting einops\n",
      "  Downloading einops-0.4.1-py3-none-any.whl (28 kB)\n",
      "Collecting huggingface-hub\n",
      "  Downloading huggingface_hub-0.5.1-py3-none-any.whl (77 kB)\n",
      "\u001b[2K     \u001b[90m━━━━━━━━━━━━━━━━━━━━━━━━━━━━━━━━━━━━━━━\u001b[0m \u001b[32m77.9/77.9 KB\u001b[0m \u001b[31m718.5 kB/s\u001b[0m eta \u001b[36m0:00:00\u001b[0ma \u001b[36m0:00:01\u001b[0m\n",
      "\u001b[?25hCollecting inflect>=1.0.0\n",
      "  Downloading inflect-5.6.0-py3-none-any.whl (33 kB)\n",
      "Collecting g2p-en\n",
      "  Downloading g2p_en-2.1.0-py3-none-any.whl (3.1 MB)\n",
      "\u001b[2K     \u001b[90m━━━━━━━━━━━━━━━━━━━━━━━━━━━━━━━━━━━━━━━━\u001b[0m \u001b[32m3.1/3.1 MB\u001b[0m \u001b[31m18.0 MB/s\u001b[0m eta \u001b[36m0:00:00\u001b[0m:00:01\u001b[0m\n",
      "\u001b[?25hCollecting jaconv\n",
      "  Downloading jaconv-0.3.tar.gz (15 kB)\n",
      "  Preparing metadata (setup.py) ... \u001b[?25ldone\n",
      "\u001b[?25hCollecting unidecode>=1.0.22\n",
      "  Downloading Unidecode-1.3.4-py3-none-any.whl (235 kB)\n",
      "\u001b[2K     \u001b[90m━━━━━━━━━━━━━━━━━━━━━━━━━━━━━━━━━━━━━━\u001b[0m \u001b[32m235.9/235.9 KB\u001b[0m \u001b[31m56.9 MB/s\u001b[0m eta \u001b[36m0:00:00\u001b[0m\n",
      "\u001b[?25hCollecting beautifulsoup4\n",
      "  Downloading beautifulsoup4-4.11.1-py3-none-any.whl (128 kB)\n",
      "\u001b[2K     \u001b[90m━━━━━━━━━━━━━━━━━━━━━━━━━━━━━━━━━━━━━━\u001b[0m \u001b[32m128.2/128.2 KB\u001b[0m \u001b[31m38.5 MB/s\u001b[0m eta \u001b[36m0:00:00\u001b[0m\n",
      "\u001b[?25hCollecting sentry-sdk>=1.0.0\n",
      "  Downloading sentry_sdk-1.5.10-py2.py3-none-any.whl (144 kB)\n",
      "\u001b[2K     \u001b[90m━━━━━━━━━━━━━━━━━━━━━━━━━━━━━━━━━━━━━━━\u001b[0m \u001b[32m144.9/144.9 KB\u001b[0m \u001b[31m2.3 MB/s\u001b[0m eta \u001b[36m0:00:00\u001b[0m00:01\u001b[0m\n",
      "\u001b[?25hCollecting docker-pycreds>=0.4.0\n",
      "  Downloading docker_pycreds-0.4.0-py2.py3-none-any.whl (9.0 kB)\n",
      "Collecting setproctitle\n",
      "  Downloading setproctitle-1.2.3-cp38-cp38-manylinux_2_5_x86_64.manylinux1_x86_64.manylinux_2_17_x86_64.manylinux2014_x86_64.whl (29 kB)\n",
      "Collecting pathtools\n",
      "  Downloading pathtools-0.1.2.tar.gz (11 kB)\n",
      "  Preparing metadata (setup.py) ... \u001b[?25ldone\n",
      "\u001b[?25hCollecting promise<3,>=2.0\n",
      "  Downloading promise-2.3.tar.gz (19 kB)\n",
      "  Preparing metadata (setup.py) ... \u001b[?25ldone\n",
      "\u001b[?25hCollecting GitPython>=1.0.0\n",
      "  Using cached GitPython-3.1.27-py3-none-any.whl (181 kB)\n",
      "Requirement already satisfied: psutil>=5.0.0 in /home/ec2-user/anaconda3/envs/espnet/lib/python3.8/site-packages (from wandb->espnet==202204) (5.9.0)\n",
      "Collecting shortuuid>=0.5.0\n",
      "  Downloading shortuuid-1.0.8-py3-none-any.whl (9.5 kB)\n",
      "Requirement already satisfied: pycparser in /home/ec2-user/anaconda3/envs/espnet/lib/python3.8/site-packages (from cffi>=1.0->soundfile>=0.10.2->espnet==202204) (2.21)\n",
      "Collecting gitdb<5,>=4.0.1\n",
      "  Using cached gitdb-4.0.9-py3-none-any.whl (63 kB)\n",
      "Collecting cachetools<6.0,>=2.0.0\n",
      "  Downloading cachetools-5.0.0-py3-none-any.whl (9.1 kB)\n",
      "Collecting pyasn1-modules>=0.2.1\n",
      "  Downloading pyasn1_modules-0.2.8-py2.py3-none-any.whl (155 kB)\n",
      "\u001b[2K     \u001b[90m━━━━━━━━━━━━━━━━━━━━━━━━━━━━━━━━━━━━━━━\u001b[0m \u001b[32m155.3/155.3 KB\u001b[0m \u001b[31m2.6 MB/s\u001b[0m eta \u001b[36m0:00:00\u001b[0m00:01\u001b[0m\n",
      "\u001b[?25hCollecting rsa<5,>=3.1.4\n",
      "  Downloading rsa-4.8-py3-none-any.whl (39 kB)\n",
      "Collecting requests-oauthlib>=0.7.0\n",
      "  Downloading requests_oauthlib-1.3.1-py2.py3-none-any.whl (23 kB)\n",
      "Collecting importlib-metadata>=4.4\n",
      "  Downloading importlib_metadata-4.11.3-py3-none-any.whl (18 kB)\n",
      "Collecting stempeg>=0.2.3\n",
      "  Downloading stempeg-0.2.3-py3-none-any.whl (963 kB)\n",
      "\u001b[2K     \u001b[90m━━━━━━━━━━━━━━━━━━━━━━━━━━━━━━━━━━━━━━━\u001b[0m \u001b[32m963.5/963.5 KB\u001b[0m \u001b[31m6.8 MB/s\u001b[0m eta \u001b[36m0:00:00\u001b[0m00:01\u001b[0m\n",
      "\u001b[?25hCollecting pyaml\n",
      "  Downloading pyaml-21.10.1-py2.py3-none-any.whl (24 kB)\n",
      "Requirement already satisfied: llvmlite<0.39,>=0.38.0rc1 in /home/ec2-user/anaconda3/envs/espnet/lib/python3.8/site-packages (from numba>=0.45.1->librosa>=0.8.0->espnet==202204) (0.38.0)\n",
      "Collecting pytz>=2020.1\n",
      "  Using cached pytz-2022.1-py2.py3-none-any.whl (503 kB)\n",
      "Requirement already satisfied: appdirs>=1.3.0 in /home/ec2-user/anaconda3/envs/espnet/lib/python3.8/site-packages (from pooch>=1.0->librosa>=0.8.0->espnet==202204) (1.4.4)\n",
      "Requirement already satisfied: urllib3<1.27,>=1.21.1 in /home/ec2-user/anaconda3/envs/espnet/lib/python3.8/site-packages (from requests<3,>=2.21.0->tensorboard>=1.14->espnet==202204) (1.26.9)\n",
      "Requirement already satisfied: idna<4,>=2.5 in /home/ec2-user/anaconda3/envs/espnet/lib/python3.8/site-packages (from requests<3,>=2.21.0->tensorboard>=1.14->espnet==202204) (3.3)\n",
      "Requirement already satisfied: charset-normalizer~=2.0.0 in /home/ec2-user/anaconda3/envs/espnet/lib/python3.8/site-packages (from requests<3,>=2.21.0->tensorboard>=1.14->espnet==202204) (2.0.12)\n",
      "Requirement already satisfied: certifi>=2017.4.17 in /home/ec2-user/anaconda3/envs/espnet/lib/python3.8/site-packages (from requests<3,>=2.21.0->tensorboard>=1.14->espnet==202204) (2021.10.8)\n",
      "Requirement already satisfied: threadpoolctl>=2.0.0 in /home/ec2-user/anaconda3/envs/espnet/lib/python3.8/site-packages (from scikit-learn>=0.19.1->librosa>=0.8.0->espnet==202204) (3.1.0)\n",
      "Collecting soupsieve>1.2\n",
      "  Downloading soupsieve-2.3.2.post1-py3-none-any.whl (37 kB)\n",
      "Collecting distance>=0.1.3\n",
      "  Downloading Distance-0.1.3.tar.gz (180 kB)\n",
      "\u001b[2K     \u001b[90m━━━━━━━━━━━━━━━━━━━━━━━━━━━━━━━━━━━━━━━\u001b[0m \u001b[32m180.3/180.3 KB\u001b[0m \u001b[31m8.5 MB/s\u001b[0m eta \u001b[36m0:00:00\u001b[0m\n",
      "\u001b[?25h  Preparing metadata (setup.py) ... \u001b[?25ldone\n",
      "\u001b[?25hCollecting importlib-resources>=1.4.0\n",
      "  Downloading importlib_resources-5.7.1-py3-none-any.whl (28 kB)\n",
      "Collecting attrs>=17.4.0\n",
      "  Downloading attrs-21.4.0-py2.py3-none-any.whl (60 kB)\n",
      "\u001b[2K     \u001b[90m━━━━━━━━━━━━━━━━━━━━━━━━━━━━━━━━━━━━━━━━\u001b[0m \u001b[32m60.6/60.6 KB\u001b[0m \u001b[31m5.9 MB/s\u001b[0m eta \u001b[36m0:00:00\u001b[0m\n",
      "\u001b[?25hCollecting pyrsistent!=0.17.0,!=0.17.1,!=0.17.2,>=0.14.0\n",
      "  Downloading pyrsistent-0.18.1-cp38-cp38-manylinux_2_17_x86_64.manylinux2014_x86_64.whl (119 kB)\n",
      "\u001b[2K     \u001b[90m━━━━━━━━━━━━━━━━━━━━━━━━━━━━━━━━━━━━━━━\u001b[0m \u001b[32m119.8/119.8 KB\u001b[0m \u001b[31m9.3 MB/s\u001b[0m eta \u001b[36m0:00:00\u001b[0m\n",
      "\u001b[?25hRequirement already satisfied: PySocks!=1.5.7,>=1.5.6 in /home/ec2-user/anaconda3/envs/espnet/lib/python3.8/site-packages (from requests<3,>=2.21.0->tensorboard>=1.14->espnet==202204) (1.7.1)\n",
      "Collecting smmap<6,>=3.0.1\n",
      "  Using cached smmap-5.0.0-py3-none-any.whl (24 kB)\n",
      "Collecting zipp>=0.5\n",
      "  Using cached zipp-3.8.0-py3-none-any.whl (5.4 kB)\n",
      "Collecting pyasn1<0.5.0,>=0.4.6\n",
      "  Using cached pyasn1-0.4.8-py2.py3-none-any.whl (77 kB)\n",
      "Collecting oauthlib>=3.0.0\n",
      "  Downloading oauthlib-3.2.0-py3-none-any.whl (151 kB)\n",
      "\u001b[2K     \u001b[90m━━━━━━━━━━━━━━━━━━━━━━━━━━━━━━━━━━━━━━\u001b[0m \u001b[32m151.5/151.5 KB\u001b[0m \u001b[31m22.7 MB/s\u001b[0m eta \u001b[36m0:00:00\u001b[0m\n",
      "\u001b[?25hCollecting ffmpeg-python>=0.2.0\n",
      "  Downloading ffmpeg_python-0.2.0-py3-none-any.whl (25 kB)\n",
      "Building wheels for collected packages: editdistance, matplotlib, ctc-segmentation, kaldiio, mir-eval, pysptk, pystoi, pyworld, ci_sdr, fastdtw, gdown, nnmnkwii, promise, future, jaconv, pathtools, distance\n",
      "  Building wheel for editdistance (setup.py) ... \u001b[?25ldone\n",
      "\u001b[?25h  Created wheel for editdistance: filename=editdistance-0.5.2-cp38-cp38-linux_x86_64.whl size=209798 sha256=076ffb0a040ef0ef6a6ac18f28351263fc8ef9d94bc25ee92a2ef91161ac2e75\n",
      "  Stored in directory: /home/ec2-user/.cache/pip/wheels/56/49/b0/85a377bddd0cde1e3fb5db91a5544938536ab8cd3fb8e05aa8\n",
      "  Building wheel for matplotlib (setup.py) ... \u001b[?25ldone\n",
      "\u001b[?25h  Created wheel for matplotlib: filename=matplotlib-3.1.0-cp38-cp38-linux_x86_64.whl size=11301674 sha256=df03aae4c100fe97248392d83b89f596829697a3cb6f81b2aa4b3563c2eaabf4\n",
      "  Stored in directory: /home/ec2-user/.cache/pip/wheels/e3/bf/f4/e1e2e54d857335e30b6260b39d479cfa222999e85ef9f8b128\n",
      "  Building wheel for ctc-segmentation (setup.py) ... \u001b[?25ldone\n",
      "\u001b[?25h  Created wheel for ctc-segmentation: filename=ctc_segmentation-1.7.1-cp38-cp38-linux_x86_64.whl size=129196 sha256=8c9a2d595ef6af598950bec3ce41357eadf3b379e3c5648dea4515160e3173ce\n",
      "  Stored in directory: /home/ec2-user/.cache/pip/wheels/60/a3/46/329a4b6dec56707be34b93fab0926ae49baf141fc75d99510b\n",
      "  Building wheel for kaldiio (setup.py) ... \u001b[?25ldone\n",
      "\u001b[?25h  Created wheel for kaldiio: filename=kaldiio-2.17.2-py3-none-any.whl size=24471 sha256=272203dc6d4dbc6cb6220cd3bed75ee8371b4bcfb8a1c5d7582466c53971232c\n",
      "  Stored in directory: /home/ec2-user/.cache/pip/wheels/49/b3/00/af2103b510836161326bb51e27795407b07fda6969d0ae5967\n",
      "  Building wheel for mir-eval (setup.py) ... \u001b[?25ldone\n",
      "\u001b[?25h  Created wheel for mir-eval: filename=mir_eval-0.7-py3-none-any.whl size=100721 sha256=f9ed81c8470f17582e246e068797b6d127d6dca1beb08ae7fa51b223cbc34680\n",
      "  Stored in directory: /home/ec2-user/.cache/pip/wheels/20/53/83/1d50d15a666140d53eda589db005f7cb53b739c7e54711f51f\n",
      "  Building wheel for pysptk (pyproject.toml) ... \u001b[?25ldone\n",
      "\u001b[?25h  Created wheel for pysptk: filename=pysptk-0.1.20-cp38-cp38-linux_x86_64.whl size=1067954 sha256=ad7a64cfaf280c73100b77243fb53017bd353d2107c5f6529ad230486f2ab1e7\n",
      "  Stored in directory: /home/ec2-user/.cache/pip/wheels/9a/5c/e0/7ba74078f12327da39deb3b86a36cc8d699c312715cab9e9c1\n",
      "  Building wheel for pystoi (setup.py) ... \u001b[?25ldone\n",
      "\u001b[?25h  Created wheel for pystoi: filename=pystoi-0.3.3-py2.py3-none-any.whl size=7793 sha256=2cb3d799970bbae4d6c5fce75b7cdc791bd6aaf28f1110050a3b44401708deb9\n",
      "  Stored in directory: /home/ec2-user/.cache/pip/wheels/62/35/75/c07f0861a60fb8aacf44fdd5c8c214a224a6c9edb4a4e1402f\n",
      "  Building wheel for pyworld (pyproject.toml) ... \u001b[?25ldone\n",
      "\u001b[?25h  Created wheel for pyworld: filename=pyworld-0.3.0-cp38-cp38-linux_x86_64.whl size=716682 sha256=2dd186d38ca11b190e6a3c82057a41652fac5836e63ed43a14f3d2634ff8a4d6\n",
      "  Stored in directory: /home/ec2-user/.cache/pip/wheels/b7/9d/77/c12111ca99a5a889f7b3a44b55308f7bd230ea9dbaa2a99613\n",
      "  Building wheel for ci_sdr (setup.py) ... \u001b[?25ldone\n",
      "\u001b[?25h  Created wheel for ci_sdr: filename=ci_sdr-0.0.0-py3-none-any.whl size=14979 sha256=2b6b81dde77d5288d724e55d15c8f11255303c767053d9a08ccbefc5800ea91f\n",
      "  Stored in directory: /home/ec2-user/.cache/pip/wheels/3f/3a/b2/d340c4bb4d572394d45f75574e56e9efc0a2de70b4302f6801\n",
      "  Building wheel for fastdtw (setup.py) ... \u001b[?25ldone\n",
      "\u001b[?25h  Created wheel for fastdtw: filename=fastdtw-0.3.4-cp38-cp38-linux_x86_64.whl size=426549 sha256=2f3e0b8d4da2d3ea52bafb0241e580db4fb18617c11345434b7fc0c42eb0dad1\n",
      "  Stored in directory: /home/ec2-user/.cache/pip/wheels/e9/ac/30/c962f9d759dd68cb5482727c44441fdfb48040fdbe983857e8\n",
      "  Building wheel for gdown (pyproject.toml) ... \u001b[?25ldone\n",
      "\u001b[?25h  Created wheel for gdown: filename=gdown-4.4.0-py3-none-any.whl size=14775 sha256=08f1d645c9424aaa12f9925e4343d3b0ed8efc72a802f4230328909b499ab8e2\n",
      "  Stored in directory: /home/ec2-user/.cache/pip/wheels/7b/7b/5d/656f46cd6889e4c93977be9586901d0adc1271b2d876c84c96\n",
      "  Building wheel for nnmnkwii (pyproject.toml) ... \u001b[?25ldone\n",
      "\u001b[?25h  Created wheel for nnmnkwii: filename=nnmnkwii-0.1.1-cp38-cp38-linux_x86_64.whl size=3069311 sha256=8880ac2cb53d5e36b8ea948baad917186afc4c176e905ae69f6ce35b354b5d6f\n",
      "  Stored in directory: /home/ec2-user/.cache/pip/wheels/89/c1/42/d8689b584be5ef5db4f31cb6a97e2edeb5900971fc682f407c\n",
      "  Building wheel for promise (setup.py) ... \u001b[?25ldone\n",
      "\u001b[?25h  Created wheel for promise: filename=promise-2.3-py3-none-any.whl size=21503 sha256=7189b6a5ab98fb3680be66e6ff28091a77cc39525ae06dfa76fa75b13563da3c\n",
      "  Stored in directory: /home/ec2-user/.cache/pip/wheels/54/aa/01/724885182f93150035a2a91bce34a12877e8067a97baaf5dc8\n",
      "  Building wheel for future (setup.py) ... \u001b[?25ldone\n",
      "\u001b[?25h  Created wheel for future: filename=future-0.18.2-py3-none-any.whl size=491070 sha256=1e2d18a55cee28de05e7eb5f8e875cac3257475fdde216eaf0482052fe952497\n",
      "  Stored in directory: /home/ec2-user/.cache/pip/wheels/8e/70/28/3d6ccd6e315f65f245da085482a2e1c7d14b90b30f239e2cf4\n",
      "  Building wheel for jaconv (setup.py) ... \u001b[?25ldone\n",
      "\u001b[?25h  Created wheel for jaconv: filename=jaconv-0.3-py3-none-any.whl size=15564 sha256=23bcbcaed9ca7c747acc04b7086f2ecbcdc643a858333e95da2979ffd204108c\n",
      "  Stored in directory: /home/ec2-user/.cache/pip/wheels/73/e8/fb/b4ad8117719f79ac73bc05406d1768f845688cdbeed7aad87e\n",
      "  Building wheel for pathtools (setup.py) ... \u001b[?25ldone\n",
      "\u001b[?25h  Created wheel for pathtools: filename=pathtools-0.1.2-py3-none-any.whl size=8806 sha256=0dfb40765d32f46317a09a4e4932eb6155ae75e51ac93d869b5f503cea8e5460\n",
      "  Stored in directory: /home/ec2-user/.cache/pip/wheels/4c/8e/7e/72fbc243e1aeecae64a96875432e70d4e92f3d2d18123be004\n",
      "  Building wheel for distance (setup.py) ... \u001b[?25ldone\n",
      "\u001b[?25h  Created wheel for distance: filename=Distance-0.1.3-py3-none-any.whl size=16276 sha256=3784f3c23c18f60b6de0447f2b24d0952a09498828ac848c4291682bb8285c37\n",
      "  Stored in directory: /home/ec2-user/.cache/pip/wheels/fb/a8/64/6edcab63ec51512a87cacf9b3563c711ad6b7b05d61b704493\n",
      "Successfully built editdistance matplotlib ctc-segmentation kaldiio mir-eval pysptk pystoi pyworld ci_sdr fastdtw gdown nnmnkwii promise future jaconv pathtools distance\n",
      "Installing collected packages: youtube_dl, tensorboard-plugin-wit, tabulate, sentencepiece, pytz, pyasn1, pathtools, morfessor, jamo, jaconv, einops, editdistance, distance, zipp, werkzeug, unidecode, typeguard, torch_complex, tensorboard-data-server, soupsieve, smmap, simplejson, shortuuid, setproctitle, sentry-sdk, rsa, regex, PyYAML, pytorch_wpe, pyrsistent, pypinyin, pyasn1-modules, protobuf, promise, portalocker, oauthlib, kaldiio, inflect, humanfriendly, h5py, grpcio, future, filelock, fastdtw, docker-pycreds, Cython, configargparse, click, cachetools, bottleneck, attrs, absl-py, sacrebleu, requests-oauthlib, pyworld, pystoi, pysptk, pyaml, pandas, nltk, mir-eval, matplotlib, importlib-resources, importlib-metadata, huggingface-hub, google-auth, gitdb, ffmpeg-python, ctc-segmentation, ci_sdr, beautifulsoup4, stempeg, nnmnkwii, nara_wpe, markdown, jsonschema, google-auth-oauthlib, GitPython, gdown, g2p-en, wandb, tensorboard, musdb, espnet_tts_frontend, museval, espnet, espnet_model_zoo\n",
      "  Attempting uninstall: matplotlib\n",
      "    Found existing installation: matplotlib 3.5.1\n",
      "    Uninstalling matplotlib-3.5.1:\n",
      "      Successfully uninstalled matplotlib-3.5.1\n",
      "  Running setup.py develop for espnet\n",
      "Successfully installed Cython-0.29.28 GitPython-3.1.27 PyYAML-6.0 absl-py-1.0.0 attrs-21.4.0 beautifulsoup4-4.11.1 bottleneck-1.3.4 cachetools-5.0.0 ci_sdr-0.0.0 click-8.1.3 configargparse-1.5.3 ctc-segmentation-1.7.1 distance-0.1.3 docker-pycreds-0.4.0 editdistance-0.5.2 einops-0.4.1 espnet-202204 espnet_model_zoo-0.1.7 espnet_tts_frontend-0.0.3 fastdtw-0.3.4 ffmpeg-python-0.2.0 filelock-3.6.0 future-0.18.2 g2p-en-2.1.0 gdown-4.4.0 gitdb-4.0.9 google-auth-2.6.6 google-auth-oauthlib-0.4.6 grpcio-1.44.0 h5py-3.6.0 huggingface-hub-0.5.1 humanfriendly-10.0 importlib-metadata-4.11.3 importlib-resources-5.7.1 inflect-5.6.0 jaconv-0.3 jamo-0.4.1 jsonschema-4.4.0 kaldiio-2.17.2 markdown-3.3.6 matplotlib-3.1.0 mir-eval-0.7 morfessor-2.0.6 musdb-0.4.0 museval-0.4.0 nara_wpe-0.0.8 nltk-3.7 nnmnkwii-0.1.1 oauthlib-3.2.0 pandas-1.4.2 pathtools-0.1.2 portalocker-2.4.0 promise-2.3 protobuf-3.20.1 pyaml-21.10.1 pyasn1-0.4.8 pyasn1-modules-0.2.8 pypinyin-0.44.0 pyrsistent-0.18.1 pysptk-0.1.20 pystoi-0.3.3 pytorch_wpe-0.0.1 pytz-2022.1 pyworld-0.3.0 regex-2022.4.24 requests-oauthlib-1.3.1 rsa-4.8 sacrebleu-2.0.0 sentencepiece-0.1.96 sentry-sdk-1.5.10 setproctitle-1.2.3 shortuuid-1.0.8 simplejson-3.17.6 smmap-5.0.0 soupsieve-2.3.2.post1 stempeg-0.2.3 tabulate-0.8.9 tensorboard-2.9.0 tensorboard-data-server-0.6.1 tensorboard-plugin-wit-1.8.1 torch_complex-0.4.3 typeguard-2.13.3 unidecode-1.3.4 wandb-0.12.15 werkzeug-2.1.2 youtube_dl-2021.12.17 zipp-3.8.0\n",
      "touch espnet.done\n",
      ". ./activate_python.sh && ./installers/install_fairscale.sh\n",
      "<stdin>:4: DeprecationWarning: distutils Version classes are deprecated. Use packaging.version instead.\n",
      "[INFO] torch_version=1.8.0\n",
      "<stdin>:3: DeprecationWarning: distutils Version classes are deprecated. Use packaging.version instead.\n",
      "[WARNING] fairscale requires pytorch>=1.8.1\n",
      "touch fairscale.done\n",
      ". ./activate_python.sh && ./installers/install_torch_optimizer.sh\n",
      "<stdin>:4: DeprecationWarning: distutils Version classes are deprecated. Use packaging.version instead.\n",
      "[INFO] torch_version=1.8.0\n",
      "<stdin>:3: DeprecationWarning: distutils Version classes are deprecated. Use packaging.version instead.\n",
      "Looking in indexes: https://pypi.org/simple, https://pip.repos.neuron.amazonaws.com\n",
      "Collecting torch_optimizer\n",
      "  Downloading torch_optimizer-0.3.0-py3-none-any.whl (61 kB)\n",
      "\u001b[2K     \u001b[90m━━━━━━━━━━━━━━━━━━━━━━━━━━━━━━━━━━━━━━━━\u001b[0m \u001b[32m61.9/61.9 KB\u001b[0m \u001b[31m14.0 MB/s\u001b[0m eta \u001b[36m0:00:00\u001b[0m\n",
      "\u001b[?25hCollecting pytorch-ranger>=0.1.1\n",
      "  Downloading pytorch_ranger-0.1.1-py3-none-any.whl (14 kB)\n",
      "Requirement already satisfied: torch>=1.5.0 in /home/ec2-user/anaconda3/envs/espnet/lib/python3.8/site-packages (from torch_optimizer) (1.8.0)\n",
      "Requirement already satisfied: typing_extensions in /home/ec2-user/anaconda3/envs/espnet/lib/python3.8/site-packages (from torch>=1.5.0->torch_optimizer) (4.2.0)\n",
      "Requirement already satisfied: numpy in /home/ec2-user/anaconda3/envs/espnet/lib/python3.8/site-packages (from torch>=1.5.0->torch_optimizer) (1.20.3)\n",
      "Installing collected packages: pytorch-ranger, torch_optimizer\n",
      "Successfully installed pytorch-ranger-0.1.1 torch_optimizer-0.3.0\n",
      "touch torch_optimizer.done\n",
      ". ./activate_python.sh; . ./extra_path.sh; python3 check_install.py\n",
      "[x] python=3.8.12 (default, Oct 12 2021, 13:49:34)  [GCC 7.5.0]\n",
      "\n",
      "Python modules:\n",
      "[x] torch=1.8.0\n",
      "[x] torch cuda=10.2\n",
      "[x] torch cudnn=7605\n",
      "[x] torch nccl\n",
      "[ ] chainer\n",
      "[ ] cupy\n",
      "[x] torchaudio=0.8.0a0+a751e1d\n",
      "[x] torch_optimizer=0.3.0\n",
      "[ ] warpctc_pytorch\n",
      "[ ] warprnnt_pytorch\n",
      "[ ] chainer_ctc\n",
      "[ ] pyopenjtalk\n",
      "[ ] tdmelodic_pyopenjtalk\n",
      "[ ] kenlm\n",
      "[ ] mmseg\n",
      "[x] espnet=202204\n",
      "[ ] fairseq\n",
      "[ ] phonemizer\n",
      "[ ] gtn\n",
      "[ ] s3prl\n",
      "[ ] transformers\n",
      "[ ] speechbrain\n",
      "[ ] k2\n",
      "[ ] longformer\n",
      "[ ] nlg-eval\n",
      "[ ] datasets\n",
      "\n",
      "Executables:\n",
      "[x] sclite\n",
      "[x] sph2pipe\n",
      "[ ] PESQ\n",
      "[ ] BeamformIt\n",
      "\n",
      "INFO:\n",
      "Use 'installers/install_warp-ctc.sh' to install warpctc_pytorch\n",
      "Use 'installers/install_warp-transducer.sh' to install warprnnt_pytorch\n",
      "Use 'installers/install_chainer_ctc.sh' to install chainer_ctc\n",
      "Use 'installers/install_pyopenjtalk.sh' to install pyopenjtalk\n",
      "Use 'installers/install_tdmelodic_pyopenjtalk.sh' to install tdmelodic_pyopenjtalk\n",
      "Use 'installers/install_kenlm.sh' to install kenlm\n",
      "Use 'installers/install_py3mmseg.sh' to install mmseg\n",
      "Use 'installers/install_fairseq.sh' to install fairseq\n",
      "Use 'installers/install_phonemizer.sh' to install phonemizer\n",
      "Use 'installers/install_gtn.sh' to install gtn\n",
      "Use 'installers/install_s3prl.sh' to install s3prl\n",
      "Use 'installers/install_transformers.sh' to install transformers\n",
      "Use 'installers/install_speechbrain.sh' to install speechbrain\n",
      "Use 'installers/install_k2.sh' to install k2\n",
      "Use 'installers/install_longformer.sh' to install longformer\n",
      "Use 'installers/install_longformer.sh' to install nlg-eval\n",
      "Use 'installers/install_longformer.sh' to install datasets\n",
      "Use 'installers/install_pesq.sh' to install PESQ\n",
      "Use 'installers/install_beamformit.sh' to install BeamformIt\n"
     ]
    }
   ],
   "source": [
    "!make TH_VERSION=1.8.0 CUDA_VERSION=10.2"
   ]
  },
  {
   "cell_type": "code",
   "execution_count": 1,
   "id": "680848ab",
   "metadata": {},
   "outputs": [
    {
     "name": "stdout",
     "output_type": "stream",
     "text": [
      "/home/ec2-user/anaconda3/envs/espnet/etc/conda\n"
     ]
    }
   ],
   "source": [
    "%cd /home/ec2-user/anaconda3/envs/espnet/etc/conda\n",
    "!rm -rf activate.d\n",
    "!rm -rf deactivate.d\n"
   ]
  },
  {
   "cell_type": "code",
   "execution_count": 14,
   "id": "ce2f3d86",
   "metadata": {},
   "outputs": [
    {
     "name": "stdout",
     "output_type": "stream",
     "text": [
      "/home/ec2-user/SageMaker/espnet/tools\n"
     ]
    }
   ],
   "source": [
    "%%bash\n",
    "cd /home/ec2-user/SageMaker/espnet/tools/installers\n",
    "pwd\n",
    "./installers/install_phonemizer.sh "
   ]
  },
  {
   "cell_type": "markdown",
   "id": "e2783371",
   "metadata": {},
   "source": [
    "<h3 style=\"color:red\">Installation finished</h3>\n",
    "<hr>"
   ]
  },
  {
   "cell_type": "markdown",
   "id": "58964ac2",
   "metadata": {},
   "source": [
    "<h1>Setup Project</h1>\n",
    "<h2>Create project folder</h2>"
   ]
  },
  {
   "cell_type": "code",
   "execution_count": 15,
   "id": "3adfd966",
   "metadata": {},
   "outputs": [],
   "source": [
    "Project_name=\"German_Male\""
   ]
  },
  {
   "cell_type": "code",
   "execution_count": 16,
   "id": "d59ff4af",
   "metadata": {},
   "outputs": [
    {
     "name": "stdout",
     "output_type": "stream",
     "text": [
      "German_Male\n",
      "2022-04-25T04:27:01 (setup.sh:71:main) Created: /home/ec2-user/SageMaker/espnet/egs2/German_Male/tts1//home/ec2-user/SageMaker/espnet/egs2/German_Male/tts1/../../TEMPLATE/tts1/cmd.sh /home/ec2-user/SageMaker/espnet/egs2/German_Male/tts1//home/ec2-user/SageMaker/espnet/egs2/German_Male/tts1/../../TEMPLATE/tts1/conf /home/ec2-user/SageMaker/espnet/egs2/German_Male/tts1//home/ec2-user/SageMaker/espnet/egs2/German_Male/tts1/../../TEMPLATE/tts1/local /home/ec2-user/SageMaker/espnet/egs2/German_Male/tts1/../../TEMPLATE/tts1/tts.sh /home/ec2-user/SageMaker/espnet/egs2/German_Male/tts1/../../TEMPLATE/tts1/path.sh /home/ec2-user/SageMaker/espnet/egs2/German_Male/tts1/../../TEMPLATE/asr1/db.sh /home/ec2-user/SageMaker/espnet/egs2/German_Male/tts1/../../TEMPLATE/asr1/scripts /home/ec2-user/SageMaker/espnet/egs2/German_Male/tts1/../../TEMPLATE/asr1/pyscripts /home/ec2-user/SageMaker/espnet/egs2/German_Male/tts1/../../../tools/kaldi/egs/wsj/s5/steps /home/ec2-user/SageMaker/espnet/egs2/German_Male/tts1/../../../tools/kaldi/egs/wsj/s5/utils /home/ec2-user/SageMaker/espnet/egs2/German_Male/tts1/../../../tools/kaldi/egs/sre08/v1/sid \n",
      "/home/ec2-user/SageMaker/espnet/egs2/German_Male/tts1\n"
     ]
    }
   ],
   "source": [
    "%%bash -s \"$Project_name\"\n",
    "\n",
    "echo $1\n",
    "\n",
    "/home/ec2-user/SageMaker/espnet/egs2/TEMPLATE/tts1/setup.sh  /home/ec2-user/SageMaker/espnet/egs2/$1/tts1\n",
    "cd /home/ec2-user/SageMaker/espnet/egs2/$1/tts1\n",
    "pwd"
   ]
  },
  {
   "cell_type": "code",
   "execution_count": 2,
   "id": "e9109975",
   "metadata": {},
   "outputs": [
    {
     "name": "stdout",
     "output_type": "stream",
     "text": [
      "download: s3://commonvoicesdataset/Text2Speech/GermanMale/wavs.zip to ../../../../../SageMaker/espnet/egs2/German_Male/tts1/wavs.zip\n"
     ]
    }
   ],
   "source": [
    "!aws s3 cp 's3://commonvoicesdataset/Text2Speech/GermanMale/wavs.zip' '/home/ec2-user/SageMaker/espnet/egs2/German_Male/tts1'"
   ]
  },
  {
   "cell_type": "code",
   "execution_count": 3,
   "id": "a0a1929f",
   "metadata": {},
   "outputs": [
    {
     "name": "stderr",
     "output_type": "stream",
     "text": [
      "unzip:  cannot find or open /home/ec2-user/SageMaker/espnet/egs2/$Project_name/tts1/wavs.zip, /home/ec2-user/SageMaker/espnet/egs2/$Project_name/tts1/wavs.zip.zip or /home/ec2-user/SageMaker/espnet/egs2/$Project_name/tts1/wavs.zip.ZIP.\n"
     ]
    },
    {
     "ename": "CalledProcessError",
     "evalue": "Command 'b'unzip -q /home/ec2-user/SageMaker/espnet/egs2/$1/tts1/wavs.zip -d /home/ec2-user/SageMaker/espnet/egs2/$1/tts1/\\n'' returned non-zero exit status 9.",
     "output_type": "error",
     "traceback": [
      "\u001b[0;31m---------------------------------------------------------------------------\u001b[0m",
      "\u001b[0;31mCalledProcessError\u001b[0m                        Traceback (most recent call last)",
      "Input \u001b[0;32mIn [3]\u001b[0m, in \u001b[0;36m<cell line: 1>\u001b[0;34m()\u001b[0m\n\u001b[0;32m----> 1\u001b[0m \u001b[43mget_ipython\u001b[49m\u001b[43m(\u001b[49m\u001b[43m)\u001b[49m\u001b[38;5;241;43m.\u001b[39;49m\u001b[43mrun_cell_magic\u001b[49m\u001b[43m(\u001b[49m\u001b[38;5;124;43m'\u001b[39;49m\u001b[38;5;124;43mbash\u001b[39;49m\u001b[38;5;124;43m'\u001b[39;49m\u001b[43m,\u001b[49m\u001b[43m \u001b[49m\u001b[38;5;124;43m'\u001b[39;49m\u001b[38;5;124;43m-s \u001b[39;49m\u001b[38;5;124;43m\"\u001b[39;49m\u001b[38;5;124;43m$Project_name\u001b[39;49m\u001b[38;5;124;43m\"\u001b[39;49m\u001b[38;5;124;43m'\u001b[39;49m\u001b[43m,\u001b[49m\u001b[43m \u001b[49m\u001b[38;5;124;43m'\u001b[39;49m\u001b[38;5;124;43munzip -q /home/ec2-user/SageMaker/espnet/egs2/$1/tts1/wavs.zip -d /home/ec2-user/SageMaker/espnet/egs2/$1/tts1/\u001b[39;49m\u001b[38;5;130;43;01m\\n\u001b[39;49;00m\u001b[38;5;124;43m'\u001b[39;49m\u001b[43m)\u001b[49m\n",
      "File \u001b[0;32m~/anaconda3/envs/espnet/lib/python3.8/site-packages/IPython/core/interactiveshell.py:2357\u001b[0m, in \u001b[0;36mInteractiveShell.run_cell_magic\u001b[0;34m(self, magic_name, line, cell)\u001b[0m\n\u001b[1;32m   2355\u001b[0m \u001b[38;5;28;01mwith\u001b[39;00m \u001b[38;5;28mself\u001b[39m\u001b[38;5;241m.\u001b[39mbuiltin_trap:\n\u001b[1;32m   2356\u001b[0m     args \u001b[38;5;241m=\u001b[39m (magic_arg_s, cell)\n\u001b[0;32m-> 2357\u001b[0m     result \u001b[38;5;241m=\u001b[39m \u001b[43mfn\u001b[49m\u001b[43m(\u001b[49m\u001b[38;5;241;43m*\u001b[39;49m\u001b[43margs\u001b[49m\u001b[43m,\u001b[49m\u001b[43m \u001b[49m\u001b[38;5;241;43m*\u001b[39;49m\u001b[38;5;241;43m*\u001b[39;49m\u001b[43mkwargs\u001b[49m\u001b[43m)\u001b[49m\n\u001b[1;32m   2358\u001b[0m \u001b[38;5;28;01mreturn\u001b[39;00m result\n",
      "File \u001b[0;32m~/anaconda3/envs/espnet/lib/python3.8/site-packages/IPython/core/magics/script.py:153\u001b[0m, in \u001b[0;36mScriptMagics._make_script_magic.<locals>.named_script_magic\u001b[0;34m(line, cell)\u001b[0m\n\u001b[1;32m    151\u001b[0m \u001b[38;5;28;01melse\u001b[39;00m:\n\u001b[1;32m    152\u001b[0m     line \u001b[38;5;241m=\u001b[39m script\n\u001b[0;32m--> 153\u001b[0m \u001b[38;5;28;01mreturn\u001b[39;00m \u001b[38;5;28;43mself\u001b[39;49m\u001b[38;5;241;43m.\u001b[39;49m\u001b[43mshebang\u001b[49m\u001b[43m(\u001b[49m\u001b[43mline\u001b[49m\u001b[43m,\u001b[49m\u001b[43m \u001b[49m\u001b[43mcell\u001b[49m\u001b[43m)\u001b[49m\n",
      "File \u001b[0;32m~/anaconda3/envs/espnet/lib/python3.8/site-packages/IPython/core/magics/script.py:305\u001b[0m, in \u001b[0;36mScriptMagics.shebang\u001b[0;34m(self, line, cell)\u001b[0m\n\u001b[1;32m    300\u001b[0m \u001b[38;5;28;01mif\u001b[39;00m args\u001b[38;5;241m.\u001b[39mraise_error \u001b[38;5;129;01mand\u001b[39;00m p\u001b[38;5;241m.\u001b[39mreturncode \u001b[38;5;241m!=\u001b[39m \u001b[38;5;241m0\u001b[39m:\n\u001b[1;32m    301\u001b[0m     \u001b[38;5;66;03m# If we get here and p.returncode is still None, we must have\u001b[39;00m\n\u001b[1;32m    302\u001b[0m     \u001b[38;5;66;03m# killed it but not yet seen its return code. We don't wait for it,\u001b[39;00m\n\u001b[1;32m    303\u001b[0m     \u001b[38;5;66;03m# in case it's stuck in uninterruptible sleep. -9 = SIGKILL\u001b[39;00m\n\u001b[1;32m    304\u001b[0m     rc \u001b[38;5;241m=\u001b[39m p\u001b[38;5;241m.\u001b[39mreturncode \u001b[38;5;129;01mor\u001b[39;00m \u001b[38;5;241m-\u001b[39m\u001b[38;5;241m9\u001b[39m\n\u001b[0;32m--> 305\u001b[0m     \u001b[38;5;28;01mraise\u001b[39;00m CalledProcessError(rc, cell)\n",
      "\u001b[0;31mCalledProcessError\u001b[0m: Command 'b'unzip -q /home/ec2-user/SageMaker/espnet/egs2/$1/tts1/wavs.zip -d /home/ec2-user/SageMaker/espnet/egs2/$1/tts1/\\n'' returned non-zero exit status 9."
     ]
    }
   ],
   "source": [
    "%%bash -s \"$Project_name\"\n",
    "unzip -q /home/ec2-user/SageMaker/espnet/egs2/$Project_name/tts1/wavs.zip -d /home/ec2-user/SageMaker/espnet/egs2/$1/tts1/"
   ]
  },
  {
   "cell_type": "code",
   "execution_count": 19,
   "id": "d00e58e8",
   "metadata": {},
   "outputs": [
    {
     "name": "stdout",
     "output_type": "stream",
     "text": [
      "download: s3://commonvoicesdataset/Text2Speech/GermanMale/data.zip to ../../../../../SageMaker/espnet/egs2/German_Male/tts1/data.zip\n"
     ]
    }
   ],
   "source": [
    "%%bash -s \"$Project_name\"\n",
    "aws s3 cp s3://commonvoicesdataset/Text2Speech/GermanMale/data.zip /home/ec2-user/SageMaker/espnet/egs2/$1/tts1"
   ]
  },
  {
   "cell_type": "code",
   "execution_count": 20,
   "id": "00b72cec",
   "metadata": {},
   "outputs": [
    {
     "name": "stdout",
     "output_type": "stream",
     "text": [
      "/home/ec2-user/SageMaker/espnet/egs2/German_Male/tts1/data.zip\n"
     ]
    }
   ],
   "source": [
    "%%bash -s \"$Project_name\"\n",
    "echo /home/ec2-user/SageMaker/espnet/egs2/$1/tts1/data.zip\n",
    "unzip -q /home/ec2-user/SageMaker/espnet/egs2/$1/tts1/data.zip -d /home/ec2-user/SageMaker/espnet/egs2/$1/tts1/"
   ]
  },
  {
   "cell_type": "code",
   "execution_count": 21,
   "id": "c0ed969d",
   "metadata": {},
   "outputs": [],
   "source": [
    "%%bash -s \"$Project_name\"\n",
    "rm  /home/ec2-user/SageMaker/espnet/egs2/$1/tts1/wavs.zip"
   ]
  },
  {
   "cell_type": "code",
   "execution_count": 22,
   "id": "da4417cd",
   "metadata": {},
   "outputs": [
    {
     "name": "stdout",
     "output_type": "stream",
     "text": [
      "/home/ec2-user/SageMaker/espnet/egs2/German_Male/tts1\n"
     ]
    }
   ],
   "source": [
    "%cd /home/ec2-user/SageMaker/espnet/egs2/German_Male/tts1"
   ]
  },
  {
   "cell_type": "code",
   "execution_count": 23,
   "id": "091686eb",
   "metadata": {
    "collapsed": true,
    "jupyter": {
     "outputs_hidden": true
    }
   },
   "outputs": [
    {
     "name": "stdout",
     "output_type": "stream",
     "text": [
      "2022-04-25T04:52:17 (tts.sh:211:main) ./tts.sh --stage 2 --ngpu 1 --train_set train --valid_set valid --test_sets test --stop-stage 2\n",
      "2022-04-25T04:52:17 (tts.sh:323:main) Stage 2: Format wav.scp: data/ -> dump/raw/\n",
      "utils/copy_data_dir.sh: copied data from data/train to dump/raw/org/train\n",
      "this program is runnnnnnnnnnnnin\n",
      "utils/validate_data_dir.sh: WARNING: you have only one speaker.  This probably a bad idea.\n",
      "   Search for the word 'bold' in http://kaldi-asr.org/doc/data_prep.html\n",
      "   for more information.\n",
      "utils/validate_data_dir.sh: Successfully validated data-directory dump/raw/org/train\n",
      "2022-04-25T04:52:18 (format_wav_scp.sh:42:main) scripts/audio/format_wav_scp.sh --nj 32 --cmd run.pl --audio-format flac --fs 16000 data/train/wav.scp dump/raw/org/train\n",
      "2022-04-25T04:52:19 (format_wav_scp.sh:110:main) [info]: without segments\n",
      "2022-04-25T05:05:57 (format_wav_scp.sh:142:main) Successfully finished. [elapsed=819s]\n",
      "utils/copy_data_dir.sh: copied data from data/valid to dump/raw/org/valid\n",
      "this program is runnnnnnnnnnnnin\n",
      "utils/validate_data_dir.sh: WARNING: you have only one speaker.  This probably a bad idea.\n",
      "   Search for the word 'bold' in http://kaldi-asr.org/doc/data_prep.html\n",
      "   for more information.\n",
      "utils/validate_data_dir.sh: Successfully validated data-directory dump/raw/org/valid\n",
      "2022-04-25T05:05:57 (format_wav_scp.sh:42:main) scripts/audio/format_wav_scp.sh --nj 32 --cmd run.pl --audio-format flac --fs 16000 data/valid/wav.scp dump/raw/org/valid\n",
      "2022-04-25T05:05:57 (format_wav_scp.sh:110:main) [info]: without segments\n",
      "2022-04-25T05:07:41 (format_wav_scp.sh:142:main) Successfully finished. [elapsed=104s]\n",
      "utils/copy_data_dir.sh: copied data from data/test to dump/raw/test\n",
      "this program is runnnnnnnnnnnnin\n",
      "utils/validate_data_dir.sh: WARNING: you have only one speaker.  This probably a bad idea.\n",
      "   Search for the word 'bold' in http://kaldi-asr.org/doc/data_prep.html\n",
      "   for more information.\n",
      "utils/validate_data_dir.sh: Successfully validated data-directory dump/raw/test\n",
      "2022-04-25T05:07:42 (format_wav_scp.sh:42:main) scripts/audio/format_wav_scp.sh --nj 32 --cmd run.pl --audio-format flac --fs 16000 data/test/wav.scp dump/raw/test\n",
      "2022-04-25T05:07:42 (format_wav_scp.sh:110:main) [info]: without segments\n",
      "2022-04-25T05:08:06 (format_wav_scp.sh:142:main) Successfully finished. [elapsed=24s]\n",
      "2022-04-25T05:08:06 (tts.sh:1180:main) Skip the uploading stage\n",
      "2022-04-25T05:08:06 (tts.sh:1232:main) Skip the uploading to HuggingFace stage\n",
      "2022-04-25T05:08:06 (tts.sh:1235:main) Successfully finished. [elapsed=949s]\n"
     ]
    }
   ],
   "source": [
    "!./tts.sh \\\n",
    " --stage 2 \\\n",
    " --ngpu 1 \\\n",
    " --train_set train \\\n",
    " --valid_set valid \\\n",
    " --test_sets test \\\n",
    " --stop-stage 2"
   ]
  },
  {
   "cell_type": "code",
   "execution_count": 24,
   "id": "523d68e0",
   "metadata": {
    "collapsed": true,
    "jupyter": {
     "outputs_hidden": true
    }
   },
   "outputs": [
    {
     "name": "stdout",
     "output_type": "stream",
     "text": [
      "2022-04-25T05:09:44 (tts.sh:211:main) ./tts.sh --stage 3 --stop-stage 3\n",
      "2022-04-25T05:09:44 (tts.sh:468:main) Stage 3: Remove long/short data: dump/raw/org -> dump/raw\n",
      "utils/copy_data_dir.sh: copied data from dump/raw/org/train to dump/raw/train\n",
      "this program is runnnnnnnnnnnnin\n",
      "utils/validate_data_dir.sh: WARNING: you have only one speaker.  This probably a bad idea.\n",
      "   Search for the word 'bold' in http://kaldi-asr.org/doc/data_prep.html\n",
      "   for more information.\n",
      "utils/validate_data_dir.sh: Successfully validated data-directory dump/raw/train\n",
      "fix_data_dir.sh: kept all 20179 utterances.\n",
      "fix_data_dir.sh: old files are kept in dump/raw/train/.backup\n",
      "utils/copy_data_dir.sh: copied data from dump/raw/org/valid to dump/raw/valid\n",
      "this program is runnnnnnnnnnnnin\n",
      "utils/validate_data_dir.sh: WARNING: you have only one speaker.  This probably a bad idea.\n",
      "   Search for the word 'bold' in http://kaldi-asr.org/doc/data_prep.html\n",
      "   for more information.\n",
      "utils/validate_data_dir.sh: Successfully validated data-directory dump/raw/valid\n",
      "fix_data_dir.sh: kept all 2268 utterances.\n",
      "fix_data_dir.sh: old files are kept in dump/raw/valid/.backup\n",
      "2022-04-25T05:09:46 (tts.sh:1180:main) Skip the uploading stage\n",
      "2022-04-25T05:09:46 (tts.sh:1232:main) Skip the uploading to HuggingFace stage\n",
      "2022-04-25T05:09:46 (tts.sh:1235:main) Successfully finished. [elapsed=2s]\n"
     ]
    }
   ],
   "source": [
    "!./tts.sh --stage 3 --stop-stage 3"
   ]
  },
  {
   "cell_type": "code",
   "execution_count": 25,
   "id": "c21ea07a",
   "metadata": {},
   "outputs": [
    {
     "name": "stdout",
     "output_type": "stream",
     "text": [
      "2022-04-25T05:10:57 (tts.sh:211:main) ./tts.sh --stage 4 --stop-stage 4 --srctexts data/train/text --cleaner tacotron --token_type char\n",
      "2022-04-25T05:10:58 (tts.sh:523:main) Stage 4: Generate token_list from data/train/text\n",
      "[nltk_data] Downloading package averaged_perceptron_tagger to\n",
      "[nltk_data]     /home/ec2-user/nltk_data...\n",
      "[nltk_data]   Unzipping taggers/averaged_perceptron_tagger.zip.\n",
      "[nltk_data] Downloading package cmudict to /home/ec2-user/nltk_data...\n",
      "[nltk_data]   Unzipping corpora/cmudict.zip.\n",
      "/home/ec2-user/anaconda3/envs/espnet/bin/python3 /home/ec2-user/SageMaker/espnet/espnet2/bin/tokenize_text.py --token_type char -f 2- --input dump/raw/srctexts --output dump/token_list/char_tacotron/tokens.txt --non_linguistic_symbols none --cleaner tacotron --g2p g2p_en --write_vocabulary true --add_symbol '<blank>:0' --add_symbol '<unk>:1' --add_symbol '<sos/eos>:-1'\n",
      "2022-04-25 05:11:01,769 (tokenize_text:174) INFO: OOV rate = 0.0 %\n",
      "2022-04-25T05:11:01 (tts.sh:1180:main) Skip the uploading stage\n",
      "2022-04-25T05:11:01 (tts.sh:1232:main) Skip the uploading to HuggingFace stage\n",
      "2022-04-25T05:11:01 (tts.sh:1235:main) Successfully finished. [elapsed=4s]\n"
     ]
    }
   ],
   "source": [
    "!./tts.sh --stage 4 --stop-stage 4 --srctexts \"data/train/text\"  --cleaner tacotron --token_type char"
   ]
  },
  {
   "cell_type": "code",
   "execution_count": 27,
   "id": "431d19d7",
   "metadata": {},
   "outputs": [
    {
     "name": "stdout",
     "output_type": "stream",
     "text": [
      "2022-04-25T05:22:53 (tts.sh:211:main) ./tts.sh --stage 5 --stop-stage 5 --token_type char\n",
      "2022-04-25T05:22:53 (tts.sh:555:main) Stage 5: TTS collect stats: train_set=dump/raw/train, valid_set=dump/raw/valid\n",
      "2022-04-25T05:22:53 (tts.sh:642:main) Generate 'exp/tts_stats_raw_char_tacotron/run.sh'. You can resume the process from stage 5 using this script\n",
      "2022-04-25T05:22:53 (tts.sh:646:main) TTS collect_stats started... log: 'exp/tts_stats_raw_char_tacotron/logdir/stats.*.log'\n",
      "/home/ec2-user/anaconda3/envs/espnet/bin/python3 /home/ec2-user/SageMaker/espnet/espnet2/bin/aggregate_stats_dirs.py --input_dir exp/tts_stats_raw_char_tacotron/logdir/stats.1 --input_dir exp/tts_stats_raw_char_tacotron/logdir/stats.2 --input_dir exp/tts_stats_raw_char_tacotron/logdir/stats.3 --input_dir exp/tts_stats_raw_char_tacotron/logdir/stats.4 --input_dir exp/tts_stats_raw_char_tacotron/logdir/stats.5 --input_dir exp/tts_stats_raw_char_tacotron/logdir/stats.6 --input_dir exp/tts_stats_raw_char_tacotron/logdir/stats.7 --input_dir exp/tts_stats_raw_char_tacotron/logdir/stats.8 --input_dir exp/tts_stats_raw_char_tacotron/logdir/stats.9 --input_dir exp/tts_stats_raw_char_tacotron/logdir/stats.10 --input_dir exp/tts_stats_raw_char_tacotron/logdir/stats.11 --input_dir exp/tts_stats_raw_char_tacotron/logdir/stats.12 --input_dir exp/tts_stats_raw_char_tacotron/logdir/stats.13 --input_dir exp/tts_stats_raw_char_tacotron/logdir/stats.14 --input_dir exp/tts_stats_raw_char_tacotron/logdir/stats.15 --input_dir exp/tts_stats_raw_char_tacotron/logdir/stats.16 --input_dir exp/tts_stats_raw_char_tacotron/logdir/stats.17 --input_dir exp/tts_stats_raw_char_tacotron/logdir/stats.18 --input_dir exp/tts_stats_raw_char_tacotron/logdir/stats.19 --input_dir exp/tts_stats_raw_char_tacotron/logdir/stats.20 --input_dir exp/tts_stats_raw_char_tacotron/logdir/stats.21 --input_dir exp/tts_stats_raw_char_tacotron/logdir/stats.22 --input_dir exp/tts_stats_raw_char_tacotron/logdir/stats.23 --input_dir exp/tts_stats_raw_char_tacotron/logdir/stats.24 --input_dir exp/tts_stats_raw_char_tacotron/logdir/stats.25 --input_dir exp/tts_stats_raw_char_tacotron/logdir/stats.26 --input_dir exp/tts_stats_raw_char_tacotron/logdir/stats.27 --input_dir exp/tts_stats_raw_char_tacotron/logdir/stats.28 --input_dir exp/tts_stats_raw_char_tacotron/logdir/stats.29 --input_dir exp/tts_stats_raw_char_tacotron/logdir/stats.30 --input_dir exp/tts_stats_raw_char_tacotron/logdir/stats.31 --input_dir exp/tts_stats_raw_char_tacotron/logdir/stats.32 --output_dir exp/tts_stats_raw_char_tacotron\n",
      "2022-04-25T05:25:04 (tts.sh:1180:main) Skip the uploading stage\n",
      "2022-04-25T05:25:04 (tts.sh:1232:main) Skip the uploading to HuggingFace stage\n",
      "2022-04-25T05:25:04 (tts.sh:1235:main) Successfully finished. [elapsed=131s]\n"
     ]
    }
   ],
   "source": [
    "!./tts.sh --stage 5 --stop-stage 5 --token_type char"
   ]
  },
  {
   "cell_type": "code",
   "execution_count": 12,
   "id": "640f6616",
   "metadata": {},
   "outputs": [
    {
     "data": {
      "text/plain": [
       "'/home/ec2-user/SageMaker/espnet/tools'"
      ]
     },
     "execution_count": 12,
     "metadata": {},
     "output_type": "execute_result"
    }
   ],
   "source": [
    "%pwd"
   ]
  },
  {
   "cell_type": "code",
   "execution_count": 28,
   "id": "94ac9515",
   "metadata": {},
   "outputs": [
    {
     "name": "stdout",
     "output_type": "stream",
     "text": [
      "\n"
     ]
    }
   ],
   "source": [
    "%%bash -s \"$Project_name\"\n",
    "echo ${pwd}\n",
    "source=/home/ec2-user/SageMaker/espnet/egs2/ljspeech/tts1/conf/tuning\n",
    "destination=/home/ec2-user/SageMaker/espnet/egs2/$1/tts1/conf\n",
    "cp -rn $source $destination"
   ]
  },
  {
   "cell_type": "code",
   "execution_count": 16,
   "id": "a2da1672",
   "metadata": {},
   "outputs": [
    {
     "name": "stdout",
     "output_type": "stream",
     "text": [
      "/home/ec2-user/SageMaker/espnet/egs2/German_Male/tts1\n"
     ]
    }
   ],
   "source": [
    "%cd '/home/ec2-user/SageMaker/espnet/egs2/German_Male/tts1'"
   ]
  },
  {
   "cell_type": "code",
   "execution_count": null,
   "id": "eed7227a",
   "metadata": {},
   "outputs": [],
   "source": []
  },
  {
   "cell_type": "code",
   "execution_count": 14,
   "id": "7097d9de",
   "metadata": {},
   "outputs": [
    {
     "name": "stdout",
     "output_type": "stream",
     "text": [
      "Wed Apr 20 13:59:00 2022       \n",
      "+-----------------------------------------------------------------------------+\n",
      "| NVIDIA-SMI 510.47.03    Driver Version: 510.47.03    CUDA Version: 11.6     |\n",
      "|-------------------------------+----------------------+----------------------+\n",
      "| GPU  Name        Persistence-M| Bus-Id        Disp.A | Volatile Uncorr. ECC |\n",
      "| Fan  Temp  Perf  Pwr:Usage/Cap|         Memory-Usage | GPU-Util  Compute M. |\n",
      "|                               |                      |               MIG M. |\n",
      "|===============================+======================+======================|\n",
      "|   0  Tesla T4            On   | 00000000:00:1E.0 Off |                    0 |\n",
      "| N/A   37C    P8    14W /  70W |      0MiB / 15360MiB |      0%      Default |\n",
      "|                               |                      |                  N/A |\n",
      "+-------------------------------+----------------------+----------------------+\n",
      "                                                                               \n",
      "+-----------------------------------------------------------------------------+\n",
      "| Processes:                                                                  |\n",
      "|  GPU   GI   CI        PID   Type   Process name                  GPU Memory |\n",
      "|        ID   ID                                                   Usage      |\n",
      "|=============================================================================|\n",
      "|  No running processes found                                                 |\n",
      "+-----------------------------------------------------------------------------+\n"
     ]
    }
   ],
   "source": [
    "!nvidia-smi"
   ]
  },
  {
   "cell_type": "code",
   "execution_count": 33,
   "id": "921e6df9",
   "metadata": {
    "collapsed": true,
    "jupyter": {
     "outputs_hidden": true
    }
   },
   "outputs": [
    {
     "name": "stdout",
     "output_type": "stream",
     "text": [
      "2022-04-27T08:45:29 (tts.sh:211:main) ./tts.sh --stage 6 --stop-stage 6 --token_type char --train_config /home/ec2-user/SageMaker/espnet/egs2/German_Male/tts1/conf/train.yaml\n",
      "2022-04-27T08:45:30 (tts.sh:691:main) Stage 6: TTS Training: train_set=dump/raw/train, valid_set=dump/raw/valid\n",
      "2022-04-27T08:45:30 (tts.sh:871:main) Generate 'exp/tts_train_raw_char_tacotron/run.sh'. You can resume the process from stage 6 using this script\n",
      "2022-04-27T08:45:30 (tts.sh:876:main) TTS training started... log: 'exp/tts_train_raw_char_tacotron/train.log'\n",
      "2022-04-27 08:45:30,341 (launch:95) INFO: /home/ec2-user/anaconda3/envs/espnet/bin/python3 /home/ec2-user/SageMaker/espnet/espnet2/bin/launch.py --cmd 'run.pl --name exp/tts_train_raw_char_tacotron/train.log' --log exp/tts_train_raw_char_tacotron/train.log --ngpu 1 --num_nodes 1 --init_file_prefix exp/tts_train_raw_char_tacotron/.dist_init_ --multiprocessing_distributed true -- python3 -m espnet2.bin.tts_train --use_preprocessor true --token_type char --token_list dump/token_list/char_tacotron/tokens.txt --non_linguistic_symbols none --cleaner tacotron --g2p g2p_en --normalize global_mvn --resume true --fold_length 150 --fold_length 204800 --output_dir exp/tts_train_raw_char_tacotron --config /home/ec2-user/SageMaker/espnet/egs2/German_Male/tts1/conf/train.yaml --feats_extract fbank --feats_extract_conf n_fft=1024 --feats_extract_conf hop_length=256 --feats_extract_conf win_length=null --feats_extract_conf fs=16000 --feats_extract_conf fmin=80 --feats_extract_conf fmax=7600 --feats_extract_conf n_mels=80 --train_data_path_and_name_and_type dump/raw/train/text,text,text --train_data_path_and_name_and_type dump/raw/train/wav.scp,speech,sound --train_shape_file exp/tts_stats_raw_char_tacotron/train/text_shape.char --train_shape_file exp/tts_stats_raw_char_tacotron/train/speech_shape --valid_data_path_and_name_and_type dump/raw/valid/text,text,text --valid_data_path_and_name_and_type dump/raw/valid/wav.scp,speech,sound --valid_shape_file exp/tts_stats_raw_char_tacotron/valid/text_shape.char --valid_shape_file exp/tts_stats_raw_char_tacotron/valid/speech_shape --normalize_conf stats_file=exp/tts_stats_raw_char_tacotron/train/feats_stats.npz\n",
      "2022-04-27 08:45:30,363 (launch:349) INFO: log file: exp/tts_train_raw_char_tacotron/train.log\n",
      "2022-04-27T08:45:42 (tts.sh:1180:main) Skip the uploading stage\n",
      "2022-04-27T08:45:42 (tts.sh:1232:main) Skip the uploading to HuggingFace stage\n",
      "2022-04-27T08:45:42 (tts.sh:1235:main) Successfully finished. [elapsed=13s]\n"
     ]
    }
   ],
   "source": [
    "!./tts.sh --stage 6 --stop-stage 6 --token_type char --train_config '/home/ec2-user/SageMaker/espnet/egs2/German_Male/tts1/conf/train.yaml'"
   ]
  },
  {
   "cell_type": "code",
   "execution_count": 32,
   "id": "701f06a8",
   "metadata": {},
   "outputs": [
    {
     "name": "stdout",
     "output_type": "stream",
     "text": [
      "2022-04-27T05:36:08 (tts.sh:211:main) ./tts.sh --stage 7 --stop-stage 7 --token_type char --train_config /home/ec2-user/SageMaker/espnet/egs2/German_Male/tts1/conf/train.yaml\n",
      "2022-04-27T05:36:08 (tts.sh:933:main) Stage 7: Decoding: training_dir=exp/tts_train_raw_char_tacotron\n",
      "2022-04-27T05:36:08 (tts.sh:956:main) Generate 'exp/tts_train_raw_char_tacotron/inference_train.loss.ave/run.sh'. You can resume the process from stage 7 using this script\n",
      "2022-04-27T05:36:08 (tts.sh:1010:main) Decoding started... log: 'exp/tts_train_raw_char_tacotron/inference_train.loss.ave/test/log/tts_inference.*.log'\n",
      "2022-04-27T05:39:43 (tts.sh:1180:main) Skip the uploading stage\n",
      "2022-04-27T05:39:43 (tts.sh:1232:main) Skip the uploading to HuggingFace stage\n",
      "2022-04-27T05:39:43 (tts.sh:1235:main) Successfully finished. [elapsed=215s]\n"
     ]
    }
   ],
   "source": [
    "!./tts.sh --stage 7 --stop-stage 7 --token_type char --train_config '/home/ec2-user/SageMaker/espnet/egs2/German_Male/tts1/conf/train.yaml'"
   ]
  }
 ],
 "metadata": {
  "kernelspec": {
   "display_name": "conda_espnet",
   "language": "python",
   "name": "conda_espnet"
  },
  "language_info": {
   "codemirror_mode": {
    "name": "ipython",
    "version": 3
   },
   "file_extension": ".py",
   "mimetype": "text/x-python",
   "name": "python",
   "nbconvert_exporter": "python",
   "pygments_lexer": "ipython3",
   "version": "3.8.12"
  }
 },
 "nbformat": 4,
 "nbformat_minor": 5
}
