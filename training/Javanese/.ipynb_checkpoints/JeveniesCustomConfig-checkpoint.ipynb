{
 "cells": [
  {
   "cell_type": "markdown",
   "id": "670ada6d",
   "metadata": {},
   "source": [
    "<h1>Installation</h1>"
   ]
  },
  {
   "cell_type": "code",
   "execution_count": null,
   "id": "e3c53e66",
   "metadata": {},
   "outputs": [],
   "source": [
    "\n",
    "# if installing from scarcth you need the repo - we should change this to our own\n",
    "# !git clone https://github.com/espnet/espnet\n"
   ]
  },
  {
   "cell_type": "markdown",
   "id": "731e7176",
   "metadata": {},
   "source": [
    "\n",
    "<p>\n",
    "    for installation you should use command line (TBD:  it needs a bash script to automate the process)\n",
    "    first  cd into %cd /home/ec2-user/SageMaker/espnet/tools\n",
    "    set up the invironement ./setup_anaconda.sh \"/home/ec2-user/anaconda3\" espnet 3.8.12\n",
    "    \n",
    "    type bash to enbale bash script\n",
    "    \n",
    "    activate espnet environement\n",
    "    \n",
    "    \n",
    "   </p>    \n",
    "    <ul>\n",
    "        <li>install ipykernel to enable jupyter lab creation from UI with espnet environment</li>\n",
    "        <li>intall libsndile </li>\n",
    "        <li>install librosa</li>\n",
    "        <li>install soundfile</li>\n",
    "        <li>install package  </li>\n",
    "   </ul>\n",
    "<p>The command that need to be executed in sequence is shown below</p>\n",
    "\n",
    "<p> once everything is install move to the Jupyter lab. Your envrinment should be selectable </p>"
   ]
  },
  {
   "cell_type": "code",
   "execution_count": 6,
   "id": "f5ef4daf",
   "metadata": {
    "collapsed": true,
    "jupyter": {
     "outputs_hidden": true
    }
   },
   "outputs": [
    {
     "name": "stdout",
     "output_type": "stream",
     "text": [
      "Could not find conda environment: espnet\n",
      "You can list all discoverable environments with `conda info --envs`.\n",
      "\n",
      "Collecting package metadata (current_repodata.json): done\n",
      "Solving environment: done\n",
      "\n",
      "\n",
      "==> WARNING: A newer version of conda exists. <==\n",
      "  current version: 4.8.4\n",
      "  latest version: 4.12.0\n",
      "\n",
      "Please update conda by running\n",
      "\n",
      "    $ conda update -n base -c defaults conda\n",
      "\n",
      "\n",
      "\n",
      "## Package Plan ##\n",
      "\n",
      "  environment location: /home/ec2-user/anaconda3/envs/espnet\n",
      "\n",
      "\n",
      "\n",
      "Preparing transaction: done\n",
      "Verifying transaction: done\n",
      "Executing transaction: done\n",
      "#\n",
      "# To activate this environment, use\n",
      "#\n",
      "#     $ conda activate espnet\n",
      "#\n",
      "# To deactivate an active environment, use\n",
      "#\n",
      "#     $ conda deactivate\n",
      "\n",
      "Collecting package metadata (current_repodata.json): done\n",
      "Solving environment: done\n",
      "\n",
      "\n",
      "==> WARNING: A newer version of conda exists. <==\n",
      "  current version: 4.8.4\n",
      "  latest version: 4.12.0\n",
      "\n",
      "Please update conda by running\n",
      "\n",
      "    $ conda update -n base -c defaults conda\n",
      "\n",
      "\n",
      "\n",
      "## Package Plan ##\n",
      "\n",
      "  environment location: /home/ec2-user/anaconda3/envs/espnet\n",
      "\n",
      "  added / updated specs:\n",
      "    - conda\n",
      "    - python=3.8.12\n",
      "\n",
      "\n",
      "The following packages will be downloaded:\n",
      "\n",
      "    package                    |            build\n",
      "    ---------------------------|-----------------\n",
      "    brotlipy-0.7.0             |py38h0a891b7_1004         342 KB  conda-forge\n",
      "    certifi-2021.10.8          |   py38h578d9bd_2         145 KB  conda-forge\n",
      "    cffi-1.15.0                |   py38hd667e15_1         224 KB\n",
      "    colorama-0.4.4             |     pyh9f0ad1d_0          18 KB  conda-forge\n",
      "    conda-4.12.0               |   py38h578d9bd_0         1.0 MB  conda-forge\n",
      "    conda-package-handling-1.8.1|   py38h0a891b7_1        1018 KB  conda-forge\n",
      "    cryptography-36.0.2        |   py38h2b5fc30_1         1.6 MB  conda-forge\n",
      "    pycosat-0.6.3              |py38h0a891b7_1010         108 KB  conda-forge\n",
      "    pysocks-1.7.1              |   py38h578d9bd_5          28 KB  conda-forge\n",
      "    tqdm-4.64.0                |     pyhd8ed1ab_0          81 KB  conda-forge\n",
      "    urllib3-1.26.9             |     pyhd8ed1ab_0         100 KB  conda-forge\n",
      "    yaml-0.2.5                 |       h7f98852_2          87 KB  conda-forge\n",
      "    ------------------------------------------------------------\n",
      "                                           Total:         4.7 MB\n",
      "\n",
      "The following NEW packages will be INSTALLED:\n",
      "\n",
      "  _libgcc_mutex      conda-forge/linux-64::_libgcc_mutex-0.1-conda_forge\n",
      "  _openmp_mutex      conda-forge/linux-64::_openmp_mutex-4.5-1_gnu\n",
      "  brotlipy           conda-forge/linux-64::brotlipy-0.7.0-py38h0a891b7_1004\n",
      "  ca-certificates    conda-forge/linux-64::ca-certificates-2021.10.8-ha878542_0\n",
      "  certifi            conda-forge/linux-64::certifi-2021.10.8-py38h578d9bd_2\n",
      "  cffi               pkgs/main/linux-64::cffi-1.15.0-py38hd667e15_1\n",
      "  charset-normalizer conda-forge/noarch::charset-normalizer-2.0.12-pyhd8ed1ab_0\n",
      "  colorama           conda-forge/noarch::colorama-0.4.4-pyh9f0ad1d_0\n",
      "  conda              conda-forge/linux-64::conda-4.12.0-py38h578d9bd_0\n",
      "  conda-package-han~ conda-forge/linux-64::conda-package-handling-1.8.1-py38h0a891b7_1\n",
      "  cryptography       conda-forge/linux-64::cryptography-36.0.2-py38h2b5fc30_1\n",
      "  idna               conda-forge/noarch::idna-3.3-pyhd8ed1ab_0\n",
      "  ld_impl_linux-64   conda-forge/linux-64::ld_impl_linux-64-2.36.1-hea4e1c9_2\n",
      "  libffi             conda-forge/linux-64::libffi-3.3-h58526e2_2\n",
      "  libgcc-ng          conda-forge/linux-64::libgcc-ng-11.2.0-h1d223b6_15\n",
      "  libgomp            conda-forge/linux-64::libgomp-11.2.0-h1d223b6_15\n",
      "  libstdcxx-ng       conda-forge/linux-64::libstdcxx-ng-11.2.0-he4da1e4_15\n",
      "  libzlib            conda-forge/linux-64::libzlib-1.2.11-h166bdaf_1014\n",
      "  ncurses            conda-forge/linux-64::ncurses-6.3-h27087fc_1\n",
      "  openssl            conda-forge/linux-64::openssl-1.1.1n-h166bdaf_0\n",
      "  pip                conda-forge/noarch::pip-22.0.4-pyhd8ed1ab_0\n",
      "  pycosat            conda-forge/linux-64::pycosat-0.6.3-py38h0a891b7_1010\n",
      "  pycparser          conda-forge/noarch::pycparser-2.21-pyhd8ed1ab_0\n",
      "  pyopenssl          conda-forge/noarch::pyopenssl-22.0.0-pyhd8ed1ab_0\n",
      "  pysocks            conda-forge/linux-64::pysocks-1.7.1-py38h578d9bd_5\n",
      "  python             pkgs/main/linux-64::python-3.8.12-h12debd9_0\n",
      "  python_abi         conda-forge/linux-64::python_abi-3.8-2_cp38\n",
      "  readline           conda-forge/linux-64::readline-8.1-h46c0cb4_0\n",
      "  requests           conda-forge/noarch::requests-2.27.1-pyhd8ed1ab_0\n",
      "  ruamel_yaml        conda-forge/linux-64::ruamel_yaml-0.15.80-py38h497a2fe_1006\n",
      "  setuptools         conda-forge/linux-64::setuptools-62.1.0-py38h578d9bd_0\n",
      "  six                conda-forge/noarch::six-1.16.0-pyh6c4a22f_0\n",
      "  sqlite             conda-forge/linux-64::sqlite-3.38.2-h4ff8645_0\n",
      "  tk                 conda-forge/linux-64::tk-8.6.12-h27826a3_0\n",
      "  tqdm               conda-forge/noarch::tqdm-4.64.0-pyhd8ed1ab_0\n",
      "  urllib3            conda-forge/noarch::urllib3-1.26.9-pyhd8ed1ab_0\n",
      "  wheel              conda-forge/noarch::wheel-0.37.1-pyhd8ed1ab_0\n",
      "  xz                 conda-forge/linux-64::xz-5.2.5-h516909a_1\n",
      "  yaml               conda-forge/linux-64::yaml-0.2.5-h7f98852_2\n",
      "  zlib               conda-forge/linux-64::zlib-1.2.11-h166bdaf_1014\n",
      "\n",
      "\n",
      "\n",
      "Downloading and Extracting Packages\n",
      "pycosat-0.6.3        | 108 KB    | ##################################### | 100% \n",
      "colorama-0.4.4       | 18 KB     | ##################################### | 100% \n",
      "brotlipy-0.7.0       | 342 KB    | ##################################### | 100% \n",
      "urllib3-1.26.9       | 100 KB    | ##################################### | 100% \n",
      "yaml-0.2.5           | 87 KB     | ##################################### | 100% \n",
      "certifi-2021.10.8    | 145 KB    | ##################################### | 100% \n",
      "tqdm-4.64.0          | 81 KB     | ##################################### | 100% \n",
      "cffi-1.15.0          | 224 KB    | ##################################### | 100% \n",
      "cryptography-36.0.2  | 1.6 MB    | ##################################### | 100% \n",
      "pysocks-1.7.1        | 28 KB     | ##################################### | 100% \n",
      "conda-package-handli | 1018 KB   | ##################################### | 100% \n",
      "conda-4.12.0         | 1.0 MB    | ##################################### | 100% \n",
      "Preparing transaction: done\n",
      "Verifying transaction: done\n",
      "Executing transaction: done\n",
      "Collecting package metadata (current_repodata.json): done\n",
      "Solving environment: done\n",
      "\n",
      "\n",
      "==> WARNING: A newer version of conda exists. <==\n",
      "  current version: 4.8.4\n",
      "  latest version: 4.12.0\n",
      "\n",
      "Please update conda by running\n",
      "\n",
      "    $ conda update -n base -c defaults conda\n",
      "\n",
      "\n",
      "\n",
      "# All requested packages already installed.\n",
      "\n"
     ]
    }
   ],
   "source": [
    "%%capture \n",
    "%cd /home/ec2-user/SageMaker/espnet/tools\n",
    "!./setup_anaconda.sh \"/home/ec2-user/anaconda3\" espnet 3.8.12\n",
    "!conda install -y -c conda-forge libsndfile\n",
    "!conda install -y -c conda-forge librosa\n",
    "!pip install SoundFile\n",
    "!make TH_VERSION=1.8.0 CUDA_VERSION=10.2"
   ]
  },
  {
   "cell_type": "markdown",
   "id": "d979dd30",
   "metadata": {},
   "source": [
    "<h2>check installed components </h2>"
   ]
  },
  {
   "cell_type": "code",
   "execution_count": 2,
   "id": "dfee870d",
   "metadata": {
    "collapsed": true,
    "jupyter": {
     "outputs_hidden": true
    }
   },
   "outputs": [
    {
     "name": "stdout",
     "output_type": "stream",
     "text": [
      "[x] python=3.8.12 | packaged by conda-forge | (default, Jan 30 2022, 23:42:07)  [GCC 9.4.0]\n",
      "\n",
      "Python modules:\n",
      "[x] torch=1.8.0\n",
      "[x] torch cuda=10.2\n",
      "[x] torch cudnn=7605\n",
      "[x] torch nccl\n",
      "[ ] chainer\n",
      "[ ] cupy\n",
      "[x] torchaudio=0.8.0a0+a751e1d\n",
      "[x] torch_optimizer=0.3.0\n",
      "[ ] warpctc_pytorch\n",
      "[ ] warprnnt_pytorch\n",
      "[ ] chainer_ctc\n",
      "[ ] pyopenjtalk\n",
      "[ ] tdmelodic_pyopenjtalk\n",
      "[ ] kenlm\n",
      "[ ] mmseg\n",
      "[x] espnet=202204\n",
      "[ ] fairseq\n",
      "[ ] phonemizer\n",
      "[ ] gtn\n",
      "[ ] s3prl\n",
      "[ ] transformers\n",
      "[ ] speechbrain\n",
      "[ ] k2\n",
      "[ ] longformer\n",
      "[ ] nlg-eval\n",
      "[ ] datasets\n",
      "\n",
      "Executables:\n",
      "[ ] sclite\n",
      "[ ] sph2pipe\n",
      "[ ] PESQ\n",
      "[ ] BeamformIt\n",
      "\n",
      "INFO:\n",
      "Use 'installers/install_warp-ctc.sh' to install warpctc_pytorch\n",
      "Use 'installers/install_warp-transducer.sh' to install warprnnt_pytorch\n",
      "Use 'installers/install_chainer_ctc.sh' to install chainer_ctc\n",
      "Use 'installers/install_pyopenjtalk.sh' to install pyopenjtalk\n",
      "Use 'installers/install_tdmelodic_pyopenjtalk.sh' to install tdmelodic_pyopenjtalk\n",
      "Use 'installers/install_kenlm.sh' to install kenlm\n",
      "Use 'installers/install_py3mmseg.sh' to install mmseg\n",
      "Use 'installers/install_fairseq.sh' to install fairseq\n",
      "Use 'installers/install_phonemizer.sh' to install phonemizer\n",
      "Use 'installers/install_gtn.sh' to install gtn\n",
      "Use 'installers/install_s3prl.sh' to install s3prl\n",
      "Use 'installers/install_transformers.sh' to install transformers\n",
      "Use 'installers/install_speechbrain.sh' to install speechbrain\n",
      "Use 'installers/install_k2.sh' to install k2\n",
      "Use 'installers/install_longformer.sh' to install longformer\n",
      "Use 'installers/install_longformer.sh' to install nlg-eval\n",
      "Use 'installers/install_longformer.sh' to install datasets\n",
      "Use 'installers/install_sctk.sh' to install sclite\n",
      "Use 'installers/install_sph2pipe.sh' to install sph2pipe\n",
      "Use 'installers/install_pesq.sh' to install PESQ\n",
      "Use 'installers/install_beamformit.sh' to install BeamformIt\n"
     ]
    }
   ],
   "source": [
    "!python3 /home/ec2-user/SageMaker/espnet/tools/check_install.py"
   ]
  },
  {
   "cell_type": "markdown",
   "id": "b4094735",
   "metadata": {},
   "source": [
    "<h3>clean up installation</h3>"
   ]
  },
  {
   "cell_type": "code",
   "execution_count": 1,
   "id": "0e5d8b71",
   "metadata": {},
   "outputs": [
    {
     "name": "stdout",
     "output_type": "stream",
     "text": [
      "/home/ec2-user/anaconda3/envs/espnet/etc/conda\n"
     ]
    }
   ],
   "source": [
    "%cd /home/ec2-user/anaconda3/envs/espnet/etc/conda\n",
    "!rm -rf activate.d\n",
    "!rm -rf deactivate.d\n"
   ]
  },
  {
   "cell_type": "code",
   "execution_count": null,
   "id": "955beb80",
   "metadata": {},
   "outputs": [],
   "source": []
  },
  {
   "cell_type": "markdown",
   "id": "fee5860b",
   "metadata": {},
   "source": [
    "<h1>create new recepie</h1>"
   ]
  },
  {
   "cell_type": "code",
   "execution_count": 16,
   "id": "53bd0fd5",
   "metadata": {},
   "outputs": [
    {
     "name": "stdout",
     "output_type": "stream",
     "text": [
      "/home/ec2-user/SageMaker/espnet/egs2\n"
     ]
    }
   ],
   "source": [
    "%cd /home/ec2-user/SageMaker/espnet/egs2\n",
    "# !rm -rf Geeks #or the prjectName "
   ]
  },
  {
   "cell_type": "code",
   "execution_count": 3,
   "id": "a202aed2",
   "metadata": {},
   "outputs": [],
   "source": [
    "Project_name=\"Javanies\""
   ]
  },
  {
   "cell_type": "code",
   "execution_count": 4,
   "id": "a1aa197c",
   "metadata": {},
   "outputs": [
    {
     "name": "stdout",
     "output_type": "stream",
     "text": [
      "Javanies\n",
      "2022-05-20T10:27:47 (setup.sh:71:main) Created: /home/ec2-user/SageMaker/espnet/egs2/Javanies/tts1//home/ec2-user/SageMaker/espnet/egs2/Javanies/tts1/../../TEMPLATE/tts1/cmd.sh /home/ec2-user/SageMaker/espnet/egs2/Javanies/tts1//home/ec2-user/SageMaker/espnet/egs2/Javanies/tts1/../../TEMPLATE/tts1/conf /home/ec2-user/SageMaker/espnet/egs2/Javanies/tts1//home/ec2-user/SageMaker/espnet/egs2/Javanies/tts1/../../TEMPLATE/tts1/local /home/ec2-user/SageMaker/espnet/egs2/Javanies/tts1/../../TEMPLATE/tts1/tts.sh /home/ec2-user/SageMaker/espnet/egs2/Javanies/tts1/../../TEMPLATE/tts1/path.sh /home/ec2-user/SageMaker/espnet/egs2/Javanies/tts1/../../TEMPLATE/asr1/db.sh /home/ec2-user/SageMaker/espnet/egs2/Javanies/tts1/../../TEMPLATE/asr1/scripts /home/ec2-user/SageMaker/espnet/egs2/Javanies/tts1/../../TEMPLATE/asr1/pyscripts /home/ec2-user/SageMaker/espnet/egs2/Javanies/tts1/../../../tools/kaldi/egs/wsj/s5/steps /home/ec2-user/SageMaker/espnet/egs2/Javanies/tts1/../../../tools/kaldi/egs/wsj/s5/utils /home/ec2-user/SageMaker/espnet/egs2/Javanies/tts1/../../../tools/kaldi/egs/sre08/v1/sid \n",
      "/home/ec2-user/SageMaker/espnet/egs2/Javanies/tts1\n"
     ]
    }
   ],
   "source": [
    "%%bash -s \"$Project_name\"\n",
    "\n",
    "echo $1\n",
    "\n",
    "/home/ec2-user/SageMaker/espnet/egs2/TEMPLATE/tts1/setup.sh  /home/ec2-user/SageMaker/espnet/egs2/$1/tts1\n",
    "cd /home/ec2-user/SageMaker/espnet/egs2/$1/tts1\n",
    "pwd"
   ]
  },
  {
   "cell_type": "raw",
   "id": "d373a872",
   "metadata": {},
   "source": [
    "I dont know why this code is not working!\n",
    "# %%bash -s \"$Project_name\"\n",
    "# echo $1\n",
    "# destination=/home/ec2-user/SageMaker/espnet/egs2/$1/tts1\n",
    "# source=s3://commonvoicesdataset/Text2Speech/Jevenies/wavs.zip\n",
    "# echo $destination\n",
    "# echo $source\n",
    "\n",
    "# aws s3 cp $source $destination"
   ]
  },
  {
   "cell_type": "markdown",
   "id": "0a7a6b45",
   "metadata": {},
   "source": [
    "<h1>import data from s3 </h1>\n",
    "<p> you need wavs and data <p>\n",
    "data is how you have split train / evl / test \n",
    "\n",
    "you should have  processed these berofre"
   ]
  },
  {
   "cell_type": "code",
   "execution_count": 9,
   "id": "4de6b427",
   "metadata": {},
   "outputs": [
    {
     "name": "stdout",
     "output_type": "stream",
     "text": [
      "download: s3://commonvoicesdataset/Text2Speech/Jevenies/wavs_split.zip to ../../../../../SageMaker/espnet/egs2/Javanies/tts1/wavs_split.zip\n"
     ]
    }
   ],
   "source": [
    "!aws s3 cp s3://commonvoicesdataset/Text2Speech/Jevenies/wavs_split.zip /home/ec2-user/SageMaker/espnet/egs2/Javanies/tts1"
   ]
  },
  {
   "cell_type": "code",
   "execution_count": 7,
   "id": "6b999c36",
   "metadata": {},
   "outputs": [
    {
     "name": "stdout",
     "output_type": "stream",
     "text": [
      "download: s3://commonvoicesdataset/Text2Speech/Jevenies/data.zip to ../../../../../SageMaker/espnet/egs2/Javanies/tts1/data.zip\n"
     ]
    }
   ],
   "source": [
    "%%bash -s \"$Project_name\"\n",
    "aws s3 cp s3://commonvoicesdataset/Text2Speech/Jevenies/data.zip /home/ec2-user/SageMaker/espnet/egs2/$1/tts1"
   ]
  },
  {
   "cell_type": "code",
   "execution_count": 8,
   "id": "e3df82a8",
   "metadata": {},
   "outputs": [
    {
     "name": "stdout",
     "output_type": "stream",
     "text": [
      "/home/ec2-user/SageMaker/espnet/egs2/Javanies/tts1/data.zip\n"
     ]
    }
   ],
   "source": [
    "%%bash -s \"$Project_name\"\n",
    "echo /home/ec2-user/SageMaker/espnet/egs2/$1/tts1/data.zip\n",
    "unzip -q /home/ec2-user/SageMaker/espnet/egs2/$1/tts1/data.zip -d /home/ec2-user/SageMaker/espnet/egs2/$1/tts1/"
   ]
  },
  {
   "cell_type": "code",
   "execution_count": 10,
   "id": "d324b4ef",
   "metadata": {},
   "outputs": [],
   "source": [
    "%%bash -s \"$Project_name\"\n",
    "unzip -q /home/ec2-user/SageMaker/espnet/egs2/$1/tts1/wavs_split.zip -d /home/ec2-user/SageMaker/espnet/egs2/$1/tts1/"
   ]
  },
  {
   "cell_type": "markdown",
   "id": "accf03ac",
   "metadata": {},
   "source": [
    "<h1>start traninign stages</h1>"
   ]
  },
  {
   "cell_type": "code",
   "execution_count": 11,
   "id": "9553454d",
   "metadata": {},
   "outputs": [
    {
     "name": "stdout",
     "output_type": "stream",
     "text": [
      "/home/ec2-user/SageMaker/espnet/egs2/Javanies/tts1\n"
     ]
    }
   ],
   "source": [
    "%cd /home/ec2-user/SageMaker/espnet/egs2/$Project_name/tts1\n"
   ]
  },
  {
   "cell_type": "code",
   "execution_count": 12,
   "id": "9ed863a0",
   "metadata": {},
   "outputs": [
    {
     "name": "stdout",
     "output_type": "stream",
     "text": [
      "2022-05-20T10:33:30 (tts.sh:232:main) ./tts.sh --stage 2 --ngpu 1 --train_set train --valid_set valid --test_sets test --stop-stage 2\n",
      "2022-05-20T10:33:31 (tts.sh:344:main) Stage 2: Format wav.scp: data/ -> dump/raw/\n",
      "utils/copy_data_dir.sh: copied data from data/train to dump/raw/org/train\n",
      "this program is runnnnnnnnnnnnin\n",
      "utils/validate_data_dir.sh: WARNING: you have only one speaker.  This probably a bad idea.\n",
      "   Search for the word 'bold' in http://kaldi-asr.org/doc/data_prep.html\n",
      "   for more information.\n",
      "utils/validate_data_dir.sh: Successfully validated data-directory dump/raw/org/train\n",
      "2022-05-20T10:33:32 (format_wav_scp.sh:42:main) scripts/audio/format_wav_scp.sh --nj 32 --cmd run.pl --audio-format flac --fs 22050 data/train/wav.scp dump/raw/org/train\n",
      "2022-05-20T10:33:32 (format_wav_scp.sh:110:main) [info]: without segments\n",
      "2022-05-20T10:34:29 (format_wav_scp.sh:142:main) Successfully finished. [elapsed=57s]\n",
      "utils/copy_data_dir.sh: copied data from data/valid to dump/raw/org/valid\n",
      "this program is runnnnnnnnnnnnin\n",
      "utils/validate_data_dir.sh: WARNING: you have only one speaker.  This probably a bad idea.\n",
      "   Search for the word 'bold' in http://kaldi-asr.org/doc/data_prep.html\n",
      "   for more information.\n",
      "utils/validate_data_dir.sh: Successfully validated data-directory dump/raw/org/valid\n",
      "2022-05-20T10:34:29 (format_wav_scp.sh:42:main) scripts/audio/format_wav_scp.sh --nj 32 --cmd run.pl --audio-format flac --fs 22050 data/valid/wav.scp dump/raw/org/valid\n",
      "2022-05-20T10:34:30 (format_wav_scp.sh:110:main) [info]: without segments\n",
      "2022-05-20T10:34:51 (format_wav_scp.sh:142:main) Successfully finished. [elapsed=22s]\n",
      "utils/copy_data_dir.sh: copied data from data/test to dump/raw/test\n",
      "this program is runnnnnnnnnnnnin\n",
      "utils/validate_data_dir.sh: WARNING: you have only one speaker.  This probably a bad idea.\n",
      "   Search for the word 'bold' in http://kaldi-asr.org/doc/data_prep.html\n",
      "   for more information.\n",
      "utils/validate_data_dir.sh: Successfully validated data-directory dump/raw/test\n",
      "2022-05-20T10:34:51 (format_wav_scp.sh:42:main) scripts/audio/format_wav_scp.sh --nj 32 --cmd run.pl --audio-format flac --fs 22050 data/test/wav.scp dump/raw/test\n",
      "2022-05-20T10:34:51 (format_wav_scp.sh:110:main) [info]: without segments\n",
      "2022-05-20T10:35:06 (format_wav_scp.sh:142:main) Successfully finished. [elapsed=15s]\n",
      "2022-05-20T10:35:06 (tts.sh:1201:main) Skip the uploading stage\n",
      "2022-05-20T10:35:06 (tts.sh:1253:main) Skip the uploading to HuggingFace stage\n",
      "2022-05-20T10:35:06 (tts.sh:1256:main) Successfully finished. [elapsed=96s]\n"
     ]
    }
   ],
   "source": [
    "!./tts.sh \\\n",
    " --stage 2 \\\n",
    " --ngpu 1 \\\n",
    " --train_set train \\\n",
    " --valid_set valid \\\n",
    " --test_sets test \\\n",
    " --stop-stage 2\n"
   ]
  },
  {
   "cell_type": "code",
   "execution_count": 23,
   "id": "4b45922f",
   "metadata": {},
   "outputs": [],
   "source": [
    "# !cp /home/ec2-user/SageMaker/espnet/egs2/ljspeech/tts1/conf/train.yaml /home/ec2-user/SageMaker/espnet/egs2/$Project_name/tts1/conf/train.yaml"
   ]
  },
  {
   "cell_type": "code",
   "execution_count": 13,
   "id": "7491ec7d",
   "metadata": {},
   "outputs": [
    {
     "name": "stdout",
     "output_type": "stream",
     "text": [
      "2022-05-20T10:35:36 (tts.sh:232:main) ./tts.sh --stage 3 --stop-stage 3 --train_set train --valid_set valid --test_sets test\n",
      "2022-05-20T10:35:37 (tts.sh:489:main) Stage 3: Remove long/short data: dump/raw/org -> dump/raw\n",
      "utils/copy_data_dir.sh: copied data from dump/raw/org/train to dump/raw/train\n",
      "this program is runnnnnnnnnnnnin\n",
      "utils/validate_data_dir.sh: WARNING: you have only one speaker.  This probably a bad idea.\n",
      "   Search for the word 'bold' in http://kaldi-asr.org/doc/data_prep.html\n",
      "   for more information.\n",
      "utils/validate_data_dir.sh: Successfully validated data-directory dump/raw/train\n",
      "fix_data_dir.sh: kept all 2149 utterances.\n",
      "fix_data_dir.sh: old files are kept in dump/raw/train/.backup\n",
      "utils/copy_data_dir.sh: copied data from dump/raw/org/valid to dump/raw/valid\n",
      "this program is runnnnnnnnnnnnin\n",
      "utils/validate_data_dir.sh: WARNING: you have only one speaker.  This probably a bad idea.\n",
      "   Search for the word 'bold' in http://kaldi-asr.org/doc/data_prep.html\n",
      "   for more information.\n",
      "utils/validate_data_dir.sh: Successfully validated data-directory dump/raw/valid\n",
      "fix_data_dir.sh: kept all 573 utterances.\n",
      "fix_data_dir.sh: old files are kept in dump/raw/valid/.backup\n",
      "2022-05-20T10:35:37 (tts.sh:1201:main) Skip the uploading stage\n",
      "2022-05-20T10:35:37 (tts.sh:1253:main) Skip the uploading to HuggingFace stage\n",
      "2022-05-20T10:35:37 (tts.sh:1256:main) Successfully finished. [elapsed=1s]\n"
     ]
    }
   ],
   "source": [
    "!./tts.sh --stage 3 --stop-stage 3  --train_set train  --valid_set valid   --test_sets test"
   ]
  },
  {
   "cell_type": "code",
   "execution_count": 14,
   "id": "522b9fce",
   "metadata": {},
   "outputs": [
    {
     "name": "stdout",
     "output_type": "stream",
     "text": [
      "2022-05-20T10:36:19 (tts.sh:232:main) ./tts.sh --stage 4 --stop-stage 4 --srctexts data/train/text --cleaner tacotron --token_type char\n",
      "2022-05-20T10:36:20 (tts.sh:544:main) Stage 4: Generate token_list from data/train/text\n",
      "[nltk_data] Downloading package averaged_perceptron_tagger to\n",
      "[nltk_data]     /home/ec2-user/nltk_data...\n",
      "[nltk_data]   Unzipping taggers/averaged_perceptron_tagger.zip.\n",
      "[nltk_data] Downloading package cmudict to /home/ec2-user/nltk_data...\n",
      "[nltk_data]   Unzipping corpora/cmudict.zip.\n",
      "/home/ec2-user/anaconda3/envs/espnet/bin/python3 /home/ec2-user/SageMaker/espnet/espnet2/bin/tokenize_text.py --token_type char -f 2- --input dump/raw/srctexts --output dump/token_list/char_tacotron/tokens.txt --non_linguistic_symbols none --cleaner tacotron --g2p g2p_en --write_vocabulary true --add_symbol '<blank>:0' --add_symbol '<unk>:1' --add_symbol '<sos/eos>:-1'\n",
      "2022-05-20 10:36:21,938 (tokenize_text:174) INFO: OOV rate = 0.0 %\n",
      "2022-05-20T10:36:22 (tts.sh:1201:main) Skip the uploading stage\n",
      "2022-05-20T10:36:22 (tts.sh:1253:main) Skip the uploading to HuggingFace stage\n",
      "2022-05-20T10:36:22 (tts.sh:1256:main) Successfully finished. [elapsed=3s]\n"
     ]
    }
   ],
   "source": [
    "# !./tts.sh --stage 4 --stop-stage 4 --srctexts \"data/train/text\"\n",
    "!./tts.sh --stage 4 --stop-stage 4 --srctexts \"data/train/text\"  --cleaner tacotron --token_type char"
   ]
  },
  {
   "cell_type": "code",
   "execution_count": 15,
   "id": "54aa3cd2",
   "metadata": {},
   "outputs": [
    {
     "name": "stdout",
     "output_type": "stream",
     "text": [
      "2022-05-20T10:36:26 (tts.sh:232:main) ./tts.sh --stage 5 --stop-stage 5 --token_type char\n",
      "2022-05-20T10:36:26 (tts.sh:576:main) Stage 5: TTS collect stats: train_set=dump/raw/train, valid_set=dump/raw/valid\n",
      "2022-05-20T10:36:26 (tts.sh:663:main) Generate 'exp/tts_stats_raw_char_tacotron/run.sh'. You can resume the process from stage 5 using this script\n",
      "2022-05-20T10:36:26 (tts.sh:667:main) TTS collect_stats started... log: 'exp/tts_stats_raw_char_tacotron/logdir/stats.*.log'\n",
      "/home/ec2-user/anaconda3/envs/espnet/bin/python3 /home/ec2-user/SageMaker/espnet/espnet2/bin/aggregate_stats_dirs.py --input_dir exp/tts_stats_raw_char_tacotron/logdir/stats.1 --input_dir exp/tts_stats_raw_char_tacotron/logdir/stats.2 --input_dir exp/tts_stats_raw_char_tacotron/logdir/stats.3 --input_dir exp/tts_stats_raw_char_tacotron/logdir/stats.4 --input_dir exp/tts_stats_raw_char_tacotron/logdir/stats.5 --input_dir exp/tts_stats_raw_char_tacotron/logdir/stats.6 --input_dir exp/tts_stats_raw_char_tacotron/logdir/stats.7 --input_dir exp/tts_stats_raw_char_tacotron/logdir/stats.8 --input_dir exp/tts_stats_raw_char_tacotron/logdir/stats.9 --input_dir exp/tts_stats_raw_char_tacotron/logdir/stats.10 --input_dir exp/tts_stats_raw_char_tacotron/logdir/stats.11 --input_dir exp/tts_stats_raw_char_tacotron/logdir/stats.12 --input_dir exp/tts_stats_raw_char_tacotron/logdir/stats.13 --input_dir exp/tts_stats_raw_char_tacotron/logdir/stats.14 --input_dir exp/tts_stats_raw_char_tacotron/logdir/stats.15 --input_dir exp/tts_stats_raw_char_tacotron/logdir/stats.16 --input_dir exp/tts_stats_raw_char_tacotron/logdir/stats.17 --input_dir exp/tts_stats_raw_char_tacotron/logdir/stats.18 --input_dir exp/tts_stats_raw_char_tacotron/logdir/stats.19 --input_dir exp/tts_stats_raw_char_tacotron/logdir/stats.20 --input_dir exp/tts_stats_raw_char_tacotron/logdir/stats.21 --input_dir exp/tts_stats_raw_char_tacotron/logdir/stats.22 --input_dir exp/tts_stats_raw_char_tacotron/logdir/stats.23 --input_dir exp/tts_stats_raw_char_tacotron/logdir/stats.24 --input_dir exp/tts_stats_raw_char_tacotron/logdir/stats.25 --input_dir exp/tts_stats_raw_char_tacotron/logdir/stats.26 --input_dir exp/tts_stats_raw_char_tacotron/logdir/stats.27 --input_dir exp/tts_stats_raw_char_tacotron/logdir/stats.28 --input_dir exp/tts_stats_raw_char_tacotron/logdir/stats.29 --input_dir exp/tts_stats_raw_char_tacotron/logdir/stats.30 --input_dir exp/tts_stats_raw_char_tacotron/logdir/stats.31 --input_dir exp/tts_stats_raw_char_tacotron/logdir/stats.32 --output_dir exp/tts_stats_raw_char_tacotron\n",
      "2022-05-20T10:37:18 (tts.sh:1201:main) Skip the uploading stage\n",
      "2022-05-20T10:37:18 (tts.sh:1253:main) Skip the uploading to HuggingFace stage\n",
      "2022-05-20T10:37:18 (tts.sh:1256:main) Successfully finished. [elapsed=52s]\n"
     ]
    }
   ],
   "source": [
    "# !./tts.sh --stage 5 --stop-stage 5\n",
    "!./tts.sh --stage 5 --stop-stage 5 --token_type char"
   ]
  },
  {
   "cell_type": "markdown",
   "id": "afc8d7b5",
   "metadata": {},
   "source": [
    "<h1>Training</h1>"
   ]
  },
  {
   "cell_type": "code",
   "execution_count": 16,
   "id": "8aad6c9b",
   "metadata": {},
   "outputs": [
    {
     "name": "stdout",
     "output_type": "stream",
     "text": [
      "Fri May 20 10:39:03 2022       \n",
      "+-----------------------------------------------------------------------------+\n",
      "| NVIDIA-SMI 510.47.03    Driver Version: 510.47.03    CUDA Version: 11.6     |\n",
      "|-------------------------------+----------------------+----------------------+\n",
      "| GPU  Name        Persistence-M| Bus-Id        Disp.A | Volatile Uncorr. ECC |\n",
      "| Fan  Temp  Perf  Pwr:Usage/Cap|         Memory-Usage | GPU-Util  Compute M. |\n",
      "|                               |                      |               MIG M. |\n",
      "|===============================+======================+======================|\n",
      "|   0  Tesla T4            On   | 00000000:00:1E.0 Off |                    0 |\n",
      "| N/A   33C    P8    16W /  70W |      0MiB / 15360MiB |      0%      Default |\n",
      "|                               |                      |                  N/A |\n",
      "+-------------------------------+----------------------+----------------------+\n",
      "                                                                               \n",
      "+-----------------------------------------------------------------------------+\n",
      "| Processes:                                                                  |\n",
      "|  GPU   GI   CI        PID   Type   Process name                  GPU Memory |\n",
      "|        ID   ID                                                   Usage      |\n",
      "|=============================================================================|\n",
      "|  No running processes found                                                 |\n",
      "+-----------------------------------------------------------------------------+\n"
     ]
    }
   ],
   "source": [
    "!nvidia-smi"
   ]
  },
  {
   "cell_type": "code",
   "execution_count": null,
   "id": "0aa17fe2",
   "metadata": {},
   "outputs": [
    {
     "name": "stdout",
     "output_type": "stream",
     "text": [
      "2022-05-20T10:40:49 (tts.sh:232:main) ./tts.sh --stage 6 --stop-stage 6 --token_type char --train_config /home/ec2-user/SageMaker/espnet/egs2/Javanies/tts1/conf/train.yaml\n",
      "2022-05-20T10:40:50 (tts.sh:712:main) Stage 6: TTS Training: train_set=dump/raw/train, valid_set=dump/raw/valid\n",
      "2022-05-20T10:40:50 (tts.sh:892:main) Generate 'exp/tts_train_raw_char_tacotron/run.sh'. You can resume the process from stage 6 using this script\n",
      "2022-05-20T10:40:50 (tts.sh:897:main) TTS training started... log: 'exp/tts_train_raw_char_tacotron/train.log'\n",
      "2022-05-20 10:40:50,585 (launch:95) INFO: /home/ec2-user/anaconda3/envs/espnet/bin/python3 /home/ec2-user/SageMaker/espnet/espnet2/bin/launch.py --cmd 'run.pl --name exp/tts_train_raw_char_tacotron/train.log' --log exp/tts_train_raw_char_tacotron/train.log --ngpu 1 --num_nodes 1 --init_file_prefix exp/tts_train_raw_char_tacotron/.dist_init_ --multiprocessing_distributed true -- python3 -m espnet2.bin.tts_train --use_preprocessor true --token_type char --token_list dump/token_list/char_tacotron/tokens.txt --non_linguistic_symbols none --cleaner tacotron --g2p g2p_en --normalize global_mvn --resume true --fold_length 150 --fold_length 204800 --output_dir exp/tts_train_raw_char_tacotron --config /home/ec2-user/SageMaker/espnet/egs2/Javanies/tts1/conf/train.yaml --feats_extract fbank --feats_extract_conf n_fft=1024 --feats_extract_conf hop_length=256 --feats_extract_conf win_length=null --feats_extract_conf fs=22050 --feats_extract_conf fmin=80 --feats_extract_conf fmax=7600 --feats_extract_conf n_mels=80 --train_data_path_and_name_and_type dump/raw/train/text,text,text --train_data_path_and_name_and_type dump/raw/train/wav.scp,speech,sound --train_shape_file exp/tts_stats_raw_char_tacotron/train/text_shape.char --train_shape_file exp/tts_stats_raw_char_tacotron/train/speech_shape --valid_data_path_and_name_and_type dump/raw/valid/text,text,text --valid_data_path_and_name_and_type dump/raw/valid/wav.scp,speech,sound --valid_shape_file exp/tts_stats_raw_char_tacotron/valid/text_shape.char --valid_shape_file exp/tts_stats_raw_char_tacotron/valid/speech_shape --normalize_conf stats_file=exp/tts_stats_raw_char_tacotron/train/feats_stats.npz\n",
      "2022-05-20 10:40:50,611 (launch:349) INFO: log file: exp/tts_train_raw_char_tacotron/train.log\n"
     ]
    }
   ],
   "source": [
    "!./tts.sh --stage 6 --stop-stage 6 --token_type char --train_config /home/ec2-user/SageMaker/espnet/egs2/$Project_name/tts1/conf/train.yaml"
   ]
  },
  {
   "cell_type": "code",
   "execution_count": 33,
   "id": "eb51dbea",
   "metadata": {},
   "outputs": [
    {
     "name": "stdout",
     "output_type": "stream",
     "text": [
      "2022-04-30T05:53:18 (tts.sh:211:main) ./tts.sh --stage 7 --stop-stage 7 --token_type char --train_config /home/ec2-user/SageMaker/espnet/egs2/Jevenies/tts1/conf/train.yaml\n",
      "2022-04-30T05:53:18 (tts.sh:933:main) Stage 7: Decoding: training_dir=exp/tts_train_raw_char_tacotron\n",
      "2022-04-30T05:53:18 (tts.sh:956:main) Generate 'exp/tts_train_raw_char_tacotron/inference_train.loss.ave/run.sh'. You can resume the process from stage 7 using this script\n",
      "2022-04-30T05:53:18 (tts.sh:1010:main) Decoding started... log: 'exp/tts_train_raw_char_tacotron/inference_train.loss.ave/test/log/tts_inference.*.log'\n",
      "2022-04-30T05:56:08 (tts.sh:1180:main) Skip the uploading stage\n",
      "2022-04-30T05:56:08 (tts.sh:1232:main) Skip the uploading to HuggingFace stage\n",
      "2022-04-30T05:56:08 (tts.sh:1235:main) Successfully finished. [elapsed=170s]\n"
     ]
    }
   ],
   "source": [
    "!./tts.sh --stage 7 --stop-stage 7 --token_type char --train_config '/home/ec2-user/SageMaker/espnet/egs2/Jevenies/tts1/conf/train.yaml'"
   ]
  }
 ],
 "metadata": {
  "kernelspec": {
   "display_name": "conda_espnet",
   "language": "python",
   "name": "conda_espnet"
  },
  "language_info": {
   "codemirror_mode": {
    "name": "ipython",
    "version": 3
   },
   "file_extension": ".py",
   "mimetype": "text/x-python",
   "name": "python",
   "nbconvert_exporter": "python",
   "pygments_lexer": "ipython3",
   "version": "3.8.12"
  }
 },
 "nbformat": 4,
 "nbformat_minor": 5
}
