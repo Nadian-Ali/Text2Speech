{
 "cells": [
  {
   "cell_type": "code",
   "execution_count": 1,
   "id": "5522a611",
   "metadata": {},
   "outputs": [
    {
     "name": "stdout",
     "output_type": "stream",
     "text": [
      "/home/ec2-user/SageMaker/espnet/egs2\n"
     ]
    }
   ],
   "source": [
    "%cd /home/ec2-user/SageMaker/espnet/egs2"
   ]
  },
  {
   "cell_type": "code",
   "execution_count": 3,
   "id": "b5241134",
   "metadata": {},
   "outputs": [],
   "source": [
    "Project_name=\"Jevenies\""
   ]
  },
  {
   "cell_type": "code",
   "execution_count": 4,
   "id": "5d2323ee",
   "metadata": {
    "collapsed": true,
    "jupyter": {
     "outputs_hidden": true
    }
   },
   "outputs": [
    {
     "name": "stdout",
     "output_type": "stream",
     "text": [
      "Jevenies\n",
      "2022-04-17T17:17:18 (setup.sh:71:main) Created: /home/ec2-user/SageMaker/espnet/egs2/Jevenies/tts1//home/ec2-user/SageMaker/espnet/egs2/Jevenies/tts1/../../TEMPLATE/tts1/cmd.sh /home/ec2-user/SageMaker/espnet/egs2/Jevenies/tts1//home/ec2-user/SageMaker/espnet/egs2/Jevenies/tts1/../../TEMPLATE/tts1/conf /home/ec2-user/SageMaker/espnet/egs2/Jevenies/tts1//home/ec2-user/SageMaker/espnet/egs2/Jevenies/tts1/../../TEMPLATE/tts1/local /home/ec2-user/SageMaker/espnet/egs2/Jevenies/tts1/../../TEMPLATE/tts1/tts.sh /home/ec2-user/SageMaker/espnet/egs2/Jevenies/tts1/../../TEMPLATE/tts1/path.sh /home/ec2-user/SageMaker/espnet/egs2/Jevenies/tts1/../../TEMPLATE/asr1/db.sh /home/ec2-user/SageMaker/espnet/egs2/Jevenies/tts1/../../TEMPLATE/asr1/scripts /home/ec2-user/SageMaker/espnet/egs2/Jevenies/tts1/../../TEMPLATE/asr1/pyscripts /home/ec2-user/SageMaker/espnet/egs2/Jevenies/tts1/../../../tools/kaldi/egs/wsj/s5/steps /home/ec2-user/SageMaker/espnet/egs2/Jevenies/tts1/../../../tools/kaldi/egs/wsj/s5/utils /home/ec2-user/SageMaker/espnet/egs2/Jevenies/tts1/../../../tools/kaldi/egs/sre08/v1/sid \n",
      "/home/ec2-user/SageMaker/espnet/egs2/Jevenies/tts1\n"
     ]
    }
   ],
   "source": [
    "%%bash -s \"$Project_name\"\n",
    "\n",
    "echo $1\n",
    "\n",
    "/home/ec2-user/SageMaker/espnet/egs2/TEMPLATE/tts1/setup.sh  /home/ec2-user/SageMaker/espnet/egs2/$1/tts1\n",
    "cd /home/ec2-user/SageMaker/espnet/egs2/$1/tts1\n",
    "pwd"
   ]
  },
  {
   "cell_type": "code",
   "execution_count": 6,
   "id": "c44b1d9c",
   "metadata": {
    "collapsed": true,
    "jupyter": {
     "outputs_hidden": true
    }
   },
   "outputs": [
    {
     "name": "stdout",
     "output_type": "stream",
     "text": [
      "Jevenies\n"
     ]
    },
    {
     "name": "stderr",
     "output_type": "stream",
     "text": [
      "Task exception was never retrieved\n",
      "future: <Task finished name='Task-17' coro=<ScriptMagics.shebang.<locals>._handle_stream() done, defined at /home/ec2-user/anaconda3/envs/t2s/lib/python3.8/site-packages/IPython/core/magics/script.py:211> exception=ValueError('Separator is not found, and chunk exceed the limit')>\n",
      "Traceback (most recent call last):\n",
      "  File \"/home/ec2-user/anaconda3/envs/t2s/lib/python3.8/asyncio/streams.py\", line 540, in readline\n",
      "    line = await self.readuntil(sep)\n",
      "  File \"/home/ec2-user/anaconda3/envs/t2s/lib/python3.8/asyncio/streams.py\", line 618, in readuntil\n",
      "    raise exceptions.LimitOverrunError(\n",
      "asyncio.exceptions.LimitOverrunError: Separator is not found, and chunk exceed the limit\n",
      "\n",
      "During handling of the above exception, another exception occurred:\n",
      "\n",
      "Traceback (most recent call last):\n",
      "  File \"/home/ec2-user/anaconda3/envs/t2s/lib/python3.8/site-packages/IPython/core/magics/script.py\", line 213, in _handle_stream\n",
      "    line = (await stream.readline()).decode(\"utf8\")\n",
      "  File \"/home/ec2-user/anaconda3/envs/t2s/lib/python3.8/asyncio/streams.py\", line 549, in readline\n",
      "    raise ValueError(e.args[0])\n",
      "ValueError: Separator is not found, and chunk exceed the limit\n"
     ]
    }
   ],
   "source": [
    "%%bash -s \"$Project_name\"\n",
    "echo $1\n",
    "aws s3 cp s3://commonvoicesdataset/Text2Speech/Jevenies/wavs.zip /home/ec2-user/SageMaker/espnet/egs2/$1/tts1"
   ]
  },
  {
   "cell_type": "code",
   "execution_count": 7,
   "id": "bf89e5e6",
   "metadata": {},
   "outputs": [
    {
     "name": "stdout",
     "output_type": "stream",
     "text": [
      "Jevenies\n",
      "download: s3://commonvoicesdataset/Text2Speech/Jevenies/data.zip to Jevenies/tts1/data.zip\n"
     ]
    }
   ],
   "source": [
    "%%bash -s \"$Project_name\"\n",
    "echo $1\n",
    "aws s3 cp s3://commonvoicesdataset/Text2Speech/Jevenies/data.zip /home/ec2-user/SageMaker/espnet/egs2/$1/tts1"
   ]
  },
  {
   "cell_type": "code",
   "execution_count": 8,
   "id": "f8847745",
   "metadata": {},
   "outputs": [
    {
     "name": "stdout",
     "output_type": "stream",
     "text": [
      "/home/ec2-user/SageMaker/espnet/egs2/Jevenies/tts1/data.zip\n"
     ]
    }
   ],
   "source": [
    "%%bash -s \"$Project_name\"\n",
    "echo /home/ec2-user/SageMaker/espnet/egs2/$1/tts1/data.zip\n",
    "unzip -q /home/ec2-user/SageMaker/espnet/egs2/$1/tts1/data.zip -d /home/ec2-user/SageMaker/espnet/egs2/$1/tts1/"
   ]
  },
  {
   "cell_type": "code",
   "execution_count": 9,
   "id": "f4e96e2c",
   "metadata": {},
   "outputs": [],
   "source": [
    "%%bash -s \"$Project_name\"\n",
    "unzip -q /home/ec2-user/SageMaker/espnet/egs2/$1/tts1/wavs.zip -d /home/ec2-user/SageMaker/espnet/egs2/$1/tts1/"
   ]
  },
  {
   "cell_type": "code",
   "execution_count": 11,
   "id": "8d4f0e78",
   "metadata": {},
   "outputs": [
    {
     "name": "stdout",
     "output_type": "stream",
     "text": [
      "/home/ec2-user/SageMaker/espnet/egs2/Jevenies/tts1\n"
     ]
    }
   ],
   "source": [
    "%cd /home/ec2-user/SageMaker/espnet/egs2/Jevenies/tts1\n"
   ]
  },
  {
   "cell_type": "code",
   "execution_count": 12,
   "id": "442f43e2",
   "metadata": {
    "collapsed": true,
    "jupyter": {
     "outputs_hidden": true
    }
   },
   "outputs": [
    {
     "name": "stdout",
     "output_type": "stream",
     "text": [
      "2022-04-17T17:23:20 (tts.sh:211:main) ./tts.sh --stage 2 --ngpu 1 --train_set train --valid_set valid --test_sets test --stop-stage 2\n",
      "2022-04-17T17:23:20 (tts.sh:323:main) Stage 2: Format wav.scp: data/ -> dump/raw/\n",
      "utils/copy_data_dir.sh: copied data from data/train to dump/raw/org/train\n",
      "this program is runnnnnnnnnnnnin\n",
      "utils/validate_data_dir.sh: WARNING: you have only one speaker.  This probably a bad idea.\n",
      "   Search for the word 'bold' in http://kaldi-asr.org/doc/data_prep.html\n",
      "   for more information.\n",
      "utils/validate_data_dir.sh: Successfully validated data-directory dump/raw/org/train\n",
      "2022-04-17T17:23:20 (format_wav_scp.sh:42:main) scripts/audio/format_wav_scp.sh --nj 32 --cmd run.pl --audio-format flac --fs 16000 data/train/wav.scp dump/raw/org/train\n",
      "2022-04-17T17:23:21 (format_wav_scp.sh:110:main) [info]: without segments\n",
      "2022-04-17T17:26:10 (format_wav_scp.sh:142:main) Successfully finished. [elapsed=170s]\n",
      "utils/copy_data_dir.sh: copied data from data/valid to dump/raw/org/valid\n",
      "this program is runnnnnnnnnnnnin\n",
      "utils/validate_data_dir.sh: WARNING: you have only one speaker.  This probably a bad idea.\n",
      "   Search for the word 'bold' in http://kaldi-asr.org/doc/data_prep.html\n",
      "   for more information.\n",
      "utils/validate_data_dir.sh: Successfully validated data-directory dump/raw/org/valid\n",
      "2022-04-17T17:26:10 (format_wav_scp.sh:42:main) scripts/audio/format_wav_scp.sh --nj 32 --cmd run.pl --audio-format flac --fs 16000 data/valid/wav.scp dump/raw/org/valid\n",
      "2022-04-17T17:26:11 (format_wav_scp.sh:110:main) [info]: without segments\n",
      "2022-04-17T17:27:10 (format_wav_scp.sh:142:main) Successfully finished. [elapsed=60s]\n",
      "utils/copy_data_dir.sh: copied data from data/test to dump/raw/test\n",
      "this program is runnnnnnnnnnnnin\n",
      "utils/validate_data_dir.sh: WARNING: you have only one speaker.  This probably a bad idea.\n",
      "   Search for the word 'bold' in http://kaldi-asr.org/doc/data_prep.html\n",
      "   for more information.\n",
      "utils/validate_data_dir.sh: Successfully validated data-directory dump/raw/test\n",
      "2022-04-17T17:27:10 (format_wav_scp.sh:42:main) scripts/audio/format_wav_scp.sh --nj 32 --cmd run.pl --audio-format flac --fs 16000 data/test/wav.scp dump/raw/test\n",
      "2022-04-17T17:27:10 (format_wav_scp.sh:110:main) [info]: without segments\n",
      "2022-04-17T17:27:40 (format_wav_scp.sh:142:main) Successfully finished. [elapsed=30s]\n",
      "2022-04-17T17:27:40 (tts.sh:1180:main) Skip the uploading stage\n",
      "2022-04-17T17:27:40 (tts.sh:1232:main) Skip the uploading to HuggingFace stage\n",
      "2022-04-17T17:27:40 (tts.sh:1235:main) Successfully finished. [elapsed=260s]\n"
     ]
    }
   ],
   "source": [
    "!./tts.sh \\\n",
    " --stage 2 \\\n",
    " --ngpu 1 \\\n",
    " --train_set train \\\n",
    " --valid_set valid \\\n",
    " --test_sets test \\\n",
    " --stop-stage 2"
   ]
  }
 ],
 "metadata": {
  "kernelspec": {
   "display_name": "conda_t2s",
   "language": "python",
   "name": "conda_t2s"
  },
  "language_info": {
   "codemirror_mode": {
    "name": "ipython",
    "version": 3
   },
   "file_extension": ".py",
   "mimetype": "text/x-python",
   "name": "python",
   "nbconvert_exporter": "python",
   "pygments_lexer": "ipython3",
   "version": "3.8.12"
  }
 },
 "nbformat": 4,
 "nbformat_minor": 5
}
